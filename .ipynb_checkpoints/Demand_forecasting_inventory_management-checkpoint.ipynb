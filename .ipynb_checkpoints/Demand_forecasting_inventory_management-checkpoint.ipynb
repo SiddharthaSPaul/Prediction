{
 "cells": [
  {
   "cell_type": "code",
   "execution_count": 1,
   "id": "8097987a",
   "metadata": {},
   "outputs": [],
   "source": [
    "# To print multiple output in a cell\n",
    "from IPython.core.interactiveshell import InteractiveShell\n",
    "InteractiveShell.ast_node_interactivity = 'all'"
   ]
  },
  {
   "cell_type": "code",
   "execution_count": 2,
   "id": "ece7fc6a",
   "metadata": {},
   "outputs": [
    {
     "name": "stdout",
     "output_type": "stream",
     "text": [
      "WARNING:tensorflow:From C:\\Users\\SiddharthaPaul\\anaconda3\\Lib\\site-packages\\keras\\src\\losses.py:2976: The name tf.losses.sparse_softmax_cross_entropy is deprecated. Please use tf.compat.v1.losses.sparse_softmax_cross_entropy instead.\n",
      "\n"
     ]
    }
   ],
   "source": [
    "# Import all required libraries\n",
    "import pandas as pd # Data manipulation and analysis library\n",
    "from sklearn.feature_selection import RFE # RFE (Recursive Feature Elimination) is for feature selection\n",
    "from sklearn.ensemble import RandomForestRegressor # Random forest modelling\n",
    "import numpy as np # For arrays and mathematical operations\n",
    "from statsmodels.tsa.stattools import adfuller # Dickey-fuller testto check stationarity of data\n",
    "from sklearn.metrics import mean_squared_error # For evaluating the model\n",
    "from sklearn.preprocessing import LabelEncoder # To encode categorical integer features\n",
    "import matplotlib.pyplot as plt # For plotting\n",
    "import seaborn as sns # Statistical data visualization\n",
    "import scipy.stats as stats # Statistical analysis\n",
    "import pylab # For plotting\n",
    "import warnings # To handle warnings\n",
    "warnings.filterwarnings(\"ignore\") # Ignore all warings\n",
    "from statsmodels.tsa.statespace.sarimax import SARIMAX # To do SARIMAX\n",
    "from sklearn.model_selection import train_test_split # To split into train and test data set\n",
    "from sklearn.preprocessing import StandardScaler # For RNN: Recursive neural network\n",
    "from keras.models import Sequential # For RNN\n",
    "from keras.layers import LSTM, Dense, Dropout # For RNN\n",
    "from keras.optimizers import Adam # For RNN"
   ]
  },
  {
   "cell_type": "code",
   "execution_count": 3,
   "id": "cba96e44",
   "metadata": {},
   "outputs": [],
   "source": [
    "# Ignore all warings\n",
    "warnings.filterwarnings(\"ignore\")"
   ]
  },
  {
   "cell_type": "code",
   "execution_count": 4,
   "id": "58afcf9b",
   "metadata": {},
   "outputs": [],
   "source": [
    "# Import data\n",
    "file_path = 'C:\\\\Users\\\\SiddharthaPaul\\\\OneDrive - Tata Business Hub Limited\\\\Desktop\\\\Hackathon'\n",
    "date_format = \"%d/%m/%y\"\n",
    "df = pd.read_csv(file_path+'\\\\train.csv', sep = ',', parse_dates = ['week'], date_parser = lambda x: pd.to_datetime(x, format = date_format))"
   ]
  },
  {
   "cell_type": "code",
   "execution_count": null,
   "id": "9210652c",
   "metadata": {},
   "outputs": [],
   "source": [
    "# Description\n",
    "\n",
    "record_ID = 'Unique ID for each week store sku combination'\n",
    "week = 'Starting date of the week'\n",
    "store_id = 'Unique id for each store - Can be unique customers (EBs) for TBH'\n",
    "sku_id = 'Unique ID for each product - Can be the type of steel'\n",
    "total_price = 'Sales price of 1 product'\n",
    "base_price = 'Base price for 1 product'\n",
    "is_features__sku = 'Was part of the featured item of the week - Can be the product for which we sent out a marketing communication'\n",
    "is_display_sku = 'Product was displayed prominently - Can be the product which is highlighted on showcase page'\n",
    "units_sold = 'No. of units sold of the product at the store in the given week'"
   ]
  },
  {
   "cell_type": "code",
   "execution_count": null,
   "id": "fdde5c0f",
   "metadata": {},
   "outputs": [],
   "source": [
    "# Input parameters\n",
    "\n",
    "sku_id = Select the product for which you want the forecast and the re-order point\n",
    "store_id = Select the store for which you want the forecast and the re-order point\n",
    "lead_time = Time between realizing that the sku needs to be ordered for the store till it actually arrives at the store\n",
    "service_level = Service level that you desire to maintain for your customer"
   ]
  },
  {
   "cell_type": "code",
   "execution_count": null,
   "id": "4614ac60",
   "metadata": {},
   "outputs": [],
   "source": [
    "# data cleaning\n",
    "1. Changed the format of the variables to the desired format\n",
    "2. If the number of nan/missing values in the data is < 1% then deleted the rows else filled the rows with the mean for the given combination of sku_id and store_id\n",
    "3. Removed inconsistency in data (like record_id stored in total_price)\n",
    "4. Removed duplicate data (if any)\n",
    "5. If the total_price, base_price or units_sold had values <=0 then removed it if such cases are <=1% else replaced by the mean for the given combination of sku_id and store_id"
   ]
  },
  {
   "cell_type": "code",
   "execution_count": 128,
   "id": "72b9ed38",
   "metadata": {},
   "outputs": [],
   "source": [
    "data_processing_steps = {     1: \"Changed the format of the variables to the desired format\",     2: \"If the number of nan/missing values in the data is < 1% then deleted the rows else filled the rows with the mean for the given combination of sku_id and store_id\",     3: \"Removed inconsistency in data (like record_id stored in total_price)\",     4: \"Removed duplicate data (if any)\",     5: \"If the total_price, base_price or units_sold had values <=0 then removed it if such cases are <=1% else replaced by the mean for the given combination of sku_id and store_id\"}"
   ]
  },
  {
   "cell_type": "code",
   "execution_count": 129,
   "id": "8df41c9d",
   "metadata": {},
   "outputs": [
    {
     "data": {
      "text/plain": [
       "{1: 'Changed the format of the variables to the desired format',\n",
       " 2: 'If the number of nan/missing values in the data is < 1% then deleted the rows else filled the rows with the mean for the given combination of sku_id and store_id',\n",
       " 3: 'Removed inconsistency in data (like record_id stored in total_price)',\n",
       " 4: 'Removed duplicate data (if any)',\n",
       " 5: 'If the total_price, base_price or units_sold had values <=0 then removed it if such cases are <=1% else replaced by the mean for the given combination of sku_id and store_id'}"
      ]
     },
     "execution_count": 129,
     "metadata": {},
     "output_type": "execute_result"
    }
   ],
   "source": [
    "data_processing_steps"
   ]
  },
  {
   "cell_type": "code",
   "execution_count": 5,
   "id": "601fee48",
   "metadata": {},
   "outputs": [
    {
     "data": {
      "text/html": [
       "<div>\n",
       "<style scoped>\n",
       "    .dataframe tbody tr th:only-of-type {\n",
       "        vertical-align: middle;\n",
       "    }\n",
       "\n",
       "    .dataframe tbody tr th {\n",
       "        vertical-align: top;\n",
       "    }\n",
       "\n",
       "    .dataframe thead th {\n",
       "        text-align: right;\n",
       "    }\n",
       "</style>\n",
       "<table border=\"1\" class=\"dataframe\">\n",
       "  <thead>\n",
       "    <tr style=\"text-align: right;\">\n",
       "      <th></th>\n",
       "      <th>record_ID</th>\n",
       "      <th>week</th>\n",
       "      <th>store_id</th>\n",
       "      <th>sku_id</th>\n",
       "      <th>total_price</th>\n",
       "      <th>base_price</th>\n",
       "      <th>is_featured_sku</th>\n",
       "      <th>is_display_sku</th>\n",
       "      <th>units_sold</th>\n",
       "    </tr>\n",
       "  </thead>\n",
       "  <tbody>\n",
       "    <tr>\n",
       "      <th>0</th>\n",
       "      <td>1</td>\n",
       "      <td>2011-01-17</td>\n",
       "      <td>8091</td>\n",
       "      <td>216418</td>\n",
       "      <td>99.0375</td>\n",
       "      <td>111.8625</td>\n",
       "      <td>0</td>\n",
       "      <td>0</td>\n",
       "      <td>20</td>\n",
       "    </tr>\n",
       "    <tr>\n",
       "      <th>1</th>\n",
       "      <td>2</td>\n",
       "      <td>2011-01-17</td>\n",
       "      <td>8091</td>\n",
       "      <td>216419</td>\n",
       "      <td>99.0375</td>\n",
       "      <td>99.0375</td>\n",
       "      <td>0</td>\n",
       "      <td>0</td>\n",
       "      <td>28</td>\n",
       "    </tr>\n",
       "    <tr>\n",
       "      <th>2</th>\n",
       "      <td>3</td>\n",
       "      <td>2011-01-17</td>\n",
       "      <td>8091</td>\n",
       "      <td>216425</td>\n",
       "      <td>133.9500</td>\n",
       "      <td>133.9500</td>\n",
       "      <td>0</td>\n",
       "      <td>0</td>\n",
       "      <td>19</td>\n",
       "    </tr>\n",
       "    <tr>\n",
       "      <th>3</th>\n",
       "      <td>4</td>\n",
       "      <td>2011-01-17</td>\n",
       "      <td>8091</td>\n",
       "      <td>216233</td>\n",
       "      <td>133.9500</td>\n",
       "      <td>133.9500</td>\n",
       "      <td>0</td>\n",
       "      <td>0</td>\n",
       "      <td>44</td>\n",
       "    </tr>\n",
       "    <tr>\n",
       "      <th>4</th>\n",
       "      <td>5</td>\n",
       "      <td>2011-01-17</td>\n",
       "      <td>8091</td>\n",
       "      <td>217390</td>\n",
       "      <td>141.0750</td>\n",
       "      <td>141.0750</td>\n",
       "      <td>0</td>\n",
       "      <td>0</td>\n",
       "      <td>52</td>\n",
       "    </tr>\n",
       "  </tbody>\n",
       "</table>\n",
       "</div>"
      ],
      "text/plain": [
       "   record_ID       week  store_id  sku_id  total_price  base_price  \\\n",
       "0          1 2011-01-17      8091  216418      99.0375    111.8625   \n",
       "1          2 2011-01-17      8091  216419      99.0375     99.0375   \n",
       "2          3 2011-01-17      8091  216425     133.9500    133.9500   \n",
       "3          4 2011-01-17      8091  216233     133.9500    133.9500   \n",
       "4          5 2011-01-17      8091  217390     141.0750    141.0750   \n",
       "\n",
       "   is_featured_sku  is_display_sku  units_sold  \n",
       "0                0               0          20  \n",
       "1                0               0          28  \n",
       "2                0               0          19  \n",
       "3                0               0          44  \n",
       "4                0               0          52  "
      ]
     },
     "execution_count": 5,
     "metadata": {},
     "output_type": "execute_result"
    },
    {
     "data": {
      "text/plain": [
       "(150150, 9)"
      ]
     },
     "execution_count": 5,
     "metadata": {},
     "output_type": "execute_result"
    },
    {
     "name": "stdout",
     "output_type": "stream",
     "text": [
      "<class 'pandas.core.frame.DataFrame'>\n",
      "RangeIndex: 150150 entries, 0 to 150149\n",
      "Data columns (total 9 columns):\n",
      " #   Column           Non-Null Count   Dtype         \n",
      "---  ------           --------------   -----         \n",
      " 0   record_ID        150150 non-null  int64         \n",
      " 1   week             150150 non-null  datetime64[ns]\n",
      " 2   store_id         150150 non-null  int64         \n",
      " 3   sku_id           150150 non-null  int64         \n",
      " 4   total_price      150149 non-null  float64       \n",
      " 5   base_price       150150 non-null  float64       \n",
      " 6   is_featured_sku  150150 non-null  int64         \n",
      " 7   is_display_sku   150150 non-null  int64         \n",
      " 8   units_sold       150150 non-null  int64         \n",
      "dtypes: datetime64[ns](1), float64(2), int64(6)\n",
      "memory usage: 10.3 MB\n"
     ]
    }
   ],
   "source": [
    "# Characteristics of data\n",
    "df.head()\n",
    "df.shape\n",
    "df.info()"
   ]
  },
  {
   "cell_type": "code",
   "execution_count": 125,
   "id": "3aab5372",
   "metadata": {},
   "outputs": [
    {
     "data": {
      "text/plain": [
       "Timestamp('2013-07-09 00:00:00')"
      ]
     },
     "execution_count": 125,
     "metadata": {},
     "output_type": "execute_result"
    }
   ],
   "source": [
    "df['week'].max()"
   ]
  },
  {
   "cell_type": "code",
   "execution_count": 126,
   "id": "22df1928",
   "metadata": {},
   "outputs": [
    {
     "data": {
      "text/plain": [
       "Timestamp('2011-01-17 00:00:00')"
      ]
     },
     "execution_count": 126,
     "metadata": {},
     "output_type": "execute_result"
    }
   ],
   "source": [
    "df['week'].min()"
   ]
  },
  {
   "cell_type": "code",
   "execution_count": 127,
   "id": "8bef04f5",
   "metadata": {},
   "outputs": [
    {
     "data": {
      "text/plain": [
       "150149"
      ]
     },
     "execution_count": 127,
     "metadata": {},
     "output_type": "execute_result"
    }
   ],
   "source": [
    "len(df)"
   ]
  },
  {
   "cell_type": "code",
   "execution_count": null,
   "id": "819697d7",
   "metadata": {},
   "outputs": [],
   "source": []
  },
  {
   "cell_type": "code",
   "execution_count": 6,
   "id": "6b70cc8a",
   "metadata": {},
   "outputs": [
    {
     "data": {
      "text/plain": [
       "record_ID          0\n",
       "week               0\n",
       "store_id           0\n",
       "sku_id             0\n",
       "total_price        1\n",
       "base_price         0\n",
       "is_featured_sku    0\n",
       "is_display_sku     0\n",
       "units_sold         0\n",
       "dtype: int64"
      ]
     },
     "execution_count": 6,
     "metadata": {},
     "output_type": "execute_result"
    }
   ],
   "source": [
    "# Check null values in the data\n",
    "df.isnull().sum()"
   ]
  },
  {
   "cell_type": "code",
   "execution_count": 7,
   "id": "dd303165",
   "metadata": {},
   "outputs": [
    {
     "data": {
      "text/plain": [
       "record_ID          0\n",
       "week               0\n",
       "store_id           0\n",
       "sku_id             0\n",
       "total_price        0\n",
       "base_price         0\n",
       "is_featured_sku    0\n",
       "is_display_sku     0\n",
       "units_sold         0\n",
       "dtype: int64"
      ]
     },
     "execution_count": 7,
     "metadata": {},
     "output_type": "execute_result"
    }
   ],
   "source": [
    "# Since total no. of rows = 150150 and the null value is only in 1 row, therefore, we will remove the null row\n",
    "# Calculate the total number of rows\n",
    "total_rows = len(df)\n",
    "# Calculate the number of rows with missing values\n",
    "na_rows = df.isna().any(axis=1).sum()\n",
    "if na_rows < total_rows * 0.01:\n",
    "    df.dropna(inplace=True)\n",
    "else:\n",
    "    # Fill missing values with the average of store_id and sku_id combination\n",
    "    df.fillna(df.groupby(['store_id', 'sku_id']).transform('mean'), inplace=True)\n",
    "df.isnull().sum()"
   ]
  },
  {
   "cell_type": "code",
   "execution_count": 8,
   "id": "e191446c",
   "metadata": {},
   "outputs": [
    {
     "data": {
      "text/plain": [
       "(150149, 9)"
      ]
     },
     "execution_count": 8,
     "metadata": {},
     "output_type": "execute_result"
    },
    {
     "data": {
      "text/plain": [
       "0"
      ]
     },
     "execution_count": 8,
     "metadata": {},
     "output_type": "execute_result"
    },
    {
     "data": {
      "text/plain": [
       "0"
      ]
     },
     "execution_count": 8,
     "metadata": {},
     "output_type": "execute_result"
    }
   ],
   "source": [
    "# Checking whether there are rows where the total_price or units_sold <=0\n",
    "df.shape\n",
    "df['total_price'].loc[df['total_price']<=0].count()\n",
    "df['units_sold'].loc[df['units_sold']<=0].count()"
   ]
  },
  {
   "cell_type": "code",
   "execution_count": 9,
   "id": "ecc4acda",
   "metadata": {},
   "outputs": [
    {
     "data": {
      "text/plain": [
       "(150149, 9)"
      ]
     },
     "execution_count": 9,
     "metadata": {},
     "output_type": "execute_result"
    }
   ],
   "source": [
    "# Delete rows with negative rows\n",
    "con1 = df['units_sold']<=0\n",
    "con2 = df['total_price']<=0\n",
    "df = df[~(con1 & con2)]\n",
    "df.shape"
   ]
  },
  {
   "cell_type": "code",
   "execution_count": 10,
   "id": "2054cbe3",
   "metadata": {},
   "outputs": [
    {
     "data": {
      "text/plain": [
       "(150149, 9)"
      ]
     },
     "execution_count": 10,
     "metadata": {},
     "output_type": "execute_result"
    },
    {
     "data": {
      "text/plain": [
       "(150149, 9)"
      ]
     },
     "execution_count": 10,
     "metadata": {},
     "output_type": "execute_result"
    }
   ],
   "source": [
    "# Dropping duplicates if any\n",
    "df.shape\n",
    "df = df.drop_duplicates(['week', 'store_id', 'sku_id'])\n",
    "df.shape"
   ]
  },
  {
   "cell_type": "code",
   "execution_count": 11,
   "id": "07a067c9",
   "metadata": {},
   "outputs": [
    {
     "data": {
      "text/html": [
       "<div>\n",
       "<style scoped>\n",
       "    .dataframe tbody tr th:only-of-type {\n",
       "        vertical-align: middle;\n",
       "    }\n",
       "\n",
       "    .dataframe tbody tr th {\n",
       "        vertical-align: top;\n",
       "    }\n",
       "\n",
       "    .dataframe thead th {\n",
       "        text-align: right;\n",
       "    }\n",
       "</style>\n",
       "<table border=\"1\" class=\"dataframe\">\n",
       "  <thead>\n",
       "    <tr style=\"text-align: right;\">\n",
       "      <th></th>\n",
       "      <th>record_ID</th>\n",
       "      <th>week</th>\n",
       "      <th>store_id</th>\n",
       "      <th>sku_id</th>\n",
       "      <th>total_price</th>\n",
       "      <th>base_price</th>\n",
       "      <th>is_featured_sku</th>\n",
       "      <th>is_display_sku</th>\n",
       "      <th>units_sold</th>\n",
       "    </tr>\n",
       "  </thead>\n",
       "  <tbody>\n",
       "    <tr>\n",
       "      <th>150149</th>\n",
       "      <td>212644</td>\n",
       "      <td>2013-07-09</td>\n",
       "      <td>9984</td>\n",
       "      <td>679023</td>\n",
       "      <td>234.4125</td>\n",
       "      <td>234.4125</td>\n",
       "      <td>0</td>\n",
       "      <td>0</td>\n",
       "      <td>15</td>\n",
       "    </tr>\n",
       "    <tr>\n",
       "      <th>149427</th>\n",
       "      <td>211610</td>\n",
       "      <td>2013-07-09</td>\n",
       "      <td>9164</td>\n",
       "      <td>378934</td>\n",
       "      <td>213.0375</td>\n",
       "      <td>213.0375</td>\n",
       "      <td>0</td>\n",
       "      <td>0</td>\n",
       "      <td>16</td>\n",
       "    </tr>\n",
       "    <tr>\n",
       "      <th>149375</th>\n",
       "      <td>211530</td>\n",
       "      <td>2013-07-09</td>\n",
       "      <td>9112</td>\n",
       "      <td>216418</td>\n",
       "      <td>110.4375</td>\n",
       "      <td>110.4375</td>\n",
       "      <td>0</td>\n",
       "      <td>0</td>\n",
       "      <td>162</td>\n",
       "    </tr>\n",
       "    <tr>\n",
       "      <th>149376</th>\n",
       "      <td>211531</td>\n",
       "      <td>2013-07-09</td>\n",
       "      <td>9112</td>\n",
       "      <td>216419</td>\n",
       "      <td>109.7250</td>\n",
       "      <td>109.7250</td>\n",
       "      <td>0</td>\n",
       "      <td>0</td>\n",
       "      <td>137</td>\n",
       "    </tr>\n",
       "    <tr>\n",
       "      <th>149377</th>\n",
       "      <td>211532</td>\n",
       "      <td>2013-07-09</td>\n",
       "      <td>9112</td>\n",
       "      <td>300021</td>\n",
       "      <td>109.0125</td>\n",
       "      <td>109.0125</td>\n",
       "      <td>0</td>\n",
       "      <td>0</td>\n",
       "      <td>108</td>\n",
       "    </tr>\n",
       "  </tbody>\n",
       "</table>\n",
       "</div>"
      ],
      "text/plain": [
       "        record_ID       week  store_id  sku_id  total_price  base_price  \\\n",
       "150149     212644 2013-07-09      9984  679023     234.4125    234.4125   \n",
       "149427     211610 2013-07-09      9164  378934     213.0375    213.0375   \n",
       "149375     211530 2013-07-09      9112  216418     110.4375    110.4375   \n",
       "149376     211531 2013-07-09      9112  216419     109.7250    109.7250   \n",
       "149377     211532 2013-07-09      9112  300021     109.0125    109.0125   \n",
       "\n",
       "        is_featured_sku  is_display_sku  units_sold  \n",
       "150149                0               0          15  \n",
       "149427                0               0          16  \n",
       "149375                0               0         162  \n",
       "149376                0               0         137  \n",
       "149377                0               0         108  "
      ]
     },
     "execution_count": 11,
     "metadata": {},
     "output_type": "execute_result"
    }
   ],
   "source": [
    "# Sort dataframe by date column in chronological order\n",
    "df = df.sort_values(by='week', ascending=False)\n",
    "df.head()"
   ]
  },
  {
   "cell_type": "code",
   "execution_count": 12,
   "id": "2b75708f",
   "metadata": {},
   "outputs": [],
   "source": [
    "# Function to create data frame for the selected store_id and sku_id\n",
    "def create_dataframe(sku_id, df):\n",
    "    # Filter the data for the specified store_id and sku_id\n",
    "    filtered_data = df[(df['sku_id'] == sku_id)]\n",
    "\n",
    "    # If no data is found for the specified sku_id, return None\n",
    "    if filtered_data.empty:\n",
    "        print(\"No data found for the specified sku_id.\")\n",
    "        return None\n",
    "\n",
    "    return filtered_data"
   ]
  },
  {
   "cell_type": "code",
   "execution_count": 13,
   "id": "093f17cd",
   "metadata": {},
   "outputs": [
    {
     "name": "stdout",
     "output_type": "stream",
     "text": [
      "Enter sku_id: 679023\n"
     ]
    }
   ],
   "source": [
    "# Get user input for sku_id\n",
    "sku_id = int(input(\"Enter sku_id: \"))"
   ]
  },
  {
   "cell_type": "code",
   "execution_count": 14,
   "id": "c61a03ba",
   "metadata": {},
   "outputs": [
    {
     "data": {
      "text/html": [
       "<div>\n",
       "<style scoped>\n",
       "    .dataframe tbody tr th:only-of-type {\n",
       "        vertical-align: middle;\n",
       "    }\n",
       "\n",
       "    .dataframe tbody tr th {\n",
       "        vertical-align: top;\n",
       "    }\n",
       "\n",
       "    .dataframe thead th {\n",
       "        text-align: right;\n",
       "    }\n",
       "</style>\n",
       "<table border=\"1\" class=\"dataframe\">\n",
       "  <thead>\n",
       "    <tr style=\"text-align: right;\">\n",
       "      <th></th>\n",
       "      <th>record_ID</th>\n",
       "      <th>week</th>\n",
       "      <th>store_id</th>\n",
       "      <th>sku_id</th>\n",
       "      <th>total_price</th>\n",
       "      <th>base_price</th>\n",
       "      <th>is_featured_sku</th>\n",
       "      <th>is_display_sku</th>\n",
       "      <th>units_sold</th>\n",
       "    </tr>\n",
       "  </thead>\n",
       "  <tbody>\n",
       "    <tr>\n",
       "      <th>150149</th>\n",
       "      <td>212644</td>\n",
       "      <td>2013-07-09</td>\n",
       "      <td>9984</td>\n",
       "      <td>679023</td>\n",
       "      <td>234.4125</td>\n",
       "      <td>234.4125</td>\n",
       "      <td>0</td>\n",
       "      <td>0</td>\n",
       "      <td>15</td>\n",
       "    </tr>\n",
       "    <tr>\n",
       "      <th>149373</th>\n",
       "      <td>211528</td>\n",
       "      <td>2013-07-09</td>\n",
       "      <td>9092</td>\n",
       "      <td>679023</td>\n",
       "      <td>234.4125</td>\n",
       "      <td>234.4125</td>\n",
       "      <td>0</td>\n",
       "      <td>0</td>\n",
       "      <td>4</td>\n",
       "    </tr>\n",
       "    <tr>\n",
       "      <th>149300</th>\n",
       "      <td>211431</td>\n",
       "      <td>2013-07-09</td>\n",
       "      <td>8869</td>\n",
       "      <td>679023</td>\n",
       "      <td>234.4125</td>\n",
       "      <td>234.4125</td>\n",
       "      <td>0</td>\n",
       "      <td>0</td>\n",
       "      <td>15</td>\n",
       "    </tr>\n",
       "    <tr>\n",
       "      <th>149542</th>\n",
       "      <td>211772</td>\n",
       "      <td>2013-07-09</td>\n",
       "      <td>9281</td>\n",
       "      <td>679023</td>\n",
       "      <td>234.4125</td>\n",
       "      <td>234.4125</td>\n",
       "      <td>0</td>\n",
       "      <td>1</td>\n",
       "      <td>1</td>\n",
       "    </tr>\n",
       "    <tr>\n",
       "      <th>149063</th>\n",
       "      <td>211093</td>\n",
       "      <td>2013-07-09</td>\n",
       "      <td>8063</td>\n",
       "      <td>679023</td>\n",
       "      <td>234.4125</td>\n",
       "      <td>234.4125</td>\n",
       "      <td>0</td>\n",
       "      <td>0</td>\n",
       "      <td>2</td>\n",
       "    </tr>\n",
       "  </tbody>\n",
       "</table>\n",
       "</div>"
      ],
      "text/plain": [
       "        record_ID       week  store_id  sku_id  total_price  base_price  \\\n",
       "150149     212644 2013-07-09      9984  679023     234.4125    234.4125   \n",
       "149373     211528 2013-07-09      9092  679023     234.4125    234.4125   \n",
       "149300     211431 2013-07-09      8869  679023     234.4125    234.4125   \n",
       "149542     211772 2013-07-09      9281  679023     234.4125    234.4125   \n",
       "149063     211093 2013-07-09      8063  679023     234.4125    234.4125   \n",
       "\n",
       "        is_featured_sku  is_display_sku  units_sold  \n",
       "150149                0               0          15  \n",
       "149373                0               0           4  \n",
       "149300                0               0          15  \n",
       "149542                0               1           1  \n",
       "149063                0               0           2  "
      ]
     },
     "execution_count": 14,
     "metadata": {},
     "output_type": "execute_result"
    },
    {
     "data": {
      "text/plain": [
       "(1170, 9)"
      ]
     },
     "execution_count": 14,
     "metadata": {},
     "output_type": "execute_result"
    }
   ],
   "source": [
    "# Call the function with user inputs to create dataframe of selected store_id and sku_id\n",
    "df_selected = create_dataframe(sku_id,df)\n",
    "if df_selected is not None:\n",
    "    df_selected.head()\n",
    "    df_selected.shape"
   ]
  },
  {
   "cell_type": "code",
   "execution_count": 15,
   "id": "57a9dd9b",
   "metadata": {},
   "outputs": [],
   "source": [
    "#df_selected = df_selected.drop(columns=['record_ID', 'store_id'])"
   ]
  },
  {
   "cell_type": "code",
   "execution_count": 16,
   "id": "f394e619",
   "metadata": {},
   "outputs": [
    {
     "data": {
      "text/html": [
       "<div>\n",
       "<style scoped>\n",
       "    .dataframe tbody tr th:only-of-type {\n",
       "        vertical-align: middle;\n",
       "    }\n",
       "\n",
       "    .dataframe tbody tr th {\n",
       "        vertical-align: top;\n",
       "    }\n",
       "\n",
       "    .dataframe thead th {\n",
       "        text-align: right;\n",
       "    }\n",
       "</style>\n",
       "<table border=\"1\" class=\"dataframe\">\n",
       "  <thead>\n",
       "    <tr style=\"text-align: right;\">\n",
       "      <th></th>\n",
       "      <th>record_ID</th>\n",
       "      <th>week</th>\n",
       "      <th>store_id</th>\n",
       "      <th>sku_id</th>\n",
       "      <th>total_price</th>\n",
       "      <th>base_price</th>\n",
       "      <th>is_featured_sku</th>\n",
       "      <th>is_display_sku</th>\n",
       "      <th>units_sold</th>\n",
       "    </tr>\n",
       "  </thead>\n",
       "  <tbody>\n",
       "    <tr>\n",
       "      <th>150149</th>\n",
       "      <td>212644</td>\n",
       "      <td>2013-07-09</td>\n",
       "      <td>9984</td>\n",
       "      <td>679023</td>\n",
       "      <td>234.4125</td>\n",
       "      <td>234.4125</td>\n",
       "      <td>0</td>\n",
       "      <td>0</td>\n",
       "      <td>15</td>\n",
       "    </tr>\n",
       "    <tr>\n",
       "      <th>149373</th>\n",
       "      <td>211528</td>\n",
       "      <td>2013-07-09</td>\n",
       "      <td>9092</td>\n",
       "      <td>679023</td>\n",
       "      <td>234.4125</td>\n",
       "      <td>234.4125</td>\n",
       "      <td>0</td>\n",
       "      <td>0</td>\n",
       "      <td>4</td>\n",
       "    </tr>\n",
       "    <tr>\n",
       "      <th>149300</th>\n",
       "      <td>211431</td>\n",
       "      <td>2013-07-09</td>\n",
       "      <td>8869</td>\n",
       "      <td>679023</td>\n",
       "      <td>234.4125</td>\n",
       "      <td>234.4125</td>\n",
       "      <td>0</td>\n",
       "      <td>0</td>\n",
       "      <td>15</td>\n",
       "    </tr>\n",
       "    <tr>\n",
       "      <th>149542</th>\n",
       "      <td>211772</td>\n",
       "      <td>2013-07-09</td>\n",
       "      <td>9281</td>\n",
       "      <td>679023</td>\n",
       "      <td>234.4125</td>\n",
       "      <td>234.4125</td>\n",
       "      <td>0</td>\n",
       "      <td>1</td>\n",
       "      <td>1</td>\n",
       "    </tr>\n",
       "    <tr>\n",
       "      <th>149063</th>\n",
       "      <td>211093</td>\n",
       "      <td>2013-07-09</td>\n",
       "      <td>8063</td>\n",
       "      <td>679023</td>\n",
       "      <td>234.4125</td>\n",
       "      <td>234.4125</td>\n",
       "      <td>0</td>\n",
       "      <td>0</td>\n",
       "      <td>2</td>\n",
       "    </tr>\n",
       "  </tbody>\n",
       "</table>\n",
       "</div>"
      ],
      "text/plain": [
       "        record_ID       week  store_id  sku_id  total_price  base_price  \\\n",
       "150149     212644 2013-07-09      9984  679023     234.4125    234.4125   \n",
       "149373     211528 2013-07-09      9092  679023     234.4125    234.4125   \n",
       "149300     211431 2013-07-09      8869  679023     234.4125    234.4125   \n",
       "149542     211772 2013-07-09      9281  679023     234.4125    234.4125   \n",
       "149063     211093 2013-07-09      8063  679023     234.4125    234.4125   \n",
       "\n",
       "        is_featured_sku  is_display_sku  units_sold  \n",
       "150149                0               0          15  \n",
       "149373                0               0           4  \n",
       "149300                0               0          15  \n",
       "149542                0               1           1  \n",
       "149063                0               0           2  "
      ]
     },
     "execution_count": 16,
     "metadata": {},
     "output_type": "execute_result"
    }
   ],
   "source": [
    "df_selected.head()"
   ]
  },
  {
   "cell_type": "code",
   "execution_count": 17,
   "id": "9625818b",
   "metadata": {},
   "outputs": [],
   "source": [
    "# Group by sku_id and week and perform aggregation\n",
    "#df_selected = df.groupby(['sku_id','week']).agg({\n",
    "#    'total_price': 'mean',\n",
    "#    'base_price': 'mean',\n",
    "#    'is_featured_sku': 'max',\n",
    "#    'is_display_sku': 'max',\n",
    "#    'units_sold': 'sum'\n",
    "#}).reset_index()\n",
    "\n",
    "# Print the aggregated DataFrame\n",
    "#print(df_selected)"
   ]
  },
  {
   "cell_type": "code",
   "execution_count": 18,
   "id": "554a2094",
   "metadata": {},
   "outputs": [],
   "source": [
    "# Pre-processing the data\n",
    "def preprocess_data(df):\n",
    "    # Convert 'week' column to datetime type and extract seasonality features\n",
    "    df['week'] = pd.to_datetime(df['week'])\n",
    "    df['month'] = df['week'].dt.month\n",
    "    df['year'] = df['week'].dt.year\n",
    "    df['day_of_week'] = df['week'].dt.dayofweek\n",
    "    df['day_of_month'] = df['week'].dt.day\n",
    "    df['discount'] = df['base_price'] - df['total_price']\n",
    "    # Encode categorical variables 'is_featured_sku' and 'is_display_sku'\n",
    "    label_encoder = LabelEncoder()\n",
    "    df['is_featured_sku'] = label_encoder.fit_transform(df['is_featured_sku'])\n",
    "    df['is_display_sku'] = label_encoder.fit_transform(df['is_display_sku'])\n",
    "    \n",
    "    return df"
   ]
  },
  {
   "cell_type": "code",
   "execution_count": 19,
   "id": "468c0d0c",
   "metadata": {},
   "outputs": [],
   "source": [
    "# Call the function to pre-process the data\n",
    "df_processed = preprocess_data(df_selected)"
   ]
  },
  {
   "cell_type": "code",
   "execution_count": 20,
   "id": "cf8f1c30",
   "metadata": {},
   "outputs": [
    {
     "data": {
      "text/html": [
       "<div>\n",
       "<style scoped>\n",
       "    .dataframe tbody tr th:only-of-type {\n",
       "        vertical-align: middle;\n",
       "    }\n",
       "\n",
       "    .dataframe tbody tr th {\n",
       "        vertical-align: top;\n",
       "    }\n",
       "\n",
       "    .dataframe thead th {\n",
       "        text-align: right;\n",
       "    }\n",
       "</style>\n",
       "<table border=\"1\" class=\"dataframe\">\n",
       "  <thead>\n",
       "    <tr style=\"text-align: right;\">\n",
       "      <th></th>\n",
       "      <th>record_ID</th>\n",
       "      <th>week</th>\n",
       "      <th>store_id</th>\n",
       "      <th>sku_id</th>\n",
       "      <th>total_price</th>\n",
       "      <th>base_price</th>\n",
       "      <th>is_featured_sku</th>\n",
       "      <th>is_display_sku</th>\n",
       "      <th>units_sold</th>\n",
       "      <th>month</th>\n",
       "      <th>year</th>\n",
       "      <th>day_of_week</th>\n",
       "      <th>day_of_month</th>\n",
       "      <th>discount</th>\n",
       "    </tr>\n",
       "  </thead>\n",
       "  <tbody>\n",
       "    <tr>\n",
       "      <th>150149</th>\n",
       "      <td>212644</td>\n",
       "      <td>2013-07-09</td>\n",
       "      <td>9984</td>\n",
       "      <td>679023</td>\n",
       "      <td>234.4125</td>\n",
       "      <td>234.4125</td>\n",
       "      <td>0</td>\n",
       "      <td>0</td>\n",
       "      <td>15</td>\n",
       "      <td>7</td>\n",
       "      <td>2013</td>\n",
       "      <td>1</td>\n",
       "      <td>9</td>\n",
       "      <td>0.0</td>\n",
       "    </tr>\n",
       "    <tr>\n",
       "      <th>149373</th>\n",
       "      <td>211528</td>\n",
       "      <td>2013-07-09</td>\n",
       "      <td>9092</td>\n",
       "      <td>679023</td>\n",
       "      <td>234.4125</td>\n",
       "      <td>234.4125</td>\n",
       "      <td>0</td>\n",
       "      <td>0</td>\n",
       "      <td>4</td>\n",
       "      <td>7</td>\n",
       "      <td>2013</td>\n",
       "      <td>1</td>\n",
       "      <td>9</td>\n",
       "      <td>0.0</td>\n",
       "    </tr>\n",
       "    <tr>\n",
       "      <th>149300</th>\n",
       "      <td>211431</td>\n",
       "      <td>2013-07-09</td>\n",
       "      <td>8869</td>\n",
       "      <td>679023</td>\n",
       "      <td>234.4125</td>\n",
       "      <td>234.4125</td>\n",
       "      <td>0</td>\n",
       "      <td>0</td>\n",
       "      <td>15</td>\n",
       "      <td>7</td>\n",
       "      <td>2013</td>\n",
       "      <td>1</td>\n",
       "      <td>9</td>\n",
       "      <td>0.0</td>\n",
       "    </tr>\n",
       "    <tr>\n",
       "      <th>149542</th>\n",
       "      <td>211772</td>\n",
       "      <td>2013-07-09</td>\n",
       "      <td>9281</td>\n",
       "      <td>679023</td>\n",
       "      <td>234.4125</td>\n",
       "      <td>234.4125</td>\n",
       "      <td>0</td>\n",
       "      <td>1</td>\n",
       "      <td>1</td>\n",
       "      <td>7</td>\n",
       "      <td>2013</td>\n",
       "      <td>1</td>\n",
       "      <td>9</td>\n",
       "      <td>0.0</td>\n",
       "    </tr>\n",
       "    <tr>\n",
       "      <th>149063</th>\n",
       "      <td>211093</td>\n",
       "      <td>2013-07-09</td>\n",
       "      <td>8063</td>\n",
       "      <td>679023</td>\n",
       "      <td>234.4125</td>\n",
       "      <td>234.4125</td>\n",
       "      <td>0</td>\n",
       "      <td>0</td>\n",
       "      <td>2</td>\n",
       "      <td>7</td>\n",
       "      <td>2013</td>\n",
       "      <td>1</td>\n",
       "      <td>9</td>\n",
       "      <td>0.0</td>\n",
       "    </tr>\n",
       "  </tbody>\n",
       "</table>\n",
       "</div>"
      ],
      "text/plain": [
       "        record_ID       week  store_id  sku_id  total_price  base_price  \\\n",
       "150149     212644 2013-07-09      9984  679023     234.4125    234.4125   \n",
       "149373     211528 2013-07-09      9092  679023     234.4125    234.4125   \n",
       "149300     211431 2013-07-09      8869  679023     234.4125    234.4125   \n",
       "149542     211772 2013-07-09      9281  679023     234.4125    234.4125   \n",
       "149063     211093 2013-07-09      8063  679023     234.4125    234.4125   \n",
       "\n",
       "        is_featured_sku  is_display_sku  units_sold  month  year  day_of_week  \\\n",
       "150149                0               0          15      7  2013            1   \n",
       "149373                0               0           4      7  2013            1   \n",
       "149300                0               0          15      7  2013            1   \n",
       "149542                0               1           1      7  2013            1   \n",
       "149063                0               0           2      7  2013            1   \n",
       "\n",
       "        day_of_month  discount  \n",
       "150149             9       0.0  \n",
       "149373             9       0.0  \n",
       "149300             9       0.0  \n",
       "149542             9       0.0  \n",
       "149063             9       0.0  "
      ]
     },
     "execution_count": 20,
     "metadata": {},
     "output_type": "execute_result"
    }
   ],
   "source": [
    "df_processed.head()"
   ]
  },
  {
   "cell_type": "code",
   "execution_count": 21,
   "id": "4d5eac87",
   "metadata": {},
   "outputs": [],
   "source": [
    "#df_processed.drop(['week'], inplace=True, axis = 1)"
   ]
  },
  {
   "cell_type": "code",
   "execution_count": 22,
   "id": "125fefb4",
   "metadata": {},
   "outputs": [
    {
     "data": {
      "text/html": [
       "<div>\n",
       "<style scoped>\n",
       "    .dataframe tbody tr th:only-of-type {\n",
       "        vertical-align: middle;\n",
       "    }\n",
       "\n",
       "    .dataframe tbody tr th {\n",
       "        vertical-align: top;\n",
       "    }\n",
       "\n",
       "    .dataframe thead th {\n",
       "        text-align: right;\n",
       "    }\n",
       "</style>\n",
       "<table border=\"1\" class=\"dataframe\">\n",
       "  <thead>\n",
       "    <tr style=\"text-align: right;\">\n",
       "      <th></th>\n",
       "      <th>record_ID</th>\n",
       "      <th>week</th>\n",
       "      <th>store_id</th>\n",
       "      <th>sku_id</th>\n",
       "      <th>total_price</th>\n",
       "      <th>base_price</th>\n",
       "      <th>is_featured_sku</th>\n",
       "      <th>is_display_sku</th>\n",
       "      <th>units_sold</th>\n",
       "      <th>month</th>\n",
       "      <th>year</th>\n",
       "      <th>day_of_week</th>\n",
       "      <th>day_of_month</th>\n",
       "      <th>discount</th>\n",
       "    </tr>\n",
       "  </thead>\n",
       "  <tbody>\n",
       "    <tr>\n",
       "      <th>150149</th>\n",
       "      <td>212644</td>\n",
       "      <td>2013-07-09</td>\n",
       "      <td>9984</td>\n",
       "      <td>679023</td>\n",
       "      <td>234.4125</td>\n",
       "      <td>234.4125</td>\n",
       "      <td>0</td>\n",
       "      <td>0</td>\n",
       "      <td>15</td>\n",
       "      <td>7</td>\n",
       "      <td>2013</td>\n",
       "      <td>1</td>\n",
       "      <td>9</td>\n",
       "      <td>0.0</td>\n",
       "    </tr>\n",
       "    <tr>\n",
       "      <th>149373</th>\n",
       "      <td>211528</td>\n",
       "      <td>2013-07-09</td>\n",
       "      <td>9092</td>\n",
       "      <td>679023</td>\n",
       "      <td>234.4125</td>\n",
       "      <td>234.4125</td>\n",
       "      <td>0</td>\n",
       "      <td>0</td>\n",
       "      <td>4</td>\n",
       "      <td>7</td>\n",
       "      <td>2013</td>\n",
       "      <td>1</td>\n",
       "      <td>9</td>\n",
       "      <td>0.0</td>\n",
       "    </tr>\n",
       "    <tr>\n",
       "      <th>149300</th>\n",
       "      <td>211431</td>\n",
       "      <td>2013-07-09</td>\n",
       "      <td>8869</td>\n",
       "      <td>679023</td>\n",
       "      <td>234.4125</td>\n",
       "      <td>234.4125</td>\n",
       "      <td>0</td>\n",
       "      <td>0</td>\n",
       "      <td>15</td>\n",
       "      <td>7</td>\n",
       "      <td>2013</td>\n",
       "      <td>1</td>\n",
       "      <td>9</td>\n",
       "      <td>0.0</td>\n",
       "    </tr>\n",
       "    <tr>\n",
       "      <th>149542</th>\n",
       "      <td>211772</td>\n",
       "      <td>2013-07-09</td>\n",
       "      <td>9281</td>\n",
       "      <td>679023</td>\n",
       "      <td>234.4125</td>\n",
       "      <td>234.4125</td>\n",
       "      <td>0</td>\n",
       "      <td>1</td>\n",
       "      <td>1</td>\n",
       "      <td>7</td>\n",
       "      <td>2013</td>\n",
       "      <td>1</td>\n",
       "      <td>9</td>\n",
       "      <td>0.0</td>\n",
       "    </tr>\n",
       "    <tr>\n",
       "      <th>149063</th>\n",
       "      <td>211093</td>\n",
       "      <td>2013-07-09</td>\n",
       "      <td>8063</td>\n",
       "      <td>679023</td>\n",
       "      <td>234.4125</td>\n",
       "      <td>234.4125</td>\n",
       "      <td>0</td>\n",
       "      <td>0</td>\n",
       "      <td>2</td>\n",
       "      <td>7</td>\n",
       "      <td>2013</td>\n",
       "      <td>1</td>\n",
       "      <td>9</td>\n",
       "      <td>0.0</td>\n",
       "    </tr>\n",
       "  </tbody>\n",
       "</table>\n",
       "</div>"
      ],
      "text/plain": [
       "        record_ID       week  store_id  sku_id  total_price  base_price  \\\n",
       "150149     212644 2013-07-09      9984  679023     234.4125    234.4125   \n",
       "149373     211528 2013-07-09      9092  679023     234.4125    234.4125   \n",
       "149300     211431 2013-07-09      8869  679023     234.4125    234.4125   \n",
       "149542     211772 2013-07-09      9281  679023     234.4125    234.4125   \n",
       "149063     211093 2013-07-09      8063  679023     234.4125    234.4125   \n",
       "\n",
       "        is_featured_sku  is_display_sku  units_sold  month  year  day_of_week  \\\n",
       "150149                0               0          15      7  2013            1   \n",
       "149373                0               0           4      7  2013            1   \n",
       "149300                0               0          15      7  2013            1   \n",
       "149542                0               1           1      7  2013            1   \n",
       "149063                0               0           2      7  2013            1   \n",
       "\n",
       "        day_of_month  discount  \n",
       "150149             9       0.0  \n",
       "149373             9       0.0  \n",
       "149300             9       0.0  \n",
       "149542             9       0.0  \n",
       "149063             9       0.0  "
      ]
     },
     "execution_count": 22,
     "metadata": {},
     "output_type": "execute_result"
    }
   ],
   "source": [
    "df_processed.head()"
   ]
  },
  {
   "cell_type": "code",
   "execution_count": 23,
   "id": "c69940ac",
   "metadata": {},
   "outputs": [
    {
     "name": "stdout",
     "output_type": "stream",
     "text": [
      "ADF Statistic: -7.983103486110577\n",
      "p-value: 2.5915817283052178e-12\n"
     ]
    }
   ],
   "source": [
    "# Check if the data is stationary\n",
    "result = adfuller(df_processed['units_sold'].dropna())\n",
    "# Print the test statistic and p-value\n",
    "print('ADF Statistic:', result[0])\n",
    "print('p-value:', result[1])"
   ]
  },
  {
   "cell_type": "code",
   "execution_count": 24,
   "id": "842bcd25",
   "metadata": {},
   "outputs": [],
   "source": [
    "# Since the p-value is below 0.05,\n",
    "# the data can be assumed to be stationary hence we can proceed with the data without any transformation."
   ]
  },
  {
   "cell_type": "code",
   "execution_count": 25,
   "id": "7e12d333",
   "metadata": {},
   "outputs": [
    {
     "data": {
      "text/plain": [
       "(1170, 14)"
      ]
     },
     "execution_count": 25,
     "metadata": {},
     "output_type": "execute_result"
    }
   ],
   "source": [
    "df_processed.shape"
   ]
  },
  {
   "cell_type": "code",
   "execution_count": 26,
   "id": "eba71f3d",
   "metadata": {},
   "outputs": [
    {
     "data": {
      "text/plain": [
       "1.0475069435602407"
      ]
     },
     "execution_count": 26,
     "metadata": {},
     "output_type": "execute_result"
    }
   ],
   "source": [
    "df_processed['units_sold'].skew()"
   ]
  },
  {
   "cell_type": "code",
   "execution_count": 27,
   "id": "f88db18d",
   "metadata": {},
   "outputs": [],
   "source": [
    "# units sold is highly positively skewed since skewness > 1"
   ]
  },
  {
   "cell_type": "code",
   "execution_count": 28,
   "id": "3b821fdc",
   "metadata": {},
   "outputs": [
    {
     "data": {
      "text/plain": [
       "<Axes: >"
      ]
     },
     "execution_count": 28,
     "metadata": {},
     "output_type": "execute_result"
    },
    {
     "data": {
      "image/png": "[encoded data removed]",
      "text/plain": [
       "<Figure size 640x480 with 1 Axes>"
      ]
     },
     "metadata": {},
     "output_type": "display_data"
    }
   ],
   "source": [
    "df_processed.units_sold.hist()"
   ]
  },
  {
   "cell_type": "code",
   "execution_count": 29,
   "id": "722c336b",
   "metadata": {},
   "outputs": [
    {
     "data": {
      "text/plain": [
       "<Axes: xlabel='units_sold', ylabel='Density'>"
      ]
     },
     "execution_count": 29,
     "metadata": {},
     "output_type": "execute_result"
    },
    {
     "data": {
      "image/png": "[encoded data removed]",
      "text/plain": [
       "<Figure size 640x480 with 1 Axes>"
      ]
     },
     "metadata": {},
     "output_type": "display_data"
    }
   ],
   "source": [
    "sns.kdeplot(df_processed.units_sold)"
   ]
  },
  {
   "cell_type": "code",
   "execution_count": 30,
   "id": "f2e11038",
   "metadata": {},
   "outputs": [
    {
     "data": {
      "text/plain": [
       "<Figure size 1600x500 with 0 Axes>"
      ]
     },
     "execution_count": 30,
     "metadata": {},
     "output_type": "execute_result"
    },
    {
     "data": {
      "text/plain": [
       "<Axes: >"
      ]
     },
     "execution_count": 30,
     "metadata": {},
     "output_type": "execute_result"
    },
    {
     "data": {
      "text/plain": [
       "<Axes: xlabel='units_sold', ylabel='Density'>"
      ]
     },
     "execution_count": 30,
     "metadata": {},
     "output_type": "execute_result"
    },
    {
     "data": {
      "image/png": "[encoded data removed]",
      "text/plain": [
       "<Figure size 1600x500 with 1 Axes>"
      ]
     },
     "metadata": {},
     "output_type": "display_data"
    }
   ],
   "source": [
    "plt.figure(figsize=(16,5))\n",
    "plt.subplot(1,2,1)\n",
    "sns.distplot(df_processed['units_sold'])\n",
    "plt.show()"
   ]
  },
  {
   "cell_type": "code",
   "execution_count": 31,
   "id": "8fbfd9a5",
   "metadata": {},
   "outputs": [
    {
     "data": {
      "text/plain": [
       "((array([-3.2425826 , -2.980778  , -2.83489743, ...,  2.83489743,\n",
       "          2.980778  ,  3.2425826 ]),\n",
       "  array([ 1,  1,  1, ..., 56, 56, 69], dtype=int64)),\n",
       " (10.276441307515409, 16.617094017094022, 0.9643547742897868))"
      ]
     },
     "execution_count": 31,
     "metadata": {},
     "output_type": "execute_result"
    },
    {
     "data": {
      "image/png": "[encoded data removed]",
      "text/plain": [
       "<Figure size 640x480 with 1 Axes>"
      ]
     },
     "metadata": {},
     "output_type": "display_data"
    }
   ],
   "source": [
    "# Q-Q plot\n",
    "stats.probplot(df_processed.units_sold, plot = pylab)"
   ]
  },
  {
   "cell_type": "code",
   "execution_count": 32,
   "id": "cd236f46",
   "metadata": {},
   "outputs": [
    {
     "data": {
      "text/html": [
       "<div>\n",
       "<style scoped>\n",
       "    .dataframe tbody tr th:only-of-type {\n",
       "        vertical-align: middle;\n",
       "    }\n",
       "\n",
       "    .dataframe tbody tr th {\n",
       "        vertical-align: top;\n",
       "    }\n",
       "\n",
       "    .dataframe thead th {\n",
       "        text-align: right;\n",
       "    }\n",
       "</style>\n",
       "<table border=\"1\" class=\"dataframe\">\n",
       "  <thead>\n",
       "    <tr style=\"text-align: right;\">\n",
       "      <th></th>\n",
       "      <th>record_ID</th>\n",
       "      <th>week</th>\n",
       "      <th>store_id</th>\n",
       "      <th>sku_id</th>\n",
       "      <th>total_price</th>\n",
       "      <th>base_price</th>\n",
       "      <th>is_featured_sku</th>\n",
       "      <th>is_display_sku</th>\n",
       "      <th>units_sold</th>\n",
       "      <th>month</th>\n",
       "      <th>year</th>\n",
       "      <th>day_of_week</th>\n",
       "      <th>day_of_month</th>\n",
       "      <th>discount</th>\n",
       "    </tr>\n",
       "  </thead>\n",
       "  <tbody>\n",
       "  </tbody>\n",
       "</table>\n",
       "</div>"
      ],
      "text/plain": [
       "Empty DataFrame\n",
       "Columns: [record_ID, week, store_id, sku_id, total_price, base_price, is_featured_sku, is_display_sku, units_sold, month, year, day_of_week, day_of_month, discount]\n",
       "Index: []"
      ]
     },
     "execution_count": 32,
     "metadata": {},
     "output_type": "execute_result"
    }
   ],
   "source": [
    "# Tail of the data\n",
    "df_processed.loc[df_processed['store_id']==8091].tail()"
   ]
  },
  {
   "cell_type": "code",
   "execution_count": 33,
   "id": "f1e824e3",
   "metadata": {},
   "outputs": [],
   "source": [
    "# Logarithmic transformation of data\n",
    "df_processed['units_sold'] = np.log(df_processed['units_sold'])"
   ]
  },
  {
   "cell_type": "code",
   "execution_count": 34,
   "id": "54528f77",
   "metadata": {},
   "outputs": [
    {
     "data": {
      "text/html": [
       "<div>\n",
       "<style scoped>\n",
       "    .dataframe tbody tr th:only-of-type {\n",
       "        vertical-align: middle;\n",
       "    }\n",
       "\n",
       "    .dataframe tbody tr th {\n",
       "        vertical-align: top;\n",
       "    }\n",
       "\n",
       "    .dataframe thead th {\n",
       "        text-align: right;\n",
       "    }\n",
       "</style>\n",
       "<table border=\"1\" class=\"dataframe\">\n",
       "  <thead>\n",
       "    <tr style=\"text-align: right;\">\n",
       "      <th></th>\n",
       "      <th>record_ID</th>\n",
       "      <th>week</th>\n",
       "      <th>store_id</th>\n",
       "      <th>sku_id</th>\n",
       "      <th>total_price</th>\n",
       "      <th>base_price</th>\n",
       "      <th>is_featured_sku</th>\n",
       "      <th>is_display_sku</th>\n",
       "      <th>units_sold</th>\n",
       "      <th>month</th>\n",
       "      <th>year</th>\n",
       "      <th>day_of_week</th>\n",
       "      <th>day_of_month</th>\n",
       "      <th>discount</th>\n",
       "    </tr>\n",
       "  </thead>\n",
       "  <tbody>\n",
       "  </tbody>\n",
       "</table>\n",
       "</div>"
      ],
      "text/plain": [
       "Empty DataFrame\n",
       "Columns: [record_ID, week, store_id, sku_id, total_price, base_price, is_featured_sku, is_display_sku, units_sold, month, year, day_of_week, day_of_month, discount]\n",
       "Index: []"
      ]
     },
     "execution_count": 34,
     "metadata": {},
     "output_type": "execute_result"
    }
   ],
   "source": [
    "# Tail of the data\n",
    "df_processed.loc[df_processed['store_id']==8091].tail()"
   ]
  },
  {
   "cell_type": "code",
   "execution_count": 35,
   "id": "bfc22b33",
   "metadata": {},
   "outputs": [
    {
     "data": {
      "text/plain": [
       "-0.8800344281447016"
      ]
     },
     "execution_count": 35,
     "metadata": {},
     "output_type": "execute_result"
    }
   ],
   "source": [
    "df_processed['units_sold'].skew()"
   ]
  },
  {
   "cell_type": "code",
   "execution_count": 36,
   "id": "840af018",
   "metadata": {},
   "outputs": [
    {
     "data": {
      "text/plain": [
       "<Figure size 1600x500 with 0 Axes>"
      ]
     },
     "execution_count": 36,
     "metadata": {},
     "output_type": "execute_result"
    },
    {
     "data": {
      "text/plain": [
       "<Axes: >"
      ]
     },
     "execution_count": 36,
     "metadata": {},
     "output_type": "execute_result"
    },
    {
     "data": {
      "text/plain": [
       "<Axes: xlabel='units_sold', ylabel='Density'>"
      ]
     },
     "execution_count": 36,
     "metadata": {},
     "output_type": "execute_result"
    },
    {
     "data": {
      "text/plain": [
       "<Axes: >"
      ]
     },
     "execution_count": 36,
     "metadata": {},
     "output_type": "execute_result"
    },
    {
     "data": {
      "text/plain": [
       "((array([-3.2425826 , -2.980778  , -2.83489743, ...,  2.83489743,\n",
       "          2.980778  ,  3.2425826 ]),\n",
       "  array([0.        , 0.        , 0.        , ..., 4.02535169, 4.02535169,\n",
       "         4.2341065 ])),\n",
       " (0.7381232510231243, 2.57523919303435, 0.9763964616170686))"
      ]
     },
     "execution_count": 36,
     "metadata": {},
     "output_type": "execute_result"
    },
    {
     "data": {
      "image/png": "[encoded data removed]",
      "text/plain": [
       "<Figure size 1600x500 with 2 Axes>"
      ]
     },
     "metadata": {},
     "output_type": "display_data"
    }
   ],
   "source": [
    "plt.figure(figsize=(16,5))\n",
    "plt.subplot(1,2,1)\n",
    "sns.distplot(df_processed['units_sold'])\n",
    "plt.subplot(1,2,2)\n",
    "stats.probplot(df_processed['units_sold'], plot = pylab)\n",
    "plt.show()"
   ]
  },
  {
   "cell_type": "code",
   "execution_count": 37,
   "id": "3088f233",
   "metadata": {},
   "outputs": [
    {
     "data": {
      "text/plain": [
       "4.838615789998068"
      ]
     },
     "execution_count": 37,
     "metadata": {},
     "output_type": "execute_result"
    },
    {
     "data": {
      "text/plain": [
       "0.31186259607063205"
      ]
     },
     "execution_count": 37,
     "metadata": {},
     "output_type": "execute_result"
    }
   ],
   "source": [
    "# Finding the boundary values\n",
    "UL = df_processed['units_sold'].mean() + 3*df_processed['units_sold'].std()\n",
    "LL = df_processed['units_sold'].mean() - 3*df_processed['units_sold'].std()\n",
    "UL\n",
    "LL"
   ]
  },
  {
   "cell_type": "code",
   "execution_count": 38,
   "id": "7a6aefa3",
   "metadata": {},
   "outputs": [
    {
     "data": {
      "text/plain": [
       "(1170, 14)"
      ]
     },
     "execution_count": 38,
     "metadata": {},
     "output_type": "execute_result"
    }
   ],
   "source": [
    "df_processed.shape"
   ]
  },
  {
   "cell_type": "code",
   "execution_count": 39,
   "id": "ce0ac8f0",
   "metadata": {},
   "outputs": [
    {
     "data": {
      "text/plain": [
       "22"
      ]
     },
     "execution_count": 39,
     "metadata": {},
     "output_type": "execute_result"
    }
   ],
   "source": [
    "df_processed['units_sold'].loc[df_processed['units_sold']<LL].count()"
   ]
  },
  {
   "cell_type": "code",
   "execution_count": 40,
   "id": "677cf9d9",
   "metadata": {},
   "outputs": [
    {
     "data": {
      "text/plain": [
       "0"
      ]
     },
     "execution_count": 40,
     "metadata": {},
     "output_type": "execute_result"
    }
   ],
   "source": [
    "df_processed['units_sold'].loc[df_processed['units_sold']>UL].count()"
   ]
  },
  {
   "cell_type": "code",
   "execution_count": 41,
   "id": "01e52893",
   "metadata": {},
   "outputs": [],
   "source": [
    "# Removing outliers\n",
    "condition1 = df_processed['units_sold']>UL\n",
    "condition2 = df_processed['units_sold']<LL\n",
    "df_processed = df_processed[~(condition1 & condition2)]"
   ]
  },
  {
   "cell_type": "code",
   "execution_count": 42,
   "id": "0f418d48",
   "metadata": {},
   "outputs": [],
   "source": [
    "# Calculate the number of rows for testing\n",
    "test_size = int(len(df_processed)*0.2)\n",
    "end_point = len(df_processed)\n",
    "x = end_point - test_size"
   ]
  },
  {
   "cell_type": "code",
   "execution_count": 43,
   "id": "b5b2f51d",
   "metadata": {},
   "outputs": [
    {
     "data": {
      "text/plain": [
       "(1170, 14)"
      ]
     },
     "execution_count": 43,
     "metadata": {},
     "output_type": "execute_result"
    },
    {
     "data": {
      "text/plain": [
       "234"
      ]
     },
     "execution_count": 43,
     "metadata": {},
     "output_type": "execute_result"
    },
    {
     "data": {
      "text/plain": [
       "1170"
      ]
     },
     "execution_count": 43,
     "metadata": {},
     "output_type": "execute_result"
    },
    {
     "data": {
      "text/plain": [
       "936"
      ]
     },
     "execution_count": 43,
     "metadata": {},
     "output_type": "execute_result"
    }
   ],
   "source": [
    "df_processed.shape\n",
    "test_size\n",
    "end_point\n",
    "x"
   ]
  },
  {
   "cell_type": "code",
   "execution_count": 44,
   "id": "3d48f48f",
   "metadata": {},
   "outputs": [],
   "source": [
    "# Split into train and test\n",
    "df_processed_train = df_processed.iloc[:x - 1]\n",
    "df_processed_test = df_processed.iloc[x:]"
   ]
  },
  {
   "cell_type": "code",
   "execution_count": 45,
   "id": "82ad4a53",
   "metadata": {},
   "outputs": [
    {
     "data": {
      "text/plain": [
       "(935, 14)"
      ]
     },
     "execution_count": 45,
     "metadata": {},
     "output_type": "execute_result"
    },
    {
     "data": {
      "text/plain": [
       "(234, 14)"
      ]
     },
     "execution_count": 45,
     "metadata": {},
     "output_type": "execute_result"
    }
   ],
   "source": [
    "# Check shape of test and train\n",
    "df_processed_train.shape\n",
    "df_processed_test.shape"
   ]
  },
  {
   "cell_type": "code",
   "execution_count": 46,
   "id": "24c2b50a",
   "metadata": {},
   "outputs": [
    {
     "data": {
      "text/html": [
       "<div>\n",
       "<style scoped>\n",
       "    .dataframe tbody tr th:only-of-type {\n",
       "        vertical-align: middle;\n",
       "    }\n",
       "\n",
       "    .dataframe tbody tr th {\n",
       "        vertical-align: top;\n",
       "    }\n",
       "\n",
       "    .dataframe thead th {\n",
       "        text-align: right;\n",
       "    }\n",
       "</style>\n",
       "<table border=\"1\" class=\"dataframe\">\n",
       "  <thead>\n",
       "    <tr style=\"text-align: right;\">\n",
       "      <th></th>\n",
       "      <th>record_ID</th>\n",
       "      <th>week</th>\n",
       "      <th>store_id</th>\n",
       "      <th>sku_id</th>\n",
       "      <th>total_price</th>\n",
       "      <th>base_price</th>\n",
       "      <th>is_featured_sku</th>\n",
       "      <th>is_display_sku</th>\n",
       "      <th>units_sold</th>\n",
       "      <th>month</th>\n",
       "      <th>year</th>\n",
       "      <th>day_of_week</th>\n",
       "      <th>day_of_month</th>\n",
       "      <th>discount</th>\n",
       "    </tr>\n",
       "  </thead>\n",
       "  <tbody>\n",
       "    <tr>\n",
       "      <th>150149</th>\n",
       "      <td>212644</td>\n",
       "      <td>2013-07-09</td>\n",
       "      <td>9984</td>\n",
       "      <td>679023</td>\n",
       "      <td>234.4125</td>\n",
       "      <td>234.4125</td>\n",
       "      <td>0</td>\n",
       "      <td>0</td>\n",
       "      <td>2.708050</td>\n",
       "      <td>7</td>\n",
       "      <td>2013</td>\n",
       "      <td>1</td>\n",
       "      <td>9</td>\n",
       "      <td>0.0</td>\n",
       "    </tr>\n",
       "    <tr>\n",
       "      <th>149373</th>\n",
       "      <td>211528</td>\n",
       "      <td>2013-07-09</td>\n",
       "      <td>9092</td>\n",
       "      <td>679023</td>\n",
       "      <td>234.4125</td>\n",
       "      <td>234.4125</td>\n",
       "      <td>0</td>\n",
       "      <td>0</td>\n",
       "      <td>1.386294</td>\n",
       "      <td>7</td>\n",
       "      <td>2013</td>\n",
       "      <td>1</td>\n",
       "      <td>9</td>\n",
       "      <td>0.0</td>\n",
       "    </tr>\n",
       "    <tr>\n",
       "      <th>149300</th>\n",
       "      <td>211431</td>\n",
       "      <td>2013-07-09</td>\n",
       "      <td>8869</td>\n",
       "      <td>679023</td>\n",
       "      <td>234.4125</td>\n",
       "      <td>234.4125</td>\n",
       "      <td>0</td>\n",
       "      <td>0</td>\n",
       "      <td>2.708050</td>\n",
       "      <td>7</td>\n",
       "      <td>2013</td>\n",
       "      <td>1</td>\n",
       "      <td>9</td>\n",
       "      <td>0.0</td>\n",
       "    </tr>\n",
       "    <tr>\n",
       "      <th>149542</th>\n",
       "      <td>211772</td>\n",
       "      <td>2013-07-09</td>\n",
       "      <td>9281</td>\n",
       "      <td>679023</td>\n",
       "      <td>234.4125</td>\n",
       "      <td>234.4125</td>\n",
       "      <td>0</td>\n",
       "      <td>1</td>\n",
       "      <td>0.000000</td>\n",
       "      <td>7</td>\n",
       "      <td>2013</td>\n",
       "      <td>1</td>\n",
       "      <td>9</td>\n",
       "      <td>0.0</td>\n",
       "    </tr>\n",
       "    <tr>\n",
       "      <th>149063</th>\n",
       "      <td>211093</td>\n",
       "      <td>2013-07-09</td>\n",
       "      <td>8063</td>\n",
       "      <td>679023</td>\n",
       "      <td>234.4125</td>\n",
       "      <td>234.4125</td>\n",
       "      <td>0</td>\n",
       "      <td>0</td>\n",
       "      <td>0.693147</td>\n",
       "      <td>7</td>\n",
       "      <td>2013</td>\n",
       "      <td>1</td>\n",
       "      <td>9</td>\n",
       "      <td>0.0</td>\n",
       "    </tr>\n",
       "  </tbody>\n",
       "</table>\n",
       "</div>"
      ],
      "text/plain": [
       "        record_ID       week  store_id  sku_id  total_price  base_price  \\\n",
       "150149     212644 2013-07-09      9984  679023     234.4125    234.4125   \n",
       "149373     211528 2013-07-09      9092  679023     234.4125    234.4125   \n",
       "149300     211431 2013-07-09      8869  679023     234.4125    234.4125   \n",
       "149542     211772 2013-07-09      9281  679023     234.4125    234.4125   \n",
       "149063     211093 2013-07-09      8063  679023     234.4125    234.4125   \n",
       "\n",
       "        is_featured_sku  is_display_sku  units_sold  month  year  day_of_week  \\\n",
       "150149                0               0    2.708050      7  2013            1   \n",
       "149373                0               0    1.386294      7  2013            1   \n",
       "149300                0               0    2.708050      7  2013            1   \n",
       "149542                0               1    0.000000      7  2013            1   \n",
       "149063                0               0    0.693147      7  2013            1   \n",
       "\n",
       "        day_of_month  discount  \n",
       "150149             9       0.0  \n",
       "149373             9       0.0  \n",
       "149300             9       0.0  \n",
       "149542             9       0.0  \n",
       "149063             9       0.0  "
      ]
     },
     "execution_count": 46,
     "metadata": {},
     "output_type": "execute_result"
    },
    {
     "data": {
      "text/html": [
       "<div>\n",
       "<style scoped>\n",
       "    .dataframe tbody tr th:only-of-type {\n",
       "        vertical-align: middle;\n",
       "    }\n",
       "\n",
       "    .dataframe tbody tr th {\n",
       "        vertical-align: top;\n",
       "    }\n",
       "\n",
       "    .dataframe thead th {\n",
       "        text-align: right;\n",
       "    }\n",
       "</style>\n",
       "<table border=\"1\" class=\"dataframe\">\n",
       "  <thead>\n",
       "    <tr style=\"text-align: right;\">\n",
       "      <th></th>\n",
       "      <th>record_ID</th>\n",
       "      <th>week</th>\n",
       "      <th>store_id</th>\n",
       "      <th>sku_id</th>\n",
       "      <th>total_price</th>\n",
       "      <th>base_price</th>\n",
       "      <th>is_featured_sku</th>\n",
       "      <th>is_display_sku</th>\n",
       "      <th>units_sold</th>\n",
       "      <th>month</th>\n",
       "      <th>year</th>\n",
       "      <th>day_of_week</th>\n",
       "      <th>day_of_month</th>\n",
       "      <th>discount</th>\n",
       "    </tr>\n",
       "  </thead>\n",
       "  <tbody>\n",
       "    <tr>\n",
       "      <th>29253</th>\n",
       "      <td>41403</td>\n",
       "      <td>2011-07-11</td>\n",
       "      <td>9092</td>\n",
       "      <td>679023</td>\n",
       "      <td>213.0375</td>\n",
       "      <td>213.0375</td>\n",
       "      <td>0</td>\n",
       "      <td>0</td>\n",
       "      <td>1.945910</td>\n",
       "      <td>7</td>\n",
       "      <td>2011</td>\n",
       "      <td>0</td>\n",
       "      <td>11</td>\n",
       "      <td>0.0000</td>\n",
       "    </tr>\n",
       "    <tr>\n",
       "      <th>29180</th>\n",
       "      <td>41306</td>\n",
       "      <td>2011-07-11</td>\n",
       "      <td>8869</td>\n",
       "      <td>679023</td>\n",
       "      <td>212.3250</td>\n",
       "      <td>213.0375</td>\n",
       "      <td>0</td>\n",
       "      <td>1</td>\n",
       "      <td>3.583519</td>\n",
       "      <td>7</td>\n",
       "      <td>2011</td>\n",
       "      <td>0</td>\n",
       "      <td>11</td>\n",
       "      <td>0.7125</td>\n",
       "    </tr>\n",
       "    <tr>\n",
       "      <th>29422</th>\n",
       "      <td>41647</td>\n",
       "      <td>2011-07-11</td>\n",
       "      <td>9281</td>\n",
       "      <td>679023</td>\n",
       "      <td>213.0375</td>\n",
       "      <td>198.0750</td>\n",
       "      <td>0</td>\n",
       "      <td>1</td>\n",
       "      <td>2.079442</td>\n",
       "      <td>7</td>\n",
       "      <td>2011</td>\n",
       "      <td>0</td>\n",
       "      <td>11</td>\n",
       "      <td>-14.9625</td>\n",
       "    </tr>\n",
       "    <tr>\n",
       "      <th>28943</th>\n",
       "      <td>40969</td>\n",
       "      <td>2011-07-11</td>\n",
       "      <td>8063</td>\n",
       "      <td>679023</td>\n",
       "      <td>213.0375</td>\n",
       "      <td>213.0375</td>\n",
       "      <td>0</td>\n",
       "      <td>0</td>\n",
       "      <td>0.000000</td>\n",
       "      <td>7</td>\n",
       "      <td>2011</td>\n",
       "      <td>0</td>\n",
       "      <td>11</td>\n",
       "      <td>0.0000</td>\n",
       "    </tr>\n",
       "    <tr>\n",
       "      <th>28924</th>\n",
       "      <td>40944</td>\n",
       "      <td>2011-07-11</td>\n",
       "      <td>8094</td>\n",
       "      <td>679023</td>\n",
       "      <td>213.0375</td>\n",
       "      <td>213.0375</td>\n",
       "      <td>0</td>\n",
       "      <td>0</td>\n",
       "      <td>1.609438</td>\n",
       "      <td>7</td>\n",
       "      <td>2011</td>\n",
       "      <td>0</td>\n",
       "      <td>11</td>\n",
       "      <td>0.0000</td>\n",
       "    </tr>\n",
       "  </tbody>\n",
       "</table>\n",
       "</div>"
      ],
      "text/plain": [
       "       record_ID       week  store_id  sku_id  total_price  base_price  \\\n",
       "29253      41403 2011-07-11      9092  679023     213.0375    213.0375   \n",
       "29180      41306 2011-07-11      8869  679023     212.3250    213.0375   \n",
       "29422      41647 2011-07-11      9281  679023     213.0375    198.0750   \n",
       "28943      40969 2011-07-11      8063  679023     213.0375    213.0375   \n",
       "28924      40944 2011-07-11      8094  679023     213.0375    213.0375   \n",
       "\n",
       "       is_featured_sku  is_display_sku  units_sold  month  year  day_of_week  \\\n",
       "29253                0               0    1.945910      7  2011            0   \n",
       "29180                0               1    3.583519      7  2011            0   \n",
       "29422                0               1    2.079442      7  2011            0   \n",
       "28943                0               0    0.000000      7  2011            0   \n",
       "28924                0               0    1.609438      7  2011            0   \n",
       "\n",
       "       day_of_month  discount  \n",
       "29253            11    0.0000  \n",
       "29180            11    0.7125  \n",
       "29422            11  -14.9625  \n",
       "28943            11    0.0000  \n",
       "28924            11    0.0000  "
      ]
     },
     "execution_count": 46,
     "metadata": {},
     "output_type": "execute_result"
    }
   ],
   "source": [
    "# Processed data\n",
    "df_processed_train.head()\n",
    "df_processed_test.head()"
   ]
  },
  {
   "cell_type": "code",
   "execution_count": 47,
   "id": "0b80f28a",
   "metadata": {},
   "outputs": [],
   "source": [
    "X_test = df_processed_test.loc[:, df_processed_test.columns != 'units_sold']\n",
    "y_test = df_processed_test[['units_sold']]\n",
    "X_train = df_processed_train.loc[:, df_processed_train.columns != 'units_sold']\n",
    "y_train = df_processed_train[['units_sold']]"
   ]
  },
  {
   "cell_type": "code",
   "execution_count": 48,
   "id": "d0ecc69f",
   "metadata": {},
   "outputs": [
    {
     "data": {
      "text/html": [
       "<div>\n",
       "<style scoped>\n",
       "    .dataframe tbody tr th:only-of-type {\n",
       "        vertical-align: middle;\n",
       "    }\n",
       "\n",
       "    .dataframe tbody tr th {\n",
       "        vertical-align: top;\n",
       "    }\n",
       "\n",
       "    .dataframe thead th {\n",
       "        text-align: right;\n",
       "    }\n",
       "</style>\n",
       "<table border=\"1\" class=\"dataframe\">\n",
       "  <thead>\n",
       "    <tr style=\"text-align: right;\">\n",
       "      <th></th>\n",
       "      <th>record_ID</th>\n",
       "      <th>week</th>\n",
       "      <th>store_id</th>\n",
       "      <th>sku_id</th>\n",
       "      <th>total_price</th>\n",
       "      <th>base_price</th>\n",
       "      <th>is_featured_sku</th>\n",
       "      <th>is_display_sku</th>\n",
       "      <th>month</th>\n",
       "      <th>year</th>\n",
       "      <th>day_of_week</th>\n",
       "      <th>day_of_month</th>\n",
       "      <th>discount</th>\n",
       "    </tr>\n",
       "  </thead>\n",
       "  <tbody>\n",
       "    <tr>\n",
       "      <th>29253</th>\n",
       "      <td>41403</td>\n",
       "      <td>2011-07-11</td>\n",
       "      <td>9092</td>\n",
       "      <td>679023</td>\n",
       "      <td>213.0375</td>\n",
       "      <td>213.0375</td>\n",
       "      <td>0</td>\n",
       "      <td>0</td>\n",
       "      <td>7</td>\n",
       "      <td>2011</td>\n",
       "      <td>0</td>\n",
       "      <td>11</td>\n",
       "      <td>0.0000</td>\n",
       "    </tr>\n",
       "    <tr>\n",
       "      <th>29180</th>\n",
       "      <td>41306</td>\n",
       "      <td>2011-07-11</td>\n",
       "      <td>8869</td>\n",
       "      <td>679023</td>\n",
       "      <td>212.3250</td>\n",
       "      <td>213.0375</td>\n",
       "      <td>0</td>\n",
       "      <td>1</td>\n",
       "      <td>7</td>\n",
       "      <td>2011</td>\n",
       "      <td>0</td>\n",
       "      <td>11</td>\n",
       "      <td>0.7125</td>\n",
       "    </tr>\n",
       "    <tr>\n",
       "      <th>29422</th>\n",
       "      <td>41647</td>\n",
       "      <td>2011-07-11</td>\n",
       "      <td>9281</td>\n",
       "      <td>679023</td>\n",
       "      <td>213.0375</td>\n",
       "      <td>198.0750</td>\n",
       "      <td>0</td>\n",
       "      <td>1</td>\n",
       "      <td>7</td>\n",
       "      <td>2011</td>\n",
       "      <td>0</td>\n",
       "      <td>11</td>\n",
       "      <td>-14.9625</td>\n",
       "    </tr>\n",
       "    <tr>\n",
       "      <th>28943</th>\n",
       "      <td>40969</td>\n",
       "      <td>2011-07-11</td>\n",
       "      <td>8063</td>\n",
       "      <td>679023</td>\n",
       "      <td>213.0375</td>\n",
       "      <td>213.0375</td>\n",
       "      <td>0</td>\n",
       "      <td>0</td>\n",
       "      <td>7</td>\n",
       "      <td>2011</td>\n",
       "      <td>0</td>\n",
       "      <td>11</td>\n",
       "      <td>0.0000</td>\n",
       "    </tr>\n",
       "    <tr>\n",
       "      <th>28924</th>\n",
       "      <td>40944</td>\n",
       "      <td>2011-07-11</td>\n",
       "      <td>8094</td>\n",
       "      <td>679023</td>\n",
       "      <td>213.0375</td>\n",
       "      <td>213.0375</td>\n",
       "      <td>0</td>\n",
       "      <td>0</td>\n",
       "      <td>7</td>\n",
       "      <td>2011</td>\n",
       "      <td>0</td>\n",
       "      <td>11</td>\n",
       "      <td>0.0000</td>\n",
       "    </tr>\n",
       "  </tbody>\n",
       "</table>\n",
       "</div>"
      ],
      "text/plain": [
       "       record_ID       week  store_id  sku_id  total_price  base_price  \\\n",
       "29253      41403 2011-07-11      9092  679023     213.0375    213.0375   \n",
       "29180      41306 2011-07-11      8869  679023     212.3250    213.0375   \n",
       "29422      41647 2011-07-11      9281  679023     213.0375    198.0750   \n",
       "28943      40969 2011-07-11      8063  679023     213.0375    213.0375   \n",
       "28924      40944 2011-07-11      8094  679023     213.0375    213.0375   \n",
       "\n",
       "       is_featured_sku  is_display_sku  month  year  day_of_week  \\\n",
       "29253                0               0      7  2011            0   \n",
       "29180                0               1      7  2011            0   \n",
       "29422                0               1      7  2011            0   \n",
       "28943                0               0      7  2011            0   \n",
       "28924                0               0      7  2011            0   \n",
       "\n",
       "       day_of_month  discount  \n",
       "29253            11    0.0000  \n",
       "29180            11    0.7125  \n",
       "29422            11  -14.9625  \n",
       "28943            11    0.0000  \n",
       "28924            11    0.0000  "
      ]
     },
     "execution_count": 48,
     "metadata": {},
     "output_type": "execute_result"
    },
    {
     "data": {
      "text/html": [
       "<div>\n",
       "<style scoped>\n",
       "    .dataframe tbody tr th:only-of-type {\n",
       "        vertical-align: middle;\n",
       "    }\n",
       "\n",
       "    .dataframe tbody tr th {\n",
       "        vertical-align: top;\n",
       "    }\n",
       "\n",
       "    .dataframe thead th {\n",
       "        text-align: right;\n",
       "    }\n",
       "</style>\n",
       "<table border=\"1\" class=\"dataframe\">\n",
       "  <thead>\n",
       "    <tr style=\"text-align: right;\">\n",
       "      <th></th>\n",
       "      <th>units_sold</th>\n",
       "    </tr>\n",
       "  </thead>\n",
       "  <tbody>\n",
       "    <tr>\n",
       "      <th>29253</th>\n",
       "      <td>1.945910</td>\n",
       "    </tr>\n",
       "    <tr>\n",
       "      <th>29180</th>\n",
       "      <td>3.583519</td>\n",
       "    </tr>\n",
       "    <tr>\n",
       "      <th>29422</th>\n",
       "      <td>2.079442</td>\n",
       "    </tr>\n",
       "    <tr>\n",
       "      <th>28943</th>\n",
       "      <td>0.000000</td>\n",
       "    </tr>\n",
       "    <tr>\n",
       "      <th>28924</th>\n",
       "      <td>1.609438</td>\n",
       "    </tr>\n",
       "  </tbody>\n",
       "</table>\n",
       "</div>"
      ],
      "text/plain": [
       "       units_sold\n",
       "29253    1.945910\n",
       "29180    3.583519\n",
       "29422    2.079442\n",
       "28943    0.000000\n",
       "28924    1.609438"
      ]
     },
     "execution_count": 48,
     "metadata": {},
     "output_type": "execute_result"
    },
    {
     "data": {
      "text/html": [
       "<div>\n",
       "<style scoped>\n",
       "    .dataframe tbody tr th:only-of-type {\n",
       "        vertical-align: middle;\n",
       "    }\n",
       "\n",
       "    .dataframe tbody tr th {\n",
       "        vertical-align: top;\n",
       "    }\n",
       "\n",
       "    .dataframe thead th {\n",
       "        text-align: right;\n",
       "    }\n",
       "</style>\n",
       "<table border=\"1\" class=\"dataframe\">\n",
       "  <thead>\n",
       "    <tr style=\"text-align: right;\">\n",
       "      <th></th>\n",
       "      <th>record_ID</th>\n",
       "      <th>week</th>\n",
       "      <th>store_id</th>\n",
       "      <th>sku_id</th>\n",
       "      <th>total_price</th>\n",
       "      <th>base_price</th>\n",
       "      <th>is_featured_sku</th>\n",
       "      <th>is_display_sku</th>\n",
       "      <th>month</th>\n",
       "      <th>year</th>\n",
       "      <th>day_of_week</th>\n",
       "      <th>day_of_month</th>\n",
       "      <th>discount</th>\n",
       "    </tr>\n",
       "  </thead>\n",
       "  <tbody>\n",
       "    <tr>\n",
       "      <th>150149</th>\n",
       "      <td>212644</td>\n",
       "      <td>2013-07-09</td>\n",
       "      <td>9984</td>\n",
       "      <td>679023</td>\n",
       "      <td>234.4125</td>\n",
       "      <td>234.4125</td>\n",
       "      <td>0</td>\n",
       "      <td>0</td>\n",
       "      <td>7</td>\n",
       "      <td>2013</td>\n",
       "      <td>1</td>\n",
       "      <td>9</td>\n",
       "      <td>0.0</td>\n",
       "    </tr>\n",
       "    <tr>\n",
       "      <th>149373</th>\n",
       "      <td>211528</td>\n",
       "      <td>2013-07-09</td>\n",
       "      <td>9092</td>\n",
       "      <td>679023</td>\n",
       "      <td>234.4125</td>\n",
       "      <td>234.4125</td>\n",
       "      <td>0</td>\n",
       "      <td>0</td>\n",
       "      <td>7</td>\n",
       "      <td>2013</td>\n",
       "      <td>1</td>\n",
       "      <td>9</td>\n",
       "      <td>0.0</td>\n",
       "    </tr>\n",
       "    <tr>\n",
       "      <th>149300</th>\n",
       "      <td>211431</td>\n",
       "      <td>2013-07-09</td>\n",
       "      <td>8869</td>\n",
       "      <td>679023</td>\n",
       "      <td>234.4125</td>\n",
       "      <td>234.4125</td>\n",
       "      <td>0</td>\n",
       "      <td>0</td>\n",
       "      <td>7</td>\n",
       "      <td>2013</td>\n",
       "      <td>1</td>\n",
       "      <td>9</td>\n",
       "      <td>0.0</td>\n",
       "    </tr>\n",
       "    <tr>\n",
       "      <th>149542</th>\n",
       "      <td>211772</td>\n",
       "      <td>2013-07-09</td>\n",
       "      <td>9281</td>\n",
       "      <td>679023</td>\n",
       "      <td>234.4125</td>\n",
       "      <td>234.4125</td>\n",
       "      <td>0</td>\n",
       "      <td>1</td>\n",
       "      <td>7</td>\n",
       "      <td>2013</td>\n",
       "      <td>1</td>\n",
       "      <td>9</td>\n",
       "      <td>0.0</td>\n",
       "    </tr>\n",
       "    <tr>\n",
       "      <th>149063</th>\n",
       "      <td>211093</td>\n",
       "      <td>2013-07-09</td>\n",
       "      <td>8063</td>\n",
       "      <td>679023</td>\n",
       "      <td>234.4125</td>\n",
       "      <td>234.4125</td>\n",
       "      <td>0</td>\n",
       "      <td>0</td>\n",
       "      <td>7</td>\n",
       "      <td>2013</td>\n",
       "      <td>1</td>\n",
       "      <td>9</td>\n",
       "      <td>0.0</td>\n",
       "    </tr>\n",
       "  </tbody>\n",
       "</table>\n",
       "</div>"
      ],
      "text/plain": [
       "        record_ID       week  store_id  sku_id  total_price  base_price  \\\n",
       "150149     212644 2013-07-09      9984  679023     234.4125    234.4125   \n",
       "149373     211528 2013-07-09      9092  679023     234.4125    234.4125   \n",
       "149300     211431 2013-07-09      8869  679023     234.4125    234.4125   \n",
       "149542     211772 2013-07-09      9281  679023     234.4125    234.4125   \n",
       "149063     211093 2013-07-09      8063  679023     234.4125    234.4125   \n",
       "\n",
       "        is_featured_sku  is_display_sku  month  year  day_of_week  \\\n",
       "150149                0               0      7  2013            1   \n",
       "149373                0               0      7  2013            1   \n",
       "149300                0               0      7  2013            1   \n",
       "149542                0               1      7  2013            1   \n",
       "149063                0               0      7  2013            1   \n",
       "\n",
       "        day_of_month  discount  \n",
       "150149             9       0.0  \n",
       "149373             9       0.0  \n",
       "149300             9       0.0  \n",
       "149542             9       0.0  \n",
       "149063             9       0.0  "
      ]
     },
     "execution_count": 48,
     "metadata": {},
     "output_type": "execute_result"
    },
    {
     "data": {
      "text/html": [
       "<div>\n",
       "<style scoped>\n",
       "    .dataframe tbody tr th:only-of-type {\n",
       "        vertical-align: middle;\n",
       "    }\n",
       "\n",
       "    .dataframe tbody tr th {\n",
       "        vertical-align: top;\n",
       "    }\n",
       "\n",
       "    .dataframe thead th {\n",
       "        text-align: right;\n",
       "    }\n",
       "</style>\n",
       "<table border=\"1\" class=\"dataframe\">\n",
       "  <thead>\n",
       "    <tr style=\"text-align: right;\">\n",
       "      <th></th>\n",
       "      <th>units_sold</th>\n",
       "    </tr>\n",
       "  </thead>\n",
       "  <tbody>\n",
       "    <tr>\n",
       "      <th>150149</th>\n",
       "      <td>2.708050</td>\n",
       "    </tr>\n",
       "    <tr>\n",
       "      <th>149373</th>\n",
       "      <td>1.386294</td>\n",
       "    </tr>\n",
       "    <tr>\n",
       "      <th>149300</th>\n",
       "      <td>2.708050</td>\n",
       "    </tr>\n",
       "    <tr>\n",
       "      <th>149542</th>\n",
       "      <td>0.000000</td>\n",
       "    </tr>\n",
       "    <tr>\n",
       "      <th>149063</th>\n",
       "      <td>0.693147</td>\n",
       "    </tr>\n",
       "  </tbody>\n",
       "</table>\n",
       "</div>"
      ],
      "text/plain": [
       "        units_sold\n",
       "150149    2.708050\n",
       "149373    1.386294\n",
       "149300    2.708050\n",
       "149542    0.000000\n",
       "149063    0.693147"
      ]
     },
     "execution_count": 48,
     "metadata": {},
     "output_type": "execute_result"
    }
   ],
   "source": [
    "X_test.head()\n",
    "y_test.head()\n",
    "X_train.head()\n",
    "y_train.head()"
   ]
  },
  {
   "cell_type": "code",
   "execution_count": 49,
   "id": "44762b87",
   "metadata": {},
   "outputs": [],
   "source": [
    "X_test.reset_index(drop=True, inplace=True)\n",
    "y_test.reset_index(drop=True, inplace=True)\n",
    "X_train.reset_index(drop=True, inplace=True)\n",
    "y_train.reset_index(drop=True, inplace=True)"
   ]
  },
  {
   "cell_type": "code",
   "execution_count": 50,
   "id": "5d100330",
   "metadata": {},
   "outputs": [],
   "source": [
    "X_test_sarimax = X_test\n",
    "y_test_sarimax = y_test\n",
    "X_train_sarimax = X_train\n",
    "y_train_sarimax = y_train"
   ]
  },
  {
   "cell_type": "code",
   "execution_count": 51,
   "id": "b517472f",
   "metadata": {},
   "outputs": [
    {
     "data": {
      "text/html": [
       "<div>\n",
       "<style scoped>\n",
       "    .dataframe tbody tr th:only-of-type {\n",
       "        vertical-align: middle;\n",
       "    }\n",
       "\n",
       "    .dataframe tbody tr th {\n",
       "        vertical-align: top;\n",
       "    }\n",
       "\n",
       "    .dataframe thead th {\n",
       "        text-align: right;\n",
       "    }\n",
       "</style>\n",
       "<table border=\"1\" class=\"dataframe\">\n",
       "  <thead>\n",
       "    <tr style=\"text-align: right;\">\n",
       "      <th></th>\n",
       "      <th>record_ID</th>\n",
       "      <th>week</th>\n",
       "      <th>store_id</th>\n",
       "      <th>sku_id</th>\n",
       "      <th>total_price</th>\n",
       "      <th>base_price</th>\n",
       "      <th>is_featured_sku</th>\n",
       "      <th>is_display_sku</th>\n",
       "      <th>month</th>\n",
       "      <th>year</th>\n",
       "      <th>day_of_week</th>\n",
       "      <th>day_of_month</th>\n",
       "      <th>discount</th>\n",
       "    </tr>\n",
       "  </thead>\n",
       "  <tbody>\n",
       "    <tr>\n",
       "      <th>0</th>\n",
       "      <td>41403</td>\n",
       "      <td>2011-07-11</td>\n",
       "      <td>9092</td>\n",
       "      <td>679023</td>\n",
       "      <td>213.0375</td>\n",
       "      <td>213.0375</td>\n",
       "      <td>0</td>\n",
       "      <td>0</td>\n",
       "      <td>7</td>\n",
       "      <td>2011</td>\n",
       "      <td>0</td>\n",
       "      <td>11</td>\n",
       "      <td>0.0000</td>\n",
       "    </tr>\n",
       "    <tr>\n",
       "      <th>1</th>\n",
       "      <td>41306</td>\n",
       "      <td>2011-07-11</td>\n",
       "      <td>8869</td>\n",
       "      <td>679023</td>\n",
       "      <td>212.3250</td>\n",
       "      <td>213.0375</td>\n",
       "      <td>0</td>\n",
       "      <td>1</td>\n",
       "      <td>7</td>\n",
       "      <td>2011</td>\n",
       "      <td>0</td>\n",
       "      <td>11</td>\n",
       "      <td>0.7125</td>\n",
       "    </tr>\n",
       "    <tr>\n",
       "      <th>2</th>\n",
       "      <td>41647</td>\n",
       "      <td>2011-07-11</td>\n",
       "      <td>9281</td>\n",
       "      <td>679023</td>\n",
       "      <td>213.0375</td>\n",
       "      <td>198.0750</td>\n",
       "      <td>0</td>\n",
       "      <td>1</td>\n",
       "      <td>7</td>\n",
       "      <td>2011</td>\n",
       "      <td>0</td>\n",
       "      <td>11</td>\n",
       "      <td>-14.9625</td>\n",
       "    </tr>\n",
       "    <tr>\n",
       "      <th>3</th>\n",
       "      <td>40969</td>\n",
       "      <td>2011-07-11</td>\n",
       "      <td>8063</td>\n",
       "      <td>679023</td>\n",
       "      <td>213.0375</td>\n",
       "      <td>213.0375</td>\n",
       "      <td>0</td>\n",
       "      <td>0</td>\n",
       "      <td>7</td>\n",
       "      <td>2011</td>\n",
       "      <td>0</td>\n",
       "      <td>11</td>\n",
       "      <td>0.0000</td>\n",
       "    </tr>\n",
       "    <tr>\n",
       "      <th>4</th>\n",
       "      <td>40944</td>\n",
       "      <td>2011-07-11</td>\n",
       "      <td>8094</td>\n",
       "      <td>679023</td>\n",
       "      <td>213.0375</td>\n",
       "      <td>213.0375</td>\n",
       "      <td>0</td>\n",
       "      <td>0</td>\n",
       "      <td>7</td>\n",
       "      <td>2011</td>\n",
       "      <td>0</td>\n",
       "      <td>11</td>\n",
       "      <td>0.0000</td>\n",
       "    </tr>\n",
       "  </tbody>\n",
       "</table>\n",
       "</div>"
      ],
      "text/plain": [
       "   record_ID       week  store_id  sku_id  total_price  base_price  \\\n",
       "0      41403 2011-07-11      9092  679023     213.0375    213.0375   \n",
       "1      41306 2011-07-11      8869  679023     212.3250    213.0375   \n",
       "2      41647 2011-07-11      9281  679023     213.0375    198.0750   \n",
       "3      40969 2011-07-11      8063  679023     213.0375    213.0375   \n",
       "4      40944 2011-07-11      8094  679023     213.0375    213.0375   \n",
       "\n",
       "   is_featured_sku  is_display_sku  month  year  day_of_week  day_of_month  \\\n",
       "0                0               0      7  2011            0            11   \n",
       "1                0               1      7  2011            0            11   \n",
       "2                0               1      7  2011            0            11   \n",
       "3                0               0      7  2011            0            11   \n",
       "4                0               0      7  2011            0            11   \n",
       "\n",
       "   discount  \n",
       "0    0.0000  \n",
       "1    0.7125  \n",
       "2  -14.9625  \n",
       "3    0.0000  \n",
       "4    0.0000  "
      ]
     },
     "execution_count": 51,
     "metadata": {},
     "output_type": "execute_result"
    },
    {
     "data": {
      "text/html": [
       "<div>\n",
       "<style scoped>\n",
       "    .dataframe tbody tr th:only-of-type {\n",
       "        vertical-align: middle;\n",
       "    }\n",
       "\n",
       "    .dataframe tbody tr th {\n",
       "        vertical-align: top;\n",
       "    }\n",
       "\n",
       "    .dataframe thead th {\n",
       "        text-align: right;\n",
       "    }\n",
       "</style>\n",
       "<table border=\"1\" class=\"dataframe\">\n",
       "  <thead>\n",
       "    <tr style=\"text-align: right;\">\n",
       "      <th></th>\n",
       "      <th>units_sold</th>\n",
       "    </tr>\n",
       "  </thead>\n",
       "  <tbody>\n",
       "    <tr>\n",
       "      <th>0</th>\n",
       "      <td>1.945910</td>\n",
       "    </tr>\n",
       "    <tr>\n",
       "      <th>1</th>\n",
       "      <td>3.583519</td>\n",
       "    </tr>\n",
       "    <tr>\n",
       "      <th>2</th>\n",
       "      <td>2.079442</td>\n",
       "    </tr>\n",
       "    <tr>\n",
       "      <th>3</th>\n",
       "      <td>0.000000</td>\n",
       "    </tr>\n",
       "    <tr>\n",
       "      <th>4</th>\n",
       "      <td>1.609438</td>\n",
       "    </tr>\n",
       "  </tbody>\n",
       "</table>\n",
       "</div>"
      ],
      "text/plain": [
       "   units_sold\n",
       "0    1.945910\n",
       "1    3.583519\n",
       "2    2.079442\n",
       "3    0.000000\n",
       "4    1.609438"
      ]
     },
     "execution_count": 51,
     "metadata": {},
     "output_type": "execute_result"
    },
    {
     "data": {
      "text/html": [
       "<div>\n",
       "<style scoped>\n",
       "    .dataframe tbody tr th:only-of-type {\n",
       "        vertical-align: middle;\n",
       "    }\n",
       "\n",
       "    .dataframe tbody tr th {\n",
       "        vertical-align: top;\n",
       "    }\n",
       "\n",
       "    .dataframe thead th {\n",
       "        text-align: right;\n",
       "    }\n",
       "</style>\n",
       "<table border=\"1\" class=\"dataframe\">\n",
       "  <thead>\n",
       "    <tr style=\"text-align: right;\">\n",
       "      <th></th>\n",
       "      <th>record_ID</th>\n",
       "      <th>week</th>\n",
       "      <th>store_id</th>\n",
       "      <th>sku_id</th>\n",
       "      <th>total_price</th>\n",
       "      <th>base_price</th>\n",
       "      <th>is_featured_sku</th>\n",
       "      <th>is_display_sku</th>\n",
       "      <th>month</th>\n",
       "      <th>year</th>\n",
       "      <th>day_of_week</th>\n",
       "      <th>day_of_month</th>\n",
       "      <th>discount</th>\n",
       "    </tr>\n",
       "  </thead>\n",
       "  <tbody>\n",
       "    <tr>\n",
       "      <th>0</th>\n",
       "      <td>212644</td>\n",
       "      <td>2013-07-09</td>\n",
       "      <td>9984</td>\n",
       "      <td>679023</td>\n",
       "      <td>234.4125</td>\n",
       "      <td>234.4125</td>\n",
       "      <td>0</td>\n",
       "      <td>0</td>\n",
       "      <td>7</td>\n",
       "      <td>2013</td>\n",
       "      <td>1</td>\n",
       "      <td>9</td>\n",
       "      <td>0.0</td>\n",
       "    </tr>\n",
       "    <tr>\n",
       "      <th>1</th>\n",
       "      <td>211528</td>\n",
       "      <td>2013-07-09</td>\n",
       "      <td>9092</td>\n",
       "      <td>679023</td>\n",
       "      <td>234.4125</td>\n",
       "      <td>234.4125</td>\n",
       "      <td>0</td>\n",
       "      <td>0</td>\n",
       "      <td>7</td>\n",
       "      <td>2013</td>\n",
       "      <td>1</td>\n",
       "      <td>9</td>\n",
       "      <td>0.0</td>\n",
       "    </tr>\n",
       "    <tr>\n",
       "      <th>2</th>\n",
       "      <td>211431</td>\n",
       "      <td>2013-07-09</td>\n",
       "      <td>8869</td>\n",
       "      <td>679023</td>\n",
       "      <td>234.4125</td>\n",
       "      <td>234.4125</td>\n",
       "      <td>0</td>\n",
       "      <td>0</td>\n",
       "      <td>7</td>\n",
       "      <td>2013</td>\n",
       "      <td>1</td>\n",
       "      <td>9</td>\n",
       "      <td>0.0</td>\n",
       "    </tr>\n",
       "    <tr>\n",
       "      <th>3</th>\n",
       "      <td>211772</td>\n",
       "      <td>2013-07-09</td>\n",
       "      <td>9281</td>\n",
       "      <td>679023</td>\n",
       "      <td>234.4125</td>\n",
       "      <td>234.4125</td>\n",
       "      <td>0</td>\n",
       "      <td>1</td>\n",
       "      <td>7</td>\n",
       "      <td>2013</td>\n",
       "      <td>1</td>\n",
       "      <td>9</td>\n",
       "      <td>0.0</td>\n",
       "    </tr>\n",
       "    <tr>\n",
       "      <th>4</th>\n",
       "      <td>211093</td>\n",
       "      <td>2013-07-09</td>\n",
       "      <td>8063</td>\n",
       "      <td>679023</td>\n",
       "      <td>234.4125</td>\n",
       "      <td>234.4125</td>\n",
       "      <td>0</td>\n",
       "      <td>0</td>\n",
       "      <td>7</td>\n",
       "      <td>2013</td>\n",
       "      <td>1</td>\n",
       "      <td>9</td>\n",
       "      <td>0.0</td>\n",
       "    </tr>\n",
       "  </tbody>\n",
       "</table>\n",
       "</div>"
      ],
      "text/plain": [
       "   record_ID       week  store_id  sku_id  total_price  base_price  \\\n",
       "0     212644 2013-07-09      9984  679023     234.4125    234.4125   \n",
       "1     211528 2013-07-09      9092  679023     234.4125    234.4125   \n",
       "2     211431 2013-07-09      8869  679023     234.4125    234.4125   \n",
       "3     211772 2013-07-09      9281  679023     234.4125    234.4125   \n",
       "4     211093 2013-07-09      8063  679023     234.4125    234.4125   \n",
       "\n",
       "   is_featured_sku  is_display_sku  month  year  day_of_week  day_of_month  \\\n",
       "0                0               0      7  2013            1             9   \n",
       "1                0               0      7  2013            1             9   \n",
       "2                0               0      7  2013            1             9   \n",
       "3                0               1      7  2013            1             9   \n",
       "4                0               0      7  2013            1             9   \n",
       "\n",
       "   discount  \n",
       "0       0.0  \n",
       "1       0.0  \n",
       "2       0.0  \n",
       "3       0.0  \n",
       "4       0.0  "
      ]
     },
     "execution_count": 51,
     "metadata": {},
     "output_type": "execute_result"
    },
    {
     "data": {
      "text/html": [
       "<div>\n",
       "<style scoped>\n",
       "    .dataframe tbody tr th:only-of-type {\n",
       "        vertical-align: middle;\n",
       "    }\n",
       "\n",
       "    .dataframe tbody tr th {\n",
       "        vertical-align: top;\n",
       "    }\n",
       "\n",
       "    .dataframe thead th {\n",
       "        text-align: right;\n",
       "    }\n",
       "</style>\n",
       "<table border=\"1\" class=\"dataframe\">\n",
       "  <thead>\n",
       "    <tr style=\"text-align: right;\">\n",
       "      <th></th>\n",
       "      <th>units_sold</th>\n",
       "    </tr>\n",
       "  </thead>\n",
       "  <tbody>\n",
       "    <tr>\n",
       "      <th>0</th>\n",
       "      <td>2.708050</td>\n",
       "    </tr>\n",
       "    <tr>\n",
       "      <th>1</th>\n",
       "      <td>1.386294</td>\n",
       "    </tr>\n",
       "    <tr>\n",
       "      <th>2</th>\n",
       "      <td>2.708050</td>\n",
       "    </tr>\n",
       "    <tr>\n",
       "      <th>3</th>\n",
       "      <td>0.000000</td>\n",
       "    </tr>\n",
       "    <tr>\n",
       "      <th>4</th>\n",
       "      <td>0.693147</td>\n",
       "    </tr>\n",
       "  </tbody>\n",
       "</table>\n",
       "</div>"
      ],
      "text/plain": [
       "   units_sold\n",
       "0    2.708050\n",
       "1    1.386294\n",
       "2    2.708050\n",
       "3    0.000000\n",
       "4    0.693147"
      ]
     },
     "execution_count": 51,
     "metadata": {},
     "output_type": "execute_result"
    }
   ],
   "source": [
    "X_test.head()\n",
    "y_test.head()\n",
    "X_train.head()\n",
    "y_train.head()"
   ]
  },
  {
   "cell_type": "code",
   "execution_count": 52,
   "id": "2e1b5315",
   "metadata": {},
   "outputs": [
    {
     "data": {
      "text/plain": [
       "pandas.core.frame.DataFrame"
      ]
     },
     "execution_count": 52,
     "metadata": {},
     "output_type": "execute_result"
    }
   ],
   "source": [
    "type(y_test)"
   ]
  },
  {
   "cell_type": "code",
   "execution_count": 53,
   "id": "f569f97b",
   "metadata": {},
   "outputs": [
    {
     "data": {
      "text/plain": [
       "pandas.core.frame.DataFrame"
      ]
     },
     "execution_count": 53,
     "metadata": {},
     "output_type": "execute_result"
    }
   ],
   "source": [
    "type(X_test)"
   ]
  },
  {
   "cell_type": "code",
   "execution_count": 54,
   "id": "2b145eb0",
   "metadata": {},
   "outputs": [],
   "source": [
    "X_test.set_index('week', inplace=True)\n",
    "X_train.set_index('week', inplace=True)"
   ]
  },
  {
   "cell_type": "code",
   "execution_count": 55,
   "id": "0837aa89",
   "metadata": {},
   "outputs": [],
   "source": [
    "def train_random_forest(X_train, y_train):\n",
    "    # Creating a Random Forest regressor\n",
    "    #rf_regressor = RandomForestRegressor(n_estimators=100, random_state=42)\n",
    "\n",
    "    # Training the model\n",
    "    #rf_regressor.fit(X_train, y_train)\n",
    "\n",
    "    # Making predictions on the testing set\n",
    "    rf_regressor = RandomForestRegressor(n_estimators=100, random_state=42)\n",
    "    rf_regressor = RFE(estimator = rf_regressor, n_features_to_select=7)\n",
    "    fit = rf_regressor.fit(X_train, y_train)\n",
    "    y_pred = fit.predict(X_test)\n",
    "    selected_features = X_train.columns[rf_regressor.support_]\n",
    "    print(\"Selected Features:\",selected_features)\n",
    "    \n",
    "    return y_pred, fit"
   ]
  },
  {
   "cell_type": "code",
   "execution_count": 56,
   "id": "65373fd6",
   "metadata": {},
   "outputs": [
    {
     "name": "stdout",
     "output_type": "stream",
     "text": [
      "Selected Features: Index(['record_ID', 'store_id', 'total_price', 'is_display_sku', 'month',\n",
      "       'day_of_month', 'discount'],\n",
      "      dtype='object')\n"
     ]
    }
   ],
   "source": [
    "y_pred, fit = train_random_forest(X_train,y_train)"
   ]
  },
  {
   "cell_type": "code",
   "execution_count": 57,
   "id": "b40b8f74",
   "metadata": {},
   "outputs": [
    {
     "data": {
      "text/plain": [
       "array([2.58007829, 2.9527319 , 2.46451742, 0.57653183, 2.12468446,\n",
       "       2.54096638, 2.37691636, 2.88407194, 2.41278873, 2.5820155 ,\n",
       "       2.99476638, 2.33828965, 0.72312147, 1.86319476, 2.57829536,\n",
       "       2.38745044, 2.72007125, 2.03515157, 2.81714139, 3.50475468,\n",
       "       2.41393136, 0.96701293, 2.23576643, 3.09844528, 2.32354947,\n",
       "       2.74525169, 2.57146011, 2.81100061, 3.35988063, 2.50328699,\n",
       "       0.94808504, 2.24466164, 3.2096806 , 2.34955918, 2.92828818,\n",
       "       2.52598389, 2.78352229, 3.47027392, 2.20901992, 0.96402524,\n",
       "       2.26980936, 3.26817691, 2.4082516 , 3.03703728, 2.60590288,\n",
       "       2.66179837, 2.30065667, 2.08185555, 1.03939361, 2.03920758,\n",
       "       2.74451104, 2.43507928, 2.82276485, 2.41808934, 2.60872783,\n",
       "       2.92860565, 2.45615385, 0.65138644, 2.14978437, 2.65892604,\n",
       "       2.07531655, 2.98581287, 2.51028128, 2.65334759, 2.96924719,\n",
       "       2.39187871, 0.62814754, 2.12807918, 2.60925696, 2.36786764,\n",
       "       3.02198656, 2.33683095, 2.55099859, 2.27471682, 2.28203852,\n",
       "       1.40164869, 2.14829768, 2.54214153, 2.42644885, 3.04555486,\n",
       "       2.50126081, 2.63037934, 2.31964475, 2.23729231, 0.66139909,\n",
       "       2.15370524, 2.58989613, 2.38956043, 2.95374014, 2.4280579 ,\n",
       "       2.54146526, 3.00666119, 2.24950136, 1.27671471, 1.85232271,\n",
       "       2.59068852, 2.74959816, 2.98105411, 1.95983345, 2.61167492,\n",
       "       2.29705325, 2.28661905, 0.63050801, 2.08865487, 2.59982756,\n",
       "       2.73063562, 3.02281756, 2.45840169, 2.69642295, 2.9232981 ,\n",
       "       2.26938335, 0.60617598, 2.11604207, 2.71444211, 2.74811505,\n",
       "       3.00850017, 2.33713464, 2.66678234, 2.31681612, 2.3234707 ,\n",
       "       0.65665451, 2.17309371, 2.60479005, 2.73658494, 2.98367458,\n",
       "       2.43850058, 2.77442794, 3.35180889, 2.64205588, 1.00761548,\n",
       "       2.09207057, 3.23903425, 3.0303996 , 3.04439348, 3.0774766 ,\n",
       "       3.47154952, 3.46340918, 2.22321028, 1.0013802 , 2.487596  ,\n",
       "       3.30889224, 3.11540888, 2.94116362, 3.15228122, 3.30393297,\n",
       "       3.51920025, 2.14081435, 0.95432339, 2.4522622 , 3.31161692,\n",
       "       2.3088871 , 2.92144208, 2.96850996, 2.64200244, 2.22137326,\n",
       "       2.31842399, 0.64168925, 2.1465514 , 2.59317561, 2.28088746,\n",
       "       2.92320294, 2.27954954, 2.62718525, 2.32542977, 2.10828992,\n",
       "       0.7129591 , 2.01291244, 2.59828754, 2.3353155 , 2.95803666,\n",
       "       2.13266229, 2.61787615, 2.35841354, 2.24601591, 0.6450777 ,\n",
       "       2.09947535, 2.62889145, 2.21840552, 3.04270795, 2.6367031 ,\n",
       "       2.64774922, 2.30167639, 2.11073126, 0.60499917, 2.08760292,\n",
       "       2.57424427, 2.38673447, 2.94682104, 2.39023215, 2.67805377,\n",
       "       2.21406438, 2.23765027, 0.64237918, 2.15989319, 2.7368529 ,\n",
       "       2.30428308, 3.05859409, 2.27008158, 2.76103964, 3.42018729,\n",
       "       2.09341266, 1.03474838, 2.28421439, 3.03741032, 2.6289475 ,\n",
       "       3.18792618, 2.43525848, 2.73742608, 3.33640604, 2.03613924,\n",
       "       0.98347611, 2.49486169, 2.9394092 , 2.4616488 , 3.1323879 ,\n",
       "       2.64833951, 2.7154019 , 3.3186433 , 2.20299917, 0.98138371,\n",
       "       2.44169695, 2.95079088, 2.5162223 , 3.1569413 , 2.61160283,\n",
       "       2.76140135, 3.35389795, 2.11601653, 0.9443934 , 2.47528423,\n",
       "       3.00446287, 2.56441735, 3.07524761, 2.54273521])"
      ]
     },
     "execution_count": 57,
     "metadata": {},
     "output_type": "execute_result"
    }
   ],
   "source": [
    "y_pred"
   ]
  },
  {
   "cell_type": "code",
   "execution_count": 58,
   "id": "b8b1e11b",
   "metadata": {},
   "outputs": [
    {
     "name": "stdout",
     "output_type": "stream",
     "text": [
      "Accuracy: 80.62 %.\n"
     ]
    }
   ],
   "source": [
    "#Evaluate accuracy using MAPE\n",
    "y_true = np.array(y_test['units_sold'])\n",
    "sumvalue=np.sum(y_true)\n",
    "mape=np.sum(np.abs((y_true - y_pred)))/sumvalue*100\n",
    "accuracy=100-mape\n",
    "print('Accuracy:', round(accuracy,2),'%.')"
   ]
  },
  {
   "cell_type": "code",
   "execution_count": 59,
   "id": "7d2ab269",
   "metadata": {},
   "outputs": [
    {
     "name": "stdout",
     "output_type": "stream",
     "text": [
      "RMSE: 0.6371756001474503\n",
      "MSE: 0.4059927454232636\n"
     ]
    }
   ],
   "source": [
    "# Find RMSE\n",
    "mse = mean_squared_error(y_test, y_pred)\n",
    "rmse = np.sqrt(mse)\n",
    "print(\"RMSE:\",rmse)\n",
    "print(\"MSE:\",mse)"
   ]
  },
  {
   "cell_type": "code",
   "execution_count": 60,
   "id": "4c701a54",
   "metadata": {},
   "outputs": [],
   "source": [
    "def plot_predictions(y_test, y_pred):\n",
    "    plt.figure(figsize=(10, 6))\n",
    "    plt.scatter(y_test, y_pred, color='blue')\n",
    "    plt.plot([min(y_test), max(y_test)], [min(y_test), max(y_test)], color='red', linestyle='--')\n",
    "    plt.xlabel('Actual units_sold')\n",
    "    plt.ylabel('Predicted units_sold')\n",
    "    plt.title('Actual vs. Predicted units_sold')\n",
    "    plt.show()"
   ]
  },
  {
   "cell_type": "code",
   "execution_count": 61,
   "id": "a9922dde",
   "metadata": {},
   "outputs": [],
   "source": [
    "y_test1 = y_test.values.flatten()"
   ]
  },
  {
   "cell_type": "code",
   "execution_count": 62,
   "id": "30d065b7",
   "metadata": {},
   "outputs": [
    {
     "data": {
      "text/plain": [
       "array([1.94591015, 3.58351894, 2.07944154, 0.        , 1.60943791,\n",
       "       2.94443898, 1.60943791, 3.13549422, 2.39789527, 2.39789527,\n",
       "       2.77258872, 1.94591015, 1.38629436, 1.79175947, 3.09104245,\n",
       "       1.38629436, 2.89037176, 2.48490665, 1.38629436, 3.76120012,\n",
       "       1.79175947, 2.19722458, 2.99573227, 3.17805383, 2.89037176,\n",
       "       3.68887945, 2.56494936, 1.38629436, 3.25809654, 2.56494936,\n",
       "       2.7080502 , 1.38629436, 3.63758616, 1.38629436, 3.4339872 ,\n",
       "       2.56494936, 2.07944154, 3.71357207, 2.39789527, 1.60943791,\n",
       "       2.56494936, 3.29583687, 2.19722458, 3.68887945, 2.7080502 ,\n",
       "       2.77258872, 3.49650756, 2.94443898, 2.39789527, 2.30258509,\n",
       "       3.36729583, 2.30258509, 3.21887582, 3.04452244, 2.7080502 ,\n",
       "       2.63905733, 2.56494936, 2.48490665, 1.60943791, 3.04452244,\n",
       "       2.63905733, 2.63905733, 3.58351894, 3.09104245, 3.29583687,\n",
       "       2.56494936, 1.09861229, 1.94591015, 3.09104245, 3.09104245,\n",
       "       3.21887582, 2.99573227, 3.09104245, 3.09104245, 2.77258872,\n",
       "       1.38629436, 1.94591015, 2.30258509, 1.94591015, 2.19722458,\n",
       "       1.94591015, 2.30258509, 3.33220451, 2.48490665, 0.        ,\n",
       "       2.39789527, 3.52636052, 1.94591015, 3.09104245, 2.19722458,\n",
       "       2.39789527, 2.89037176, 1.94591015, 1.79175947, 1.38629436,\n",
       "       3.13549422, 1.09861229, 2.83321334, 2.99573227, 1.60943791,\n",
       "       3.29583687, 2.63905733, 1.38629436, 2.07944154, 3.33220451,\n",
       "       2.56494936, 2.94443898, 2.39789527, 2.30258509, 3.66356165,\n",
       "       1.94591015, 2.07944154, 2.19722458, 3.13549422, 3.09104245,\n",
       "       2.56494936, 2.30258509, 1.60943791, 3.55534806, 2.48490665,\n",
       "       2.19722458, 1.94591015, 2.94443898, 2.99573227, 2.56494936,\n",
       "       2.39789527, 2.30258509, 3.29583687, 2.89037176, 2.48490665,\n",
       "       2.63905733, 3.21887582, 2.77258872, 3.29583687, 2.39789527,\n",
       "       2.7080502 , 3.78418963, 2.83321334, 1.94591015, 2.56494936,\n",
       "       3.04452244, 2.99573227, 3.13549422, 2.77258872, 3.09104245,\n",
       "       3.73766962, 2.19722458, 1.79175947, 2.39789527, 3.61091791,\n",
       "       2.83321334, 3.76120012, 3.21887582, 1.94591015, 2.30258509,\n",
       "       2.83321334, 1.38629436, 1.94591015, 3.4339872 , 2.39789527,\n",
       "       3.33220451, 2.7080502 , 2.48490665, 3.21887582, 1.94591015,\n",
       "       0.69314718, 1.60943791, 2.99573227, 1.60943791, 2.99573227,\n",
       "       2.83321334, 2.30258509, 2.39789527, 2.07944154, 2.19722458,\n",
       "       2.39789527, 3.21887582, 0.        , 2.99573227, 1.94591015,\n",
       "       2.30258509, 2.83321334, 1.38629436, 2.19722458, 2.48490665,\n",
       "       3.09104245, 2.63905733, 2.63905733, 2.30258509, 2.07944154,\n",
       "       2.48490665, 1.60943791, 1.38629436, 2.48490665, 3.4339872 ,\n",
       "       2.48490665, 3.17805383, 2.30258509, 2.99573227, 3.25809654,\n",
       "       2.39789527, 2.48490665, 2.30258509, 3.66356165, 1.79175947,\n",
       "       3.58351894, 2.83321334, 2.30258509, 3.13549422, 2.30258509,\n",
       "       2.19722458, 1.38629436, 3.13549422, 2.30258509, 3.76120012,\n",
       "       2.83321334, 2.07944154, 3.52636052, 1.09861229, 2.39789527,\n",
       "       2.07944154, 3.13549422, 2.07944154, 3.63758616, 2.30258509,\n",
       "       2.30258509, 3.33220451, 2.07944154, 2.07944154, 2.30258509,\n",
       "       2.7080502 , 1.38629436, 3.21887582, 2.56494936])"
      ]
     },
     "execution_count": 62,
     "metadata": {},
     "output_type": "execute_result"
    }
   ],
   "source": [
    "y_test1"
   ]
  },
  {
   "cell_type": "code",
   "execution_count": 63,
   "id": "4006ae74",
   "metadata": {},
   "outputs": [],
   "source": [
    "comp = pd.DataFrame(data=[y_test1,y_pred]).T\n",
    "comp.columns=['y_test','y_pred']"
   ]
  },
  {
   "cell_type": "code",
   "execution_count": 64,
   "id": "fe856a80",
   "metadata": {},
   "outputs": [
    {
     "data": {
      "text/html": [
       "<div>\n",
       "<style scoped>\n",
       "    .dataframe tbody tr th:only-of-type {\n",
       "        vertical-align: middle;\n",
       "    }\n",
       "\n",
       "    .dataframe tbody tr th {\n",
       "        vertical-align: top;\n",
       "    }\n",
       "\n",
       "    .dataframe thead th {\n",
       "        text-align: right;\n",
       "    }\n",
       "</style>\n",
       "<table border=\"1\" class=\"dataframe\">\n",
       "  <thead>\n",
       "    <tr style=\"text-align: right;\">\n",
       "      <th></th>\n",
       "      <th>y_test</th>\n",
       "      <th>y_pred</th>\n",
       "    </tr>\n",
       "  </thead>\n",
       "  <tbody>\n",
       "    <tr>\n",
       "      <th>0</th>\n",
       "      <td>1.945910</td>\n",
       "      <td>2.580078</td>\n",
       "    </tr>\n",
       "    <tr>\n",
       "      <th>1</th>\n",
       "      <td>3.583519</td>\n",
       "      <td>2.952732</td>\n",
       "    </tr>\n",
       "    <tr>\n",
       "      <th>2</th>\n",
       "      <td>2.079442</td>\n",
       "      <td>2.464517</td>\n",
       "    </tr>\n",
       "    <tr>\n",
       "      <th>3</th>\n",
       "      <td>0.000000</td>\n",
       "      <td>0.576532</td>\n",
       "    </tr>\n",
       "    <tr>\n",
       "      <th>4</th>\n",
       "      <td>1.609438</td>\n",
       "      <td>2.124684</td>\n",
       "    </tr>\n",
       "    <tr>\n",
       "      <th>...</th>\n",
       "      <td>...</td>\n",
       "      <td>...</td>\n",
       "    </tr>\n",
       "    <tr>\n",
       "      <th>229</th>\n",
       "      <td>2.302585</td>\n",
       "      <td>2.475284</td>\n",
       "    </tr>\n",
       "    <tr>\n",
       "      <th>230</th>\n",
       "      <td>2.708050</td>\n",
       "      <td>3.004463</td>\n",
       "    </tr>\n",
       "    <tr>\n",
       "      <th>231</th>\n",
       "      <td>1.386294</td>\n",
       "      <td>2.564417</td>\n",
       "    </tr>\n",
       "    <tr>\n",
       "      <th>232</th>\n",
       "      <td>3.218876</td>\n",
       "      <td>3.075248</td>\n",
       "    </tr>\n",
       "    <tr>\n",
       "      <th>233</th>\n",
       "      <td>2.564949</td>\n",
       "      <td>2.542735</td>\n",
       "    </tr>\n",
       "  </tbody>\n",
       "</table>\n",
       "<p>234 rows × 2 columns</p>\n",
       "</div>"
      ],
      "text/plain": [
       "       y_test    y_pred\n",
       "0    1.945910  2.580078\n",
       "1    3.583519  2.952732\n",
       "2    2.079442  2.464517\n",
       "3    0.000000  0.576532\n",
       "4    1.609438  2.124684\n",
       "..        ...       ...\n",
       "229  2.302585  2.475284\n",
       "230  2.708050  3.004463\n",
       "231  1.386294  2.564417\n",
       "232  3.218876  3.075248\n",
       "233  2.564949  2.542735\n",
       "\n",
       "[234 rows x 2 columns]"
      ]
     },
     "execution_count": 64,
     "metadata": {},
     "output_type": "execute_result"
    }
   ],
   "source": [
    "comp"
   ]
  },
  {
   "cell_type": "code",
   "execution_count": 65,
   "id": "29089638",
   "metadata": {},
   "outputs": [
    {
     "data": {
      "image/png": "[encoded data removed]",
      "text/plain": [
       "<Figure size 1000x600 with 1 Axes>"
      ]
     },
     "metadata": {},
     "output_type": "display_data"
    }
   ],
   "source": [
    "plot_predictions(y_test1, y_pred)"
   ]
  },
  {
   "cell_type": "code",
   "execution_count": 66,
   "id": "f3cd4c2b",
   "metadata": {},
   "outputs": [
    {
     "data": {
      "text/plain": [
       "[<matplotlib.lines.Line2D at 0x2489574eb90>]"
      ]
     },
     "execution_count": 66,
     "metadata": {},
     "output_type": "execute_result"
    },
    {
     "data": {
      "image/png": "[encoded data removed]",
      "text/plain": [
       "<Figure size 640x480 with 1 Axes>"
      ]
     },
     "metadata": {},
     "output_type": "display_data"
    }
   ],
   "source": [
    "plt.plot (y_test1)"
   ]
  },
  {
   "cell_type": "code",
   "execution_count": 67,
   "id": "29b4c6d4",
   "metadata": {},
   "outputs": [
    {
     "data": {
      "text/plain": [
       "[<matplotlib.lines.Line2D at 0x24895536b50>]"
      ]
     },
     "execution_count": 67,
     "metadata": {},
     "output_type": "execute_result"
    },
    {
     "data": {
      "image/png": "[encoded data removed]",
      "text/plain": [
       "<Figure size 640x480 with 1 Axes>"
      ]
     },
     "metadata": {},
     "output_type": "display_data"
    }
   ],
   "source": [
    "plt.plot (y_pred)"
   ]
  },
  {
   "cell_type": "code",
   "execution_count": 68,
   "id": "bee387ef",
   "metadata": {},
   "outputs": [],
   "source": [
    "# Calculation of safety stock factor\n",
    "def calculate_safety_factor(desired_service_level, standard_deviation):\n",
    "    # Calculation Z-score corresponding to the desired service level\n",
    "    z_score = stats.norm.ppf(desired_service_level)\n",
    "    \n",
    "    #Calculate safety factor\n",
    "    safety_factor = z_score * standard_deviation\n",
    "    \n",
    "    return safety_factor"
   ]
  },
  {
   "cell_type": "code",
   "execution_count": 69,
   "id": "ad0d8a97",
   "metadata": {},
   "outputs": [
    {
     "name": "stdout",
     "output_type": "stream",
     "text": [
      "Enter store_id: 9984\n"
     ]
    }
   ],
   "source": [
    "# Get user input for sku_id\n",
    "store_id = int(input(\"Enter store_id: \"))"
   ]
  },
  {
   "cell_type": "code",
   "execution_count": 70,
   "id": "a991d51b",
   "metadata": {},
   "outputs": [
    {
     "name": "stdout",
     "output_type": "stream",
     "text": [
      "Enter desired service level (ex: 0.95 for 95%): 0.95\n"
     ]
    }
   ],
   "source": [
    "# Get desired service level\n",
    "desired_service_level = float(input(\"Enter desired service level (ex: 0.95 for 95%): \"))"
   ]
  },
  {
   "cell_type": "code",
   "execution_count": 71,
   "id": "68be59c3",
   "metadata": {},
   "outputs": [],
   "source": [
    "# Calculation of standard_deviation\n",
    "filtered_df = df_processed[(df['store_id'] == store_id) & (df_processed['sku_id'] == sku_id)]\n",
    "standard_deviation = filtered_df['units_sold'].std()"
   ]
  },
  {
   "cell_type": "code",
   "execution_count": 72,
   "id": "1c80396e",
   "metadata": {},
   "outputs": [],
   "source": [
    "# Calculation of re-order point\n",
    "def calculate_reorder_point (demand_forecast, lead_time, safety_factor):\n",
    "    average_demand = np.mean(demand_forecast)\n",
    "    demand_std = np.std(demand_forecast)\n",
    "    safety_stock = safety_factor * demand_std\n",
    "    safety_stock = safety_stock.round()\n",
    "    reorder_point = average_demand * lead_time + safety_stock\n",
    "    reorder_point = reorder_point.round()\n",
    "    return reorder_point, safety_stock"
   ]
  },
  {
   "cell_type": "code",
   "execution_count": 73,
   "id": "c41210f1",
   "metadata": {},
   "outputs": [
    {
     "name": "stdout",
     "output_type": "stream",
     "text": [
      "Enter lead time in weeks: 2\n"
     ]
    }
   ],
   "source": [
    "# Get user input for sku_id\n",
    "lead_time = int(input(\"Enter lead time in weeks: \"))"
   ]
  },
  {
   "cell_type": "code",
   "execution_count": 74,
   "id": "b8991707",
   "metadata": {},
   "outputs": [
    {
     "data": {
      "text/plain": [
       "(234, 12)"
      ]
     },
     "execution_count": 74,
     "metadata": {},
     "output_type": "execute_result"
    },
    {
     "data": {
      "text/plain": [
       "(234, 1)"
      ]
     },
     "execution_count": 74,
     "metadata": {},
     "output_type": "execute_result"
    }
   ],
   "source": [
    "X_test.shape\n",
    "y_test.shape"
   ]
  },
  {
   "cell_type": "code",
   "execution_count": 75,
   "id": "a5230d33",
   "metadata": {},
   "outputs": [
    {
     "data": {
      "text/html": [
       "<div>\n",
       "<style scoped>\n",
       "    .dataframe tbody tr th:only-of-type {\n",
       "        vertical-align: middle;\n",
       "    }\n",
       "\n",
       "    .dataframe tbody tr th {\n",
       "        vertical-align: top;\n",
       "    }\n",
       "\n",
       "    .dataframe thead th {\n",
       "        text-align: right;\n",
       "    }\n",
       "</style>\n",
       "<table border=\"1\" class=\"dataframe\">\n",
       "  <thead>\n",
       "    <tr style=\"text-align: right;\">\n",
       "      <th></th>\n",
       "      <th>record_ID</th>\n",
       "      <th>store_id</th>\n",
       "      <th>sku_id</th>\n",
       "      <th>total_price</th>\n",
       "      <th>base_price</th>\n",
       "      <th>is_featured_sku</th>\n",
       "      <th>is_display_sku</th>\n",
       "      <th>month</th>\n",
       "      <th>year</th>\n",
       "      <th>day_of_week</th>\n",
       "      <th>day_of_month</th>\n",
       "      <th>discount</th>\n",
       "    </tr>\n",
       "    <tr>\n",
       "      <th>week</th>\n",
       "      <th></th>\n",
       "      <th></th>\n",
       "      <th></th>\n",
       "      <th></th>\n",
       "      <th></th>\n",
       "      <th></th>\n",
       "      <th></th>\n",
       "      <th></th>\n",
       "      <th></th>\n",
       "      <th></th>\n",
       "      <th></th>\n",
       "      <th></th>\n",
       "    </tr>\n",
       "  </thead>\n",
       "  <tbody>\n",
       "    <tr>\n",
       "      <th>2011-07-11</th>\n",
       "      <td>41403</td>\n",
       "      <td>9092</td>\n",
       "      <td>679023</td>\n",
       "      <td>213.0375</td>\n",
       "      <td>213.0375</td>\n",
       "      <td>0</td>\n",
       "      <td>0</td>\n",
       "      <td>7</td>\n",
       "      <td>2011</td>\n",
       "      <td>0</td>\n",
       "      <td>11</td>\n",
       "      <td>0.0000</td>\n",
       "    </tr>\n",
       "    <tr>\n",
       "      <th>2011-07-11</th>\n",
       "      <td>41306</td>\n",
       "      <td>8869</td>\n",
       "      <td>679023</td>\n",
       "      <td>212.3250</td>\n",
       "      <td>213.0375</td>\n",
       "      <td>0</td>\n",
       "      <td>1</td>\n",
       "      <td>7</td>\n",
       "      <td>2011</td>\n",
       "      <td>0</td>\n",
       "      <td>11</td>\n",
       "      <td>0.7125</td>\n",
       "    </tr>\n",
       "    <tr>\n",
       "      <th>2011-07-11</th>\n",
       "      <td>41647</td>\n",
       "      <td>9281</td>\n",
       "      <td>679023</td>\n",
       "      <td>213.0375</td>\n",
       "      <td>198.0750</td>\n",
       "      <td>0</td>\n",
       "      <td>1</td>\n",
       "      <td>7</td>\n",
       "      <td>2011</td>\n",
       "      <td>0</td>\n",
       "      <td>11</td>\n",
       "      <td>-14.9625</td>\n",
       "    </tr>\n",
       "    <tr>\n",
       "      <th>2011-07-11</th>\n",
       "      <td>40969</td>\n",
       "      <td>8063</td>\n",
       "      <td>679023</td>\n",
       "      <td>213.0375</td>\n",
       "      <td>213.0375</td>\n",
       "      <td>0</td>\n",
       "      <td>0</td>\n",
       "      <td>7</td>\n",
       "      <td>2011</td>\n",
       "      <td>0</td>\n",
       "      <td>11</td>\n",
       "      <td>0.0000</td>\n",
       "    </tr>\n",
       "    <tr>\n",
       "      <th>2011-07-11</th>\n",
       "      <td>40944</td>\n",
       "      <td>8094</td>\n",
       "      <td>679023</td>\n",
       "      <td>213.0375</td>\n",
       "      <td>213.0375</td>\n",
       "      <td>0</td>\n",
       "      <td>0</td>\n",
       "      <td>7</td>\n",
       "      <td>2011</td>\n",
       "      <td>0</td>\n",
       "      <td>11</td>\n",
       "      <td>0.0000</td>\n",
       "    </tr>\n",
       "  </tbody>\n",
       "</table>\n",
       "</div>"
      ],
      "text/plain": [
       "            record_ID  store_id  sku_id  total_price  base_price  \\\n",
       "week                                                               \n",
       "2011-07-11      41403      9092  679023     213.0375    213.0375   \n",
       "2011-07-11      41306      8869  679023     212.3250    213.0375   \n",
       "2011-07-11      41647      9281  679023     213.0375    198.0750   \n",
       "2011-07-11      40969      8063  679023     213.0375    213.0375   \n",
       "2011-07-11      40944      8094  679023     213.0375    213.0375   \n",
       "\n",
       "            is_featured_sku  is_display_sku  month  year  day_of_week  \\\n",
       "week                                                                    \n",
       "2011-07-11                0               0      7  2011            0   \n",
       "2011-07-11                0               1      7  2011            0   \n",
       "2011-07-11                0               1      7  2011            0   \n",
       "2011-07-11                0               0      7  2011            0   \n",
       "2011-07-11                0               0      7  2011            0   \n",
       "\n",
       "            day_of_month  discount  \n",
       "week                                \n",
       "2011-07-11            11    0.0000  \n",
       "2011-07-11            11    0.7125  \n",
       "2011-07-11            11  -14.9625  \n",
       "2011-07-11            11    0.0000  \n",
       "2011-07-11            11    0.0000  "
      ]
     },
     "execution_count": 75,
     "metadata": {},
     "output_type": "execute_result"
    },
    {
     "data": {
      "text/html": [
       "<div>\n",
       "<style scoped>\n",
       "    .dataframe tbody tr th:only-of-type {\n",
       "        vertical-align: middle;\n",
       "    }\n",
       "\n",
       "    .dataframe tbody tr th {\n",
       "        vertical-align: top;\n",
       "    }\n",
       "\n",
       "    .dataframe thead th {\n",
       "        text-align: right;\n",
       "    }\n",
       "</style>\n",
       "<table border=\"1\" class=\"dataframe\">\n",
       "  <thead>\n",
       "    <tr style=\"text-align: right;\">\n",
       "      <th></th>\n",
       "      <th>units_sold</th>\n",
       "    </tr>\n",
       "  </thead>\n",
       "  <tbody>\n",
       "    <tr>\n",
       "      <th>0</th>\n",
       "      <td>1.945910</td>\n",
       "    </tr>\n",
       "    <tr>\n",
       "      <th>1</th>\n",
       "      <td>3.583519</td>\n",
       "    </tr>\n",
       "    <tr>\n",
       "      <th>2</th>\n",
       "      <td>2.079442</td>\n",
       "    </tr>\n",
       "    <tr>\n",
       "      <th>3</th>\n",
       "      <td>0.000000</td>\n",
       "    </tr>\n",
       "    <tr>\n",
       "      <th>4</th>\n",
       "      <td>1.609438</td>\n",
       "    </tr>\n",
       "  </tbody>\n",
       "</table>\n",
       "</div>"
      ],
      "text/plain": [
       "   units_sold\n",
       "0    1.945910\n",
       "1    3.583519\n",
       "2    2.079442\n",
       "3    0.000000\n",
       "4    1.609438"
      ]
     },
     "execution_count": 75,
     "metadata": {},
     "output_type": "execute_result"
    }
   ],
   "source": [
    "X_test.head()\n",
    "y_test.head()"
   ]
  },
  {
   "cell_type": "code",
   "execution_count": 76,
   "id": "3293bcca",
   "metadata": {},
   "outputs": [
    {
     "data": {
      "text/html": [
       "<div>\n",
       "<style scoped>\n",
       "    .dataframe tbody tr th:only-of-type {\n",
       "        vertical-align: middle;\n",
       "    }\n",
       "\n",
       "    .dataframe tbody tr th {\n",
       "        vertical-align: top;\n",
       "    }\n",
       "\n",
       "    .dataframe thead th {\n",
       "        text-align: right;\n",
       "    }\n",
       "</style>\n",
       "<table border=\"1\" class=\"dataframe\">\n",
       "  <thead>\n",
       "    <tr style=\"text-align: right;\">\n",
       "      <th></th>\n",
       "      <th>record_ID</th>\n",
       "      <th>store_id</th>\n",
       "      <th>sku_id</th>\n",
       "      <th>total_price</th>\n",
       "      <th>base_price</th>\n",
       "      <th>is_featured_sku</th>\n",
       "      <th>is_display_sku</th>\n",
       "      <th>month</th>\n",
       "      <th>year</th>\n",
       "      <th>day_of_week</th>\n",
       "      <th>day_of_month</th>\n",
       "      <th>discount</th>\n",
       "      <th>units_sold</th>\n",
       "    </tr>\n",
       "  </thead>\n",
       "  <tbody>\n",
       "    <tr>\n",
       "      <th>0</th>\n",
       "      <td>41403</td>\n",
       "      <td>9092</td>\n",
       "      <td>679023</td>\n",
       "      <td>213.0375</td>\n",
       "      <td>213.0375</td>\n",
       "      <td>0</td>\n",
       "      <td>0</td>\n",
       "      <td>7</td>\n",
       "      <td>2011</td>\n",
       "      <td>0</td>\n",
       "      <td>11</td>\n",
       "      <td>0.0000</td>\n",
       "      <td>1.945910</td>\n",
       "    </tr>\n",
       "    <tr>\n",
       "      <th>1</th>\n",
       "      <td>41306</td>\n",
       "      <td>8869</td>\n",
       "      <td>679023</td>\n",
       "      <td>212.3250</td>\n",
       "      <td>213.0375</td>\n",
       "      <td>0</td>\n",
       "      <td>1</td>\n",
       "      <td>7</td>\n",
       "      <td>2011</td>\n",
       "      <td>0</td>\n",
       "      <td>11</td>\n",
       "      <td>0.7125</td>\n",
       "      <td>3.583519</td>\n",
       "    </tr>\n",
       "    <tr>\n",
       "      <th>2</th>\n",
       "      <td>41647</td>\n",
       "      <td>9281</td>\n",
       "      <td>679023</td>\n",
       "      <td>213.0375</td>\n",
       "      <td>198.0750</td>\n",
       "      <td>0</td>\n",
       "      <td>1</td>\n",
       "      <td>7</td>\n",
       "      <td>2011</td>\n",
       "      <td>0</td>\n",
       "      <td>11</td>\n",
       "      <td>-14.9625</td>\n",
       "      <td>2.079442</td>\n",
       "    </tr>\n",
       "    <tr>\n",
       "      <th>3</th>\n",
       "      <td>40969</td>\n",
       "      <td>8063</td>\n",
       "      <td>679023</td>\n",
       "      <td>213.0375</td>\n",
       "      <td>213.0375</td>\n",
       "      <td>0</td>\n",
       "      <td>0</td>\n",
       "      <td>7</td>\n",
       "      <td>2011</td>\n",
       "      <td>0</td>\n",
       "      <td>11</td>\n",
       "      <td>0.0000</td>\n",
       "      <td>0.000000</td>\n",
       "    </tr>\n",
       "    <tr>\n",
       "      <th>4</th>\n",
       "      <td>40944</td>\n",
       "      <td>8094</td>\n",
       "      <td>679023</td>\n",
       "      <td>213.0375</td>\n",
       "      <td>213.0375</td>\n",
       "      <td>0</td>\n",
       "      <td>0</td>\n",
       "      <td>7</td>\n",
       "      <td>2011</td>\n",
       "      <td>0</td>\n",
       "      <td>11</td>\n",
       "      <td>0.0000</td>\n",
       "      <td>1.609438</td>\n",
       "    </tr>\n",
       "  </tbody>\n",
       "</table>\n",
       "</div>"
      ],
      "text/plain": [
       "   record_ID  store_id  sku_id  total_price  base_price  is_featured_sku  \\\n",
       "0      41403      9092  679023     213.0375    213.0375                0   \n",
       "1      41306      8869  679023     212.3250    213.0375                0   \n",
       "2      41647      9281  679023     213.0375    198.0750                0   \n",
       "3      40969      8063  679023     213.0375    213.0375                0   \n",
       "4      40944      8094  679023     213.0375    213.0375                0   \n",
       "\n",
       "   is_display_sku  month  year  day_of_week  day_of_month  discount  \\\n",
       "0               0      7  2011            0            11    0.0000   \n",
       "1               1      7  2011            0            11    0.7125   \n",
       "2               1      7  2011            0            11  -14.9625   \n",
       "3               0      7  2011            0            11    0.0000   \n",
       "4               0      7  2011            0            11    0.0000   \n",
       "\n",
       "   units_sold  \n",
       "0    1.945910  \n",
       "1    3.583519  \n",
       "2    2.079442  \n",
       "3    0.000000  \n",
       "4    1.609438  "
      ]
     },
     "execution_count": 76,
     "metadata": {},
     "output_type": "execute_result"
    }
   ],
   "source": [
    "X_test.reset_index(drop=True, inplace=True)\n",
    "test_df = pd.concat([X_test, y_test], axis=1)\n",
    "test_df.head()"
   ]
  },
  {
   "cell_type": "code",
   "execution_count": 77,
   "id": "5a594a60",
   "metadata": {},
   "outputs": [
    {
     "data": {
      "text/html": [
       "<div>\n",
       "<style scoped>\n",
       "    .dataframe tbody tr th:only-of-type {\n",
       "        vertical-align: middle;\n",
       "    }\n",
       "\n",
       "    .dataframe tbody tr th {\n",
       "        vertical-align: top;\n",
       "    }\n",
       "\n",
       "    .dataframe thead th {\n",
       "        text-align: right;\n",
       "    }\n",
       "</style>\n",
       "<table border=\"1\" class=\"dataframe\">\n",
       "  <thead>\n",
       "    <tr style=\"text-align: right;\">\n",
       "      <th></th>\n",
       "      <th>record_ID</th>\n",
       "      <th>store_id</th>\n",
       "      <th>sku_id</th>\n",
       "      <th>total_price</th>\n",
       "      <th>base_price</th>\n",
       "      <th>is_featured_sku</th>\n",
       "      <th>is_display_sku</th>\n",
       "      <th>month</th>\n",
       "      <th>year</th>\n",
       "      <th>day_of_week</th>\n",
       "      <th>day_of_month</th>\n",
       "      <th>discount</th>\n",
       "      <th>units_sold</th>\n",
       "    </tr>\n",
       "  </thead>\n",
       "  <tbody>\n",
       "    <tr>\n",
       "      <th>229</th>\n",
       "      <td>66</td>\n",
       "      <td>8094</td>\n",
       "      <td>679023</td>\n",
       "      <td>178.125</td>\n",
       "      <td>205.9125</td>\n",
       "      <td>0</td>\n",
       "      <td>0</td>\n",
       "      <td>1</td>\n",
       "      <td>2011</td>\n",
       "      <td>0</td>\n",
       "      <td>17</td>\n",
       "      <td>27.7875</td>\n",
       "      <td>2.302585</td>\n",
       "    </tr>\n",
       "    <tr>\n",
       "      <th>230</th>\n",
       "      <td>236</td>\n",
       "      <td>8317</td>\n",
       "      <td>679023</td>\n",
       "      <td>178.125</td>\n",
       "      <td>178.1250</td>\n",
       "      <td>0</td>\n",
       "      <td>0</td>\n",
       "      <td>1</td>\n",
       "      <td>2011</td>\n",
       "      <td>0</td>\n",
       "      <td>17</td>\n",
       "      <td>0.0000</td>\n",
       "      <td>2.708050</td>\n",
       "    </tr>\n",
       "    <tr>\n",
       "      <th>231</th>\n",
       "      <td>1640</td>\n",
       "      <td>9984</td>\n",
       "      <td>679023</td>\n",
       "      <td>178.125</td>\n",
       "      <td>178.1250</td>\n",
       "      <td>0</td>\n",
       "      <td>0</td>\n",
       "      <td>1</td>\n",
       "      <td>2011</td>\n",
       "      <td>0</td>\n",
       "      <td>17</td>\n",
       "      <td>0.0000</td>\n",
       "      <td>1.386294</td>\n",
       "    </tr>\n",
       "    <tr>\n",
       "      <th>232</th>\n",
       "      <td>850</td>\n",
       "      <td>9430</td>\n",
       "      <td>679023</td>\n",
       "      <td>178.125</td>\n",
       "      <td>205.9125</td>\n",
       "      <td>0</td>\n",
       "      <td>1</td>\n",
       "      <td>1</td>\n",
       "      <td>2011</td>\n",
       "      <td>0</td>\n",
       "      <td>17</td>\n",
       "      <td>27.7875</td>\n",
       "      <td>3.218876</td>\n",
       "    </tr>\n",
       "    <tr>\n",
       "      <th>233</th>\n",
       "      <td>887</td>\n",
       "      <td>9425</td>\n",
       "      <td>679023</td>\n",
       "      <td>178.125</td>\n",
       "      <td>178.1250</td>\n",
       "      <td>0</td>\n",
       "      <td>0</td>\n",
       "      <td>1</td>\n",
       "      <td>2011</td>\n",
       "      <td>0</td>\n",
       "      <td>17</td>\n",
       "      <td>0.0000</td>\n",
       "      <td>2.564949</td>\n",
       "    </tr>\n",
       "  </tbody>\n",
       "</table>\n",
       "</div>"
      ],
      "text/plain": [
       "     record_ID  store_id  sku_id  total_price  base_price  is_featured_sku  \\\n",
       "229         66      8094  679023      178.125    205.9125                0   \n",
       "230        236      8317  679023      178.125    178.1250                0   \n",
       "231       1640      9984  679023      178.125    178.1250                0   \n",
       "232        850      9430  679023      178.125    205.9125                0   \n",
       "233        887      9425  679023      178.125    178.1250                0   \n",
       "\n",
       "     is_display_sku  month  year  day_of_week  day_of_month  discount  \\\n",
       "229               0      1  2011            0            17   27.7875   \n",
       "230               0      1  2011            0            17    0.0000   \n",
       "231               0      1  2011            0            17    0.0000   \n",
       "232               1      1  2011            0            17   27.7875   \n",
       "233               0      1  2011            0            17    0.0000   \n",
       "\n",
       "     units_sold  \n",
       "229    2.302585  \n",
       "230    2.708050  \n",
       "231    1.386294  \n",
       "232    3.218876  \n",
       "233    2.564949  "
      ]
     },
     "execution_count": 77,
     "metadata": {},
     "output_type": "execute_result"
    }
   ],
   "source": [
    "#test_df['units_sold'] = np.exp(df['units_sold'])\n",
    "test_df.tail()"
   ]
  },
  {
   "cell_type": "code",
   "execution_count": 78,
   "id": "6d652cc7",
   "metadata": {},
   "outputs": [
    {
     "data": {
      "text/html": [
       "<div>\n",
       "<style scoped>\n",
       "    .dataframe tbody tr th:only-of-type {\n",
       "        vertical-align: middle;\n",
       "    }\n",
       "\n",
       "    .dataframe tbody tr th {\n",
       "        vertical-align: top;\n",
       "    }\n",
       "\n",
       "    .dataframe thead th {\n",
       "        text-align: right;\n",
       "    }\n",
       "</style>\n",
       "<table border=\"1\" class=\"dataframe\">\n",
       "  <thead>\n",
       "    <tr style=\"text-align: right;\">\n",
       "      <th></th>\n",
       "      <th>record_ID</th>\n",
       "      <th>store_id</th>\n",
       "      <th>sku_id</th>\n",
       "      <th>total_price</th>\n",
       "      <th>base_price</th>\n",
       "      <th>is_featured_sku</th>\n",
       "      <th>is_display_sku</th>\n",
       "      <th>month</th>\n",
       "      <th>year</th>\n",
       "      <th>day_of_week</th>\n",
       "      <th>day_of_month</th>\n",
       "      <th>discount</th>\n",
       "      <th>units_sold</th>\n",
       "    </tr>\n",
       "  </thead>\n",
       "  <tbody>\n",
       "    <tr>\n",
       "      <th>229</th>\n",
       "      <td>66</td>\n",
       "      <td>8094</td>\n",
       "      <td>679023</td>\n",
       "      <td>178.125</td>\n",
       "      <td>205.9125</td>\n",
       "      <td>0</td>\n",
       "      <td>0</td>\n",
       "      <td>1</td>\n",
       "      <td>2011</td>\n",
       "      <td>0</td>\n",
       "      <td>17</td>\n",
       "      <td>27.7875</td>\n",
       "      <td>10.0</td>\n",
       "    </tr>\n",
       "    <tr>\n",
       "      <th>230</th>\n",
       "      <td>236</td>\n",
       "      <td>8317</td>\n",
       "      <td>679023</td>\n",
       "      <td>178.125</td>\n",
       "      <td>178.1250</td>\n",
       "      <td>0</td>\n",
       "      <td>0</td>\n",
       "      <td>1</td>\n",
       "      <td>2011</td>\n",
       "      <td>0</td>\n",
       "      <td>17</td>\n",
       "      <td>0.0000</td>\n",
       "      <td>15.0</td>\n",
       "    </tr>\n",
       "    <tr>\n",
       "      <th>231</th>\n",
       "      <td>1640</td>\n",
       "      <td>9984</td>\n",
       "      <td>679023</td>\n",
       "      <td>178.125</td>\n",
       "      <td>178.1250</td>\n",
       "      <td>0</td>\n",
       "      <td>0</td>\n",
       "      <td>1</td>\n",
       "      <td>2011</td>\n",
       "      <td>0</td>\n",
       "      <td>17</td>\n",
       "      <td>0.0000</td>\n",
       "      <td>4.0</td>\n",
       "    </tr>\n",
       "    <tr>\n",
       "      <th>232</th>\n",
       "      <td>850</td>\n",
       "      <td>9430</td>\n",
       "      <td>679023</td>\n",
       "      <td>178.125</td>\n",
       "      <td>205.9125</td>\n",
       "      <td>0</td>\n",
       "      <td>1</td>\n",
       "      <td>1</td>\n",
       "      <td>2011</td>\n",
       "      <td>0</td>\n",
       "      <td>17</td>\n",
       "      <td>27.7875</td>\n",
       "      <td>25.0</td>\n",
       "    </tr>\n",
       "    <tr>\n",
       "      <th>233</th>\n",
       "      <td>887</td>\n",
       "      <td>9425</td>\n",
       "      <td>679023</td>\n",
       "      <td>178.125</td>\n",
       "      <td>178.1250</td>\n",
       "      <td>0</td>\n",
       "      <td>0</td>\n",
       "      <td>1</td>\n",
       "      <td>2011</td>\n",
       "      <td>0</td>\n",
       "      <td>17</td>\n",
       "      <td>0.0000</td>\n",
       "      <td>13.0</td>\n",
       "    </tr>\n",
       "  </tbody>\n",
       "</table>\n",
       "</div>"
      ],
      "text/plain": [
       "     record_ID  store_id  sku_id  total_price  base_price  is_featured_sku  \\\n",
       "229         66      8094  679023      178.125    205.9125                0   \n",
       "230        236      8317  679023      178.125    178.1250                0   \n",
       "231       1640      9984  679023      178.125    178.1250                0   \n",
       "232        850      9430  679023      178.125    205.9125                0   \n",
       "233        887      9425  679023      178.125    178.1250                0   \n",
       "\n",
       "     is_display_sku  month  year  day_of_week  day_of_month  discount  \\\n",
       "229               0      1  2011            0            17   27.7875   \n",
       "230               0      1  2011            0            17    0.0000   \n",
       "231               0      1  2011            0            17    0.0000   \n",
       "232               1      1  2011            0            17   27.7875   \n",
       "233               0      1  2011            0            17    0.0000   \n",
       "\n",
       "     units_sold  \n",
       "229        10.0  \n",
       "230        15.0  \n",
       "231         4.0  \n",
       "232        25.0  \n",
       "233        13.0  "
      ]
     },
     "execution_count": 78,
     "metadata": {},
     "output_type": "execute_result"
    }
   ],
   "source": [
    "test_df['units_sold'] = np.exp(test_df['units_sold'])\n",
    "test_df.tail()"
   ]
  },
  {
   "cell_type": "code",
   "execution_count": 79,
   "id": "bff61471",
   "metadata": {},
   "outputs": [
    {
     "data": {
      "text/html": [
       "<div>\n",
       "<style scoped>\n",
       "    .dataframe tbody tr th:only-of-type {\n",
       "        vertical-align: middle;\n",
       "    }\n",
       "\n",
       "    .dataframe tbody tr th {\n",
       "        vertical-align: top;\n",
       "    }\n",
       "\n",
       "    .dataframe thead th {\n",
       "        text-align: right;\n",
       "    }\n",
       "</style>\n",
       "<table border=\"1\" class=\"dataframe\">\n",
       "  <thead>\n",
       "    <tr style=\"text-align: right;\">\n",
       "      <th></th>\n",
       "      <th>record_ID</th>\n",
       "      <th>store_id</th>\n",
       "      <th>sku_id</th>\n",
       "      <th>total_price</th>\n",
       "      <th>base_price</th>\n",
       "      <th>is_featured_sku</th>\n",
       "      <th>is_display_sku</th>\n",
       "      <th>month</th>\n",
       "      <th>year</th>\n",
       "      <th>day_of_week</th>\n",
       "      <th>day_of_month</th>\n",
       "      <th>discount</th>\n",
       "      <th>units_sold</th>\n",
       "    </tr>\n",
       "  </thead>\n",
       "  <tbody>\n",
       "  </tbody>\n",
       "</table>\n",
       "</div>"
      ],
      "text/plain": [
       "Empty DataFrame\n",
       "Columns: [record_ID, store_id, sku_id, total_price, base_price, is_featured_sku, is_display_sku, month, year, day_of_week, day_of_month, discount, units_sold]\n",
       "Index: []"
      ]
     },
     "execution_count": 79,
     "metadata": {},
     "output_type": "execute_result"
    }
   ],
   "source": [
    "demand_forecast = test_df[(df['store_id'] == store_id) & (df_processed['sku_id'] == sku_id)]\n",
    "demand_forecast.head()"
   ]
  },
  {
   "cell_type": "code",
   "execution_count": 80,
   "id": "a2ea2858",
   "metadata": {},
   "outputs": [
    {
     "data": {
      "text/plain": [
       "Series([], Name: units_sold, dtype: float64)"
      ]
     },
     "execution_count": 80,
     "metadata": {},
     "output_type": "execute_result"
    }
   ],
   "source": [
    "demand_forecast = demand_forecast['units_sold']\n",
    "demand_forecast.head()"
   ]
  },
  {
   "cell_type": "code",
   "execution_count": 81,
   "id": "5923d6eb",
   "metadata": {},
   "outputs": [],
   "source": [
    "demand_forecast = demand_forecast.values"
   ]
  },
  {
   "cell_type": "code",
   "execution_count": 82,
   "id": "77361d63",
   "metadata": {},
   "outputs": [],
   "source": [
    "safety_factor = calculate_safety_factor(desired_service_level, standard_deviation)\n",
    "reorder_point = calculate_reorder_point (demand_forecast, lead_time, safety_factor)"
   ]
  },
  {
   "cell_type": "code",
   "execution_count": 83,
   "id": "52f18553",
   "metadata": {},
   "outputs": [
    {
     "data": {
      "text/plain": [
       "(nan, nan)"
      ]
     },
     "execution_count": 83,
     "metadata": {},
     "output_type": "execute_result"
    }
   ],
   "source": [
    "reorder_point"
   ]
  },
  {
   "cell_type": "code",
   "execution_count": 84,
   "id": "ae4af37c",
   "metadata": {},
   "outputs": [
    {
     "data": {
      "text/html": [
       "<div>\n",
       "<style scoped>\n",
       "    .dataframe tbody tr th:only-of-type {\n",
       "        vertical-align: middle;\n",
       "    }\n",
       "\n",
       "    .dataframe tbody tr th {\n",
       "        vertical-align: top;\n",
       "    }\n",
       "\n",
       "    .dataframe thead th {\n",
       "        text-align: right;\n",
       "    }\n",
       "</style>\n",
       "<table border=\"1\" class=\"dataframe\">\n",
       "  <thead>\n",
       "    <tr style=\"text-align: right;\">\n",
       "      <th></th>\n",
       "      <th>record_ID</th>\n",
       "      <th>week</th>\n",
       "      <th>store_id</th>\n",
       "      <th>sku_id</th>\n",
       "      <th>total_price</th>\n",
       "      <th>base_price</th>\n",
       "      <th>is_featured_sku</th>\n",
       "      <th>is_display_sku</th>\n",
       "      <th>units_sold</th>\n",
       "      <th>month</th>\n",
       "      <th>year</th>\n",
       "      <th>day_of_week</th>\n",
       "      <th>day_of_month</th>\n",
       "      <th>discount</th>\n",
       "    </tr>\n",
       "  </thead>\n",
       "  <tbody>\n",
       "    <tr>\n",
       "      <th>150149</th>\n",
       "      <td>212644</td>\n",
       "      <td>2013-07-09</td>\n",
       "      <td>9984</td>\n",
       "      <td>679023</td>\n",
       "      <td>234.4125</td>\n",
       "      <td>234.4125</td>\n",
       "      <td>0</td>\n",
       "      <td>0</td>\n",
       "      <td>2.708050</td>\n",
       "      <td>7</td>\n",
       "      <td>2013</td>\n",
       "      <td>1</td>\n",
       "      <td>9</td>\n",
       "      <td>0.0</td>\n",
       "    </tr>\n",
       "    <tr>\n",
       "      <th>149373</th>\n",
       "      <td>211528</td>\n",
       "      <td>2013-07-09</td>\n",
       "      <td>9092</td>\n",
       "      <td>679023</td>\n",
       "      <td>234.4125</td>\n",
       "      <td>234.4125</td>\n",
       "      <td>0</td>\n",
       "      <td>0</td>\n",
       "      <td>1.386294</td>\n",
       "      <td>7</td>\n",
       "      <td>2013</td>\n",
       "      <td>1</td>\n",
       "      <td>9</td>\n",
       "      <td>0.0</td>\n",
       "    </tr>\n",
       "    <tr>\n",
       "      <th>149300</th>\n",
       "      <td>211431</td>\n",
       "      <td>2013-07-09</td>\n",
       "      <td>8869</td>\n",
       "      <td>679023</td>\n",
       "      <td>234.4125</td>\n",
       "      <td>234.4125</td>\n",
       "      <td>0</td>\n",
       "      <td>0</td>\n",
       "      <td>2.708050</td>\n",
       "      <td>7</td>\n",
       "      <td>2013</td>\n",
       "      <td>1</td>\n",
       "      <td>9</td>\n",
       "      <td>0.0</td>\n",
       "    </tr>\n",
       "    <tr>\n",
       "      <th>149542</th>\n",
       "      <td>211772</td>\n",
       "      <td>2013-07-09</td>\n",
       "      <td>9281</td>\n",
       "      <td>679023</td>\n",
       "      <td>234.4125</td>\n",
       "      <td>234.4125</td>\n",
       "      <td>0</td>\n",
       "      <td>1</td>\n",
       "      <td>0.000000</td>\n",
       "      <td>7</td>\n",
       "      <td>2013</td>\n",
       "      <td>1</td>\n",
       "      <td>9</td>\n",
       "      <td>0.0</td>\n",
       "    </tr>\n",
       "    <tr>\n",
       "      <th>149063</th>\n",
       "      <td>211093</td>\n",
       "      <td>2013-07-09</td>\n",
       "      <td>8063</td>\n",
       "      <td>679023</td>\n",
       "      <td>234.4125</td>\n",
       "      <td>234.4125</td>\n",
       "      <td>0</td>\n",
       "      <td>0</td>\n",
       "      <td>0.693147</td>\n",
       "      <td>7</td>\n",
       "      <td>2013</td>\n",
       "      <td>1</td>\n",
       "      <td>9</td>\n",
       "      <td>0.0</td>\n",
       "    </tr>\n",
       "  </tbody>\n",
       "</table>\n",
       "</div>"
      ],
      "text/plain": [
       "        record_ID       week  store_id  sku_id  total_price  base_price  \\\n",
       "150149     212644 2013-07-09      9984  679023     234.4125    234.4125   \n",
       "149373     211528 2013-07-09      9092  679023     234.4125    234.4125   \n",
       "149300     211431 2013-07-09      8869  679023     234.4125    234.4125   \n",
       "149542     211772 2013-07-09      9281  679023     234.4125    234.4125   \n",
       "149063     211093 2013-07-09      8063  679023     234.4125    234.4125   \n",
       "\n",
       "        is_featured_sku  is_display_sku  units_sold  month  year  day_of_week  \\\n",
       "150149                0               0    2.708050      7  2013            1   \n",
       "149373                0               0    1.386294      7  2013            1   \n",
       "149300                0               0    2.708050      7  2013            1   \n",
       "149542                0               1    0.000000      7  2013            1   \n",
       "149063                0               0    0.693147      7  2013            1   \n",
       "\n",
       "        day_of_month  discount  \n",
       "150149             9       0.0  \n",
       "149373             9       0.0  \n",
       "149300             9       0.0  \n",
       "149542             9       0.0  \n",
       "149063             9       0.0  "
      ]
     },
     "execution_count": 84,
     "metadata": {},
     "output_type": "execute_result"
    }
   ],
   "source": [
    "# Starting RNN (Recurrent Neural Network)\n",
    "df_nrr = df_processed\n",
    "df_nrr.head()"
   ]
  },
  {
   "cell_type": "code",
   "execution_count": 85,
   "id": "9faeb680",
   "metadata": {},
   "outputs": [],
   "source": [
    "# Drop unnecessary columns\n",
    "df_nrr = df_nrr.drop(columns=['record_ID', 'week'])  # Drop unnecessary columns"
   ]
  },
  {
   "cell_type": "code",
   "execution_count": 86,
   "id": "48a9174e",
   "metadata": {},
   "outputs": [],
   "source": [
    "# Normalize numerical features\n",
    "scaler = StandardScaler()\n",
    "df_nrr[['total_price', 'base_price']] = scaler.fit_transform(df_nrr[['total_price', 'base_price']])"
   ]
  },
  {
   "cell_type": "code",
   "execution_count": 87,
   "id": "191528b5",
   "metadata": {},
   "outputs": [
    {
     "data": {
      "text/html": [
       "<div>\n",
       "<style scoped>\n",
       "    .dataframe tbody tr th:only-of-type {\n",
       "        vertical-align: middle;\n",
       "    }\n",
       "\n",
       "    .dataframe tbody tr th {\n",
       "        vertical-align: top;\n",
       "    }\n",
       "\n",
       "    .dataframe thead th {\n",
       "        text-align: right;\n",
       "    }\n",
       "</style>\n",
       "<table border=\"1\" class=\"dataframe\">\n",
       "  <thead>\n",
       "    <tr style=\"text-align: right;\">\n",
       "      <th></th>\n",
       "      <th>store_id</th>\n",
       "      <th>sku_id</th>\n",
       "      <th>total_price</th>\n",
       "      <th>base_price</th>\n",
       "      <th>is_featured_sku</th>\n",
       "      <th>is_display_sku</th>\n",
       "      <th>units_sold</th>\n",
       "      <th>month</th>\n",
       "      <th>year</th>\n",
       "      <th>day_of_week</th>\n",
       "      <th>day_of_month</th>\n",
       "      <th>discount</th>\n",
       "    </tr>\n",
       "  </thead>\n",
       "  <tbody>\n",
       "    <tr>\n",
       "      <th>150149</th>\n",
       "      <td>9984</td>\n",
       "      <td>679023</td>\n",
       "      <td>1.98884</td>\n",
       "      <td>2.27164</td>\n",
       "      <td>0</td>\n",
       "      <td>0</td>\n",
       "      <td>2.708050</td>\n",
       "      <td>7</td>\n",
       "      <td>2013</td>\n",
       "      <td>1</td>\n",
       "      <td>9</td>\n",
       "      <td>0.0</td>\n",
       "    </tr>\n",
       "    <tr>\n",
       "      <th>149373</th>\n",
       "      <td>9092</td>\n",
       "      <td>679023</td>\n",
       "      <td>1.98884</td>\n",
       "      <td>2.27164</td>\n",
       "      <td>0</td>\n",
       "      <td>0</td>\n",
       "      <td>1.386294</td>\n",
       "      <td>7</td>\n",
       "      <td>2013</td>\n",
       "      <td>1</td>\n",
       "      <td>9</td>\n",
       "      <td>0.0</td>\n",
       "    </tr>\n",
       "    <tr>\n",
       "      <th>149300</th>\n",
       "      <td>8869</td>\n",
       "      <td>679023</td>\n",
       "      <td>1.98884</td>\n",
       "      <td>2.27164</td>\n",
       "      <td>0</td>\n",
       "      <td>0</td>\n",
       "      <td>2.708050</td>\n",
       "      <td>7</td>\n",
       "      <td>2013</td>\n",
       "      <td>1</td>\n",
       "      <td>9</td>\n",
       "      <td>0.0</td>\n",
       "    </tr>\n",
       "    <tr>\n",
       "      <th>149542</th>\n",
       "      <td>9281</td>\n",
       "      <td>679023</td>\n",
       "      <td>1.98884</td>\n",
       "      <td>2.27164</td>\n",
       "      <td>0</td>\n",
       "      <td>1</td>\n",
       "      <td>0.000000</td>\n",
       "      <td>7</td>\n",
       "      <td>2013</td>\n",
       "      <td>1</td>\n",
       "      <td>9</td>\n",
       "      <td>0.0</td>\n",
       "    </tr>\n",
       "    <tr>\n",
       "      <th>149063</th>\n",
       "      <td>8063</td>\n",
       "      <td>679023</td>\n",
       "      <td>1.98884</td>\n",
       "      <td>2.27164</td>\n",
       "      <td>0</td>\n",
       "      <td>0</td>\n",
       "      <td>0.693147</td>\n",
       "      <td>7</td>\n",
       "      <td>2013</td>\n",
       "      <td>1</td>\n",
       "      <td>9</td>\n",
       "      <td>0.0</td>\n",
       "    </tr>\n",
       "  </tbody>\n",
       "</table>\n",
       "</div>"
      ],
      "text/plain": [
       "        store_id  sku_id  total_price  base_price  is_featured_sku  \\\n",
       "150149      9984  679023      1.98884     2.27164                0   \n",
       "149373      9092  679023      1.98884     2.27164                0   \n",
       "149300      8869  679023      1.98884     2.27164                0   \n",
       "149542      9281  679023      1.98884     2.27164                0   \n",
       "149063      8063  679023      1.98884     2.27164                0   \n",
       "\n",
       "        is_display_sku  units_sold  month  year  day_of_week  day_of_month  \\\n",
       "150149               0    2.708050      7  2013            1             9   \n",
       "149373               0    1.386294      7  2013            1             9   \n",
       "149300               0    2.708050      7  2013            1             9   \n",
       "149542               1    0.000000      7  2013            1             9   \n",
       "149063               0    0.693147      7  2013            1             9   \n",
       "\n",
       "        discount  \n",
       "150149       0.0  \n",
       "149373       0.0  \n",
       "149300       0.0  \n",
       "149542       0.0  \n",
       "149063       0.0  "
      ]
     },
     "execution_count": 87,
     "metadata": {},
     "output_type": "execute_result"
    }
   ],
   "source": [
    "df_nrr.head()"
   ]
  },
  {
   "cell_type": "code",
   "execution_count": 88,
   "id": "1b9e8a42",
   "metadata": {},
   "outputs": [],
   "source": [
    "# Split data into features (X) and target (y)\n",
    "X_nrr = df_nrr.drop(columns=['units_sold'])\n",
    "y_nrr = df_nrr['units_sold']"
   ]
  },
  {
   "cell_type": "code",
   "execution_count": 89,
   "id": "a616bf64",
   "metadata": {},
   "outputs": [],
   "source": [
    "# Split data into training and testing sets\n",
    "X_nrr_train, X_nrr_test, y_nrr_train, y_nrr_test = train_test_split(X_nrr, y_nrr, test_size=0.2, random_state=42)"
   ]
  },
  {
   "cell_type": "code",
   "execution_count": 90,
   "id": "c6f5bd1e",
   "metadata": {},
   "outputs": [],
   "source": [
    "# Reshape input data for LSTM\n",
    "X_nrr_train = np.array(X_nrr_train).reshape(X_nrr_train.shape[0], X_nrr_train.shape[1], 1)\n",
    "X_nrr_test = np.array(X_nrr_test).reshape(X_nrr_test.shape[0], X_nrr_test.shape[1], 1)"
   ]
  },
  {
   "cell_type": "code",
   "execution_count": 91,
   "id": "0abd8902",
   "metadata": {},
   "outputs": [
    {
     "data": {
      "text/plain": [
       "150149    2.708050\n",
       "149373    1.386294\n",
       "149300    2.708050\n",
       "149542    0.000000\n",
       "149063    0.693147\n",
       "Name: units_sold, dtype: float64"
      ]
     },
     "execution_count": 91,
     "metadata": {},
     "output_type": "execute_result"
    }
   ],
   "source": [
    "y_nrr.head()"
   ]
  },
  {
   "cell_type": "code",
   "execution_count": 92,
   "id": "36a2b45c",
   "metadata": {},
   "outputs": [
    {
     "data": {
      "text/html": [
       "<div>\n",
       "<style scoped>\n",
       "    .dataframe tbody tr th:only-of-type {\n",
       "        vertical-align: middle;\n",
       "    }\n",
       "\n",
       "    .dataframe tbody tr th {\n",
       "        vertical-align: top;\n",
       "    }\n",
       "\n",
       "    .dataframe thead th {\n",
       "        text-align: right;\n",
       "    }\n",
       "</style>\n",
       "<table border=\"1\" class=\"dataframe\">\n",
       "  <thead>\n",
       "    <tr style=\"text-align: right;\">\n",
       "      <th></th>\n",
       "      <th>store_id</th>\n",
       "      <th>sku_id</th>\n",
       "      <th>total_price</th>\n",
       "      <th>base_price</th>\n",
       "      <th>is_featured_sku</th>\n",
       "      <th>is_display_sku</th>\n",
       "      <th>month</th>\n",
       "      <th>year</th>\n",
       "      <th>day_of_week</th>\n",
       "      <th>day_of_month</th>\n",
       "      <th>discount</th>\n",
       "    </tr>\n",
       "  </thead>\n",
       "  <tbody>\n",
       "    <tr>\n",
       "      <th>150149</th>\n",
       "      <td>9984</td>\n",
       "      <td>679023</td>\n",
       "      <td>1.98884</td>\n",
       "      <td>2.27164</td>\n",
       "      <td>0</td>\n",
       "      <td>0</td>\n",
       "      <td>7</td>\n",
       "      <td>2013</td>\n",
       "      <td>1</td>\n",
       "      <td>9</td>\n",
       "      <td>0.0</td>\n",
       "    </tr>\n",
       "    <tr>\n",
       "      <th>149373</th>\n",
       "      <td>9092</td>\n",
       "      <td>679023</td>\n",
       "      <td>1.98884</td>\n",
       "      <td>2.27164</td>\n",
       "      <td>0</td>\n",
       "      <td>0</td>\n",
       "      <td>7</td>\n",
       "      <td>2013</td>\n",
       "      <td>1</td>\n",
       "      <td>9</td>\n",
       "      <td>0.0</td>\n",
       "    </tr>\n",
       "    <tr>\n",
       "      <th>149300</th>\n",
       "      <td>8869</td>\n",
       "      <td>679023</td>\n",
       "      <td>1.98884</td>\n",
       "      <td>2.27164</td>\n",
       "      <td>0</td>\n",
       "      <td>0</td>\n",
       "      <td>7</td>\n",
       "      <td>2013</td>\n",
       "      <td>1</td>\n",
       "      <td>9</td>\n",
       "      <td>0.0</td>\n",
       "    </tr>\n",
       "    <tr>\n",
       "      <th>149542</th>\n",
       "      <td>9281</td>\n",
       "      <td>679023</td>\n",
       "      <td>1.98884</td>\n",
       "      <td>2.27164</td>\n",
       "      <td>0</td>\n",
       "      <td>1</td>\n",
       "      <td>7</td>\n",
       "      <td>2013</td>\n",
       "      <td>1</td>\n",
       "      <td>9</td>\n",
       "      <td>0.0</td>\n",
       "    </tr>\n",
       "    <tr>\n",
       "      <th>149063</th>\n",
       "      <td>8063</td>\n",
       "      <td>679023</td>\n",
       "      <td>1.98884</td>\n",
       "      <td>2.27164</td>\n",
       "      <td>0</td>\n",
       "      <td>0</td>\n",
       "      <td>7</td>\n",
       "      <td>2013</td>\n",
       "      <td>1</td>\n",
       "      <td>9</td>\n",
       "      <td>0.0</td>\n",
       "    </tr>\n",
       "  </tbody>\n",
       "</table>\n",
       "</div>"
      ],
      "text/plain": [
       "        store_id  sku_id  total_price  base_price  is_featured_sku  \\\n",
       "150149      9984  679023      1.98884     2.27164                0   \n",
       "149373      9092  679023      1.98884     2.27164                0   \n",
       "149300      8869  679023      1.98884     2.27164                0   \n",
       "149542      9281  679023      1.98884     2.27164                0   \n",
       "149063      8063  679023      1.98884     2.27164                0   \n",
       "\n",
       "        is_display_sku  month  year  day_of_week  day_of_month  discount  \n",
       "150149               0      7  2013            1             9       0.0  \n",
       "149373               0      7  2013            1             9       0.0  \n",
       "149300               0      7  2013            1             9       0.0  \n",
       "149542               1      7  2013            1             9       0.0  \n",
       "149063               0      7  2013            1             9       0.0  "
      ]
     },
     "execution_count": 92,
     "metadata": {},
     "output_type": "execute_result"
    }
   ],
   "source": [
    "X_nrr.head()"
   ]
  },
  {
   "cell_type": "code",
   "execution_count": null,
   "id": "ce16b4ad",
   "metadata": {},
   "outputs": [],
   "source": []
  },
  {
   "cell_type": "code",
   "execution_count": 93,
   "id": "fc56c6f4",
   "metadata": {},
   "outputs": [
    {
     "name": "stdout",
     "output_type": "stream",
     "text": [
      "WARNING:tensorflow:From C:\\Users\\SiddharthaPaul\\anaconda3\\Lib\\site-packages\\keras\\src\\backend.py:873: The name tf.get_default_graph is deprecated. Please use tf.compat.v1.get_default_graph instead.\n",
      "\n"
     ]
    }
   ],
   "source": [
    "# Define the RNN model\n",
    "model = Sequential()\n",
    "model.add(LSTM(units=50, return_sequences=True, input_shape=(X_nrr_train.shape[1], 1)))\n",
    "model.add(Dropout(0.2))\n",
    "model.add(LSTM(units=50, return_sequences=True))\n",
    "model.add(Dropout(0.2))\n",
    "model.add(LSTM(units=50))\n",
    "model.add(Dropout(0.2))\n",
    "model.add(Dense(units=1))"
   ]
  },
  {
   "cell_type": "code",
   "execution_count": 94,
   "id": "1158495a",
   "metadata": {},
   "outputs": [],
   "source": [
    "# Compile the model\n",
    "optimizer = Adam(learning_rate=0.001)\n",
    "model.compile(optimizer=optimizer, loss='mean_squared_error')"
   ]
  },
  {
   "cell_type": "code",
   "execution_count": 95,
   "id": "f371c7e8",
   "metadata": {},
   "outputs": [
    {
     "name": "stdout",
     "output_type": "stream",
     "text": [
      "Epoch 1/100\n",
      "WARNING:tensorflow:From C:\\Users\\SiddharthaPaul\\anaconda3\\Lib\\site-packages\\keras\\src\\utils\\tf_utils.py:492: The name tf.ragged.RaggedTensorValue is deprecated. Please use tf.compat.v1.ragged.RaggedTensorValue instead.\n",
      "\n",
      "30/30 [==============================] - 11s 87ms/step - loss: 1.7255 - val_loss: 0.6352\n",
      "Epoch 2/100\n",
      "30/30 [==============================] - 1s 17ms/step - loss: 0.6246 - val_loss: 0.5632\n",
      "Epoch 3/100\n",
      "30/30 [==============================] - 1s 18ms/step - loss: 0.6256 - val_loss: 0.6021\n",
      "Epoch 4/100\n",
      "30/30 [==============================] - 1s 21ms/step - loss: 0.6253 - val_loss: 0.5989\n",
      "Epoch 5/100\n",
      "30/30 [==============================] - 1s 17ms/step - loss: 0.6017 - val_loss: 0.5485\n",
      "Epoch 6/100\n",
      "30/30 [==============================] - 1s 23ms/step - loss: 0.5930 - val_loss: 0.5363\n",
      "Epoch 7/100\n",
      "30/30 [==============================] - 1s 20ms/step - loss: 0.5880 - val_loss: 0.5308\n",
      "Epoch 8/100\n",
      "30/30 [==============================] - 0s 15ms/step - loss: 0.5792 - val_loss: 0.5634\n",
      "Epoch 9/100\n",
      "30/30 [==============================] - 1s 20ms/step - loss: 0.5615 - val_loss: 0.5202\n",
      "Epoch 10/100\n",
      "30/30 [==============================] - 0s 16ms/step - loss: 0.5712 - val_loss: 0.5212\n",
      "Epoch 11/100\n",
      "30/30 [==============================] - 1s 17ms/step - loss: 0.5596 - val_loss: 0.5175\n",
      "Epoch 12/100\n",
      "30/30 [==============================] - 0s 16ms/step - loss: 0.5514 - val_loss: 0.5201\n",
      "Epoch 13/100\n",
      "30/30 [==============================] - 0s 13ms/step - loss: 0.5640 - val_loss: 0.5317\n",
      "Epoch 14/100\n",
      "30/30 [==============================] - 0s 14ms/step - loss: 0.5655 - val_loss: 0.5187\n",
      "Epoch 15/100\n",
      "30/30 [==============================] - 0s 13ms/step - loss: 0.5630 - val_loss: 0.5632\n",
      "Epoch 16/100\n",
      "30/30 [==============================] - 0s 13ms/step - loss: 0.5374 - val_loss: 0.5170\n",
      "Epoch 17/100\n",
      "30/30 [==============================] - 0s 14ms/step - loss: 0.5588 - val_loss: 0.5268\n",
      "Epoch 18/100\n",
      "30/30 [==============================] - 1s 17ms/step - loss: 0.5487 - val_loss: 0.5298\n",
      "Epoch 19/100\n",
      "30/30 [==============================] - 0s 16ms/step - loss: 0.5671 - val_loss: 0.5184\n",
      "Epoch 20/100\n",
      "30/30 [==============================] - 1s 19ms/step - loss: 0.5442 - val_loss: 0.5203\n",
      "Epoch 21/100\n",
      "30/30 [==============================] - 0s 15ms/step - loss: 0.5572 - val_loss: 0.5243\n",
      "Epoch 22/100\n",
      "30/30 [==============================] - 1s 23ms/step - loss: 0.5521 - val_loss: 0.5197\n",
      "Epoch 23/100\n",
      "30/30 [==============================] - 1s 19ms/step - loss: 0.5528 - val_loss: 0.5217\n",
      "Epoch 24/100\n",
      "30/30 [==============================] - 1s 19ms/step - loss: 0.5516 - val_loss: 0.5261\n",
      "Epoch 25/100\n",
      "30/30 [==============================] - 1s 18ms/step - loss: 0.5775 - val_loss: 0.5239\n",
      "Epoch 26/100\n",
      "30/30 [==============================] - 1s 17ms/step - loss: 0.5496 - val_loss: 0.5214\n",
      "Epoch 27/100\n",
      "30/30 [==============================] - 1s 20ms/step - loss: 0.5526 - val_loss: 0.5293\n",
      "Epoch 28/100\n",
      "30/30 [==============================] - 1s 19ms/step - loss: 0.5398 - val_loss: 0.5267\n",
      "Epoch 29/100\n",
      "30/30 [==============================] - 1s 17ms/step - loss: 0.5591 - val_loss: 0.5221\n",
      "Epoch 30/100\n",
      "30/30 [==============================] - 1s 25ms/step - loss: 0.5600 - val_loss: 0.5263\n",
      "Epoch 31/100\n",
      "30/30 [==============================] - 0s 15ms/step - loss: 0.5453 - val_loss: 0.5306\n",
      "Epoch 32/100\n",
      "30/30 [==============================] - 0s 15ms/step - loss: 0.5495 - val_loss: 0.5395\n",
      "Epoch 33/100\n",
      "30/30 [==============================] - 1s 18ms/step - loss: 0.5525 - val_loss: 0.5360\n",
      "Epoch 34/100\n",
      "30/30 [==============================] - 1s 17ms/step - loss: 0.5532 - val_loss: 0.5202\n",
      "Epoch 35/100\n",
      "30/30 [==============================] - 1s 25ms/step - loss: 0.5498 - val_loss: 0.5208\n",
      "Epoch 36/100\n",
      "30/30 [==============================] - 1s 25ms/step - loss: 0.5588 - val_loss: 0.5194\n",
      "Epoch 37/100\n",
      "30/30 [==============================] - 1s 22ms/step - loss: 0.5381 - val_loss: 0.5390\n",
      "Epoch 38/100\n",
      "30/30 [==============================] - 1s 22ms/step - loss: 0.5435 - val_loss: 0.5210\n",
      "Epoch 39/100\n",
      "30/30 [==============================] - 1s 17ms/step - loss: 0.5462 - val_loss: 0.5194\n",
      "Epoch 40/100\n",
      "30/30 [==============================] - 1s 17ms/step - loss: 0.5544 - val_loss: 0.5245\n",
      "Epoch 41/100\n",
      "30/30 [==============================] - 1s 18ms/step - loss: 0.5540 - val_loss: 0.5462\n",
      "Epoch 42/100\n",
      "30/30 [==============================] - 0s 14ms/step - loss: 0.5547 - val_loss: 0.5322\n",
      "Epoch 43/100\n",
      "30/30 [==============================] - 0s 13ms/step - loss: 0.5602 - val_loss: 0.5256\n",
      "Epoch 44/100\n",
      "30/30 [==============================] - 0s 14ms/step - loss: 0.5566 - val_loss: 0.5245\n",
      "Epoch 45/100\n",
      "30/30 [==============================] - 0s 13ms/step - loss: 0.5586 - val_loss: 0.5202\n",
      "Epoch 46/100\n",
      "30/30 [==============================] - 0s 14ms/step - loss: 0.5332 - val_loss: 0.5156\n",
      "Epoch 47/100\n",
      "30/30 [==============================] - 0s 17ms/step - loss: 0.5388 - val_loss: 0.5137\n",
      "Epoch 48/100\n",
      "30/30 [==============================] - 1s 24ms/step - loss: 0.5374 - val_loss: 0.5277\n",
      "Epoch 49/100\n",
      "30/30 [==============================] - 1s 21ms/step - loss: 0.5363 - val_loss: 0.5187\n",
      "Epoch 50/100\n",
      "30/30 [==============================] - 0s 16ms/step - loss: 0.5330 - val_loss: 0.5155\n",
      "Epoch 51/100\n",
      "30/30 [==============================] - 1s 24ms/step - loss: 0.5320 - val_loss: 0.5076\n",
      "Epoch 52/100\n",
      "30/30 [==============================] - 1s 26ms/step - loss: 0.5417 - val_loss: 0.5295\n",
      "Epoch 53/100\n",
      "30/30 [==============================] - 1s 18ms/step - loss: 0.5405 - val_loss: 0.5027\n",
      "Epoch 54/100\n",
      "30/30 [==============================] - 0s 14ms/step - loss: 0.5376 - val_loss: 0.5332\n",
      "Epoch 55/100\n",
      "30/30 [==============================] - 1s 26ms/step - loss: 0.5205 - val_loss: 0.5025\n",
      "Epoch 56/100\n",
      "30/30 [==============================] - 1s 23ms/step - loss: 0.5421 - val_loss: 0.5247\n",
      "Epoch 57/100\n",
      "30/30 [==============================] - 1s 24ms/step - loss: 0.5355 - val_loss: 0.5396\n",
      "Epoch 58/100\n",
      "30/30 [==============================] - 1s 20ms/step - loss: 0.5277 - val_loss: 0.5028\n",
      "Epoch 59/100\n",
      "30/30 [==============================] - 1s 26ms/step - loss: 0.5377 - val_loss: 0.5035\n",
      "Epoch 60/100\n",
      "30/30 [==============================] - 1s 25ms/step - loss: 0.5382 - val_loss: 0.5003\n",
      "Epoch 61/100\n",
      "30/30 [==============================] - 1s 22ms/step - loss: 0.5332 - val_loss: 0.5187\n",
      "Epoch 62/100\n",
      "30/30 [==============================] - 1s 22ms/step - loss: 0.5350 - val_loss: 0.5037\n",
      "Epoch 63/100\n",
      "30/30 [==============================] - 1s 21ms/step - loss: 0.5142 - val_loss: 0.5082\n",
      "Epoch 64/100\n",
      "30/30 [==============================] - 0s 14ms/step - loss: 0.5219 - val_loss: 0.5024\n",
      "Epoch 65/100\n",
      "30/30 [==============================] - 0s 15ms/step - loss: 0.5343 - val_loss: 0.5017\n",
      "Epoch 66/100\n",
      "30/30 [==============================] - 0s 16ms/step - loss: 0.5190 - val_loss: 0.5052\n",
      "Epoch 67/100\n",
      "30/30 [==============================] - 0s 16ms/step - loss: 0.5347 - val_loss: 0.4951\n",
      "Epoch 68/100\n",
      "30/30 [==============================] - 1s 19ms/step - loss: 0.5311 - val_loss: 0.4953\n",
      "Epoch 69/100\n",
      "30/30 [==============================] - 1s 17ms/step - loss: 0.5240 - val_loss: 0.4947\n",
      "Epoch 70/100\n",
      "30/30 [==============================] - 0s 13ms/step - loss: 0.5144 - val_loss: 0.4930\n",
      "Epoch 71/100\n",
      "30/30 [==============================] - 0s 13ms/step - loss: 0.5158 - val_loss: 0.4931\n",
      "Epoch 72/100\n",
      "30/30 [==============================] - 0s 13ms/step - loss: 0.5127 - val_loss: 0.4971\n",
      "Epoch 73/100\n",
      "30/30 [==============================] - 0s 14ms/step - loss: 0.5132 - val_loss: 0.4887\n",
      "Epoch 74/100\n",
      "30/30 [==============================] - 0s 13ms/step - loss: 0.5139 - val_loss: 0.4893\n",
      "Epoch 75/100\n",
      "30/30 [==============================] - 0s 15ms/step - loss: 0.5220 - val_loss: 0.4900\n",
      "Epoch 76/100\n",
      "30/30 [==============================] - 0s 16ms/step - loss: 0.5181 - val_loss: 0.5143\n",
      "Epoch 77/100\n",
      "30/30 [==============================] - 0s 14ms/step - loss: 0.5226 - val_loss: 0.4884\n",
      "Epoch 78/100\n",
      "30/30 [==============================] - 0s 16ms/step - loss: 0.5026 - val_loss: 0.5068\n",
      "Epoch 79/100\n",
      "30/30 [==============================] - 0s 17ms/step - loss: 0.5122 - val_loss: 0.5065\n",
      "Epoch 80/100\n"
     ]
    },
    {
     "name": "stdout",
     "output_type": "stream",
     "text": [
      "30/30 [==============================] - 1s 18ms/step - loss: 0.5044 - val_loss: 0.4874\n",
      "Epoch 81/100\n",
      "30/30 [==============================] - 1s 17ms/step - loss: 0.5155 - val_loss: 0.4825\n",
      "Epoch 82/100\n",
      "30/30 [==============================] - 1s 17ms/step - loss: 0.5179 - val_loss: 0.4800\n",
      "Epoch 83/100\n",
      "30/30 [==============================] - 1s 17ms/step - loss: 0.5030 - val_loss: 0.4808\n",
      "Epoch 84/100\n",
      "30/30 [==============================] - 1s 18ms/step - loss: 0.5258 - val_loss: 0.5020\n",
      "Epoch 85/100\n",
      "30/30 [==============================] - 1s 16ms/step - loss: 0.5118 - val_loss: 0.4836\n",
      "Epoch 86/100\n",
      "30/30 [==============================] - 0s 16ms/step - loss: 0.5199 - val_loss: 0.4841\n",
      "Epoch 87/100\n",
      "30/30 [==============================] - 1s 17ms/step - loss: 0.5234 - val_loss: 0.4922\n",
      "Epoch 88/100\n",
      "30/30 [==============================] - 0s 16ms/step - loss: 0.5249 - val_loss: 0.4787\n",
      "Epoch 89/100\n",
      "30/30 [==============================] - 1s 20ms/step - loss: 0.5177 - val_loss: 0.4748\n",
      "Epoch 90/100\n",
      "30/30 [==============================] - 1s 21ms/step - loss: 0.5055 - val_loss: 0.4873\n",
      "Epoch 91/100\n",
      "30/30 [==============================] - 1s 24ms/step - loss: 0.5090 - val_loss: 0.4901\n",
      "Epoch 92/100\n",
      "30/30 [==============================] - 1s 20ms/step - loss: 0.5245 - val_loss: 0.4840\n",
      "Epoch 93/100\n",
      "30/30 [==============================] - 1s 24ms/step - loss: 0.4920 - val_loss: 0.4800\n",
      "Epoch 94/100\n",
      "30/30 [==============================] - 1s 19ms/step - loss: 0.5179 - val_loss: 0.4796\n",
      "Epoch 95/100\n",
      "30/30 [==============================] - 1s 20ms/step - loss: 0.5152 - val_loss: 0.4797\n",
      "Epoch 96/100\n",
      "30/30 [==============================] - 0s 14ms/step - loss: 0.5055 - val_loss: 0.4738\n",
      "Epoch 97/100\n",
      "30/30 [==============================] - 0s 15ms/step - loss: 0.4986 - val_loss: 0.4746\n",
      "Epoch 98/100\n",
      "30/30 [==============================] - 0s 14ms/step - loss: 0.5155 - val_loss: 0.4762\n",
      "Epoch 99/100\n",
      "30/30 [==============================] - 1s 18ms/step - loss: 0.4969 - val_loss: 0.4805\n",
      "Epoch 100/100\n",
      "30/30 [==============================] - 0s 16ms/step - loss: 0.5128 - val_loss: 0.4727\n"
     ]
    },
    {
     "data": {
      "text/plain": [
       "<keras.src.callbacks.History at 0x2489a39e3d0>"
      ]
     },
     "execution_count": 95,
     "metadata": {},
     "output_type": "execute_result"
    }
   ],
   "source": [
    "# Train the model\n",
    "model.fit(X_nrr_train, y_nrr_train, epochs=100, batch_size=32, validation_data=(X_nrr_test, y_nrr_test))"
   ]
  },
  {
   "cell_type": "code",
   "execution_count": 96,
   "id": "ab45ac25",
   "metadata": {},
   "outputs": [
    {
     "name": "stdout",
     "output_type": "stream",
     "text": [
      "8/8 [==============================] - 2s 8ms/step\n",
      "8/8 [==============================] - 0s 6ms/step - loss: 0.4727\n",
      "Test Loss: 0.4727075397968292\n",
      "Root Mean Squared Error (RMSE): 0.6875372781302352\n",
      "Mean Absolute Percentage Error (MAPE): inf\n"
     ]
    }
   ],
   "source": [
    "# Evaluate the model\n",
    "y_nrr_pred = model.predict(X_nrr_test).flatten()\n",
    "rmse_nrr = np.sqrt(mean_squared_error(y_nrr_test, y_nrr_pred))\n",
    "mape_nrr = np.mean(np.abs((y_nrr_test - y_nrr_pred) / y_nrr_test)) * 100\n",
    "loss_nrr = model.evaluate(X_nrr_test, y_nrr_test)\n",
    "\n",
    "print(\"Test Loss:\", loss_nrr)\n",
    "print(\"Root Mean Squared Error (RMSE):\", rmse_nrr)\n",
    "print(\"Mean Absolute Percentage Error (MAPE):\", mape_nrr)"
   ]
  },
  {
   "cell_type": "code",
   "execution_count": 97,
   "id": "7d218bf8",
   "metadata": {},
   "outputs": [
    {
     "data": {
      "image/png": "[encoded data removed]",
      "text/plain": [
       "<Figure size 1000x600 with 1 Axes>"
      ]
     },
     "metadata": {},
     "output_type": "display_data"
    }
   ],
   "source": [
    "plot_predictions(y_nrr_test, y_nrr_pred)"
   ]
  },
  {
   "cell_type": "code",
   "execution_count": 98,
   "id": "a8a73593",
   "metadata": {},
   "outputs": [
    {
     "data": {
      "text/plain": [
       "(0.6371756001474503, 0.6875372781302352)"
      ]
     },
     "execution_count": 98,
     "metadata": {},
     "output_type": "execute_result"
    }
   ],
   "source": [
    "rmse, rmse_nrr"
   ]
  },
  {
   "cell_type": "code",
   "execution_count": 99,
   "id": "53059f25",
   "metadata": {},
   "outputs": [
    {
     "name": "stdout",
     "output_type": "stream",
     "text": [
      "RMSE: 0.6875372781302352\n",
      "MSE: 0.4727075088187324\n"
     ]
    }
   ],
   "source": [
    "# Find RMSE\n",
    "mse_nrr = mean_squared_error(y_nrr_test, y_nrr_pred)\n",
    "rmse_nrr = np.sqrt(mse_nrr)\n",
    "print(\"RMSE:\",rmse_nrr)\n",
    "print(\"MSE:\",mse_nrr)"
   ]
  },
  {
   "cell_type": "code",
   "execution_count": 100,
   "id": "2b4ec09d",
   "metadata": {},
   "outputs": [
    {
     "name": "stdout",
     "output_type": "stream",
     "text": [
      "Accuracy: 78.53 %.\n"
     ]
    }
   ],
   "source": [
    "#Evaluate accuracy using MAPE\n",
    "y_nrr_true = np.array(y_nrr_test)\n",
    "sumvalue=np.sum(y_nrr_true)\n",
    "mape_nrr=np.sum(np.abs((y_nrr_true - y_nrr_pred)))/sumvalue*100\n",
    "accuracy_nrr=100-mape_nrr\n",
    "print('Accuracy:', round(accuracy_nrr,2),'%.')"
   ]
  },
  {
   "cell_type": "code",
   "execution_count": 101,
   "id": "2ef4873c",
   "metadata": {},
   "outputs": [
    {
     "data": {
      "text/plain": [
       "array([2.4447308, 2.5420723, 2.3898978, 2.568132 , 2.9879575, 2.389399 ,\n",
       "       2.6485014, 2.5661511, 2.222865 , 2.396194 , 2.3997922, 2.3949914,\n",
       "       3.156896 , 2.3922362, 2.1930861, 2.9828763, 2.6760602, 2.80616  ,\n",
       "       2.3745513, 2.4018626, 2.3856783, 2.4861445, 2.413269 , 2.4319148,\n",
       "       2.5180802, 2.4447308, 3.0252023, 2.4339466, 2.4319148, 2.7822971,\n",
       "       2.395853 , 2.38092  , 2.3805757, 2.7272358, 2.3816352, 2.382135 ,\n",
       "       2.1488116, 2.3717875, 2.514185 , 3.0345292, 2.4517694, 2.3789258,\n",
       "       2.3808885, 2.432366 , 2.3790712, 2.9263883, 2.387062 , 2.80616  ,\n",
       "       2.3897114, 2.4190612, 3.073103 , 2.3892431, 2.397099 , 2.3736396,\n",
       "       2.6611547, 3.148909 , 2.4298406, 2.5431538, 2.627429 , 2.5169525,\n",
       "       2.3879962, 2.9068623, 2.3949914, 2.3826203, 2.3717875, 3.207477 ,\n",
       "       2.421371 , 2.3786101, 2.3897114, 2.430698 , 2.5152965, 2.9745412,\n",
       "       2.7391944, 3.0325046, 2.504058 , 2.93441  , 3.1167974, 2.5169525,\n",
       "       2.3926415, 2.432366 , 2.430698 , 2.7272358, 2.3993692, 2.8247008,\n",
       "       2.395031 , 2.3790712, 3.148418 , 3.148418 , 2.3837495, 2.3963842,\n",
       "       2.3921227, 2.149476 , 3.1233525, 3.2386637, 3.199339 , 3.1266537,\n",
       "       2.3883076, 2.4447308, 2.3789258, 2.3852177, 2.3842573, 2.1488116,\n",
       "       2.3882475, 2.3919659, 2.3944807, 2.3926415, 3.1295757, 2.3689976,\n",
       "       2.372456 , 3.0427299, 2.4045863, 2.5937572, 2.7647018, 2.3921227,\n",
       "       2.397428 , 2.409059 , 2.5948834, 2.4239407, 2.439808 , 2.3710628,\n",
       "       2.222865 , 2.3792906, 2.8235435, 2.3993692, 2.3776722, 2.4190612,\n",
       "       3.2645774, 2.4771843, 2.3790712, 2.3856783, 3.2070584, 2.3792338,\n",
       "       2.8044314, 2.8584585, 2.3973064, 2.439808 , 2.8727622, 2.8707123,\n",
       "       2.3864274, 2.4482627, 2.3798747, 2.1655746, 2.3897114, 2.376727 ,\n",
       "       2.8584585, 3.0625024, 2.3949914, 2.9891896, 2.3824754, 2.4190612,\n",
       "       2.7562695, 2.4298406, 2.3856783, 2.4215093, 2.389399 , 2.3856783,\n",
       "       2.7844605, 2.6708503, 2.6458573, 2.4339466, 2.3997922, 2.372456 ,\n",
       "       2.127665 , 3.1615787, 2.3789258, 2.3944764, 2.222865 , 2.6983485,\n",
       "       3.2645097, 2.4298406, 2.387157 , 3.207477 , 2.4517694, 2.389399 ,\n",
       "       2.3745866, 2.3710628, 2.4319148, 2.6379442, 3.1154122, 2.9081645,\n",
       "       2.3717875, 2.5661511, 2.3775024, 2.376727 , 2.3884726, 2.3792892,\n",
       "       2.3986115, 2.4190612, 3.199339 , 3.093936 , 2.7302036, 2.4034972,\n",
       "       2.6520715, 3.1642537, 3.073103 , 2.4021287, 2.8247008, 3.1233525,\n",
       "       2.5859838, 2.627429 , 2.3790712, 2.3921227, 2.6732726, 2.3997922,\n",
       "       3.018425 , 2.635549 , 2.3909345, 2.7272358, 3.1302962, 2.5539818,\n",
       "       2.4498057, 3.1233525, 3.066761 , 2.3792338, 2.9263883, 2.4498057,\n",
       "       2.401332 , 2.5027723, 2.4190612, 2.4083757, 2.6983485, 2.3813057,\n",
       "       3.0325565, 2.514605 , 2.6112547, 2.374906 , 2.5306334, 2.378756 ,\n",
       "       2.4002738, 2.149476 , 3.1524992, 2.767065 , 2.3842573, 2.4498057],\n",
       "      dtype=float32)"
      ]
     },
     "execution_count": 101,
     "metadata": {},
     "output_type": "execute_result"
    }
   ],
   "source": [
    "y_nrr_pred"
   ]
  },
  {
   "cell_type": "code",
   "execution_count": 102,
   "id": "2b82ed06",
   "metadata": {},
   "outputs": [
    {
     "data": {
      "text/plain": [
       "array([3.29583687, 1.79175947, 1.09861229, 1.38629436, 2.07944154,\n",
       "       2.99573227, 2.19722458, 2.94443898, 2.07944154, 2.30258509,\n",
       "       1.94591015, 2.30258509, 3.25809654, 3.33220451, 2.63905733,\n",
       "       3.33220451, 2.30258509, 3.04452244, 2.56494936, 1.94591015,\n",
       "       2.99573227, 2.30258509, 1.94591015, 2.39789527, 3.4339872 ,\n",
       "       2.94443898, 3.4657359 , 1.94591015, 2.07944154, 2.56494936,\n",
       "       1.38629436, 2.07944154, 2.89037176, 2.99573227, 2.30258509,\n",
       "       2.83321334, 1.38629436, 3.25809654, 2.63905733, 3.93182563,\n",
       "       2.63905733, 2.94443898, 1.94591015, 1.38629436, 2.39789527,\n",
       "       2.89037176, 1.38629436, 2.39789527, 1.94591015, 1.09861229,\n",
       "       2.94443898, 2.99573227, 3.09104245, 1.94591015, 2.94443898,\n",
       "       3.49650756, 2.56494936, 3.68887945, 3.17805383, 1.38629436,\n",
       "       2.7080502 , 3.17805383, 2.77258872, 3.4339872 , 1.79175947,\n",
       "       3.52636052, 2.7080502 , 2.39789527, 0.        , 3.17805383,\n",
       "       3.4339872 , 3.55534806, 2.30258509, 4.00733319, 0.69314718,\n",
       "       2.63905733, 2.89037176, 3.63758616, 3.8501476 , 1.60943791,\n",
       "       2.7080502 , 3.29583687, 2.19722458, 3.52636052, 2.07944154,\n",
       "       1.94591015, 2.56494936, 2.07944154, 2.94443898, 2.30258509,\n",
       "       2.94443898, 2.07944154, 3.13549422, 3.58351894, 3.25809654,\n",
       "       2.56494936, 2.7080502 , 2.19722458, 2.19722458, 2.83321334,\n",
       "       2.39789527, 1.79175947, 2.30258509, 2.19722458, 2.19722458,\n",
       "       2.7080502 , 3.25809654, 1.94591015, 2.39789527, 3.49650756,\n",
       "       2.39789527, 2.7080502 , 2.89037176, 0.        , 2.19722458,\n",
       "       1.94591015, 3.21887582, 2.77258872, 2.30258509, 3.04452244,\n",
       "       1.60943791, 1.79175947, 2.39789527, 1.60943791, 2.89037176,\n",
       "       1.60943791, 3.13549422, 2.48490665, 0.        , 2.7080502 ,\n",
       "       3.61091791, 2.63905733, 2.30258509, 1.38629436, 2.7080502 ,\n",
       "       1.94591015, 3.09104245, 1.79175947, 2.7080502 , 2.94443898,\n",
       "       3.71357207, 1.38629436, 2.39789527, 3.4339872 , 2.77258872,\n",
       "       3.58351894, 1.79175947, 3.25809654, 3.09104245, 3.04452244,\n",
       "       2.19722458, 0.69314718, 2.7080502 , 3.09104245, 3.09104245,\n",
       "       1.94591015, 2.30258509, 3.4339872 , 3.58351894, 3.17805383,\n",
       "       2.39789527, 3.13549422, 2.83321334, 4.00733319, 1.38629436,\n",
       "       2.94443898, 3.21887582, 2.7080502 , 3.21887582, 2.89037176,\n",
       "       2.94443898, 3.87120101, 2.83321334, 1.09861229, 1.60943791,\n",
       "       2.77258872, 0.69314718, 2.99573227, 3.4339872 , 2.30258509,\n",
       "       1.94591015, 2.99573227, 1.38629436, 2.19722458, 2.89037176,\n",
       "       1.38629436, 3.66356165, 2.39789527, 3.8286414 , 2.63905733,\n",
       "       2.39789527, 2.99573227, 2.83321334, 2.94443898, 1.60943791,\n",
       "       2.77258872, 2.30258509, 3.58351894, 1.38629436, 2.07944154,\n",
       "       2.19722458, 1.60943791, 2.7080502 , 1.60943791, 2.63905733,\n",
       "       2.99573227, 2.39789527, 1.94591015, 2.94443898, 2.89037176,\n",
       "       1.94591015, 2.83321334, 3.21887582, 1.60943791, 2.77258872,\n",
       "       1.60943791, 1.94591015, 2.30258509, 2.77258872, 1.60943791,\n",
       "       3.04452244, 1.94591015, 3.17805383, 3.52636052, 2.99573227,\n",
       "       1.38629436, 3.4339872 , 2.99573227, 1.94591015, 3.09104245,\n",
       "       4.2341065 , 2.48490665, 1.38629436, 2.7080502 ])"
      ]
     },
     "execution_count": 102,
     "metadata": {},
     "output_type": "execute_result"
    }
   ],
   "source": [
    "y_nrr_true"
   ]
  },
  {
   "cell_type": "code",
   "execution_count": 103,
   "id": "111b6ae7",
   "metadata": {},
   "outputs": [
    {
     "data": {
      "text/html": [
       "<div>\n",
       "<style scoped>\n",
       "    .dataframe tbody tr th:only-of-type {\n",
       "        vertical-align: middle;\n",
       "    }\n",
       "\n",
       "    .dataframe tbody tr th {\n",
       "        vertical-align: top;\n",
       "    }\n",
       "\n",
       "    .dataframe thead th {\n",
       "        text-align: right;\n",
       "    }\n",
       "</style>\n",
       "<table border=\"1\" class=\"dataframe\">\n",
       "  <thead>\n",
       "    <tr style=\"text-align: right;\">\n",
       "      <th></th>\n",
       "      <th>y_nrr_test</th>\n",
       "      <th>y_nrr_pred</th>\n",
       "    </tr>\n",
       "  </thead>\n",
       "  <tbody>\n",
       "    <tr>\n",
       "      <th>0</th>\n",
       "      <td>3.295837</td>\n",
       "      <td>2.444731</td>\n",
       "    </tr>\n",
       "    <tr>\n",
       "      <th>1</th>\n",
       "      <td>1.791759</td>\n",
       "      <td>2.542072</td>\n",
       "    </tr>\n",
       "    <tr>\n",
       "      <th>2</th>\n",
       "      <td>1.098612</td>\n",
       "      <td>2.389898</td>\n",
       "    </tr>\n",
       "    <tr>\n",
       "      <th>3</th>\n",
       "      <td>1.386294</td>\n",
       "      <td>2.568132</td>\n",
       "    </tr>\n",
       "    <tr>\n",
       "      <th>4</th>\n",
       "      <td>2.079442</td>\n",
       "      <td>2.987957</td>\n",
       "    </tr>\n",
       "    <tr>\n",
       "      <th>...</th>\n",
       "      <td>...</td>\n",
       "      <td>...</td>\n",
       "    </tr>\n",
       "    <tr>\n",
       "      <th>229</th>\n",
       "      <td>3.091042</td>\n",
       "      <td>2.149476</td>\n",
       "    </tr>\n",
       "    <tr>\n",
       "      <th>230</th>\n",
       "      <td>4.234107</td>\n",
       "      <td>3.152499</td>\n",
       "    </tr>\n",
       "    <tr>\n",
       "      <th>231</th>\n",
       "      <td>2.484907</td>\n",
       "      <td>2.767065</td>\n",
       "    </tr>\n",
       "    <tr>\n",
       "      <th>232</th>\n",
       "      <td>1.386294</td>\n",
       "      <td>2.384257</td>\n",
       "    </tr>\n",
       "    <tr>\n",
       "      <th>233</th>\n",
       "      <td>2.708050</td>\n",
       "      <td>2.449806</td>\n",
       "    </tr>\n",
       "  </tbody>\n",
       "</table>\n",
       "<p>234 rows × 2 columns</p>\n",
       "</div>"
      ],
      "text/plain": [
       "     y_nrr_test  y_nrr_pred\n",
       "0      3.295837    2.444731\n",
       "1      1.791759    2.542072\n",
       "2      1.098612    2.389898\n",
       "3      1.386294    2.568132\n",
       "4      2.079442    2.987957\n",
       "..          ...         ...\n",
       "229    3.091042    2.149476\n",
       "230    4.234107    3.152499\n",
       "231    2.484907    2.767065\n",
       "232    1.386294    2.384257\n",
       "233    2.708050    2.449806\n",
       "\n",
       "[234 rows x 2 columns]"
      ]
     },
     "execution_count": 103,
     "metadata": {},
     "output_type": "execute_result"
    }
   ],
   "source": [
    "comp_nrr = pd.DataFrame(data=[y_nrr_true,y_nrr_pred]).T\n",
    "comp_nrr.columns=['y_nrr_test','y_nrr_pred']\n",
    "comp_nrr"
   ]
  },
  {
   "cell_type": "code",
   "execution_count": 104,
   "id": "2e4fd8b0",
   "metadata": {},
   "outputs": [],
   "source": [
    "# SARIMAX"
   ]
  },
  {
   "cell_type": "code",
   "execution_count": 105,
   "id": "8495f46b",
   "metadata": {},
   "outputs": [
    {
     "data": {
      "text/html": [
       "<div>\n",
       "<style scoped>\n",
       "    .dataframe tbody tr th:only-of-type {\n",
       "        vertical-align: middle;\n",
       "    }\n",
       "\n",
       "    .dataframe tbody tr th {\n",
       "        vertical-align: top;\n",
       "    }\n",
       "\n",
       "    .dataframe thead th {\n",
       "        text-align: right;\n",
       "    }\n",
       "</style>\n",
       "<table border=\"1\" class=\"dataframe\">\n",
       "  <thead>\n",
       "    <tr style=\"text-align: right;\">\n",
       "      <th></th>\n",
       "      <th>record_ID</th>\n",
       "      <th>week</th>\n",
       "      <th>store_id</th>\n",
       "      <th>sku_id</th>\n",
       "      <th>total_price</th>\n",
       "      <th>base_price</th>\n",
       "      <th>is_featured_sku</th>\n",
       "      <th>is_display_sku</th>\n",
       "      <th>units_sold</th>\n",
       "      <th>month</th>\n",
       "      <th>year</th>\n",
       "      <th>day_of_week</th>\n",
       "      <th>day_of_month</th>\n",
       "      <th>discount</th>\n",
       "    </tr>\n",
       "  </thead>\n",
       "  <tbody>\n",
       "    <tr>\n",
       "      <th>150149</th>\n",
       "      <td>212644</td>\n",
       "      <td>2013-07-09</td>\n",
       "      <td>9984</td>\n",
       "      <td>679023</td>\n",
       "      <td>234.4125</td>\n",
       "      <td>234.4125</td>\n",
       "      <td>0</td>\n",
       "      <td>0</td>\n",
       "      <td>2.708050</td>\n",
       "      <td>7</td>\n",
       "      <td>2013</td>\n",
       "      <td>1</td>\n",
       "      <td>9</td>\n",
       "      <td>0.0</td>\n",
       "    </tr>\n",
       "    <tr>\n",
       "      <th>149373</th>\n",
       "      <td>211528</td>\n",
       "      <td>2013-07-09</td>\n",
       "      <td>9092</td>\n",
       "      <td>679023</td>\n",
       "      <td>234.4125</td>\n",
       "      <td>234.4125</td>\n",
       "      <td>0</td>\n",
       "      <td>0</td>\n",
       "      <td>1.386294</td>\n",
       "      <td>7</td>\n",
       "      <td>2013</td>\n",
       "      <td>1</td>\n",
       "      <td>9</td>\n",
       "      <td>0.0</td>\n",
       "    </tr>\n",
       "    <tr>\n",
       "      <th>149300</th>\n",
       "      <td>211431</td>\n",
       "      <td>2013-07-09</td>\n",
       "      <td>8869</td>\n",
       "      <td>679023</td>\n",
       "      <td>234.4125</td>\n",
       "      <td>234.4125</td>\n",
       "      <td>0</td>\n",
       "      <td>0</td>\n",
       "      <td>2.708050</td>\n",
       "      <td>7</td>\n",
       "      <td>2013</td>\n",
       "      <td>1</td>\n",
       "      <td>9</td>\n",
       "      <td>0.0</td>\n",
       "    </tr>\n",
       "    <tr>\n",
       "      <th>149542</th>\n",
       "      <td>211772</td>\n",
       "      <td>2013-07-09</td>\n",
       "      <td>9281</td>\n",
       "      <td>679023</td>\n",
       "      <td>234.4125</td>\n",
       "      <td>234.4125</td>\n",
       "      <td>0</td>\n",
       "      <td>1</td>\n",
       "      <td>0.000000</td>\n",
       "      <td>7</td>\n",
       "      <td>2013</td>\n",
       "      <td>1</td>\n",
       "      <td>9</td>\n",
       "      <td>0.0</td>\n",
       "    </tr>\n",
       "    <tr>\n",
       "      <th>149063</th>\n",
       "      <td>211093</td>\n",
       "      <td>2013-07-09</td>\n",
       "      <td>8063</td>\n",
       "      <td>679023</td>\n",
       "      <td>234.4125</td>\n",
       "      <td>234.4125</td>\n",
       "      <td>0</td>\n",
       "      <td>0</td>\n",
       "      <td>0.693147</td>\n",
       "      <td>7</td>\n",
       "      <td>2013</td>\n",
       "      <td>1</td>\n",
       "      <td>9</td>\n",
       "      <td>0.0</td>\n",
       "    </tr>\n",
       "  </tbody>\n",
       "</table>\n",
       "</div>"
      ],
      "text/plain": [
       "        record_ID       week  store_id  sku_id  total_price  base_price  \\\n",
       "150149     212644 2013-07-09      9984  679023     234.4125    234.4125   \n",
       "149373     211528 2013-07-09      9092  679023     234.4125    234.4125   \n",
       "149300     211431 2013-07-09      8869  679023     234.4125    234.4125   \n",
       "149542     211772 2013-07-09      9281  679023     234.4125    234.4125   \n",
       "149063     211093 2013-07-09      8063  679023     234.4125    234.4125   \n",
       "\n",
       "        is_featured_sku  is_display_sku  units_sold  month  year  day_of_week  \\\n",
       "150149                0               0    2.708050      7  2013            1   \n",
       "149373                0               0    1.386294      7  2013            1   \n",
       "149300                0               0    2.708050      7  2013            1   \n",
       "149542                0               1    0.000000      7  2013            1   \n",
       "149063                0               0    0.693147      7  2013            1   \n",
       "\n",
       "        day_of_month  discount  \n",
       "150149             9       0.0  \n",
       "149373             9       0.0  \n",
       "149300             9       0.0  \n",
       "149542             9       0.0  \n",
       "149063             9       0.0  "
      ]
     },
     "execution_count": 105,
     "metadata": {},
     "output_type": "execute_result"
    }
   ],
   "source": [
    "df_processed.head()"
   ]
  },
  {
   "cell_type": "code",
   "execution_count": 106,
   "id": "d6229e9a",
   "metadata": {},
   "outputs": [
    {
     "name": "stdout",
     "output_type": "stream",
     "text": [
      "<class 'pandas.core.frame.DataFrame'>\n",
      "Index: 1170 entries, 150149 to 629\n",
      "Data columns (total 14 columns):\n",
      " #   Column           Non-Null Count  Dtype         \n",
      "---  ------           --------------  -----         \n",
      " 0   record_ID        1170 non-null   int64         \n",
      " 1   week             1170 non-null   datetime64[ns]\n",
      " 2   store_id         1170 non-null   int64         \n",
      " 3   sku_id           1170 non-null   int64         \n",
      " 4   total_price      1170 non-null   float64       \n",
      " 5   base_price       1170 non-null   float64       \n",
      " 6   is_featured_sku  1170 non-null   int64         \n",
      " 7   is_display_sku   1170 non-null   int64         \n",
      " 8   units_sold       1170 non-null   float64       \n",
      " 9   month            1170 non-null   int32         \n",
      " 10  year             1170 non-null   int32         \n",
      " 11  day_of_week      1170 non-null   int32         \n",
      " 12  day_of_month     1170 non-null   int32         \n",
      " 13  discount         1170 non-null   float64       \n",
      "dtypes: datetime64[ns](1), float64(4), int32(4), int64(5)\n",
      "memory usage: 151.1 KB\n"
     ]
    }
   ],
   "source": [
    "df_processed.info()"
   ]
  },
  {
   "cell_type": "code",
   "execution_count": 107,
   "id": "94a9fe3d",
   "metadata": {},
   "outputs": [
    {
     "data": {
      "text/html": [
       "<div>\n",
       "<style scoped>\n",
       "    .dataframe tbody tr th:only-of-type {\n",
       "        vertical-align: middle;\n",
       "    }\n",
       "\n",
       "    .dataframe tbody tr th {\n",
       "        vertical-align: top;\n",
       "    }\n",
       "\n",
       "    .dataframe thead th {\n",
       "        text-align: right;\n",
       "    }\n",
       "</style>\n",
       "<table border=\"1\" class=\"dataframe\">\n",
       "  <thead>\n",
       "    <tr style=\"text-align: right;\">\n",
       "      <th></th>\n",
       "      <th>record_ID</th>\n",
       "      <th>store_id</th>\n",
       "      <th>sku_id</th>\n",
       "      <th>total_price</th>\n",
       "      <th>base_price</th>\n",
       "      <th>is_featured_sku</th>\n",
       "      <th>is_display_sku</th>\n",
       "      <th>month</th>\n",
       "      <th>year</th>\n",
       "      <th>day_of_week</th>\n",
       "      <th>day_of_month</th>\n",
       "      <th>discount</th>\n",
       "    </tr>\n",
       "    <tr>\n",
       "      <th>week</th>\n",
       "      <th></th>\n",
       "      <th></th>\n",
       "      <th></th>\n",
       "      <th></th>\n",
       "      <th></th>\n",
       "      <th></th>\n",
       "      <th></th>\n",
       "      <th></th>\n",
       "      <th></th>\n",
       "      <th></th>\n",
       "      <th></th>\n",
       "      <th></th>\n",
       "    </tr>\n",
       "  </thead>\n",
       "  <tbody>\n",
       "    <tr>\n",
       "      <th>2013-07-09</th>\n",
       "      <td>212644</td>\n",
       "      <td>9984</td>\n",
       "      <td>679023</td>\n",
       "      <td>234.4125</td>\n",
       "      <td>234.4125</td>\n",
       "      <td>0</td>\n",
       "      <td>0</td>\n",
       "      <td>7</td>\n",
       "      <td>2013</td>\n",
       "      <td>1</td>\n",
       "      <td>9</td>\n",
       "      <td>0.0</td>\n",
       "    </tr>\n",
       "    <tr>\n",
       "      <th>2013-07-09</th>\n",
       "      <td>211528</td>\n",
       "      <td>9092</td>\n",
       "      <td>679023</td>\n",
       "      <td>234.4125</td>\n",
       "      <td>234.4125</td>\n",
       "      <td>0</td>\n",
       "      <td>0</td>\n",
       "      <td>7</td>\n",
       "      <td>2013</td>\n",
       "      <td>1</td>\n",
       "      <td>9</td>\n",
       "      <td>0.0</td>\n",
       "    </tr>\n",
       "    <tr>\n",
       "      <th>2013-07-09</th>\n",
       "      <td>211431</td>\n",
       "      <td>8869</td>\n",
       "      <td>679023</td>\n",
       "      <td>234.4125</td>\n",
       "      <td>234.4125</td>\n",
       "      <td>0</td>\n",
       "      <td>0</td>\n",
       "      <td>7</td>\n",
       "      <td>2013</td>\n",
       "      <td>1</td>\n",
       "      <td>9</td>\n",
       "      <td>0.0</td>\n",
       "    </tr>\n",
       "    <tr>\n",
       "      <th>2013-07-09</th>\n",
       "      <td>211772</td>\n",
       "      <td>9281</td>\n",
       "      <td>679023</td>\n",
       "      <td>234.4125</td>\n",
       "      <td>234.4125</td>\n",
       "      <td>0</td>\n",
       "      <td>1</td>\n",
       "      <td>7</td>\n",
       "      <td>2013</td>\n",
       "      <td>1</td>\n",
       "      <td>9</td>\n",
       "      <td>0.0</td>\n",
       "    </tr>\n",
       "    <tr>\n",
       "      <th>2013-07-09</th>\n",
       "      <td>211093</td>\n",
       "      <td>8063</td>\n",
       "      <td>679023</td>\n",
       "      <td>234.4125</td>\n",
       "      <td>234.4125</td>\n",
       "      <td>0</td>\n",
       "      <td>0</td>\n",
       "      <td>7</td>\n",
       "      <td>2013</td>\n",
       "      <td>1</td>\n",
       "      <td>9</td>\n",
       "      <td>0.0</td>\n",
       "    </tr>\n",
       "  </tbody>\n",
       "</table>\n",
       "</div>"
      ],
      "text/plain": [
       "            record_ID  store_id  sku_id  total_price  base_price  \\\n",
       "week                                                               \n",
       "2013-07-09     212644      9984  679023     234.4125    234.4125   \n",
       "2013-07-09     211528      9092  679023     234.4125    234.4125   \n",
       "2013-07-09     211431      8869  679023     234.4125    234.4125   \n",
       "2013-07-09     211772      9281  679023     234.4125    234.4125   \n",
       "2013-07-09     211093      8063  679023     234.4125    234.4125   \n",
       "\n",
       "            is_featured_sku  is_display_sku  month  year  day_of_week  \\\n",
       "week                                                                    \n",
       "2013-07-09                0               0      7  2013            1   \n",
       "2013-07-09                0               0      7  2013            1   \n",
       "2013-07-09                0               0      7  2013            1   \n",
       "2013-07-09                0               1      7  2013            1   \n",
       "2013-07-09                0               0      7  2013            1   \n",
       "\n",
       "            day_of_month  discount  \n",
       "week                                \n",
       "2013-07-09             9       0.0  \n",
       "2013-07-09             9       0.0  \n",
       "2013-07-09             9       0.0  \n",
       "2013-07-09             9       0.0  \n",
       "2013-07-09             9       0.0  "
      ]
     },
     "execution_count": 107,
     "metadata": {},
     "output_type": "execute_result"
    }
   ],
   "source": [
    "X_train.head()"
   ]
  },
  {
   "cell_type": "code",
   "execution_count": 108,
   "id": "9366df02",
   "metadata": {},
   "outputs": [
    {
     "data": {
      "text/plain": [
       "(935, 12)"
      ]
     },
     "execution_count": 108,
     "metadata": {},
     "output_type": "execute_result"
    },
    {
     "data": {
      "text/plain": [
       "(935, 1)"
      ]
     },
     "execution_count": 108,
     "metadata": {},
     "output_type": "execute_result"
    },
    {
     "data": {
      "text/plain": [
       "(234, 12)"
      ]
     },
     "execution_count": 108,
     "metadata": {},
     "output_type": "execute_result"
    },
    {
     "data": {
      "text/plain": [
       "(234, 1)"
      ]
     },
     "execution_count": 108,
     "metadata": {},
     "output_type": "execute_result"
    }
   ],
   "source": [
    "X_train_sarimax.shape\n",
    "y_train_sarimax.shape\n",
    "X_test_sarimax.shape\n",
    "y_test_sarimax.shape"
   ]
  },
  {
   "cell_type": "code",
   "execution_count": 109,
   "id": "fb277826",
   "metadata": {},
   "outputs": [],
   "source": [
    "X_test_sarimax.reset_index(drop=True, inplace=True)\n",
    "y_test_sarimax.reset_index(drop=True, inplace=True)\n",
    "X_train_sarimax.reset_index(drop=True, inplace=True)\n",
    "y_train_sarimax.reset_index(drop=True, inplace=True)"
   ]
  },
  {
   "cell_type": "code",
   "execution_count": 110,
   "id": "92993752",
   "metadata": {},
   "outputs": [
    {
     "data": {
      "text/html": [
       "<div>\n",
       "<style scoped>\n",
       "    .dataframe tbody tr th:only-of-type {\n",
       "        vertical-align: middle;\n",
       "    }\n",
       "\n",
       "    .dataframe tbody tr th {\n",
       "        vertical-align: top;\n",
       "    }\n",
       "\n",
       "    .dataframe thead th {\n",
       "        text-align: right;\n",
       "    }\n",
       "</style>\n",
       "<table border=\"1\" class=\"dataframe\">\n",
       "  <thead>\n",
       "    <tr style=\"text-align: right;\">\n",
       "      <th></th>\n",
       "      <th>record_ID</th>\n",
       "      <th>store_id</th>\n",
       "      <th>sku_id</th>\n",
       "      <th>total_price</th>\n",
       "      <th>base_price</th>\n",
       "      <th>is_featured_sku</th>\n",
       "      <th>is_display_sku</th>\n",
       "      <th>month</th>\n",
       "      <th>year</th>\n",
       "      <th>day_of_week</th>\n",
       "      <th>day_of_month</th>\n",
       "      <th>discount</th>\n",
       "    </tr>\n",
       "  </thead>\n",
       "  <tbody>\n",
       "    <tr>\n",
       "      <th>0</th>\n",
       "      <td>212644</td>\n",
       "      <td>9984</td>\n",
       "      <td>679023</td>\n",
       "      <td>234.4125</td>\n",
       "      <td>234.4125</td>\n",
       "      <td>0</td>\n",
       "      <td>0</td>\n",
       "      <td>7</td>\n",
       "      <td>2013</td>\n",
       "      <td>1</td>\n",
       "      <td>9</td>\n",
       "      <td>0.0</td>\n",
       "    </tr>\n",
       "    <tr>\n",
       "      <th>1</th>\n",
       "      <td>211528</td>\n",
       "      <td>9092</td>\n",
       "      <td>679023</td>\n",
       "      <td>234.4125</td>\n",
       "      <td>234.4125</td>\n",
       "      <td>0</td>\n",
       "      <td>0</td>\n",
       "      <td>7</td>\n",
       "      <td>2013</td>\n",
       "      <td>1</td>\n",
       "      <td>9</td>\n",
       "      <td>0.0</td>\n",
       "    </tr>\n",
       "    <tr>\n",
       "      <th>2</th>\n",
       "      <td>211431</td>\n",
       "      <td>8869</td>\n",
       "      <td>679023</td>\n",
       "      <td>234.4125</td>\n",
       "      <td>234.4125</td>\n",
       "      <td>0</td>\n",
       "      <td>0</td>\n",
       "      <td>7</td>\n",
       "      <td>2013</td>\n",
       "      <td>1</td>\n",
       "      <td>9</td>\n",
       "      <td>0.0</td>\n",
       "    </tr>\n",
       "    <tr>\n",
       "      <th>3</th>\n",
       "      <td>211772</td>\n",
       "      <td>9281</td>\n",
       "      <td>679023</td>\n",
       "      <td>234.4125</td>\n",
       "      <td>234.4125</td>\n",
       "      <td>0</td>\n",
       "      <td>1</td>\n",
       "      <td>7</td>\n",
       "      <td>2013</td>\n",
       "      <td>1</td>\n",
       "      <td>9</td>\n",
       "      <td>0.0</td>\n",
       "    </tr>\n",
       "    <tr>\n",
       "      <th>4</th>\n",
       "      <td>211093</td>\n",
       "      <td>8063</td>\n",
       "      <td>679023</td>\n",
       "      <td>234.4125</td>\n",
       "      <td>234.4125</td>\n",
       "      <td>0</td>\n",
       "      <td>0</td>\n",
       "      <td>7</td>\n",
       "      <td>2013</td>\n",
       "      <td>1</td>\n",
       "      <td>9</td>\n",
       "      <td>0.0</td>\n",
       "    </tr>\n",
       "  </tbody>\n",
       "</table>\n",
       "</div>"
      ],
      "text/plain": [
       "   record_ID  store_id  sku_id  total_price  base_price  is_featured_sku  \\\n",
       "0     212644      9984  679023     234.4125    234.4125                0   \n",
       "1     211528      9092  679023     234.4125    234.4125                0   \n",
       "2     211431      8869  679023     234.4125    234.4125                0   \n",
       "3     211772      9281  679023     234.4125    234.4125                0   \n",
       "4     211093      8063  679023     234.4125    234.4125                0   \n",
       "\n",
       "   is_display_sku  month  year  day_of_week  day_of_month  discount  \n",
       "0               0      7  2013            1             9       0.0  \n",
       "1               0      7  2013            1             9       0.0  \n",
       "2               0      7  2013            1             9       0.0  \n",
       "3               1      7  2013            1             9       0.0  \n",
       "4               0      7  2013            1             9       0.0  "
      ]
     },
     "execution_count": 110,
     "metadata": {},
     "output_type": "execute_result"
    }
   ],
   "source": [
    "X_train_sarimax.head()"
   ]
  },
  {
   "cell_type": "code",
   "execution_count": 111,
   "id": "87d52639",
   "metadata": {},
   "outputs": [],
   "source": [
    "X_train_sarimax = X_train_sarimax.loc[y_train_sarimax.index]  # Align indices with y_train\n",
    "y_train_sarimax = y_train_sarimax.loc[X_train_sarimax.index]  # Align indices with X_train"
   ]
  },
  {
   "cell_type": "code",
   "execution_count": 112,
   "id": "0339849e",
   "metadata": {},
   "outputs": [],
   "source": [
    "# Define and fit the SARIMAX model\n",
    "model_sarimax = SARIMAX(endog=y_train_sarimax, exog=X_train_sarimax, order=(1, 1, 1), seasonal_order=(1, 1, 1, 12))\n",
    "results_sarimax = model_sarimax.fit()"
   ]
  },
  {
   "cell_type": "code",
   "execution_count": 113,
   "id": "93790b35",
   "metadata": {},
   "outputs": [],
   "source": [
    "# Make predictions\n",
    "predictions = results_sarimax.predict(start=len(y_train_sarimax), end=len(y_train_sarimax)+len(y_test_sarimax)-1, exog=X_test_sarimax)"
   ]
  },
  {
   "cell_type": "code",
   "execution_count": 114,
   "id": "0e1b7ed3",
   "metadata": {},
   "outputs": [
    {
     "name": "stdout",
     "output_type": "stream",
     "text": [
      "Root Mean Squared Error (RMSE): 1.0661029981792427\n"
     ]
    }
   ],
   "source": [
    "# Calculate RMSE\n",
    "rmse_sarimax = np.sqrt(mean_squared_error(y_test_sarimax, predictions))\n",
    "print(\"Root Mean Squared Error (RMSE):\", rmse_sarimax)"
   ]
  },
  {
   "cell_type": "code",
   "execution_count": 115,
   "id": "eb920d13",
   "metadata": {},
   "outputs": [
    {
     "name": "stdout",
     "output_type": "stream",
     "text": [
      "935     2.380246\n",
      "936     2.514747\n",
      "937     3.398545\n",
      "938     2.750718\n",
      "939     2.356325\n",
      "          ...   \n",
      "1164    3.114234\n",
      "1165    3.868561\n",
      "1166    3.894105\n",
      "1167    4.101968\n",
      "1168    3.590927\n",
      "Name: predicted_mean, Length: 234, dtype: float64\n"
     ]
    }
   ],
   "source": [
    "print(predictions)"
   ]
  },
  {
   "cell_type": "code",
   "execution_count": 116,
   "id": "558f9b8c",
   "metadata": {},
   "outputs": [],
   "source": [
    "#Evaluate accuracy using MAPE\n",
    "y_true_sarimax = np.array(y_test_sarimax)"
   ]
  },
  {
   "cell_type": "code",
   "execution_count": 117,
   "id": "6e271e9d",
   "metadata": {},
   "outputs": [],
   "source": [
    "sumvalue=np.sum(y_true_sarimax)"
   ]
  },
  {
   "cell_type": "code",
   "execution_count": 118,
   "id": "9e2135e0",
   "metadata": {},
   "outputs": [
    {
     "data": {
      "text/plain": [
       "935     2.380246\n",
       "936     2.514747\n",
       "937     3.398545\n",
       "938     2.750718\n",
       "939     2.356325\n",
       "          ...   \n",
       "1164    3.114234\n",
       "1165    3.868561\n",
       "1166    3.894105\n",
       "1167    4.101968\n",
       "1168    3.590927\n",
       "Name: predicted_mean, Length: 234, dtype: float64"
      ]
     },
     "execution_count": 118,
     "metadata": {},
     "output_type": "execute_result"
    }
   ],
   "source": [
    "predictions"
   ]
  },
  {
   "cell_type": "code",
   "execution_count": 119,
   "id": "88815e6a",
   "metadata": {},
   "outputs": [],
   "source": [
    "predictions = predictions.values"
   ]
  },
  {
   "cell_type": "code",
   "execution_count": 120,
   "id": "9548bf95",
   "metadata": {},
   "outputs": [],
   "source": [
    "mape_sarimax=np.sum(np.abs((y_true_sarimax - predictions)))/sumvalue*100"
   ]
  },
  {
   "cell_type": "code",
   "execution_count": 121,
   "id": "ff174834",
   "metadata": {},
   "outputs": [
    {
     "name": "stdout",
     "output_type": "stream",
     "text": [
      "Accuracy: 78.53 %.\n"
     ]
    }
   ],
   "source": [
    "accuracy_sarimax=100-mape_nrr\n",
    "print('Accuracy:', round(accuracy_sarimax,2),'%.')"
   ]
  },
  {
   "cell_type": "code",
   "execution_count": 122,
   "id": "235d9735",
   "metadata": {},
   "outputs": [
    {
     "data": {
      "text/plain": [
       "(0.6371756001474503, 0.6875372781302352, 1.0661029981792427)"
      ]
     },
     "execution_count": 122,
     "metadata": {},
     "output_type": "execute_result"
    }
   ],
   "source": [
    "rmse, rmse_nrr, rmse_sarimax"
   ]
  },
  {
   "cell_type": "code",
   "execution_count": 123,
   "id": "d038cfc1",
   "metadata": {},
   "outputs": [
    {
     "data": {
      "text/plain": [
       "(1.8911320162089098, 1.9888116073785373, 2.904040369413868)"
      ]
     },
     "execution_count": 123,
     "metadata": {},
     "output_type": "execute_result"
    }
   ],
   "source": [
    "np.exp(rmse), np.exp(rmse_nrr), np.exp(rmse_sarimax)"
   ]
  },
  {
   "cell_type": "code",
   "execution_count": 124,
   "id": "b6faff90",
   "metadata": {},
   "outputs": [],
   "source": [
    "# Holt Winters\n"
   ]
  }
 ],
 "metadata": {
  "kernelspec": {
   "display_name": "Python 3 (ipykernel)",
   "language": "python",
   "name": "python3"
  },
  "language_info": {
   "codemirror_mode": {
    "name": "ipython",
    "version": 3
   },
   "file_extension": ".py",
   "mimetype": "text/x-python",
   "name": "python",
   "nbconvert_exporter": "python",
   "pygments_lexer": "ipython3",
   "version": "3.11.5"
  }
 },
 "nbformat": 4,
 "nbformat_minor": 5
}
