{
 "cells": [
  {
   "cell_type": "markdown",
   "id": "867cbde5",
   "metadata": {},
   "source": [
    "# Import libraries and data"
   ]
  },
  {
   "cell_type": "code",
   "execution_count": 1,
   "id": "8097987a",
   "metadata": {},
   "outputs": [],
   "source": [
    "# To print multiple output in a cell\n",
    "from IPython.core.interactiveshell import InteractiveShell\n",
    "InteractiveShell.ast_node_interactivity = 'all'"
   ]
  },
  {
   "cell_type": "code",
   "execution_count": 2,
   "id": "ece7fc6a",
   "metadata": {},
   "outputs": [
    {
     "name": "stdout",
     "output_type": "stream",
     "text": [
      "WARNING:tensorflow:From C:\\Users\\SiddharthaPaul\\anaconda3\\Lib\\site-packages\\keras\\src\\losses.py:2976: The name tf.losses.sparse_softmax_cross_entropy is deprecated. Please use tf.compat.v1.losses.sparse_softmax_cross_entropy instead.\n",
      "\n"
     ]
    }
   ],
   "source": [
    "# Import all required libraries\n",
    "import pandas as pd # Data manipulation and analysis library\n",
    "from statsmodels.tsa.seasonal import seasonal_decompose # Seasonal decomposition to check seasonality\n",
    "from sklearn.feature_selection import RFE # RFE (Recursive Feature Elimination) is for feature selection\n",
    "from sklearn.ensemble import RandomForestRegressor # Random forest modelling\n",
    "import numpy as np # For arrays and mathematical operations\n",
    "from statsmodels.tsa.stattools import adfuller # Dickey-fuller testto check stationarity of data\n",
    "from sklearn.metrics import mean_squared_error # For evaluating the model\n",
    "from sklearn.preprocessing import LabelEncoder # To encode categorical integer features\n",
    "import matplotlib.pyplot as plt # For plotting\n",
    "import seaborn as sns # Statistical data visualization\n",
    "import scipy.stats as stats # Statistical analysis\n",
    "import pylab # For plotting\n",
    "import warnings # To handle warnings\n",
    "warnings.filterwarnings(\"ignore\") # Ignore all warings\n",
    "from statsmodels.tsa.statespace.sarimax import SARIMAX # To do SARIMAX\n",
    "from sklearn.model_selection import train_test_split # To split into train and test data set\n",
    "from sklearn.preprocessing import StandardScaler # For RNN: Recursive neural network\n",
    "from keras.models import Sequential # For RNN\n",
    "from keras.layers import LSTM, Dense, Dropout # For RNN\n",
    "from keras.optimizers import Adam # For RNN"
   ]
  },
  {
   "cell_type": "code",
   "execution_count": 3,
   "id": "cba96e44",
   "metadata": {},
   "outputs": [],
   "source": [
    "# Ignore all warings\n",
    "warnings.filterwarnings(\"ignore\")"
   ]
  },
  {
   "cell_type": "code",
   "execution_count": 4,
   "id": "58afcf9b",
   "metadata": {},
   "outputs": [],
   "source": [
    "# Import data\n",
    "file_path = 'C:\\\\Users\\\\SiddharthaPaul\\\\OneDrive - Tata Business Hub Limited\\\\Desktop\\\\Hackathon'\n",
    "date_format = \"%d/%m/%y\"\n",
    "df = pd.read_csv(file_path+'\\\\train.csv', sep = ',', parse_dates = ['week'], date_parser = lambda x: pd.to_datetime(x, format = date_format))"
   ]
  },
  {
   "cell_type": "markdown",
   "id": "1fb7fe67",
   "metadata": {},
   "source": [
    "# Data cleaning"
   ]
  },
  {
   "cell_type": "code",
   "execution_count": 5,
   "id": "601fee48",
   "metadata": {},
   "outputs": [
    {
     "data": {
      "text/html": [
       "<div>\n",
       "<style scoped>\n",
       "    .dataframe tbody tr th:only-of-type {\n",
       "        vertical-align: middle;\n",
       "    }\n",
       "\n",
       "    .dataframe tbody tr th {\n",
       "        vertical-align: top;\n",
       "    }\n",
       "\n",
       "    .dataframe thead th {\n",
       "        text-align: right;\n",
       "    }\n",
       "</style>\n",
       "<table border=\"1\" class=\"dataframe\">\n",
       "  <thead>\n",
       "    <tr style=\"text-align: right;\">\n",
       "      <th></th>\n",
       "      <th>record_ID</th>\n",
       "      <th>week</th>\n",
       "      <th>store_id</th>\n",
       "      <th>sku_id</th>\n",
       "      <th>total_price</th>\n",
       "      <th>base_price</th>\n",
       "      <th>is_featured_sku</th>\n",
       "      <th>is_display_sku</th>\n",
       "      <th>units_sold</th>\n",
       "    </tr>\n",
       "  </thead>\n",
       "  <tbody>\n",
       "    <tr>\n",
       "      <th>0</th>\n",
       "      <td>1</td>\n",
       "      <td>2011-01-17</td>\n",
       "      <td>8091</td>\n",
       "      <td>216418</td>\n",
       "      <td>99.0375</td>\n",
       "      <td>111.8625</td>\n",
       "      <td>0</td>\n",
       "      <td>0</td>\n",
       "      <td>20</td>\n",
       "    </tr>\n",
       "    <tr>\n",
       "      <th>1</th>\n",
       "      <td>2</td>\n",
       "      <td>2011-01-17</td>\n",
       "      <td>8091</td>\n",
       "      <td>216419</td>\n",
       "      <td>99.0375</td>\n",
       "      <td>99.0375</td>\n",
       "      <td>0</td>\n",
       "      <td>0</td>\n",
       "      <td>28</td>\n",
       "    </tr>\n",
       "    <tr>\n",
       "      <th>2</th>\n",
       "      <td>3</td>\n",
       "      <td>2011-01-17</td>\n",
       "      <td>8091</td>\n",
       "      <td>216425</td>\n",
       "      <td>133.9500</td>\n",
       "      <td>133.9500</td>\n",
       "      <td>0</td>\n",
       "      <td>0</td>\n",
       "      <td>19</td>\n",
       "    </tr>\n",
       "    <tr>\n",
       "      <th>3</th>\n",
       "      <td>4</td>\n",
       "      <td>2011-01-17</td>\n",
       "      <td>8091</td>\n",
       "      <td>216233</td>\n",
       "      <td>133.9500</td>\n",
       "      <td>133.9500</td>\n",
       "      <td>0</td>\n",
       "      <td>0</td>\n",
       "      <td>44</td>\n",
       "    </tr>\n",
       "    <tr>\n",
       "      <th>4</th>\n",
       "      <td>5</td>\n",
       "      <td>2011-01-17</td>\n",
       "      <td>8091</td>\n",
       "      <td>217390</td>\n",
       "      <td>141.0750</td>\n",
       "      <td>141.0750</td>\n",
       "      <td>0</td>\n",
       "      <td>0</td>\n",
       "      <td>52</td>\n",
       "    </tr>\n",
       "  </tbody>\n",
       "</table>\n",
       "</div>"
      ],
      "text/plain": [
       "   record_ID       week  store_id  sku_id  total_price  base_price  \\\n",
       "0          1 2011-01-17      8091  216418      99.0375    111.8625   \n",
       "1          2 2011-01-17      8091  216419      99.0375     99.0375   \n",
       "2          3 2011-01-17      8091  216425     133.9500    133.9500   \n",
       "3          4 2011-01-17      8091  216233     133.9500    133.9500   \n",
       "4          5 2011-01-17      8091  217390     141.0750    141.0750   \n",
       "\n",
       "   is_featured_sku  is_display_sku  units_sold  \n",
       "0                0               0          20  \n",
       "1                0               0          28  \n",
       "2                0               0          19  \n",
       "3                0               0          44  \n",
       "4                0               0          52  "
      ]
     },
     "execution_count": 5,
     "metadata": {},
     "output_type": "execute_result"
    },
    {
     "data": {
      "text/plain": [
       "(150150, 9)"
      ]
     },
     "execution_count": 5,
     "metadata": {},
     "output_type": "execute_result"
    },
    {
     "name": "stdout",
     "output_type": "stream",
     "text": [
      "<class 'pandas.core.frame.DataFrame'>\n",
      "RangeIndex: 150150 entries, 0 to 150149\n",
      "Data columns (total 9 columns):\n",
      " #   Column           Non-Null Count   Dtype         \n",
      "---  ------           --------------   -----         \n",
      " 0   record_ID        150150 non-null  int64         \n",
      " 1   week             150150 non-null  datetime64[ns]\n",
      " 2   store_id         150150 non-null  int64         \n",
      " 3   sku_id           150150 non-null  int64         \n",
      " 4   total_price      150149 non-null  float64       \n",
      " 5   base_price       150150 non-null  float64       \n",
      " 6   is_featured_sku  150150 non-null  int64         \n",
      " 7   is_display_sku   150150 non-null  int64         \n",
      " 8   units_sold       150150 non-null  int64         \n",
      "dtypes: datetime64[ns](1), float64(2), int64(6)\n",
      "memory usage: 10.3 MB\n"
     ]
    }
   ],
   "source": [
    "# Characteristics of data\n",
    "df.head()\n",
    "df.shape\n",
    "df.info()"
   ]
  },
  {
   "cell_type": "code",
   "execution_count": 6,
   "id": "3aab5372",
   "metadata": {},
   "outputs": [
    {
     "data": {
      "text/plain": [
       "Timestamp('2013-07-09 00:00:00')"
      ]
     },
     "execution_count": 6,
     "metadata": {},
     "output_type": "execute_result"
    }
   ],
   "source": [
    "df['week'].max()"
   ]
  },
  {
   "cell_type": "code",
   "execution_count": 7,
   "id": "22df1928",
   "metadata": {},
   "outputs": [
    {
     "data": {
      "text/plain": [
       "Timestamp('2011-01-17 00:00:00')"
      ]
     },
     "execution_count": 7,
     "metadata": {},
     "output_type": "execute_result"
    }
   ],
   "source": [
    "df['week'].min()"
   ]
  },
  {
   "cell_type": "code",
   "execution_count": 8,
   "id": "6b70cc8a",
   "metadata": {},
   "outputs": [
    {
     "data": {
      "text/plain": [
       "record_ID          0\n",
       "week               0\n",
       "store_id           0\n",
       "sku_id             0\n",
       "total_price        1\n",
       "base_price         0\n",
       "is_featured_sku    0\n",
       "is_display_sku     0\n",
       "units_sold         0\n",
       "dtype: int64"
      ]
     },
     "execution_count": 8,
     "metadata": {},
     "output_type": "execute_result"
    }
   ],
   "source": [
    "# Check null values in the data\n",
    "df.isnull().sum()"
   ]
  },
  {
   "cell_type": "code",
   "execution_count": 9,
   "id": "dd303165",
   "metadata": {},
   "outputs": [
    {
     "data": {
      "text/plain": [
       "record_ID          0\n",
       "week               0\n",
       "store_id           0\n",
       "sku_id             0\n",
       "total_price        0\n",
       "base_price         0\n",
       "is_featured_sku    0\n",
       "is_display_sku     0\n",
       "units_sold         0\n",
       "dtype: int64"
      ]
     },
     "execution_count": 9,
     "metadata": {},
     "output_type": "execute_result"
    }
   ],
   "source": [
    "# Since total no. of rows = 150150 and the null value is only in 1 row, therefore, we will remove the null row\n",
    "# Calculate the total number of rows\n",
    "total_rows = len(df)\n",
    "# Calculate the number of rows with missing values\n",
    "na_rows = df.isna().any(axis=1).sum()\n",
    "if na_rows < total_rows * 0.01:\n",
    "    df.dropna(inplace=True)\n",
    "else:\n",
    "    # Fill missing values with the average of store_id and sku_id combination\n",
    "    df.fillna(df.groupby(['store_id', 'sku_id']).transform('mean'), inplace=True)\n",
    "df.isnull().sum()"
   ]
  },
  {
   "cell_type": "code",
   "execution_count": 10,
   "id": "e191446c",
   "metadata": {},
   "outputs": [
    {
     "data": {
      "text/plain": [
       "(150149, 9)"
      ]
     },
     "execution_count": 10,
     "metadata": {},
     "output_type": "execute_result"
    },
    {
     "data": {
      "text/plain": [
       "0"
      ]
     },
     "execution_count": 10,
     "metadata": {},
     "output_type": "execute_result"
    },
    {
     "data": {
      "text/plain": [
       "0"
      ]
     },
     "execution_count": 10,
     "metadata": {},
     "output_type": "execute_result"
    }
   ],
   "source": [
    "# Checking whether there are rows where the total_price or units_sold <=0\n",
    "df.shape\n",
    "df['total_price'].loc[df['total_price']<=0].count()\n",
    "df['units_sold'].loc[df['units_sold']<=0].count()"
   ]
  },
  {
   "cell_type": "code",
   "execution_count": 11,
   "id": "ecc4acda",
   "metadata": {},
   "outputs": [
    {
     "data": {
      "text/plain": [
       "(150149, 9)"
      ]
     },
     "execution_count": 11,
     "metadata": {},
     "output_type": "execute_result"
    }
   ],
   "source": [
    "# Delete rows with negative rows\n",
    "con1 = df['units_sold']<=0\n",
    "con2 = df['total_price']<=0\n",
    "df = df[~(con1 & con2)]\n",
    "df.shape"
   ]
  },
  {
   "cell_type": "code",
   "execution_count": 12,
   "id": "2054cbe3",
   "metadata": {},
   "outputs": [
    {
     "data": {
      "text/plain": [
       "(150149, 9)"
      ]
     },
     "execution_count": 12,
     "metadata": {},
     "output_type": "execute_result"
    },
    {
     "data": {
      "text/plain": [
       "(150149, 9)"
      ]
     },
     "execution_count": 12,
     "metadata": {},
     "output_type": "execute_result"
    }
   ],
   "source": [
    "# Dropping duplicates if any\n",
    "df.shape\n",
    "df = df.drop_duplicates(['week', 'store_id', 'sku_id'])\n",
    "df.shape"
   ]
  },
  {
   "cell_type": "code",
   "execution_count": 13,
   "id": "07a067c9",
   "metadata": {},
   "outputs": [
    {
     "data": {
      "text/html": [
       "<div>\n",
       "<style scoped>\n",
       "    .dataframe tbody tr th:only-of-type {\n",
       "        vertical-align: middle;\n",
       "    }\n",
       "\n",
       "    .dataframe tbody tr th {\n",
       "        vertical-align: top;\n",
       "    }\n",
       "\n",
       "    .dataframe thead th {\n",
       "        text-align: right;\n",
       "    }\n",
       "</style>\n",
       "<table border=\"1\" class=\"dataframe\">\n",
       "  <thead>\n",
       "    <tr style=\"text-align: right;\">\n",
       "      <th></th>\n",
       "      <th>record_ID</th>\n",
       "      <th>week</th>\n",
       "      <th>store_id</th>\n",
       "      <th>sku_id</th>\n",
       "      <th>total_price</th>\n",
       "      <th>base_price</th>\n",
       "      <th>is_featured_sku</th>\n",
       "      <th>is_display_sku</th>\n",
       "      <th>units_sold</th>\n",
       "    </tr>\n",
       "  </thead>\n",
       "  <tbody>\n",
       "    <tr>\n",
       "      <th>150149</th>\n",
       "      <td>212644</td>\n",
       "      <td>2013-07-09</td>\n",
       "      <td>9984</td>\n",
       "      <td>679023</td>\n",
       "      <td>234.4125</td>\n",
       "      <td>234.4125</td>\n",
       "      <td>0</td>\n",
       "      <td>0</td>\n",
       "      <td>15</td>\n",
       "    </tr>\n",
       "    <tr>\n",
       "      <th>149427</th>\n",
       "      <td>211610</td>\n",
       "      <td>2013-07-09</td>\n",
       "      <td>9164</td>\n",
       "      <td>378934</td>\n",
       "      <td>213.0375</td>\n",
       "      <td>213.0375</td>\n",
       "      <td>0</td>\n",
       "      <td>0</td>\n",
       "      <td>16</td>\n",
       "    </tr>\n",
       "    <tr>\n",
       "      <th>149375</th>\n",
       "      <td>211530</td>\n",
       "      <td>2013-07-09</td>\n",
       "      <td>9112</td>\n",
       "      <td>216418</td>\n",
       "      <td>110.4375</td>\n",
       "      <td>110.4375</td>\n",
       "      <td>0</td>\n",
       "      <td>0</td>\n",
       "      <td>162</td>\n",
       "    </tr>\n",
       "    <tr>\n",
       "      <th>149376</th>\n",
       "      <td>211531</td>\n",
       "      <td>2013-07-09</td>\n",
       "      <td>9112</td>\n",
       "      <td>216419</td>\n",
       "      <td>109.7250</td>\n",
       "      <td>109.7250</td>\n",
       "      <td>0</td>\n",
       "      <td>0</td>\n",
       "      <td>137</td>\n",
       "    </tr>\n",
       "    <tr>\n",
       "      <th>149377</th>\n",
       "      <td>211532</td>\n",
       "      <td>2013-07-09</td>\n",
       "      <td>9112</td>\n",
       "      <td>300021</td>\n",
       "      <td>109.0125</td>\n",
       "      <td>109.0125</td>\n",
       "      <td>0</td>\n",
       "      <td>0</td>\n",
       "      <td>108</td>\n",
       "    </tr>\n",
       "  </tbody>\n",
       "</table>\n",
       "</div>"
      ],
      "text/plain": [
       "        record_ID       week  store_id  sku_id  total_price  base_price  \\\n",
       "150149     212644 2013-07-09      9984  679023     234.4125    234.4125   \n",
       "149427     211610 2013-07-09      9164  378934     213.0375    213.0375   \n",
       "149375     211530 2013-07-09      9112  216418     110.4375    110.4375   \n",
       "149376     211531 2013-07-09      9112  216419     109.7250    109.7250   \n",
       "149377     211532 2013-07-09      9112  300021     109.0125    109.0125   \n",
       "\n",
       "        is_featured_sku  is_display_sku  units_sold  \n",
       "150149                0               0          15  \n",
       "149427                0               0          16  \n",
       "149375                0               0         162  \n",
       "149376                0               0         137  \n",
       "149377                0               0         108  "
      ]
     },
     "execution_count": 13,
     "metadata": {},
     "output_type": "execute_result"
    }
   ],
   "source": [
    "# Sort dataframe by date column in chronological order\n",
    "df = df.sort_values(by='week', ascending=False)\n",
    "df.head()"
   ]
  },
  {
   "cell_type": "markdown",
   "id": "10fbd88d",
   "metadata": {},
   "source": [
    "# Data Selection (Partly)"
   ]
  },
  {
   "cell_type": "code",
   "execution_count": 14,
   "id": "2b75708f",
   "metadata": {},
   "outputs": [],
   "source": [
    "# Function to create data frame for the selected store_id and sku_id\n",
    "def create_dataframe(sku_id, df):\n",
    "    # Filter the data for the specified store_id and sku_id\n",
    "    filtered_data = df[(df['sku_id'] == sku_id)]\n",
    "\n",
    "    # If no data is found for the specified sku_id, return None\n",
    "    if filtered_data.empty:\n",
    "        print(\"No data found for the specified sku_id.\")\n",
    "        return None\n",
    "\n",
    "    return filtered_data"
   ]
  },
  {
   "cell_type": "code",
   "execution_count": 15,
   "id": "093f17cd",
   "metadata": {},
   "outputs": [],
   "source": [
    "# Get user input for sku_id\n",
    "#sku_id = int(input(\"Enter sku_id: \"))\n",
    "sku_id=216425"
   ]
  },
  {
   "cell_type": "code",
   "execution_count": 16,
   "id": "d26a6b5a",
   "metadata": {},
   "outputs": [
    {
     "data": {
      "text/plain": [
       "int"
      ]
     },
     "execution_count": 16,
     "metadata": {},
     "output_type": "execute_result"
    }
   ],
   "source": [
    "type(sku_id)"
   ]
  },
  {
   "cell_type": "code",
   "execution_count": 17,
   "id": "c61a03ba",
   "metadata": {},
   "outputs": [
    {
     "data": {
      "text/html": [
       "<div>\n",
       "<style scoped>\n",
       "    .dataframe tbody tr th:only-of-type {\n",
       "        vertical-align: middle;\n",
       "    }\n",
       "\n",
       "    .dataframe tbody tr th {\n",
       "        vertical-align: top;\n",
       "    }\n",
       "\n",
       "    .dataframe thead th {\n",
       "        text-align: right;\n",
       "    }\n",
       "</style>\n",
       "<table border=\"1\" class=\"dataframe\">\n",
       "  <thead>\n",
       "    <tr style=\"text-align: right;\">\n",
       "      <th></th>\n",
       "      <th>record_ID</th>\n",
       "      <th>week</th>\n",
       "      <th>store_id</th>\n",
       "      <th>sku_id</th>\n",
       "      <th>total_price</th>\n",
       "      <th>base_price</th>\n",
       "      <th>is_featured_sku</th>\n",
       "      <th>is_display_sku</th>\n",
       "      <th>units_sold</th>\n",
       "    </tr>\n",
       "  </thead>\n",
       "  <tbody>\n",
       "    <tr>\n",
       "      <th>149378</th>\n",
       "      <td>211535</td>\n",
       "      <td>2013-07-09</td>\n",
       "      <td>9112</td>\n",
       "      <td>216425</td>\n",
       "      <td>141.7875</td>\n",
       "      <td>141.7875</td>\n",
       "      <td>0</td>\n",
       "      <td>0</td>\n",
       "      <td>72</td>\n",
       "    </tr>\n",
       "    <tr>\n",
       "      <th>149358</th>\n",
       "      <td>211511</td>\n",
       "      <td>2013-07-09</td>\n",
       "      <td>9092</td>\n",
       "      <td>216425</td>\n",
       "      <td>129.6750</td>\n",
       "      <td>129.6750</td>\n",
       "      <td>0</td>\n",
       "      <td>0</td>\n",
       "      <td>18</td>\n",
       "    </tr>\n",
       "    <tr>\n",
       "      <th>149420</th>\n",
       "      <td>211602</td>\n",
       "      <td>2013-07-09</td>\n",
       "      <td>9164</td>\n",
       "      <td>216425</td>\n",
       "      <td>141.0750</td>\n",
       "      <td>141.0750</td>\n",
       "      <td>0</td>\n",
       "      <td>0</td>\n",
       "      <td>44</td>\n",
       "    </tr>\n",
       "    <tr>\n",
       "      <th>149394</th>\n",
       "      <td>211560</td>\n",
       "      <td>2013-07-09</td>\n",
       "      <td>9132</td>\n",
       "      <td>216425</td>\n",
       "      <td>131.8125</td>\n",
       "      <td>131.8125</td>\n",
       "      <td>0</td>\n",
       "      <td>0</td>\n",
       "      <td>13</td>\n",
       "    </tr>\n",
       "    <tr>\n",
       "      <th>149406</th>\n",
       "      <td>211580</td>\n",
       "      <td>2013-07-09</td>\n",
       "      <td>9147</td>\n",
       "      <td>216425</td>\n",
       "      <td>133.2375</td>\n",
       "      <td>133.2375</td>\n",
       "      <td>0</td>\n",
       "      <td>0</td>\n",
       "      <td>61</td>\n",
       "    </tr>\n",
       "  </tbody>\n",
       "</table>\n",
       "</div>"
      ],
      "text/plain": [
       "        record_ID       week  store_id  sku_id  total_price  base_price  \\\n",
       "149378     211535 2013-07-09      9112  216425     141.7875    141.7875   \n",
       "149358     211511 2013-07-09      9092  216425     129.6750    129.6750   \n",
       "149420     211602 2013-07-09      9164  216425     141.0750    141.0750   \n",
       "149394     211560 2013-07-09      9132  216425     131.8125    131.8125   \n",
       "149406     211580 2013-07-09      9147  216425     133.2375    133.2375   \n",
       "\n",
       "        is_featured_sku  is_display_sku  units_sold  \n",
       "149378                0               0          72  \n",
       "149358                0               0          18  \n",
       "149420                0               0          44  \n",
       "149394                0               0          13  \n",
       "149406                0               0          61  "
      ]
     },
     "execution_count": 17,
     "metadata": {},
     "output_type": "execute_result"
    },
    {
     "data": {
      "text/plain": [
       "(8580, 9)"
      ]
     },
     "execution_count": 17,
     "metadata": {},
     "output_type": "execute_result"
    }
   ],
   "source": [
    "# Call the function with user inputs to create dataframe of selected store_id and sku_id\n",
    "df_selected = create_dataframe(sku_id,df)\n",
    "if df_selected is not None:\n",
    "    df_selected.head()\n",
    "    df_selected.shape"
   ]
  },
  {
   "cell_type": "code",
   "execution_count": 18,
   "id": "57a9dd9b",
   "metadata": {},
   "outputs": [],
   "source": [
    "#df_selected = df_selected.drop(columns=['record_ID', 'store_id'])"
   ]
  },
  {
   "cell_type": "code",
   "execution_count": 19,
   "id": "f394e619",
   "metadata": {},
   "outputs": [
    {
     "data": {
      "text/html": [
       "<div>\n",
       "<style scoped>\n",
       "    .dataframe tbody tr th:only-of-type {\n",
       "        vertical-align: middle;\n",
       "    }\n",
       "\n",
       "    .dataframe tbody tr th {\n",
       "        vertical-align: top;\n",
       "    }\n",
       "\n",
       "    .dataframe thead th {\n",
       "        text-align: right;\n",
       "    }\n",
       "</style>\n",
       "<table border=\"1\" class=\"dataframe\">\n",
       "  <thead>\n",
       "    <tr style=\"text-align: right;\">\n",
       "      <th></th>\n",
       "      <th>record_ID</th>\n",
       "      <th>week</th>\n",
       "      <th>store_id</th>\n",
       "      <th>sku_id</th>\n",
       "      <th>total_price</th>\n",
       "      <th>base_price</th>\n",
       "      <th>is_featured_sku</th>\n",
       "      <th>is_display_sku</th>\n",
       "      <th>units_sold</th>\n",
       "    </tr>\n",
       "  </thead>\n",
       "  <tbody>\n",
       "    <tr>\n",
       "      <th>149378</th>\n",
       "      <td>211535</td>\n",
       "      <td>2013-07-09</td>\n",
       "      <td>9112</td>\n",
       "      <td>216425</td>\n",
       "      <td>141.7875</td>\n",
       "      <td>141.7875</td>\n",
       "      <td>0</td>\n",
       "      <td>0</td>\n",
       "      <td>72</td>\n",
       "    </tr>\n",
       "    <tr>\n",
       "      <th>149358</th>\n",
       "      <td>211511</td>\n",
       "      <td>2013-07-09</td>\n",
       "      <td>9092</td>\n",
       "      <td>216425</td>\n",
       "      <td>129.6750</td>\n",
       "      <td>129.6750</td>\n",
       "      <td>0</td>\n",
       "      <td>0</td>\n",
       "      <td>18</td>\n",
       "    </tr>\n",
       "    <tr>\n",
       "      <th>149420</th>\n",
       "      <td>211602</td>\n",
       "      <td>2013-07-09</td>\n",
       "      <td>9164</td>\n",
       "      <td>216425</td>\n",
       "      <td>141.0750</td>\n",
       "      <td>141.0750</td>\n",
       "      <td>0</td>\n",
       "      <td>0</td>\n",
       "      <td>44</td>\n",
       "    </tr>\n",
       "    <tr>\n",
       "      <th>149394</th>\n",
       "      <td>211560</td>\n",
       "      <td>2013-07-09</td>\n",
       "      <td>9132</td>\n",
       "      <td>216425</td>\n",
       "      <td>131.8125</td>\n",
       "      <td>131.8125</td>\n",
       "      <td>0</td>\n",
       "      <td>0</td>\n",
       "      <td>13</td>\n",
       "    </tr>\n",
       "    <tr>\n",
       "      <th>149406</th>\n",
       "      <td>211580</td>\n",
       "      <td>2013-07-09</td>\n",
       "      <td>9147</td>\n",
       "      <td>216425</td>\n",
       "      <td>133.2375</td>\n",
       "      <td>133.2375</td>\n",
       "      <td>0</td>\n",
       "      <td>0</td>\n",
       "      <td>61</td>\n",
       "    </tr>\n",
       "  </tbody>\n",
       "</table>\n",
       "</div>"
      ],
      "text/plain": [
       "        record_ID       week  store_id  sku_id  total_price  base_price  \\\n",
       "149378     211535 2013-07-09      9112  216425     141.7875    141.7875   \n",
       "149358     211511 2013-07-09      9092  216425     129.6750    129.6750   \n",
       "149420     211602 2013-07-09      9164  216425     141.0750    141.0750   \n",
       "149394     211560 2013-07-09      9132  216425     131.8125    131.8125   \n",
       "149406     211580 2013-07-09      9147  216425     133.2375    133.2375   \n",
       "\n",
       "        is_featured_sku  is_display_sku  units_sold  \n",
       "149378                0               0          72  \n",
       "149358                0               0          18  \n",
       "149420                0               0          44  \n",
       "149394                0               0          13  \n",
       "149406                0               0          61  "
      ]
     },
     "execution_count": 19,
     "metadata": {},
     "output_type": "execute_result"
    }
   ],
   "source": [
    "df_selected.head()"
   ]
  },
  {
   "cell_type": "code",
   "execution_count": 20,
   "id": "9625818b",
   "metadata": {},
   "outputs": [],
   "source": [
    "# Group by sku_id and week and perform aggregation\n",
    "#df_selected = df.groupby(['sku_id','week']).agg({\n",
    "#    'total_price': 'mean',\n",
    "#    'base_price': 'mean',\n",
    "#    'is_featured_sku': 'max',\n",
    "#    'is_display_sku': 'max',\n",
    "#    'units_sold': 'sum'\n",
    "#}).reset_index()\n",
    "\n",
    "# Print the aggregated DataFrame\n",
    "#print(df_selected)"
   ]
  },
  {
   "cell_type": "markdown",
   "id": "1781cf8e",
   "metadata": {},
   "source": [
    "# Data Pre-processing"
   ]
  },
  {
   "cell_type": "code",
   "execution_count": 21,
   "id": "554a2094",
   "metadata": {},
   "outputs": [],
   "source": [
    "# Pre-processing the data\n",
    "def preprocess_data(df):\n",
    "    # Convert 'week' column to datetime type and extract seasonality features\n",
    "    df['week'] = pd.to_datetime(df['week'])\n",
    "    df['month'] = df['week'].dt.month\n",
    "    df['year'] = df['week'].dt.year\n",
    "    df['day_of_week'] = df['week'].dt.dayofweek\n",
    "    df['day_of_month'] = df['week'].dt.day\n",
    "    df['discount'] = df['base_price'] - df['total_price']\n",
    "    # Encode categorical variables 'is_featured_sku' and 'is_display_sku'\n",
    "    label_encoder = LabelEncoder()\n",
    "    df['is_featured_sku'] = label_encoder.fit_transform(df['is_featured_sku'])\n",
    "    df['is_display_sku'] = label_encoder.fit_transform(df['is_display_sku'])\n",
    "    \n",
    "    return df"
   ]
  },
  {
   "cell_type": "code",
   "execution_count": 22,
   "id": "468c0d0c",
   "metadata": {},
   "outputs": [],
   "source": [
    "# Call the function to pre-process the data\n",
    "df_processed = preprocess_data(df_selected)"
   ]
  },
  {
   "cell_type": "code",
   "execution_count": 23,
   "id": "cf8f1c30",
   "metadata": {},
   "outputs": [
    {
     "data": {
      "text/html": [
       "<div>\n",
       "<style scoped>\n",
       "    .dataframe tbody tr th:only-of-type {\n",
       "        vertical-align: middle;\n",
       "    }\n",
       "\n",
       "    .dataframe tbody tr th {\n",
       "        vertical-align: top;\n",
       "    }\n",
       "\n",
       "    .dataframe thead th {\n",
       "        text-align: right;\n",
       "    }\n",
       "</style>\n",
       "<table border=\"1\" class=\"dataframe\">\n",
       "  <thead>\n",
       "    <tr style=\"text-align: right;\">\n",
       "      <th></th>\n",
       "      <th>record_ID</th>\n",
       "      <th>week</th>\n",
       "      <th>store_id</th>\n",
       "      <th>sku_id</th>\n",
       "      <th>total_price</th>\n",
       "      <th>base_price</th>\n",
       "      <th>is_featured_sku</th>\n",
       "      <th>is_display_sku</th>\n",
       "      <th>units_sold</th>\n",
       "      <th>month</th>\n",
       "      <th>year</th>\n",
       "      <th>day_of_week</th>\n",
       "      <th>day_of_month</th>\n",
       "      <th>discount</th>\n",
       "    </tr>\n",
       "  </thead>\n",
       "  <tbody>\n",
       "    <tr>\n",
       "      <th>149378</th>\n",
       "      <td>211535</td>\n",
       "      <td>2013-07-09</td>\n",
       "      <td>9112</td>\n",
       "      <td>216425</td>\n",
       "      <td>141.7875</td>\n",
       "      <td>141.7875</td>\n",
       "      <td>0</td>\n",
       "      <td>0</td>\n",
       "      <td>72</td>\n",
       "      <td>7</td>\n",
       "      <td>2013</td>\n",
       "      <td>1</td>\n",
       "      <td>9</td>\n",
       "      <td>0.0</td>\n",
       "    </tr>\n",
       "    <tr>\n",
       "      <th>149358</th>\n",
       "      <td>211511</td>\n",
       "      <td>2013-07-09</td>\n",
       "      <td>9092</td>\n",
       "      <td>216425</td>\n",
       "      <td>129.6750</td>\n",
       "      <td>129.6750</td>\n",
       "      <td>0</td>\n",
       "      <td>0</td>\n",
       "      <td>18</td>\n",
       "      <td>7</td>\n",
       "      <td>2013</td>\n",
       "      <td>1</td>\n",
       "      <td>9</td>\n",
       "      <td>0.0</td>\n",
       "    </tr>\n",
       "    <tr>\n",
       "      <th>149420</th>\n",
       "      <td>211602</td>\n",
       "      <td>2013-07-09</td>\n",
       "      <td>9164</td>\n",
       "      <td>216425</td>\n",
       "      <td>141.0750</td>\n",
       "      <td>141.0750</td>\n",
       "      <td>0</td>\n",
       "      <td>0</td>\n",
       "      <td>44</td>\n",
       "      <td>7</td>\n",
       "      <td>2013</td>\n",
       "      <td>1</td>\n",
       "      <td>9</td>\n",
       "      <td>0.0</td>\n",
       "    </tr>\n",
       "    <tr>\n",
       "      <th>149394</th>\n",
       "      <td>211560</td>\n",
       "      <td>2013-07-09</td>\n",
       "      <td>9132</td>\n",
       "      <td>216425</td>\n",
       "      <td>131.8125</td>\n",
       "      <td>131.8125</td>\n",
       "      <td>0</td>\n",
       "      <td>0</td>\n",
       "      <td>13</td>\n",
       "      <td>7</td>\n",
       "      <td>2013</td>\n",
       "      <td>1</td>\n",
       "      <td>9</td>\n",
       "      <td>0.0</td>\n",
       "    </tr>\n",
       "    <tr>\n",
       "      <th>149406</th>\n",
       "      <td>211580</td>\n",
       "      <td>2013-07-09</td>\n",
       "      <td>9147</td>\n",
       "      <td>216425</td>\n",
       "      <td>133.2375</td>\n",
       "      <td>133.2375</td>\n",
       "      <td>0</td>\n",
       "      <td>0</td>\n",
       "      <td>61</td>\n",
       "      <td>7</td>\n",
       "      <td>2013</td>\n",
       "      <td>1</td>\n",
       "      <td>9</td>\n",
       "      <td>0.0</td>\n",
       "    </tr>\n",
       "  </tbody>\n",
       "</table>\n",
       "</div>"
      ],
      "text/plain": [
       "        record_ID       week  store_id  sku_id  total_price  base_price  \\\n",
       "149378     211535 2013-07-09      9112  216425     141.7875    141.7875   \n",
       "149358     211511 2013-07-09      9092  216425     129.6750    129.6750   \n",
       "149420     211602 2013-07-09      9164  216425     141.0750    141.0750   \n",
       "149394     211560 2013-07-09      9132  216425     131.8125    131.8125   \n",
       "149406     211580 2013-07-09      9147  216425     133.2375    133.2375   \n",
       "\n",
       "        is_featured_sku  is_display_sku  units_sold  month  year  day_of_week  \\\n",
       "149378                0               0          72      7  2013            1   \n",
       "149358                0               0          18      7  2013            1   \n",
       "149420                0               0          44      7  2013            1   \n",
       "149394                0               0          13      7  2013            1   \n",
       "149406                0               0          61      7  2013            1   \n",
       "\n",
       "        day_of_month  discount  \n",
       "149378             9       0.0  \n",
       "149358             9       0.0  \n",
       "149420             9       0.0  \n",
       "149394             9       0.0  \n",
       "149406             9       0.0  "
      ]
     },
     "execution_count": 23,
     "metadata": {},
     "output_type": "execute_result"
    }
   ],
   "source": [
    "df_processed.head()"
   ]
  },
  {
   "cell_type": "code",
   "execution_count": 24,
   "id": "4d5eac87",
   "metadata": {},
   "outputs": [],
   "source": [
    "#df_processed.drop(['week'], inplace=True, axis = 1)"
   ]
  },
  {
   "cell_type": "code",
   "execution_count": 25,
   "id": "125fefb4",
   "metadata": {},
   "outputs": [
    {
     "data": {
      "text/html": [
       "<div>\n",
       "<style scoped>\n",
       "    .dataframe tbody tr th:only-of-type {\n",
       "        vertical-align: middle;\n",
       "    }\n",
       "\n",
       "    .dataframe tbody tr th {\n",
       "        vertical-align: top;\n",
       "    }\n",
       "\n",
       "    .dataframe thead th {\n",
       "        text-align: right;\n",
       "    }\n",
       "</style>\n",
       "<table border=\"1\" class=\"dataframe\">\n",
       "  <thead>\n",
       "    <tr style=\"text-align: right;\">\n",
       "      <th></th>\n",
       "      <th>record_ID</th>\n",
       "      <th>week</th>\n",
       "      <th>store_id</th>\n",
       "      <th>sku_id</th>\n",
       "      <th>total_price</th>\n",
       "      <th>base_price</th>\n",
       "      <th>is_featured_sku</th>\n",
       "      <th>is_display_sku</th>\n",
       "      <th>units_sold</th>\n",
       "      <th>month</th>\n",
       "      <th>year</th>\n",
       "      <th>day_of_week</th>\n",
       "      <th>day_of_month</th>\n",
       "      <th>discount</th>\n",
       "    </tr>\n",
       "  </thead>\n",
       "  <tbody>\n",
       "    <tr>\n",
       "      <th>149378</th>\n",
       "      <td>211535</td>\n",
       "      <td>2013-07-09</td>\n",
       "      <td>9112</td>\n",
       "      <td>216425</td>\n",
       "      <td>141.7875</td>\n",
       "      <td>141.7875</td>\n",
       "      <td>0</td>\n",
       "      <td>0</td>\n",
       "      <td>72</td>\n",
       "      <td>7</td>\n",
       "      <td>2013</td>\n",
       "      <td>1</td>\n",
       "      <td>9</td>\n",
       "      <td>0.0</td>\n",
       "    </tr>\n",
       "    <tr>\n",
       "      <th>149358</th>\n",
       "      <td>211511</td>\n",
       "      <td>2013-07-09</td>\n",
       "      <td>9092</td>\n",
       "      <td>216425</td>\n",
       "      <td>129.6750</td>\n",
       "      <td>129.6750</td>\n",
       "      <td>0</td>\n",
       "      <td>0</td>\n",
       "      <td>18</td>\n",
       "      <td>7</td>\n",
       "      <td>2013</td>\n",
       "      <td>1</td>\n",
       "      <td>9</td>\n",
       "      <td>0.0</td>\n",
       "    </tr>\n",
       "    <tr>\n",
       "      <th>149420</th>\n",
       "      <td>211602</td>\n",
       "      <td>2013-07-09</td>\n",
       "      <td>9164</td>\n",
       "      <td>216425</td>\n",
       "      <td>141.0750</td>\n",
       "      <td>141.0750</td>\n",
       "      <td>0</td>\n",
       "      <td>0</td>\n",
       "      <td>44</td>\n",
       "      <td>7</td>\n",
       "      <td>2013</td>\n",
       "      <td>1</td>\n",
       "      <td>9</td>\n",
       "      <td>0.0</td>\n",
       "    </tr>\n",
       "    <tr>\n",
       "      <th>149394</th>\n",
       "      <td>211560</td>\n",
       "      <td>2013-07-09</td>\n",
       "      <td>9132</td>\n",
       "      <td>216425</td>\n",
       "      <td>131.8125</td>\n",
       "      <td>131.8125</td>\n",
       "      <td>0</td>\n",
       "      <td>0</td>\n",
       "      <td>13</td>\n",
       "      <td>7</td>\n",
       "      <td>2013</td>\n",
       "      <td>1</td>\n",
       "      <td>9</td>\n",
       "      <td>0.0</td>\n",
       "    </tr>\n",
       "    <tr>\n",
       "      <th>149406</th>\n",
       "      <td>211580</td>\n",
       "      <td>2013-07-09</td>\n",
       "      <td>9147</td>\n",
       "      <td>216425</td>\n",
       "      <td>133.2375</td>\n",
       "      <td>133.2375</td>\n",
       "      <td>0</td>\n",
       "      <td>0</td>\n",
       "      <td>61</td>\n",
       "      <td>7</td>\n",
       "      <td>2013</td>\n",
       "      <td>1</td>\n",
       "      <td>9</td>\n",
       "      <td>0.0</td>\n",
       "    </tr>\n",
       "  </tbody>\n",
       "</table>\n",
       "</div>"
      ],
      "text/plain": [
       "        record_ID       week  store_id  sku_id  total_price  base_price  \\\n",
       "149378     211535 2013-07-09      9112  216425     141.7875    141.7875   \n",
       "149358     211511 2013-07-09      9092  216425     129.6750    129.6750   \n",
       "149420     211602 2013-07-09      9164  216425     141.0750    141.0750   \n",
       "149394     211560 2013-07-09      9132  216425     131.8125    131.8125   \n",
       "149406     211580 2013-07-09      9147  216425     133.2375    133.2375   \n",
       "\n",
       "        is_featured_sku  is_display_sku  units_sold  month  year  day_of_week  \\\n",
       "149378                0               0          72      7  2013            1   \n",
       "149358                0               0          18      7  2013            1   \n",
       "149420                0               0          44      7  2013            1   \n",
       "149394                0               0          13      7  2013            1   \n",
       "149406                0               0          61      7  2013            1   \n",
       "\n",
       "        day_of_month  discount  \n",
       "149378             9       0.0  \n",
       "149358             9       0.0  \n",
       "149420             9       0.0  \n",
       "149394             9       0.0  \n",
       "149406             9       0.0  "
      ]
     },
     "execution_count": 25,
     "metadata": {},
     "output_type": "execute_result"
    }
   ],
   "source": [
    "df_processed.head()"
   ]
  },
  {
   "cell_type": "code",
   "execution_count": 26,
   "id": "c69940ac",
   "metadata": {},
   "outputs": [
    {
     "name": "stdout",
     "output_type": "stream",
     "text": [
      "ADF Statistic: -7.585355344646755\n",
      "p-value: 2.6155227314869616e-11\n"
     ]
    }
   ],
   "source": [
    "# Check if the data is stationary\n",
    "result = adfuller(df_processed['units_sold'].dropna())\n",
    "# Print the test statistic and p-value\n",
    "print('ADF Statistic:', result[0])\n",
    "print('p-value:', result[1])"
   ]
  },
  {
   "cell_type": "code",
   "execution_count": 27,
   "id": "842bcd25",
   "metadata": {},
   "outputs": [],
   "source": [
    "# Since the p-value is below 0.05,\n",
    "# the data can be assumed to be stationary hence we can proceed with the data without any transformation."
   ]
  },
  {
   "cell_type": "code",
   "execution_count": 28,
   "id": "7e12d333",
   "metadata": {},
   "outputs": [
    {
     "data": {
      "text/plain": [
       "(8580, 14)"
      ]
     },
     "execution_count": 28,
     "metadata": {},
     "output_type": "execute_result"
    }
   ],
   "source": [
    "df_processed.shape"
   ]
  },
  {
   "cell_type": "code",
   "execution_count": 29,
   "id": "eba71f3d",
   "metadata": {},
   "outputs": [
    {
     "data": {
      "text/plain": [
       "1.4209199486838835"
      ]
     },
     "execution_count": 29,
     "metadata": {},
     "output_type": "execute_result"
    }
   ],
   "source": [
    "df_processed['units_sold'].skew()"
   ]
  },
  {
   "cell_type": "code",
   "execution_count": 30,
   "id": "f88db18d",
   "metadata": {},
   "outputs": [],
   "source": [
    "# units sold is highly positively skewed since skewness > 1"
   ]
  },
  {
   "cell_type": "code",
   "execution_count": 31,
   "id": "3b821fdc",
   "metadata": {},
   "outputs": [
    {
     "data": {
      "text/plain": [
       "<Axes: >"
      ]
     },
     "execution_count": 31,
     "metadata": {},
     "output_type": "execute_result"
    },
    {
     "data": {
      "image/png": "[encoded data removed]",
      "text/plain": [
       "<Figure size 640x480 with 1 Axes>"
      ]
     },
     "metadata": {},
     "output_type": "display_data"
    }
   ],
   "source": [
    "df_processed.units_sold.hist()"
   ]
  },
  {
   "cell_type": "code",
   "execution_count": 32,
   "id": "722c336b",
   "metadata": {},
   "outputs": [
    {
     "data": {
      "text/plain": [
       "<Axes: xlabel='units_sold', ylabel='Density'>"
      ]
     },
     "execution_count": 32,
     "metadata": {},
     "output_type": "execute_result"
    },
    {
     "data": {
      "image/png": "[encoded data removed]",
      "text/plain": [
       "<Figure size 640x480 with 1 Axes>"
      ]
     },
     "metadata": {},
     "output_type": "display_data"
    }
   ],
   "source": [
    "sns.kdeplot(df_processed.units_sold)"
   ]
  },
  {
   "cell_type": "code",
   "execution_count": 33,
   "id": "f2e11038",
   "metadata": {},
   "outputs": [
    {
     "data": {
      "text/plain": [
       "<Figure size 1600x500 with 0 Axes>"
      ]
     },
     "execution_count": 33,
     "metadata": {},
     "output_type": "execute_result"
    },
    {
     "data": {
      "text/plain": [
       "<Axes: >"
      ]
     },
     "execution_count": 33,
     "metadata": {},
     "output_type": "execute_result"
    },
    {
     "data": {
      "text/plain": [
       "<Axes: xlabel='units_sold', ylabel='Density'>"
      ]
     },
     "execution_count": 33,
     "metadata": {},
     "output_type": "execute_result"
    },
    {
     "data": {
      "image/png": "[encoded data removed]",
      "text/plain": [
       "<Figure size 1600x500 with 1 Axes>"
      ]
     },
     "metadata": {},
     "output_type": "display_data"
    }
   ],
   "source": [
    "plt.figure(figsize=(16,5))\n",
    "plt.subplot(1,2,1)\n",
    "sns.distplot(df_processed['units_sold'])\n",
    "plt.show()"
   ]
  },
  {
   "cell_type": "code",
   "execution_count": 34,
   "id": "8fbfd9a5",
   "metadata": {},
   "outputs": [
    {
     "data": {
      "text/plain": [
       "((array([-3.77258292, -3.54529463, -3.42041149, ...,  3.42041149,\n",
       "          3.54529463,  3.77258292]),\n",
       "  array([  1,   1,   1, ..., 177, 181, 190], dtype=int64)),\n",
       " (23.691646652457017, 34.01923076923076, 0.93590491608157))"
      ]
     },
     "execution_count": 34,
     "metadata": {},
     "output_type": "execute_result"
    },
    {
     "data": {
      "image/png": "[encoded data removed]",
      "text/plain": [
       "<Figure size 640x480 with 1 Axes>"
      ]
     },
     "metadata": {},
     "output_type": "display_data"
    }
   ],
   "source": [
    "# Q-Q plot\n",
    "stats.probplot(df_processed.units_sold, plot = pylab)"
   ]
  },
  {
   "cell_type": "code",
   "execution_count": 35,
   "id": "cd236f46",
   "metadata": {},
   "outputs": [
    {
     "data": {
      "text/html": [
       "<div>\n",
       "<style scoped>\n",
       "    .dataframe tbody tr th:only-of-type {\n",
       "        vertical-align: middle;\n",
       "    }\n",
       "\n",
       "    .dataframe tbody tr th {\n",
       "        vertical-align: top;\n",
       "    }\n",
       "\n",
       "    .dataframe thead th {\n",
       "        text-align: right;\n",
       "    }\n",
       "</style>\n",
       "<table border=\"1\" class=\"dataframe\">\n",
       "  <thead>\n",
       "    <tr style=\"text-align: right;\">\n",
       "      <th></th>\n",
       "      <th>record_ID</th>\n",
       "      <th>week</th>\n",
       "      <th>store_id</th>\n",
       "      <th>sku_id</th>\n",
       "      <th>total_price</th>\n",
       "      <th>base_price</th>\n",
       "      <th>is_featured_sku</th>\n",
       "      <th>is_display_sku</th>\n",
       "      <th>units_sold</th>\n",
       "      <th>month</th>\n",
       "      <th>year</th>\n",
       "      <th>day_of_week</th>\n",
       "      <th>day_of_month</th>\n",
       "      <th>discount</th>\n",
       "    </tr>\n",
       "  </thead>\n",
       "  <tbody>\n",
       "    <tr>\n",
       "      <th>4622</th>\n",
       "      <td>6555</td>\n",
       "      <td>2011-02-14</td>\n",
       "      <td>8091</td>\n",
       "      <td>216425</td>\n",
       "      <td>133.2375</td>\n",
       "      <td>133.2375</td>\n",
       "      <td>0</td>\n",
       "      <td>0</td>\n",
       "      <td>23</td>\n",
       "      <td>2</td>\n",
       "      <td>2011</td>\n",
       "      <td>0</td>\n",
       "      <td>14</td>\n",
       "      <td>0.0</td>\n",
       "    </tr>\n",
       "    <tr>\n",
       "      <th>3467</th>\n",
       "      <td>4915</td>\n",
       "      <td>2011-02-07</td>\n",
       "      <td>8091</td>\n",
       "      <td>216425</td>\n",
       "      <td>133.9500</td>\n",
       "      <td>133.9500</td>\n",
       "      <td>0</td>\n",
       "      <td>0</td>\n",
       "      <td>18</td>\n",
       "      <td>2</td>\n",
       "      <td>2011</td>\n",
       "      <td>0</td>\n",
       "      <td>7</td>\n",
       "      <td>0.0</td>\n",
       "    </tr>\n",
       "    <tr>\n",
       "      <th>2312</th>\n",
       "      <td>3279</td>\n",
       "      <td>2011-01-31</td>\n",
       "      <td>8091</td>\n",
       "      <td>216425</td>\n",
       "      <td>133.2375</td>\n",
       "      <td>133.2375</td>\n",
       "      <td>0</td>\n",
       "      <td>0</td>\n",
       "      <td>27</td>\n",
       "      <td>1</td>\n",
       "      <td>2011</td>\n",
       "      <td>0</td>\n",
       "      <td>31</td>\n",
       "      <td>0.0</td>\n",
       "    </tr>\n",
       "    <tr>\n",
       "      <th>1157</th>\n",
       "      <td>1643</td>\n",
       "      <td>2011-01-24</td>\n",
       "      <td>8091</td>\n",
       "      <td>216425</td>\n",
       "      <td>134.6625</td>\n",
       "      <td>134.6625</td>\n",
       "      <td>0</td>\n",
       "      <td>0</td>\n",
       "      <td>17</td>\n",
       "      <td>1</td>\n",
       "      <td>2011</td>\n",
       "      <td>0</td>\n",
       "      <td>24</td>\n",
       "      <td>0.0</td>\n",
       "    </tr>\n",
       "    <tr>\n",
       "      <th>2</th>\n",
       "      <td>3</td>\n",
       "      <td>2011-01-17</td>\n",
       "      <td>8091</td>\n",
       "      <td>216425</td>\n",
       "      <td>133.9500</td>\n",
       "      <td>133.9500</td>\n",
       "      <td>0</td>\n",
       "      <td>0</td>\n",
       "      <td>19</td>\n",
       "      <td>1</td>\n",
       "      <td>2011</td>\n",
       "      <td>0</td>\n",
       "      <td>17</td>\n",
       "      <td>0.0</td>\n",
       "    </tr>\n",
       "  </tbody>\n",
       "</table>\n",
       "</div>"
      ],
      "text/plain": [
       "      record_ID       week  store_id  sku_id  total_price  base_price  \\\n",
       "4622       6555 2011-02-14      8091  216425     133.2375    133.2375   \n",
       "3467       4915 2011-02-07      8091  216425     133.9500    133.9500   \n",
       "2312       3279 2011-01-31      8091  216425     133.2375    133.2375   \n",
       "1157       1643 2011-01-24      8091  216425     134.6625    134.6625   \n",
       "2             3 2011-01-17      8091  216425     133.9500    133.9500   \n",
       "\n",
       "      is_featured_sku  is_display_sku  units_sold  month  year  day_of_week  \\\n",
       "4622                0               0          23      2  2011            0   \n",
       "3467                0               0          18      2  2011            0   \n",
       "2312                0               0          27      1  2011            0   \n",
       "1157                0               0          17      1  2011            0   \n",
       "2                   0               0          19      1  2011            0   \n",
       "\n",
       "      day_of_month  discount  \n",
       "4622            14       0.0  \n",
       "3467             7       0.0  \n",
       "2312            31       0.0  \n",
       "1157            24       0.0  \n",
       "2               17       0.0  "
      ]
     },
     "execution_count": 35,
     "metadata": {},
     "output_type": "execute_result"
    }
   ],
   "source": [
    "# Tail of the data\n",
    "df_processed.loc[df_processed['store_id']==8091].tail()"
   ]
  },
  {
   "cell_type": "code",
   "execution_count": 36,
   "id": "f1e824e3",
   "metadata": {},
   "outputs": [],
   "source": [
    "# Logarithmic transformation of data\n",
    "df_processed['units_sold'] = np.log(df_processed['units_sold'])"
   ]
  },
  {
   "cell_type": "code",
   "execution_count": 37,
   "id": "54528f77",
   "metadata": {},
   "outputs": [
    {
     "data": {
      "text/html": [
       "<div>\n",
       "<style scoped>\n",
       "    .dataframe tbody tr th:only-of-type {\n",
       "        vertical-align: middle;\n",
       "    }\n",
       "\n",
       "    .dataframe tbody tr th {\n",
       "        vertical-align: top;\n",
       "    }\n",
       "\n",
       "    .dataframe thead th {\n",
       "        text-align: right;\n",
       "    }\n",
       "</style>\n",
       "<table border=\"1\" class=\"dataframe\">\n",
       "  <thead>\n",
       "    <tr style=\"text-align: right;\">\n",
       "      <th></th>\n",
       "      <th>record_ID</th>\n",
       "      <th>week</th>\n",
       "      <th>store_id</th>\n",
       "      <th>sku_id</th>\n",
       "      <th>total_price</th>\n",
       "      <th>base_price</th>\n",
       "      <th>is_featured_sku</th>\n",
       "      <th>is_display_sku</th>\n",
       "      <th>units_sold</th>\n",
       "      <th>month</th>\n",
       "      <th>year</th>\n",
       "      <th>day_of_week</th>\n",
       "      <th>day_of_month</th>\n",
       "      <th>discount</th>\n",
       "    </tr>\n",
       "  </thead>\n",
       "  <tbody>\n",
       "    <tr>\n",
       "      <th>4622</th>\n",
       "      <td>6555</td>\n",
       "      <td>2011-02-14</td>\n",
       "      <td>8091</td>\n",
       "      <td>216425</td>\n",
       "      <td>133.2375</td>\n",
       "      <td>133.2375</td>\n",
       "      <td>0</td>\n",
       "      <td>0</td>\n",
       "      <td>3.135494</td>\n",
       "      <td>2</td>\n",
       "      <td>2011</td>\n",
       "      <td>0</td>\n",
       "      <td>14</td>\n",
       "      <td>0.0</td>\n",
       "    </tr>\n",
       "    <tr>\n",
       "      <th>3467</th>\n",
       "      <td>4915</td>\n",
       "      <td>2011-02-07</td>\n",
       "      <td>8091</td>\n",
       "      <td>216425</td>\n",
       "      <td>133.9500</td>\n",
       "      <td>133.9500</td>\n",
       "      <td>0</td>\n",
       "      <td>0</td>\n",
       "      <td>2.890372</td>\n",
       "      <td>2</td>\n",
       "      <td>2011</td>\n",
       "      <td>0</td>\n",
       "      <td>7</td>\n",
       "      <td>0.0</td>\n",
       "    </tr>\n",
       "    <tr>\n",
       "      <th>2312</th>\n",
       "      <td>3279</td>\n",
       "      <td>2011-01-31</td>\n",
       "      <td>8091</td>\n",
       "      <td>216425</td>\n",
       "      <td>133.2375</td>\n",
       "      <td>133.2375</td>\n",
       "      <td>0</td>\n",
       "      <td>0</td>\n",
       "      <td>3.295837</td>\n",
       "      <td>1</td>\n",
       "      <td>2011</td>\n",
       "      <td>0</td>\n",
       "      <td>31</td>\n",
       "      <td>0.0</td>\n",
       "    </tr>\n",
       "    <tr>\n",
       "      <th>1157</th>\n",
       "      <td>1643</td>\n",
       "      <td>2011-01-24</td>\n",
       "      <td>8091</td>\n",
       "      <td>216425</td>\n",
       "      <td>134.6625</td>\n",
       "      <td>134.6625</td>\n",
       "      <td>0</td>\n",
       "      <td>0</td>\n",
       "      <td>2.833213</td>\n",
       "      <td>1</td>\n",
       "      <td>2011</td>\n",
       "      <td>0</td>\n",
       "      <td>24</td>\n",
       "      <td>0.0</td>\n",
       "    </tr>\n",
       "    <tr>\n",
       "      <th>2</th>\n",
       "      <td>3</td>\n",
       "      <td>2011-01-17</td>\n",
       "      <td>8091</td>\n",
       "      <td>216425</td>\n",
       "      <td>133.9500</td>\n",
       "      <td>133.9500</td>\n",
       "      <td>0</td>\n",
       "      <td>0</td>\n",
       "      <td>2.944439</td>\n",
       "      <td>1</td>\n",
       "      <td>2011</td>\n",
       "      <td>0</td>\n",
       "      <td>17</td>\n",
       "      <td>0.0</td>\n",
       "    </tr>\n",
       "  </tbody>\n",
       "</table>\n",
       "</div>"
      ],
      "text/plain": [
       "      record_ID       week  store_id  sku_id  total_price  base_price  \\\n",
       "4622       6555 2011-02-14      8091  216425     133.2375    133.2375   \n",
       "3467       4915 2011-02-07      8091  216425     133.9500    133.9500   \n",
       "2312       3279 2011-01-31      8091  216425     133.2375    133.2375   \n",
       "1157       1643 2011-01-24      8091  216425     134.6625    134.6625   \n",
       "2             3 2011-01-17      8091  216425     133.9500    133.9500   \n",
       "\n",
       "      is_featured_sku  is_display_sku  units_sold  month  year  day_of_week  \\\n",
       "4622                0               0    3.135494      2  2011            0   \n",
       "3467                0               0    2.890372      2  2011            0   \n",
       "2312                0               0    3.295837      1  2011            0   \n",
       "1157                0               0    2.833213      1  2011            0   \n",
       "2                   0               0    2.944439      1  2011            0   \n",
       "\n",
       "      day_of_month  discount  \n",
       "4622            14       0.0  \n",
       "3467             7       0.0  \n",
       "2312            31       0.0  \n",
       "1157            24       0.0  \n",
       "2               17       0.0  "
      ]
     },
     "execution_count": 37,
     "metadata": {},
     "output_type": "execute_result"
    }
   ],
   "source": [
    "# Tail of the data\n",
    "df_processed.loc[df_processed['store_id']==8091].tail()"
   ]
  },
  {
   "cell_type": "code",
   "execution_count": 38,
   "id": "bfc22b33",
   "metadata": {},
   "outputs": [
    {
     "data": {
      "text/plain": [
       "-0.39976022280938533"
      ]
     },
     "execution_count": 38,
     "metadata": {},
     "output_type": "execute_result"
    }
   ],
   "source": [
    "df_processed['units_sold'].skew()"
   ]
  },
  {
   "cell_type": "code",
   "execution_count": 39,
   "id": "840af018",
   "metadata": {},
   "outputs": [
    {
     "data": {
      "text/plain": [
       "<Figure size 1600x500 with 0 Axes>"
      ]
     },
     "execution_count": 39,
     "metadata": {},
     "output_type": "execute_result"
    },
    {
     "data": {
      "text/plain": [
       "<Axes: >"
      ]
     },
     "execution_count": 39,
     "metadata": {},
     "output_type": "execute_result"
    },
    {
     "data": {
      "text/plain": [
       "<Axes: xlabel='units_sold', ylabel='Density'>"
      ]
     },
     "execution_count": 39,
     "metadata": {},
     "output_type": "execute_result"
    },
    {
     "data": {
      "text/plain": [
       "<Axes: >"
      ]
     },
     "execution_count": 39,
     "metadata": {},
     "output_type": "execute_result"
    },
    {
     "data": {
      "text/plain": [
       "((array([-3.77258292, -3.54529463, -3.42041149, ...,  3.42041149,\n",
       "          3.54529463,  3.77258292]),\n",
       "  array([0.        , 0.        , 0.        , ..., 5.17614973, 5.19849703,\n",
       "         5.24702407])),\n",
       " (0.7757181233425725, 3.2518085888101997, 0.9938156688996619))"
      ]
     },
     "execution_count": 39,
     "metadata": {},
     "output_type": "execute_result"
    },
    {
     "data": {
      "image/png": "[encoded data removed]",
      "text/plain": [
       "<Figure size 1600x500 with 2 Axes>"
      ]
     },
     "metadata": {},
     "output_type": "display_data"
    }
   ],
   "source": [
    "plt.figure(figsize=(16,5))\n",
    "plt.subplot(1,2,1)\n",
    "sns.distplot(df_processed['units_sold'])\n",
    "plt.subplot(1,2,2)\n",
    "stats.probplot(df_processed['units_sold'], plot = pylab)\n",
    "plt.show()"
   ]
  },
  {
   "cell_type": "code",
   "execution_count": 40,
   "id": "3088f233",
   "metadata": {},
   "outputs": [
    {
     "data": {
      "text/plain": [
       "5.5926190436046035"
      ]
     },
     "execution_count": 40,
     "metadata": {},
     "output_type": "execute_result"
    },
    {
     "data": {
      "text/plain": [
       "0.9109981340157955"
      ]
     },
     "execution_count": 40,
     "metadata": {},
     "output_type": "execute_result"
    }
   ],
   "source": [
    "# Finding the boundary values\n",
    "UL = df_processed['units_sold'].mean() + 3*df_processed['units_sold'].std()\n",
    "LL = df_processed['units_sold'].mean() - 3*df_processed['units_sold'].std()\n",
    "UL\n",
    "LL"
   ]
  },
  {
   "cell_type": "code",
   "execution_count": 41,
   "id": "7a6aefa3",
   "metadata": {},
   "outputs": [
    {
     "data": {
      "text/plain": [
       "(8580, 14)"
      ]
     },
     "execution_count": 41,
     "metadata": {},
     "output_type": "execute_result"
    }
   ],
   "source": [
    "df_processed.shape"
   ]
  },
  {
   "cell_type": "code",
   "execution_count": 42,
   "id": "ce0ac8f0",
   "metadata": {},
   "outputs": [
    {
     "data": {
      "text/plain": [
       "42"
      ]
     },
     "execution_count": 42,
     "metadata": {},
     "output_type": "execute_result"
    }
   ],
   "source": [
    "df_processed['units_sold'].loc[df_processed['units_sold']<LL].count()"
   ]
  },
  {
   "cell_type": "code",
   "execution_count": 43,
   "id": "677cf9d9",
   "metadata": {},
   "outputs": [
    {
     "data": {
      "text/plain": [
       "0"
      ]
     },
     "execution_count": 43,
     "metadata": {},
     "output_type": "execute_result"
    }
   ],
   "source": [
    "df_processed['units_sold'].loc[df_processed['units_sold']>UL].count()"
   ]
  },
  {
   "cell_type": "code",
   "execution_count": 44,
   "id": "01e52893",
   "metadata": {},
   "outputs": [],
   "source": [
    "# Removing outliers\n",
    "condition1 = df_processed['units_sold']>UL\n",
    "condition2 = df_processed['units_sold']<LL\n",
    "df_processed = df_processed[~(condition1 & condition2)]"
   ]
  },
  {
   "cell_type": "markdown",
   "id": "efd7bbe3",
   "metadata": {},
   "source": [
    "# Understanding the components of the data"
   ]
  },
  {
   "cell_type": "code",
   "execution_count": 45,
   "id": "42e8b00c",
   "metadata": {},
   "outputs": [
    {
     "data": {
      "text/html": [
       "<div>\n",
       "<style scoped>\n",
       "    .dataframe tbody tr th:only-of-type {\n",
       "        vertical-align: middle;\n",
       "    }\n",
       "\n",
       "    .dataframe tbody tr th {\n",
       "        vertical-align: top;\n",
       "    }\n",
       "\n",
       "    .dataframe thead th {\n",
       "        text-align: right;\n",
       "    }\n",
       "</style>\n",
       "<table border=\"1\" class=\"dataframe\">\n",
       "  <thead>\n",
       "    <tr style=\"text-align: right;\">\n",
       "      <th></th>\n",
       "      <th>record_ID</th>\n",
       "      <th>week</th>\n",
       "      <th>store_id</th>\n",
       "      <th>sku_id</th>\n",
       "      <th>total_price</th>\n",
       "      <th>base_price</th>\n",
       "      <th>is_featured_sku</th>\n",
       "      <th>is_display_sku</th>\n",
       "      <th>units_sold</th>\n",
       "      <th>month</th>\n",
       "      <th>year</th>\n",
       "      <th>day_of_week</th>\n",
       "      <th>day_of_month</th>\n",
       "      <th>discount</th>\n",
       "    </tr>\n",
       "  </thead>\n",
       "  <tbody>\n",
       "    <tr>\n",
       "      <th>149378</th>\n",
       "      <td>211535</td>\n",
       "      <td>2013-07-09</td>\n",
       "      <td>9112</td>\n",
       "      <td>216425</td>\n",
       "      <td>141.7875</td>\n",
       "      <td>141.7875</td>\n",
       "      <td>0</td>\n",
       "      <td>0</td>\n",
       "      <td>4.276666</td>\n",
       "      <td>7</td>\n",
       "      <td>2013</td>\n",
       "      <td>1</td>\n",
       "      <td>9</td>\n",
       "      <td>0.0</td>\n",
       "    </tr>\n",
       "    <tr>\n",
       "      <th>149358</th>\n",
       "      <td>211511</td>\n",
       "      <td>2013-07-09</td>\n",
       "      <td>9092</td>\n",
       "      <td>216425</td>\n",
       "      <td>129.6750</td>\n",
       "      <td>129.6750</td>\n",
       "      <td>0</td>\n",
       "      <td>0</td>\n",
       "      <td>2.890372</td>\n",
       "      <td>7</td>\n",
       "      <td>2013</td>\n",
       "      <td>1</td>\n",
       "      <td>9</td>\n",
       "      <td>0.0</td>\n",
       "    </tr>\n",
       "    <tr>\n",
       "      <th>149420</th>\n",
       "      <td>211602</td>\n",
       "      <td>2013-07-09</td>\n",
       "      <td>9164</td>\n",
       "      <td>216425</td>\n",
       "      <td>141.0750</td>\n",
       "      <td>141.0750</td>\n",
       "      <td>0</td>\n",
       "      <td>0</td>\n",
       "      <td>3.784190</td>\n",
       "      <td>7</td>\n",
       "      <td>2013</td>\n",
       "      <td>1</td>\n",
       "      <td>9</td>\n",
       "      <td>0.0</td>\n",
       "    </tr>\n",
       "    <tr>\n",
       "      <th>149394</th>\n",
       "      <td>211560</td>\n",
       "      <td>2013-07-09</td>\n",
       "      <td>9132</td>\n",
       "      <td>216425</td>\n",
       "      <td>131.8125</td>\n",
       "      <td>131.8125</td>\n",
       "      <td>0</td>\n",
       "      <td>0</td>\n",
       "      <td>2.564949</td>\n",
       "      <td>7</td>\n",
       "      <td>2013</td>\n",
       "      <td>1</td>\n",
       "      <td>9</td>\n",
       "      <td>0.0</td>\n",
       "    </tr>\n",
       "    <tr>\n",
       "      <th>149406</th>\n",
       "      <td>211580</td>\n",
       "      <td>2013-07-09</td>\n",
       "      <td>9147</td>\n",
       "      <td>216425</td>\n",
       "      <td>133.2375</td>\n",
       "      <td>133.2375</td>\n",
       "      <td>0</td>\n",
       "      <td>0</td>\n",
       "      <td>4.110874</td>\n",
       "      <td>7</td>\n",
       "      <td>2013</td>\n",
       "      <td>1</td>\n",
       "      <td>9</td>\n",
       "      <td>0.0</td>\n",
       "    </tr>\n",
       "  </tbody>\n",
       "</table>\n",
       "</div>"
      ],
      "text/plain": [
       "        record_ID       week  store_id  sku_id  total_price  base_price  \\\n",
       "149378     211535 2013-07-09      9112  216425     141.7875    141.7875   \n",
       "149358     211511 2013-07-09      9092  216425     129.6750    129.6750   \n",
       "149420     211602 2013-07-09      9164  216425     141.0750    141.0750   \n",
       "149394     211560 2013-07-09      9132  216425     131.8125    131.8125   \n",
       "149406     211580 2013-07-09      9147  216425     133.2375    133.2375   \n",
       "\n",
       "        is_featured_sku  is_display_sku  units_sold  month  year  day_of_week  \\\n",
       "149378                0               0    4.276666      7  2013            1   \n",
       "149358                0               0    2.890372      7  2013            1   \n",
       "149420                0               0    3.784190      7  2013            1   \n",
       "149394                0               0    2.564949      7  2013            1   \n",
       "149406                0               0    4.110874      7  2013            1   \n",
       "\n",
       "        day_of_month  discount  \n",
       "149378             9       0.0  \n",
       "149358             9       0.0  \n",
       "149420             9       0.0  \n",
       "149394             9       0.0  \n",
       "149406             9       0.0  "
      ]
     },
     "execution_count": 45,
     "metadata": {},
     "output_type": "execute_result"
    }
   ],
   "source": [
    "# Seasonal decompose\n",
    "df_processed.head()"
   ]
  },
  {
   "cell_type": "code",
   "execution_count": 46,
   "id": "606f1f4b",
   "metadata": {},
   "outputs": [],
   "source": [
    "# Pre-processing for seasonal decompose\n",
    "df_seasonal_decompose = df_processed\n",
    "df_seasonal_decompose['week'] = pd.to_datetime(df_seasonal_decompose['week'])\n",
    "df_seasonal_decompose = df_seasonal_decompose.set_index('week')\n",
    "store_id=8091\n",
    "df_seasonal_decompose = df_seasonal_decompose[df_seasonal_decompose['store_id'] == store_id]"
   ]
  },
  {
   "cell_type": "code",
   "execution_count": 47,
   "id": "41f1a95d",
   "metadata": {},
   "outputs": [],
   "source": [
    "# Seasonal decomposition\n",
    "result_seasonal_decompose = seasonal_decompose(df_seasonal_decompose['units_sold'], model='additive', period=52)  # Assuming weekly seasonality"
   ]
  },
  {
   "cell_type": "code",
   "execution_count": 48,
   "id": "7ded3971",
   "metadata": {},
   "outputs": [
    {
     "data": {
      "text/plain": [
       "<Figure size 1200x800 with 0 Axes>"
      ]
     },
     "execution_count": 48,
     "metadata": {},
     "output_type": "execute_result"
    },
    {
     "data": {
      "text/plain": [
       "<Axes: >"
      ]
     },
     "execution_count": 48,
     "metadata": {},
     "output_type": "execute_result"
    },
    {
     "data": {
      "text/plain": [
       "[<matplotlib.lines.Line2D at 0x1fe2db41f50>]"
      ]
     },
     "execution_count": 48,
     "metadata": {},
     "output_type": "execute_result"
    },
    {
     "data": {
      "text/plain": [
       "<matplotlib.legend.Legend at 0x1fe2c0d2890>"
      ]
     },
     "execution_count": 48,
     "metadata": {},
     "output_type": "execute_result"
    },
    {
     "data": {
      "text/plain": [
       "<Axes: >"
      ]
     },
     "execution_count": 48,
     "metadata": {},
     "output_type": "execute_result"
    },
    {
     "data": {
      "text/plain": [
       "[<matplotlib.lines.Line2D at 0x1fe2db7dfd0>]"
      ]
     },
     "execution_count": 48,
     "metadata": {},
     "output_type": "execute_result"
    },
    {
     "data": {
      "text/plain": [
       "<matplotlib.legend.Legend at 0x1fe30d25ed0>"
      ]
     },
     "execution_count": 48,
     "metadata": {},
     "output_type": "execute_result"
    },
    {
     "data": {
      "text/plain": [
       "<Axes: >"
      ]
     },
     "execution_count": 48,
     "metadata": {},
     "output_type": "execute_result"
    },
    {
     "data": {
      "text/plain": [
       "[<matplotlib.lines.Line2D at 0x1fe30e09f50>]"
      ]
     },
     "execution_count": 48,
     "metadata": {},
     "output_type": "execute_result"
    },
    {
     "data": {
      "text/plain": [
       "<matplotlib.legend.Legend at 0x1fe30df72d0>"
      ]
     },
     "execution_count": 48,
     "metadata": {},
     "output_type": "execute_result"
    },
    {
     "data": {
      "text/plain": [
       "<Axes: >"
      ]
     },
     "execution_count": 48,
     "metadata": {},
     "output_type": "execute_result"
    },
    {
     "data": {
      "text/plain": [
       "[<matplotlib.lines.Line2D at 0x1fe30dc6510>]"
      ]
     },
     "execution_count": 48,
     "metadata": {},
     "output_type": "execute_result"
    },
    {
     "data": {
      "text/plain": [
       "<matplotlib.legend.Legend at 0x1fe2db72c90>"
      ]
     },
     "execution_count": 48,
     "metadata": {},
     "output_type": "execute_result"
    },
    {
     "data": {
      "image/png": "[encoded data removed]",
      "text/plain": [
       "<Figure size 1200x800 with 4 Axes>"
      ]
     },
     "metadata": {},
     "output_type": "display_data"
    }
   ],
   "source": [
    "# Plot the decomposition\n",
    "plt.figure(figsize=(12, 8))\n",
    "plt.subplot(411)\n",
    "plt.plot(df_seasonal_decompose['units_sold'], label='Original')\n",
    "plt.legend(loc='upper left')\n",
    "plt.subplot(412)\n",
    "plt.plot(result_seasonal_decompose.trend, label='Trend')\n",
    "plt.legend(loc='upper left')\n",
    "plt.subplot(413)\n",
    "plt.plot(result_seasonal_decompose.seasonal, label='Seasonal')\n",
    "plt.legend(loc='upper left')\n",
    "plt.subplot(414)\n",
    "plt.plot(result_seasonal_decompose.resid, label='Residual')\n",
    "plt.legend(loc='upper left')\n",
    "plt.tight_layout()\n",
    "plt.show()"
   ]
  },
  {
   "cell_type": "code",
   "execution_count": 49,
   "id": "a2e70429",
   "metadata": {},
   "outputs": [],
   "source": [
    "# Calculate metrics\n",
    "#trend_mean = result.trend.mean()  # Mean of the trend component\n",
    "#seasonal_mean = result.seasonal.mean()  # Mean of the seasonal component\n",
    "#residual_std = result.resid.std()  # Standard deviation of the residual component\n",
    "\n",
    "# Print insights\n",
    "#print(\"Insights from Seasonal Decomposition:\")\n",
    "#print(f\"Mean of Trend Component: {trend_mean}\")\n",
    "#print(f\"Mean of Seasonal Component: {seasonal_mean}\")\n",
    "#print(f\"Standard Deviation of Residual Component: {residual_std}\")"
   ]
  },
  {
   "cell_type": "markdown",
   "id": "9000ef4d",
   "metadata": {},
   "source": [
    "# Random Forest"
   ]
  },
  {
   "cell_type": "code",
   "execution_count": 50,
   "id": "0f418d48",
   "metadata": {},
   "outputs": [],
   "source": [
    "# Calculate the number of rows for testing\n",
    "test_size = int(len(df_processed)*0.2)\n",
    "end_point = len(df_processed)\n",
    "x = end_point - test_size"
   ]
  },
  {
   "cell_type": "code",
   "execution_count": 51,
   "id": "b5b2f51d",
   "metadata": {},
   "outputs": [
    {
     "data": {
      "text/plain": [
       "(8580, 14)"
      ]
     },
     "execution_count": 51,
     "metadata": {},
     "output_type": "execute_result"
    },
    {
     "data": {
      "text/plain": [
       "1716"
      ]
     },
     "execution_count": 51,
     "metadata": {},
     "output_type": "execute_result"
    },
    {
     "data": {
      "text/plain": [
       "8580"
      ]
     },
     "execution_count": 51,
     "metadata": {},
     "output_type": "execute_result"
    },
    {
     "data": {
      "text/plain": [
       "6864"
      ]
     },
     "execution_count": 51,
     "metadata": {},
     "output_type": "execute_result"
    }
   ],
   "source": [
    "df_processed.shape\n",
    "test_size\n",
    "end_point\n",
    "x"
   ]
  },
  {
   "cell_type": "code",
   "execution_count": 52,
   "id": "3d48f48f",
   "metadata": {},
   "outputs": [],
   "source": [
    "# Split into train and test\n",
    "df_processed_train = df_processed.iloc[:x - 1]\n",
    "df_processed_test = df_processed.iloc[x:]"
   ]
  },
  {
   "cell_type": "code",
   "execution_count": 53,
   "id": "82ad4a53",
   "metadata": {},
   "outputs": [
    {
     "data": {
      "text/plain": [
       "(6863, 14)"
      ]
     },
     "execution_count": 53,
     "metadata": {},
     "output_type": "execute_result"
    },
    {
     "data": {
      "text/plain": [
       "(1716, 14)"
      ]
     },
     "execution_count": 53,
     "metadata": {},
     "output_type": "execute_result"
    }
   ],
   "source": [
    "# Check shape of test and train\n",
    "df_processed_train.shape\n",
    "df_processed_test.shape"
   ]
  },
  {
   "cell_type": "code",
   "execution_count": 54,
   "id": "24c2b50a",
   "metadata": {},
   "outputs": [
    {
     "data": {
      "text/html": [
       "<div>\n",
       "<style scoped>\n",
       "    .dataframe tbody tr th:only-of-type {\n",
       "        vertical-align: middle;\n",
       "    }\n",
       "\n",
       "    .dataframe tbody tr th {\n",
       "        vertical-align: top;\n",
       "    }\n",
       "\n",
       "    .dataframe thead th {\n",
       "        text-align: right;\n",
       "    }\n",
       "</style>\n",
       "<table border=\"1\" class=\"dataframe\">\n",
       "  <thead>\n",
       "    <tr style=\"text-align: right;\">\n",
       "      <th></th>\n",
       "      <th>record_ID</th>\n",
       "      <th>week</th>\n",
       "      <th>store_id</th>\n",
       "      <th>sku_id</th>\n",
       "      <th>total_price</th>\n",
       "      <th>base_price</th>\n",
       "      <th>is_featured_sku</th>\n",
       "      <th>is_display_sku</th>\n",
       "      <th>units_sold</th>\n",
       "      <th>month</th>\n",
       "      <th>year</th>\n",
       "      <th>day_of_week</th>\n",
       "      <th>day_of_month</th>\n",
       "      <th>discount</th>\n",
       "    </tr>\n",
       "  </thead>\n",
       "  <tbody>\n",
       "    <tr>\n",
       "      <th>149378</th>\n",
       "      <td>211535</td>\n",
       "      <td>2013-07-09</td>\n",
       "      <td>9112</td>\n",
       "      <td>216425</td>\n",
       "      <td>141.7875</td>\n",
       "      <td>141.7875</td>\n",
       "      <td>0</td>\n",
       "      <td>0</td>\n",
       "      <td>4.276666</td>\n",
       "      <td>7</td>\n",
       "      <td>2013</td>\n",
       "      <td>1</td>\n",
       "      <td>9</td>\n",
       "      <td>0.0</td>\n",
       "    </tr>\n",
       "    <tr>\n",
       "      <th>149358</th>\n",
       "      <td>211511</td>\n",
       "      <td>2013-07-09</td>\n",
       "      <td>9092</td>\n",
       "      <td>216425</td>\n",
       "      <td>129.6750</td>\n",
       "      <td>129.6750</td>\n",
       "      <td>0</td>\n",
       "      <td>0</td>\n",
       "      <td>2.890372</td>\n",
       "      <td>7</td>\n",
       "      <td>2013</td>\n",
       "      <td>1</td>\n",
       "      <td>9</td>\n",
       "      <td>0.0</td>\n",
       "    </tr>\n",
       "    <tr>\n",
       "      <th>149420</th>\n",
       "      <td>211602</td>\n",
       "      <td>2013-07-09</td>\n",
       "      <td>9164</td>\n",
       "      <td>216425</td>\n",
       "      <td>141.0750</td>\n",
       "      <td>141.0750</td>\n",
       "      <td>0</td>\n",
       "      <td>0</td>\n",
       "      <td>3.784190</td>\n",
       "      <td>7</td>\n",
       "      <td>2013</td>\n",
       "      <td>1</td>\n",
       "      <td>9</td>\n",
       "      <td>0.0</td>\n",
       "    </tr>\n",
       "    <tr>\n",
       "      <th>149394</th>\n",
       "      <td>211560</td>\n",
       "      <td>2013-07-09</td>\n",
       "      <td>9132</td>\n",
       "      <td>216425</td>\n",
       "      <td>131.8125</td>\n",
       "      <td>131.8125</td>\n",
       "      <td>0</td>\n",
       "      <td>0</td>\n",
       "      <td>2.564949</td>\n",
       "      <td>7</td>\n",
       "      <td>2013</td>\n",
       "      <td>1</td>\n",
       "      <td>9</td>\n",
       "      <td>0.0</td>\n",
       "    </tr>\n",
       "    <tr>\n",
       "      <th>149406</th>\n",
       "      <td>211580</td>\n",
       "      <td>2013-07-09</td>\n",
       "      <td>9147</td>\n",
       "      <td>216425</td>\n",
       "      <td>133.2375</td>\n",
       "      <td>133.2375</td>\n",
       "      <td>0</td>\n",
       "      <td>0</td>\n",
       "      <td>4.110874</td>\n",
       "      <td>7</td>\n",
       "      <td>2013</td>\n",
       "      <td>1</td>\n",
       "      <td>9</td>\n",
       "      <td>0.0</td>\n",
       "    </tr>\n",
       "  </tbody>\n",
       "</table>\n",
       "</div>"
      ],
      "text/plain": [
       "        record_ID       week  store_id  sku_id  total_price  base_price  \\\n",
       "149378     211535 2013-07-09      9112  216425     141.7875    141.7875   \n",
       "149358     211511 2013-07-09      9092  216425     129.6750    129.6750   \n",
       "149420     211602 2013-07-09      9164  216425     141.0750    141.0750   \n",
       "149394     211560 2013-07-09      9132  216425     131.8125    131.8125   \n",
       "149406     211580 2013-07-09      9147  216425     133.2375    133.2375   \n",
       "\n",
       "        is_featured_sku  is_display_sku  units_sold  month  year  day_of_week  \\\n",
       "149378                0               0    4.276666      7  2013            1   \n",
       "149358                0               0    2.890372      7  2013            1   \n",
       "149420                0               0    3.784190      7  2013            1   \n",
       "149394                0               0    2.564949      7  2013            1   \n",
       "149406                0               0    4.110874      7  2013            1   \n",
       "\n",
       "        day_of_month  discount  \n",
       "149378             9       0.0  \n",
       "149358             9       0.0  \n",
       "149420             9       0.0  \n",
       "149394             9       0.0  \n",
       "149406             9       0.0  "
      ]
     },
     "execution_count": 54,
     "metadata": {},
     "output_type": "execute_result"
    },
    {
     "data": {
      "text/html": [
       "<div>\n",
       "<style scoped>\n",
       "    .dataframe tbody tr th:only-of-type {\n",
       "        vertical-align: middle;\n",
       "    }\n",
       "\n",
       "    .dataframe tbody tr th {\n",
       "        vertical-align: top;\n",
       "    }\n",
       "\n",
       "    .dataframe thead th {\n",
       "        text-align: right;\n",
       "    }\n",
       "</style>\n",
       "<table border=\"1\" class=\"dataframe\">\n",
       "  <thead>\n",
       "    <tr style=\"text-align: right;\">\n",
       "      <th></th>\n",
       "      <th>record_ID</th>\n",
       "      <th>week</th>\n",
       "      <th>store_id</th>\n",
       "      <th>sku_id</th>\n",
       "      <th>total_price</th>\n",
       "      <th>base_price</th>\n",
       "      <th>is_featured_sku</th>\n",
       "      <th>is_display_sku</th>\n",
       "      <th>units_sold</th>\n",
       "      <th>month</th>\n",
       "      <th>year</th>\n",
       "      <th>day_of_week</th>\n",
       "      <th>day_of_month</th>\n",
       "      <th>discount</th>\n",
       "    </tr>\n",
       "  </thead>\n",
       "  <tbody>\n",
       "    <tr>\n",
       "      <th>29258</th>\n",
       "      <td>41410</td>\n",
       "      <td>2011-07-11</td>\n",
       "      <td>9112</td>\n",
       "      <td>216425</td>\n",
       "      <td>132.5250</td>\n",
       "      <td>132.5250</td>\n",
       "      <td>0</td>\n",
       "      <td>0</td>\n",
       "      <td>4.007333</td>\n",
       "      <td>7</td>\n",
       "      <td>2011</td>\n",
       "      <td>0</td>\n",
       "      <td>11</td>\n",
       "      <td>0.0</td>\n",
       "    </tr>\n",
       "    <tr>\n",
       "      <th>29238</th>\n",
       "      <td>41386</td>\n",
       "      <td>2011-07-11</td>\n",
       "      <td>9092</td>\n",
       "      <td>216425</td>\n",
       "      <td>134.6625</td>\n",
       "      <td>134.6625</td>\n",
       "      <td>0</td>\n",
       "      <td>0</td>\n",
       "      <td>2.197225</td>\n",
       "      <td>7</td>\n",
       "      <td>2011</td>\n",
       "      <td>0</td>\n",
       "      <td>11</td>\n",
       "      <td>0.0</td>\n",
       "    </tr>\n",
       "    <tr>\n",
       "      <th>29300</th>\n",
       "      <td>41477</td>\n",
       "      <td>2011-07-11</td>\n",
       "      <td>9164</td>\n",
       "      <td>216425</td>\n",
       "      <td>134.6625</td>\n",
       "      <td>134.6625</td>\n",
       "      <td>0</td>\n",
       "      <td>0</td>\n",
       "      <td>3.891820</td>\n",
       "      <td>7</td>\n",
       "      <td>2011</td>\n",
       "      <td>0</td>\n",
       "      <td>11</td>\n",
       "      <td>0.0</td>\n",
       "    </tr>\n",
       "    <tr>\n",
       "      <th>29274</th>\n",
       "      <td>41435</td>\n",
       "      <td>2011-07-11</td>\n",
       "      <td>9132</td>\n",
       "      <td>216425</td>\n",
       "      <td>131.1000</td>\n",
       "      <td>131.1000</td>\n",
       "      <td>0</td>\n",
       "      <td>0</td>\n",
       "      <td>3.044522</td>\n",
       "      <td>7</td>\n",
       "      <td>2011</td>\n",
       "      <td>0</td>\n",
       "      <td>11</td>\n",
       "      <td>0.0</td>\n",
       "    </tr>\n",
       "    <tr>\n",
       "      <th>29286</th>\n",
       "      <td>41455</td>\n",
       "      <td>2011-07-11</td>\n",
       "      <td>9147</td>\n",
       "      <td>216425</td>\n",
       "      <td>133.9500</td>\n",
       "      <td>133.9500</td>\n",
       "      <td>0</td>\n",
       "      <td>0</td>\n",
       "      <td>3.737670</td>\n",
       "      <td>7</td>\n",
       "      <td>2011</td>\n",
       "      <td>0</td>\n",
       "      <td>11</td>\n",
       "      <td>0.0</td>\n",
       "    </tr>\n",
       "  </tbody>\n",
       "</table>\n",
       "</div>"
      ],
      "text/plain": [
       "       record_ID       week  store_id  sku_id  total_price  base_price  \\\n",
       "29258      41410 2011-07-11      9112  216425     132.5250    132.5250   \n",
       "29238      41386 2011-07-11      9092  216425     134.6625    134.6625   \n",
       "29300      41477 2011-07-11      9164  216425     134.6625    134.6625   \n",
       "29274      41435 2011-07-11      9132  216425     131.1000    131.1000   \n",
       "29286      41455 2011-07-11      9147  216425     133.9500    133.9500   \n",
       "\n",
       "       is_featured_sku  is_display_sku  units_sold  month  year  day_of_week  \\\n",
       "29258                0               0    4.007333      7  2011            0   \n",
       "29238                0               0    2.197225      7  2011            0   \n",
       "29300                0               0    3.891820      7  2011            0   \n",
       "29274                0               0    3.044522      7  2011            0   \n",
       "29286                0               0    3.737670      7  2011            0   \n",
       "\n",
       "       day_of_month  discount  \n",
       "29258            11       0.0  \n",
       "29238            11       0.0  \n",
       "29300            11       0.0  \n",
       "29274            11       0.0  \n",
       "29286            11       0.0  "
      ]
     },
     "execution_count": 54,
     "metadata": {},
     "output_type": "execute_result"
    }
   ],
   "source": [
    "# Processed data\n",
    "df_processed_train.head()\n",
    "df_processed_test.head()"
   ]
  },
  {
   "cell_type": "code",
   "execution_count": 55,
   "id": "0b80f28a",
   "metadata": {},
   "outputs": [],
   "source": [
    "X_test = df_processed_test.loc[:, df_processed_test.columns != 'units_sold']\n",
    "y_test = df_processed_test[['units_sold']]\n",
    "X_train = df_processed_train.loc[:, df_processed_train.columns != 'units_sold']\n",
    "y_train = df_processed_train[['units_sold']]"
   ]
  },
  {
   "cell_type": "code",
   "execution_count": 56,
   "id": "d0ecc69f",
   "metadata": {},
   "outputs": [
    {
     "data": {
      "text/html": [
       "<div>\n",
       "<style scoped>\n",
       "    .dataframe tbody tr th:only-of-type {\n",
       "        vertical-align: middle;\n",
       "    }\n",
       "\n",
       "    .dataframe tbody tr th {\n",
       "        vertical-align: top;\n",
       "    }\n",
       "\n",
       "    .dataframe thead th {\n",
       "        text-align: right;\n",
       "    }\n",
       "</style>\n",
       "<table border=\"1\" class=\"dataframe\">\n",
       "  <thead>\n",
       "    <tr style=\"text-align: right;\">\n",
       "      <th></th>\n",
       "      <th>record_ID</th>\n",
       "      <th>week</th>\n",
       "      <th>store_id</th>\n",
       "      <th>sku_id</th>\n",
       "      <th>total_price</th>\n",
       "      <th>base_price</th>\n",
       "      <th>is_featured_sku</th>\n",
       "      <th>is_display_sku</th>\n",
       "      <th>month</th>\n",
       "      <th>year</th>\n",
       "      <th>day_of_week</th>\n",
       "      <th>day_of_month</th>\n",
       "      <th>discount</th>\n",
       "    </tr>\n",
       "  </thead>\n",
       "  <tbody>\n",
       "    <tr>\n",
       "      <th>29258</th>\n",
       "      <td>41410</td>\n",
       "      <td>2011-07-11</td>\n",
       "      <td>9112</td>\n",
       "      <td>216425</td>\n",
       "      <td>132.5250</td>\n",
       "      <td>132.5250</td>\n",
       "      <td>0</td>\n",
       "      <td>0</td>\n",
       "      <td>7</td>\n",
       "      <td>2011</td>\n",
       "      <td>0</td>\n",
       "      <td>11</td>\n",
       "      <td>0.0</td>\n",
       "    </tr>\n",
       "    <tr>\n",
       "      <th>29238</th>\n",
       "      <td>41386</td>\n",
       "      <td>2011-07-11</td>\n",
       "      <td>9092</td>\n",
       "      <td>216425</td>\n",
       "      <td>134.6625</td>\n",
       "      <td>134.6625</td>\n",
       "      <td>0</td>\n",
       "      <td>0</td>\n",
       "      <td>7</td>\n",
       "      <td>2011</td>\n",
       "      <td>0</td>\n",
       "      <td>11</td>\n",
       "      <td>0.0</td>\n",
       "    </tr>\n",
       "    <tr>\n",
       "      <th>29300</th>\n",
       "      <td>41477</td>\n",
       "      <td>2011-07-11</td>\n",
       "      <td>9164</td>\n",
       "      <td>216425</td>\n",
       "      <td>134.6625</td>\n",
       "      <td>134.6625</td>\n",
       "      <td>0</td>\n",
       "      <td>0</td>\n",
       "      <td>7</td>\n",
       "      <td>2011</td>\n",
       "      <td>0</td>\n",
       "      <td>11</td>\n",
       "      <td>0.0</td>\n",
       "    </tr>\n",
       "    <tr>\n",
       "      <th>29274</th>\n",
       "      <td>41435</td>\n",
       "      <td>2011-07-11</td>\n",
       "      <td>9132</td>\n",
       "      <td>216425</td>\n",
       "      <td>131.1000</td>\n",
       "      <td>131.1000</td>\n",
       "      <td>0</td>\n",
       "      <td>0</td>\n",
       "      <td>7</td>\n",
       "      <td>2011</td>\n",
       "      <td>0</td>\n",
       "      <td>11</td>\n",
       "      <td>0.0</td>\n",
       "    </tr>\n",
       "    <tr>\n",
       "      <th>29286</th>\n",
       "      <td>41455</td>\n",
       "      <td>2011-07-11</td>\n",
       "      <td>9147</td>\n",
       "      <td>216425</td>\n",
       "      <td>133.9500</td>\n",
       "      <td>133.9500</td>\n",
       "      <td>0</td>\n",
       "      <td>0</td>\n",
       "      <td>7</td>\n",
       "      <td>2011</td>\n",
       "      <td>0</td>\n",
       "      <td>11</td>\n",
       "      <td>0.0</td>\n",
       "    </tr>\n",
       "  </tbody>\n",
       "</table>\n",
       "</div>"
      ],
      "text/plain": [
       "       record_ID       week  store_id  sku_id  total_price  base_price  \\\n",
       "29258      41410 2011-07-11      9112  216425     132.5250    132.5250   \n",
       "29238      41386 2011-07-11      9092  216425     134.6625    134.6625   \n",
       "29300      41477 2011-07-11      9164  216425     134.6625    134.6625   \n",
       "29274      41435 2011-07-11      9132  216425     131.1000    131.1000   \n",
       "29286      41455 2011-07-11      9147  216425     133.9500    133.9500   \n",
       "\n",
       "       is_featured_sku  is_display_sku  month  year  day_of_week  \\\n",
       "29258                0               0      7  2011            0   \n",
       "29238                0               0      7  2011            0   \n",
       "29300                0               0      7  2011            0   \n",
       "29274                0               0      7  2011            0   \n",
       "29286                0               0      7  2011            0   \n",
       "\n",
       "       day_of_month  discount  \n",
       "29258            11       0.0  \n",
       "29238            11       0.0  \n",
       "29300            11       0.0  \n",
       "29274            11       0.0  \n",
       "29286            11       0.0  "
      ]
     },
     "execution_count": 56,
     "metadata": {},
     "output_type": "execute_result"
    },
    {
     "data": {
      "text/html": [
       "<div>\n",
       "<style scoped>\n",
       "    .dataframe tbody tr th:only-of-type {\n",
       "        vertical-align: middle;\n",
       "    }\n",
       "\n",
       "    .dataframe tbody tr th {\n",
       "        vertical-align: top;\n",
       "    }\n",
       "\n",
       "    .dataframe thead th {\n",
       "        text-align: right;\n",
       "    }\n",
       "</style>\n",
       "<table border=\"1\" class=\"dataframe\">\n",
       "  <thead>\n",
       "    <tr style=\"text-align: right;\">\n",
       "      <th></th>\n",
       "      <th>units_sold</th>\n",
       "    </tr>\n",
       "  </thead>\n",
       "  <tbody>\n",
       "    <tr>\n",
       "      <th>29258</th>\n",
       "      <td>4.007333</td>\n",
       "    </tr>\n",
       "    <tr>\n",
       "      <th>29238</th>\n",
       "      <td>2.197225</td>\n",
       "    </tr>\n",
       "    <tr>\n",
       "      <th>29300</th>\n",
       "      <td>3.891820</td>\n",
       "    </tr>\n",
       "    <tr>\n",
       "      <th>29274</th>\n",
       "      <td>3.044522</td>\n",
       "    </tr>\n",
       "    <tr>\n",
       "      <th>29286</th>\n",
       "      <td>3.737670</td>\n",
       "    </tr>\n",
       "  </tbody>\n",
       "</table>\n",
       "</div>"
      ],
      "text/plain": [
       "       units_sold\n",
       "29258    4.007333\n",
       "29238    2.197225\n",
       "29300    3.891820\n",
       "29274    3.044522\n",
       "29286    3.737670"
      ]
     },
     "execution_count": 56,
     "metadata": {},
     "output_type": "execute_result"
    },
    {
     "data": {
      "text/html": [
       "<div>\n",
       "<style scoped>\n",
       "    .dataframe tbody tr th:only-of-type {\n",
       "        vertical-align: middle;\n",
       "    }\n",
       "\n",
       "    .dataframe tbody tr th {\n",
       "        vertical-align: top;\n",
       "    }\n",
       "\n",
       "    .dataframe thead th {\n",
       "        text-align: right;\n",
       "    }\n",
       "</style>\n",
       "<table border=\"1\" class=\"dataframe\">\n",
       "  <thead>\n",
       "    <tr style=\"text-align: right;\">\n",
       "      <th></th>\n",
       "      <th>record_ID</th>\n",
       "      <th>week</th>\n",
       "      <th>store_id</th>\n",
       "      <th>sku_id</th>\n",
       "      <th>total_price</th>\n",
       "      <th>base_price</th>\n",
       "      <th>is_featured_sku</th>\n",
       "      <th>is_display_sku</th>\n",
       "      <th>month</th>\n",
       "      <th>year</th>\n",
       "      <th>day_of_week</th>\n",
       "      <th>day_of_month</th>\n",
       "      <th>discount</th>\n",
       "    </tr>\n",
       "  </thead>\n",
       "  <tbody>\n",
       "    <tr>\n",
       "      <th>149378</th>\n",
       "      <td>211535</td>\n",
       "      <td>2013-07-09</td>\n",
       "      <td>9112</td>\n",
       "      <td>216425</td>\n",
       "      <td>141.7875</td>\n",
       "      <td>141.7875</td>\n",
       "      <td>0</td>\n",
       "      <td>0</td>\n",
       "      <td>7</td>\n",
       "      <td>2013</td>\n",
       "      <td>1</td>\n",
       "      <td>9</td>\n",
       "      <td>0.0</td>\n",
       "    </tr>\n",
       "    <tr>\n",
       "      <th>149358</th>\n",
       "      <td>211511</td>\n",
       "      <td>2013-07-09</td>\n",
       "      <td>9092</td>\n",
       "      <td>216425</td>\n",
       "      <td>129.6750</td>\n",
       "      <td>129.6750</td>\n",
       "      <td>0</td>\n",
       "      <td>0</td>\n",
       "      <td>7</td>\n",
       "      <td>2013</td>\n",
       "      <td>1</td>\n",
       "      <td>9</td>\n",
       "      <td>0.0</td>\n",
       "    </tr>\n",
       "    <tr>\n",
       "      <th>149420</th>\n",
       "      <td>211602</td>\n",
       "      <td>2013-07-09</td>\n",
       "      <td>9164</td>\n",
       "      <td>216425</td>\n",
       "      <td>141.0750</td>\n",
       "      <td>141.0750</td>\n",
       "      <td>0</td>\n",
       "      <td>0</td>\n",
       "      <td>7</td>\n",
       "      <td>2013</td>\n",
       "      <td>1</td>\n",
       "      <td>9</td>\n",
       "      <td>0.0</td>\n",
       "    </tr>\n",
       "    <tr>\n",
       "      <th>149394</th>\n",
       "      <td>211560</td>\n",
       "      <td>2013-07-09</td>\n",
       "      <td>9132</td>\n",
       "      <td>216425</td>\n",
       "      <td>131.8125</td>\n",
       "      <td>131.8125</td>\n",
       "      <td>0</td>\n",
       "      <td>0</td>\n",
       "      <td>7</td>\n",
       "      <td>2013</td>\n",
       "      <td>1</td>\n",
       "      <td>9</td>\n",
       "      <td>0.0</td>\n",
       "    </tr>\n",
       "    <tr>\n",
       "      <th>149406</th>\n",
       "      <td>211580</td>\n",
       "      <td>2013-07-09</td>\n",
       "      <td>9147</td>\n",
       "      <td>216425</td>\n",
       "      <td>133.2375</td>\n",
       "      <td>133.2375</td>\n",
       "      <td>0</td>\n",
       "      <td>0</td>\n",
       "      <td>7</td>\n",
       "      <td>2013</td>\n",
       "      <td>1</td>\n",
       "      <td>9</td>\n",
       "      <td>0.0</td>\n",
       "    </tr>\n",
       "  </tbody>\n",
       "</table>\n",
       "</div>"
      ],
      "text/plain": [
       "        record_ID       week  store_id  sku_id  total_price  base_price  \\\n",
       "149378     211535 2013-07-09      9112  216425     141.7875    141.7875   \n",
       "149358     211511 2013-07-09      9092  216425     129.6750    129.6750   \n",
       "149420     211602 2013-07-09      9164  216425     141.0750    141.0750   \n",
       "149394     211560 2013-07-09      9132  216425     131.8125    131.8125   \n",
       "149406     211580 2013-07-09      9147  216425     133.2375    133.2375   \n",
       "\n",
       "        is_featured_sku  is_display_sku  month  year  day_of_week  \\\n",
       "149378                0               0      7  2013            1   \n",
       "149358                0               0      7  2013            1   \n",
       "149420                0               0      7  2013            1   \n",
       "149394                0               0      7  2013            1   \n",
       "149406                0               0      7  2013            1   \n",
       "\n",
       "        day_of_month  discount  \n",
       "149378             9       0.0  \n",
       "149358             9       0.0  \n",
       "149420             9       0.0  \n",
       "149394             9       0.0  \n",
       "149406             9       0.0  "
      ]
     },
     "execution_count": 56,
     "metadata": {},
     "output_type": "execute_result"
    },
    {
     "data": {
      "text/html": [
       "<div>\n",
       "<style scoped>\n",
       "    .dataframe tbody tr th:only-of-type {\n",
       "        vertical-align: middle;\n",
       "    }\n",
       "\n",
       "    .dataframe tbody tr th {\n",
       "        vertical-align: top;\n",
       "    }\n",
       "\n",
       "    .dataframe thead th {\n",
       "        text-align: right;\n",
       "    }\n",
       "</style>\n",
       "<table border=\"1\" class=\"dataframe\">\n",
       "  <thead>\n",
       "    <tr style=\"text-align: right;\">\n",
       "      <th></th>\n",
       "      <th>units_sold</th>\n",
       "    </tr>\n",
       "  </thead>\n",
       "  <tbody>\n",
       "    <tr>\n",
       "      <th>149378</th>\n",
       "      <td>4.276666</td>\n",
       "    </tr>\n",
       "    <tr>\n",
       "      <th>149358</th>\n",
       "      <td>2.890372</td>\n",
       "    </tr>\n",
       "    <tr>\n",
       "      <th>149420</th>\n",
       "      <td>3.784190</td>\n",
       "    </tr>\n",
       "    <tr>\n",
       "      <th>149394</th>\n",
       "      <td>2.564949</td>\n",
       "    </tr>\n",
       "    <tr>\n",
       "      <th>149406</th>\n",
       "      <td>4.110874</td>\n",
       "    </tr>\n",
       "  </tbody>\n",
       "</table>\n",
       "</div>"
      ],
      "text/plain": [
       "        units_sold\n",
       "149378    4.276666\n",
       "149358    2.890372\n",
       "149420    3.784190\n",
       "149394    2.564949\n",
       "149406    4.110874"
      ]
     },
     "execution_count": 56,
     "metadata": {},
     "output_type": "execute_result"
    }
   ],
   "source": [
    "X_test.head()\n",
    "y_test.head()\n",
    "X_train.head()\n",
    "y_train.head()"
   ]
  },
  {
   "cell_type": "code",
   "execution_count": 57,
   "id": "44762b87",
   "metadata": {},
   "outputs": [],
   "source": [
    "X_test.reset_index(drop=True, inplace=True)\n",
    "y_test.reset_index(drop=True, inplace=True)\n",
    "X_train.reset_index(drop=True, inplace=True)\n",
    "y_train.reset_index(drop=True, inplace=True)"
   ]
  },
  {
   "cell_type": "code",
   "execution_count": 58,
   "id": "5d100330",
   "metadata": {},
   "outputs": [],
   "source": [
    "X_test_sarimax = X_test\n",
    "y_test_sarimax = y_test\n",
    "X_train_sarimax = X_train\n",
    "y_train_sarimax = y_train"
   ]
  },
  {
   "cell_type": "code",
   "execution_count": 59,
   "id": "b517472f",
   "metadata": {},
   "outputs": [
    {
     "data": {
      "text/html": [
       "<div>\n",
       "<style scoped>\n",
       "    .dataframe tbody tr th:only-of-type {\n",
       "        vertical-align: middle;\n",
       "    }\n",
       "\n",
       "    .dataframe tbody tr th {\n",
       "        vertical-align: top;\n",
       "    }\n",
       "\n",
       "    .dataframe thead th {\n",
       "        text-align: right;\n",
       "    }\n",
       "</style>\n",
       "<table border=\"1\" class=\"dataframe\">\n",
       "  <thead>\n",
       "    <tr style=\"text-align: right;\">\n",
       "      <th></th>\n",
       "      <th>record_ID</th>\n",
       "      <th>week</th>\n",
       "      <th>store_id</th>\n",
       "      <th>sku_id</th>\n",
       "      <th>total_price</th>\n",
       "      <th>base_price</th>\n",
       "      <th>is_featured_sku</th>\n",
       "      <th>is_display_sku</th>\n",
       "      <th>month</th>\n",
       "      <th>year</th>\n",
       "      <th>day_of_week</th>\n",
       "      <th>day_of_month</th>\n",
       "      <th>discount</th>\n",
       "    </tr>\n",
       "  </thead>\n",
       "  <tbody>\n",
       "    <tr>\n",
       "      <th>0</th>\n",
       "      <td>41410</td>\n",
       "      <td>2011-07-11</td>\n",
       "      <td>9112</td>\n",
       "      <td>216425</td>\n",
       "      <td>132.5250</td>\n",
       "      <td>132.5250</td>\n",
       "      <td>0</td>\n",
       "      <td>0</td>\n",
       "      <td>7</td>\n",
       "      <td>2011</td>\n",
       "      <td>0</td>\n",
       "      <td>11</td>\n",
       "      <td>0.0</td>\n",
       "    </tr>\n",
       "    <tr>\n",
       "      <th>1</th>\n",
       "      <td>41386</td>\n",
       "      <td>2011-07-11</td>\n",
       "      <td>9092</td>\n",
       "      <td>216425</td>\n",
       "      <td>134.6625</td>\n",
       "      <td>134.6625</td>\n",
       "      <td>0</td>\n",
       "      <td>0</td>\n",
       "      <td>7</td>\n",
       "      <td>2011</td>\n",
       "      <td>0</td>\n",
       "      <td>11</td>\n",
       "      <td>0.0</td>\n",
       "    </tr>\n",
       "    <tr>\n",
       "      <th>2</th>\n",
       "      <td>41477</td>\n",
       "      <td>2011-07-11</td>\n",
       "      <td>9164</td>\n",
       "      <td>216425</td>\n",
       "      <td>134.6625</td>\n",
       "      <td>134.6625</td>\n",
       "      <td>0</td>\n",
       "      <td>0</td>\n",
       "      <td>7</td>\n",
       "      <td>2011</td>\n",
       "      <td>0</td>\n",
       "      <td>11</td>\n",
       "      <td>0.0</td>\n",
       "    </tr>\n",
       "    <tr>\n",
       "      <th>3</th>\n",
       "      <td>41435</td>\n",
       "      <td>2011-07-11</td>\n",
       "      <td>9132</td>\n",
       "      <td>216425</td>\n",
       "      <td>131.1000</td>\n",
       "      <td>131.1000</td>\n",
       "      <td>0</td>\n",
       "      <td>0</td>\n",
       "      <td>7</td>\n",
       "      <td>2011</td>\n",
       "      <td>0</td>\n",
       "      <td>11</td>\n",
       "      <td>0.0</td>\n",
       "    </tr>\n",
       "    <tr>\n",
       "      <th>4</th>\n",
       "      <td>41455</td>\n",
       "      <td>2011-07-11</td>\n",
       "      <td>9147</td>\n",
       "      <td>216425</td>\n",
       "      <td>133.9500</td>\n",
       "      <td>133.9500</td>\n",
       "      <td>0</td>\n",
       "      <td>0</td>\n",
       "      <td>7</td>\n",
       "      <td>2011</td>\n",
       "      <td>0</td>\n",
       "      <td>11</td>\n",
       "      <td>0.0</td>\n",
       "    </tr>\n",
       "  </tbody>\n",
       "</table>\n",
       "</div>"
      ],
      "text/plain": [
       "   record_ID       week  store_id  sku_id  total_price  base_price  \\\n",
       "0      41410 2011-07-11      9112  216425     132.5250    132.5250   \n",
       "1      41386 2011-07-11      9092  216425     134.6625    134.6625   \n",
       "2      41477 2011-07-11      9164  216425     134.6625    134.6625   \n",
       "3      41435 2011-07-11      9132  216425     131.1000    131.1000   \n",
       "4      41455 2011-07-11      9147  216425     133.9500    133.9500   \n",
       "\n",
       "   is_featured_sku  is_display_sku  month  year  day_of_week  day_of_month  \\\n",
       "0                0               0      7  2011            0            11   \n",
       "1                0               0      7  2011            0            11   \n",
       "2                0               0      7  2011            0            11   \n",
       "3                0               0      7  2011            0            11   \n",
       "4                0               0      7  2011            0            11   \n",
       "\n",
       "   discount  \n",
       "0       0.0  \n",
       "1       0.0  \n",
       "2       0.0  \n",
       "3       0.0  \n",
       "4       0.0  "
      ]
     },
     "execution_count": 59,
     "metadata": {},
     "output_type": "execute_result"
    },
    {
     "data": {
      "text/html": [
       "<div>\n",
       "<style scoped>\n",
       "    .dataframe tbody tr th:only-of-type {\n",
       "        vertical-align: middle;\n",
       "    }\n",
       "\n",
       "    .dataframe tbody tr th {\n",
       "        vertical-align: top;\n",
       "    }\n",
       "\n",
       "    .dataframe thead th {\n",
       "        text-align: right;\n",
       "    }\n",
       "</style>\n",
       "<table border=\"1\" class=\"dataframe\">\n",
       "  <thead>\n",
       "    <tr style=\"text-align: right;\">\n",
       "      <th></th>\n",
       "      <th>units_sold</th>\n",
       "    </tr>\n",
       "  </thead>\n",
       "  <tbody>\n",
       "    <tr>\n",
       "      <th>0</th>\n",
       "      <td>4.007333</td>\n",
       "    </tr>\n",
       "    <tr>\n",
       "      <th>1</th>\n",
       "      <td>2.197225</td>\n",
       "    </tr>\n",
       "    <tr>\n",
       "      <th>2</th>\n",
       "      <td>3.891820</td>\n",
       "    </tr>\n",
       "    <tr>\n",
       "      <th>3</th>\n",
       "      <td>3.044522</td>\n",
       "    </tr>\n",
       "    <tr>\n",
       "      <th>4</th>\n",
       "      <td>3.737670</td>\n",
       "    </tr>\n",
       "  </tbody>\n",
       "</table>\n",
       "</div>"
      ],
      "text/plain": [
       "   units_sold\n",
       "0    4.007333\n",
       "1    2.197225\n",
       "2    3.891820\n",
       "3    3.044522\n",
       "4    3.737670"
      ]
     },
     "execution_count": 59,
     "metadata": {},
     "output_type": "execute_result"
    },
    {
     "data": {
      "text/html": [
       "<div>\n",
       "<style scoped>\n",
       "    .dataframe tbody tr th:only-of-type {\n",
       "        vertical-align: middle;\n",
       "    }\n",
       "\n",
       "    .dataframe tbody tr th {\n",
       "        vertical-align: top;\n",
       "    }\n",
       "\n",
       "    .dataframe thead th {\n",
       "        text-align: right;\n",
       "    }\n",
       "</style>\n",
       "<table border=\"1\" class=\"dataframe\">\n",
       "  <thead>\n",
       "    <tr style=\"text-align: right;\">\n",
       "      <th></th>\n",
       "      <th>record_ID</th>\n",
       "      <th>week</th>\n",
       "      <th>store_id</th>\n",
       "      <th>sku_id</th>\n",
       "      <th>total_price</th>\n",
       "      <th>base_price</th>\n",
       "      <th>is_featured_sku</th>\n",
       "      <th>is_display_sku</th>\n",
       "      <th>month</th>\n",
       "      <th>year</th>\n",
       "      <th>day_of_week</th>\n",
       "      <th>day_of_month</th>\n",
       "      <th>discount</th>\n",
       "    </tr>\n",
       "  </thead>\n",
       "  <tbody>\n",
       "    <tr>\n",
       "      <th>0</th>\n",
       "      <td>211535</td>\n",
       "      <td>2013-07-09</td>\n",
       "      <td>9112</td>\n",
       "      <td>216425</td>\n",
       "      <td>141.7875</td>\n",
       "      <td>141.7875</td>\n",
       "      <td>0</td>\n",
       "      <td>0</td>\n",
       "      <td>7</td>\n",
       "      <td>2013</td>\n",
       "      <td>1</td>\n",
       "      <td>9</td>\n",
       "      <td>0.0</td>\n",
       "    </tr>\n",
       "    <tr>\n",
       "      <th>1</th>\n",
       "      <td>211511</td>\n",
       "      <td>2013-07-09</td>\n",
       "      <td>9092</td>\n",
       "      <td>216425</td>\n",
       "      <td>129.6750</td>\n",
       "      <td>129.6750</td>\n",
       "      <td>0</td>\n",
       "      <td>0</td>\n",
       "      <td>7</td>\n",
       "      <td>2013</td>\n",
       "      <td>1</td>\n",
       "      <td>9</td>\n",
       "      <td>0.0</td>\n",
       "    </tr>\n",
       "    <tr>\n",
       "      <th>2</th>\n",
       "      <td>211602</td>\n",
       "      <td>2013-07-09</td>\n",
       "      <td>9164</td>\n",
       "      <td>216425</td>\n",
       "      <td>141.0750</td>\n",
       "      <td>141.0750</td>\n",
       "      <td>0</td>\n",
       "      <td>0</td>\n",
       "      <td>7</td>\n",
       "      <td>2013</td>\n",
       "      <td>1</td>\n",
       "      <td>9</td>\n",
       "      <td>0.0</td>\n",
       "    </tr>\n",
       "    <tr>\n",
       "      <th>3</th>\n",
       "      <td>211560</td>\n",
       "      <td>2013-07-09</td>\n",
       "      <td>9132</td>\n",
       "      <td>216425</td>\n",
       "      <td>131.8125</td>\n",
       "      <td>131.8125</td>\n",
       "      <td>0</td>\n",
       "      <td>0</td>\n",
       "      <td>7</td>\n",
       "      <td>2013</td>\n",
       "      <td>1</td>\n",
       "      <td>9</td>\n",
       "      <td>0.0</td>\n",
       "    </tr>\n",
       "    <tr>\n",
       "      <th>4</th>\n",
       "      <td>211580</td>\n",
       "      <td>2013-07-09</td>\n",
       "      <td>9147</td>\n",
       "      <td>216425</td>\n",
       "      <td>133.2375</td>\n",
       "      <td>133.2375</td>\n",
       "      <td>0</td>\n",
       "      <td>0</td>\n",
       "      <td>7</td>\n",
       "      <td>2013</td>\n",
       "      <td>1</td>\n",
       "      <td>9</td>\n",
       "      <td>0.0</td>\n",
       "    </tr>\n",
       "  </tbody>\n",
       "</table>\n",
       "</div>"
      ],
      "text/plain": [
       "   record_ID       week  store_id  sku_id  total_price  base_price  \\\n",
       "0     211535 2013-07-09      9112  216425     141.7875    141.7875   \n",
       "1     211511 2013-07-09      9092  216425     129.6750    129.6750   \n",
       "2     211602 2013-07-09      9164  216425     141.0750    141.0750   \n",
       "3     211560 2013-07-09      9132  216425     131.8125    131.8125   \n",
       "4     211580 2013-07-09      9147  216425     133.2375    133.2375   \n",
       "\n",
       "   is_featured_sku  is_display_sku  month  year  day_of_week  day_of_month  \\\n",
       "0                0               0      7  2013            1             9   \n",
       "1                0               0      7  2013            1             9   \n",
       "2                0               0      7  2013            1             9   \n",
       "3                0               0      7  2013            1             9   \n",
       "4                0               0      7  2013            1             9   \n",
       "\n",
       "   discount  \n",
       "0       0.0  \n",
       "1       0.0  \n",
       "2       0.0  \n",
       "3       0.0  \n",
       "4       0.0  "
      ]
     },
     "execution_count": 59,
     "metadata": {},
     "output_type": "execute_result"
    },
    {
     "data": {
      "text/html": [
       "<div>\n",
       "<style scoped>\n",
       "    .dataframe tbody tr th:only-of-type {\n",
       "        vertical-align: middle;\n",
       "    }\n",
       "\n",
       "    .dataframe tbody tr th {\n",
       "        vertical-align: top;\n",
       "    }\n",
       "\n",
       "    .dataframe thead th {\n",
       "        text-align: right;\n",
       "    }\n",
       "</style>\n",
       "<table border=\"1\" class=\"dataframe\">\n",
       "  <thead>\n",
       "    <tr style=\"text-align: right;\">\n",
       "      <th></th>\n",
       "      <th>units_sold</th>\n",
       "    </tr>\n",
       "  </thead>\n",
       "  <tbody>\n",
       "    <tr>\n",
       "      <th>0</th>\n",
       "      <td>4.276666</td>\n",
       "    </tr>\n",
       "    <tr>\n",
       "      <th>1</th>\n",
       "      <td>2.890372</td>\n",
       "    </tr>\n",
       "    <tr>\n",
       "      <th>2</th>\n",
       "      <td>3.784190</td>\n",
       "    </tr>\n",
       "    <tr>\n",
       "      <th>3</th>\n",
       "      <td>2.564949</td>\n",
       "    </tr>\n",
       "    <tr>\n",
       "      <th>4</th>\n",
       "      <td>4.110874</td>\n",
       "    </tr>\n",
       "  </tbody>\n",
       "</table>\n",
       "</div>"
      ],
      "text/plain": [
       "   units_sold\n",
       "0    4.276666\n",
       "1    2.890372\n",
       "2    3.784190\n",
       "3    2.564949\n",
       "4    4.110874"
      ]
     },
     "execution_count": 59,
     "metadata": {},
     "output_type": "execute_result"
    }
   ],
   "source": [
    "X_test.head()\n",
    "y_test.head()\n",
    "X_train.head()\n",
    "y_train.head()"
   ]
  },
  {
   "cell_type": "code",
   "execution_count": 60,
   "id": "2e1b5315",
   "metadata": {},
   "outputs": [
    {
     "data": {
      "text/plain": [
       "pandas.core.frame.DataFrame"
      ]
     },
     "execution_count": 60,
     "metadata": {},
     "output_type": "execute_result"
    }
   ],
   "source": [
    "type(y_test)"
   ]
  },
  {
   "cell_type": "code",
   "execution_count": 61,
   "id": "f569f97b",
   "metadata": {},
   "outputs": [
    {
     "data": {
      "text/plain": [
       "pandas.core.frame.DataFrame"
      ]
     },
     "execution_count": 61,
     "metadata": {},
     "output_type": "execute_result"
    }
   ],
   "source": [
    "type(X_test)"
   ]
  },
  {
   "cell_type": "code",
   "execution_count": 62,
   "id": "2b145eb0",
   "metadata": {},
   "outputs": [],
   "source": [
    "X_test.set_index('week', inplace=True)\n",
    "X_train.set_index('week', inplace=True)"
   ]
  },
  {
   "cell_type": "code",
   "execution_count": 63,
   "id": "0837aa89",
   "metadata": {},
   "outputs": [],
   "source": [
    "def train_random_forest(X_train, y_train):\n",
    "    # Creating a Random Forest regressor\n",
    "    #rf_regressor = RandomForestRegressor(n_estimators=100, random_state=42)\n",
    "\n",
    "    # Training the model\n",
    "    #rf_regressor.fit(X_train, y_train)\n",
    "\n",
    "    # Making predictions on the testing set\n",
    "    rf_regressor = RandomForestRegressor(n_estimators=100, random_state=42)\n",
    "    rf_regressor = RFE(estimator = rf_regressor, n_features_to_select=7)\n",
    "    fit = rf_regressor.fit(X_train, y_train)\n",
    "    y_pred = fit.predict(X_test)\n",
    "    selected_features = X_train.columns[rf_regressor.support_]\n",
    "    print(\"Selected Features:\",selected_features)\n",
    "    \n",
    "    return y_pred, fit"
   ]
  },
  {
   "cell_type": "code",
   "execution_count": 64,
   "id": "65373fd6",
   "metadata": {},
   "outputs": [
    {
     "name": "stdout",
     "output_type": "stream",
     "text": [
      "Selected Features: Index(['record_ID', 'store_id', 'total_price', 'base_price', 'month',\n",
      "       'day_of_month', 'discount'],\n",
      "      dtype='object')\n"
     ]
    }
   ],
   "source": [
    "y_pred, fit = train_random_forest(X_train,y_train)"
   ]
  },
  {
   "cell_type": "code",
   "execution_count": 65,
   "id": "b40b8f74",
   "metadata": {},
   "outputs": [
    {
     "data": {
      "text/plain": [
       "array([3.58750533, 2.25625433, 3.11339046, ..., 2.98946731, 3.5947412 ,\n",
       "       3.50252408])"
      ]
     },
     "execution_count": 65,
     "metadata": {},
     "output_type": "execute_result"
    }
   ],
   "source": [
    "y_pred"
   ]
  },
  {
   "cell_type": "markdown",
   "id": "bb262edf",
   "metadata": {},
   "source": [
    "# Evaluate Random Forest Model"
   ]
  },
  {
   "cell_type": "code",
   "execution_count": 66,
   "id": "b8b1e11b",
   "metadata": {},
   "outputs": [
    {
     "name": "stdout",
     "output_type": "stream",
     "text": [
      "Accuracy: 87.7 %.\n"
     ]
    }
   ],
   "source": [
    "#Evaluate accuracy using MAPE\n",
    "y_true = np.array(y_test['units_sold'])\n",
    "sumvalue=np.sum(y_true)\n",
    "mape=np.sum(np.abs((y_true - y_pred)))/sumvalue*100\n",
    "accuracy=100-mape\n",
    "print('Accuracy:', round(accuracy,2),'%.')"
   ]
  },
  {
   "cell_type": "code",
   "execution_count": 67,
   "id": "7d2ab269",
   "metadata": {},
   "outputs": [
    {
     "name": "stdout",
     "output_type": "stream",
     "text": [
      "RMSE: 0.5344433524328734\n",
      "MSE: 0.2856296969596886\n"
     ]
    }
   ],
   "source": [
    "# Find RMSE\n",
    "mse = mean_squared_error(y_test, y_pred)\n",
    "rmse = np.sqrt(mse)\n",
    "print(\"RMSE:\",rmse)\n",
    "print(\"MSE:\",mse)"
   ]
  },
  {
   "cell_type": "code",
   "execution_count": 68,
   "id": "4c701a54",
   "metadata": {},
   "outputs": [],
   "source": [
    "def plot_predictions(y_test, y_pred):\n",
    "    plt.figure(figsize=(10, 6))\n",
    "    plt.scatter(y_test, y_pred, color='blue')\n",
    "    plt.plot([min(y_test), max(y_test)], [min(y_test), max(y_test)], color='red', linestyle='--')\n",
    "    plt.xlabel('Actual units_sold')\n",
    "    plt.ylabel('Predicted units_sold')\n",
    "    plt.title('Actual vs. Predicted units_sold')\n",
    "    plt.show()"
   ]
  },
  {
   "cell_type": "code",
   "execution_count": 69,
   "id": "a9922dde",
   "metadata": {},
   "outputs": [],
   "source": [
    "y_test1 = y_test.values.flatten()"
   ]
  },
  {
   "cell_type": "code",
   "execution_count": 70,
   "id": "30d065b7",
   "metadata": {},
   "outputs": [
    {
     "data": {
      "text/plain": [
       "array([4.00733319, 2.19722458, 3.8918203 , ..., 3.21887582, 3.76120012,\n",
       "       3.04452244])"
      ]
     },
     "execution_count": 70,
     "metadata": {},
     "output_type": "execute_result"
    }
   ],
   "source": [
    "y_test1"
   ]
  },
  {
   "cell_type": "code",
   "execution_count": 71,
   "id": "6a15d2ea",
   "metadata": {},
   "outputs": [],
   "source": [
    "actual_values_rf = np.exp(y_test1)\n",
    "predicted_values_rf = np.exp(y_pred)\n",
    "actual_values_rf = pd.DataFrame(actual_values_rf, columns=['actual_values_rf'])\n",
    "predicted_values_rf = pd.DataFrame(predicted_values_rf, columns = ['predicted_values_rf'])"
   ]
  },
  {
   "cell_type": "code",
   "execution_count": 72,
   "id": "51e33b92",
   "metadata": {},
   "outputs": [
    {
     "data": {
      "text/html": [
       "<div>\n",
       "<style scoped>\n",
       "    .dataframe tbody tr th:only-of-type {\n",
       "        vertical-align: middle;\n",
       "    }\n",
       "\n",
       "    .dataframe tbody tr th {\n",
       "        vertical-align: top;\n",
       "    }\n",
       "\n",
       "    .dataframe thead th {\n",
       "        text-align: right;\n",
       "    }\n",
       "</style>\n",
       "<table border=\"1\" class=\"dataframe\">\n",
       "  <thead>\n",
       "    <tr style=\"text-align: right;\">\n",
       "      <th></th>\n",
       "      <th>actual_values_rf</th>\n",
       "    </tr>\n",
       "  </thead>\n",
       "  <tbody>\n",
       "    <tr>\n",
       "      <th>0</th>\n",
       "      <td>55.0</td>\n",
       "    </tr>\n",
       "    <tr>\n",
       "      <th>1</th>\n",
       "      <td>9.0</td>\n",
       "    </tr>\n",
       "    <tr>\n",
       "      <th>2</th>\n",
       "      <td>49.0</td>\n",
       "    </tr>\n",
       "    <tr>\n",
       "      <th>3</th>\n",
       "      <td>21.0</td>\n",
       "    </tr>\n",
       "    <tr>\n",
       "      <th>4</th>\n",
       "      <td>42.0</td>\n",
       "    </tr>\n",
       "    <tr>\n",
       "      <th>...</th>\n",
       "      <td>...</td>\n",
       "    </tr>\n",
       "    <tr>\n",
       "      <th>1711</th>\n",
       "      <td>33.0</td>\n",
       "    </tr>\n",
       "    <tr>\n",
       "      <th>1712</th>\n",
       "      <td>29.0</td>\n",
       "    </tr>\n",
       "    <tr>\n",
       "      <th>1713</th>\n",
       "      <td>25.0</td>\n",
       "    </tr>\n",
       "    <tr>\n",
       "      <th>1714</th>\n",
       "      <td>43.0</td>\n",
       "    </tr>\n",
       "    <tr>\n",
       "      <th>1715</th>\n",
       "      <td>21.0</td>\n",
       "    </tr>\n",
       "  </tbody>\n",
       "</table>\n",
       "<p>1716 rows × 1 columns</p>\n",
       "</div>"
      ],
      "text/plain": [
       "      actual_values_rf\n",
       "0                 55.0\n",
       "1                  9.0\n",
       "2                 49.0\n",
       "3                 21.0\n",
       "4                 42.0\n",
       "...                ...\n",
       "1711              33.0\n",
       "1712              29.0\n",
       "1713              25.0\n",
       "1714              43.0\n",
       "1715              21.0\n",
       "\n",
       "[1716 rows x 1 columns]"
      ]
     },
     "execution_count": 72,
     "metadata": {},
     "output_type": "execute_result"
    },
    {
     "data": {
      "text/html": [
       "<div>\n",
       "<style scoped>\n",
       "    .dataframe tbody tr th:only-of-type {\n",
       "        vertical-align: middle;\n",
       "    }\n",
       "\n",
       "    .dataframe tbody tr th {\n",
       "        vertical-align: top;\n",
       "    }\n",
       "\n",
       "    .dataframe thead th {\n",
       "        text-align: right;\n",
       "    }\n",
       "</style>\n",
       "<table border=\"1\" class=\"dataframe\">\n",
       "  <thead>\n",
       "    <tr style=\"text-align: right;\">\n",
       "      <th></th>\n",
       "      <th>predicted_values_rf</th>\n",
       "    </tr>\n",
       "  </thead>\n",
       "  <tbody>\n",
       "    <tr>\n",
       "      <th>0</th>\n",
       "      <td>36.143796</td>\n",
       "    </tr>\n",
       "    <tr>\n",
       "      <th>1</th>\n",
       "      <td>9.547261</td>\n",
       "    </tr>\n",
       "    <tr>\n",
       "      <th>2</th>\n",
       "      <td>22.497191</td>\n",
       "    </tr>\n",
       "    <tr>\n",
       "      <th>3</th>\n",
       "      <td>16.452316</td>\n",
       "    </tr>\n",
       "    <tr>\n",
       "      <th>4</th>\n",
       "      <td>35.970203</td>\n",
       "    </tr>\n",
       "    <tr>\n",
       "      <th>...</th>\n",
       "      <td>...</td>\n",
       "    </tr>\n",
       "    <tr>\n",
       "      <th>1711</th>\n",
       "      <td>22.355363</td>\n",
       "    </tr>\n",
       "    <tr>\n",
       "      <th>1712</th>\n",
       "      <td>17.226581</td>\n",
       "    </tr>\n",
       "    <tr>\n",
       "      <th>1713</th>\n",
       "      <td>19.875092</td>\n",
       "    </tr>\n",
       "    <tr>\n",
       "      <th>1714</th>\n",
       "      <td>36.406277</td>\n",
       "    </tr>\n",
       "    <tr>\n",
       "      <th>1715</th>\n",
       "      <td>33.199143</td>\n",
       "    </tr>\n",
       "  </tbody>\n",
       "</table>\n",
       "<p>1716 rows × 1 columns</p>\n",
       "</div>"
      ],
      "text/plain": [
       "      predicted_values_rf\n",
       "0               36.143796\n",
       "1                9.547261\n",
       "2               22.497191\n",
       "3               16.452316\n",
       "4               35.970203\n",
       "...                   ...\n",
       "1711            22.355363\n",
       "1712            17.226581\n",
       "1713            19.875092\n",
       "1714            36.406277\n",
       "1715            33.199143\n",
       "\n",
       "[1716 rows x 1 columns]"
      ]
     },
     "execution_count": 72,
     "metadata": {},
     "output_type": "execute_result"
    }
   ],
   "source": [
    "actual_values_rf\n",
    "predicted_values_rf\n",
    "X_test.reset_index(inplace = True)"
   ]
  },
  {
   "cell_type": "code",
   "execution_count": 73,
   "id": "b2240b17",
   "metadata": {},
   "outputs": [],
   "source": [
    "merged_rf_df = pd.concat([X_test, actual_values_rf, predicted_values_rf], axis = 1)"
   ]
  },
  {
   "cell_type": "code",
   "execution_count": 74,
   "id": "4f588a28",
   "metadata": {},
   "outputs": [],
   "source": [
    "merged_rf_df['predicted_values_rf'] = merged_rf_df['predicted_values_rf'].round(0)"
   ]
  },
  {
   "cell_type": "code",
   "execution_count": 75,
   "id": "acd02ac6",
   "metadata": {},
   "outputs": [
    {
     "data": {
      "text/html": [
       "<div>\n",
       "<style scoped>\n",
       "    .dataframe tbody tr th:only-of-type {\n",
       "        vertical-align: middle;\n",
       "    }\n",
       "\n",
       "    .dataframe tbody tr th {\n",
       "        vertical-align: top;\n",
       "    }\n",
       "\n",
       "    .dataframe thead th {\n",
       "        text-align: right;\n",
       "    }\n",
       "</style>\n",
       "<table border=\"1\" class=\"dataframe\">\n",
       "  <thead>\n",
       "    <tr style=\"text-align: right;\">\n",
       "      <th></th>\n",
       "      <th>week</th>\n",
       "      <th>record_ID</th>\n",
       "      <th>store_id</th>\n",
       "      <th>sku_id</th>\n",
       "      <th>total_price</th>\n",
       "      <th>base_price</th>\n",
       "      <th>is_featured_sku</th>\n",
       "      <th>is_display_sku</th>\n",
       "      <th>month</th>\n",
       "      <th>year</th>\n",
       "      <th>day_of_week</th>\n",
       "      <th>day_of_month</th>\n",
       "      <th>discount</th>\n",
       "      <th>actual_values_rf</th>\n",
       "      <th>predicted_values_rf</th>\n",
       "    </tr>\n",
       "  </thead>\n",
       "  <tbody>\n",
       "    <tr>\n",
       "      <th>0</th>\n",
       "      <td>2011-07-11</td>\n",
       "      <td>41410</td>\n",
       "      <td>9112</td>\n",
       "      <td>216425</td>\n",
       "      <td>132.5250</td>\n",
       "      <td>132.5250</td>\n",
       "      <td>0</td>\n",
       "      <td>0</td>\n",
       "      <td>7</td>\n",
       "      <td>2011</td>\n",
       "      <td>0</td>\n",
       "      <td>11</td>\n",
       "      <td>0.0</td>\n",
       "      <td>55.0</td>\n",
       "      <td>36.0</td>\n",
       "    </tr>\n",
       "    <tr>\n",
       "      <th>1</th>\n",
       "      <td>2011-07-11</td>\n",
       "      <td>41386</td>\n",
       "      <td>9092</td>\n",
       "      <td>216425</td>\n",
       "      <td>134.6625</td>\n",
       "      <td>134.6625</td>\n",
       "      <td>0</td>\n",
       "      <td>0</td>\n",
       "      <td>7</td>\n",
       "      <td>2011</td>\n",
       "      <td>0</td>\n",
       "      <td>11</td>\n",
       "      <td>0.0</td>\n",
       "      <td>9.0</td>\n",
       "      <td>10.0</td>\n",
       "    </tr>\n",
       "    <tr>\n",
       "      <th>2</th>\n",
       "      <td>2011-07-11</td>\n",
       "      <td>41477</td>\n",
       "      <td>9164</td>\n",
       "      <td>216425</td>\n",
       "      <td>134.6625</td>\n",
       "      <td>134.6625</td>\n",
       "      <td>0</td>\n",
       "      <td>0</td>\n",
       "      <td>7</td>\n",
       "      <td>2011</td>\n",
       "      <td>0</td>\n",
       "      <td>11</td>\n",
       "      <td>0.0</td>\n",
       "      <td>49.0</td>\n",
       "      <td>22.0</td>\n",
       "    </tr>\n",
       "    <tr>\n",
       "      <th>3</th>\n",
       "      <td>2011-07-11</td>\n",
       "      <td>41435</td>\n",
       "      <td>9132</td>\n",
       "      <td>216425</td>\n",
       "      <td>131.1000</td>\n",
       "      <td>131.1000</td>\n",
       "      <td>0</td>\n",
       "      <td>0</td>\n",
       "      <td>7</td>\n",
       "      <td>2011</td>\n",
       "      <td>0</td>\n",
       "      <td>11</td>\n",
       "      <td>0.0</td>\n",
       "      <td>21.0</td>\n",
       "      <td>16.0</td>\n",
       "    </tr>\n",
       "    <tr>\n",
       "      <th>4</th>\n",
       "      <td>2011-07-11</td>\n",
       "      <td>41455</td>\n",
       "      <td>9147</td>\n",
       "      <td>216425</td>\n",
       "      <td>133.9500</td>\n",
       "      <td>133.9500</td>\n",
       "      <td>0</td>\n",
       "      <td>0</td>\n",
       "      <td>7</td>\n",
       "      <td>2011</td>\n",
       "      <td>0</td>\n",
       "      <td>11</td>\n",
       "      <td>0.0</td>\n",
       "      <td>42.0</td>\n",
       "      <td>36.0</td>\n",
       "    </tr>\n",
       "    <tr>\n",
       "      <th>...</th>\n",
       "      <td>...</td>\n",
       "      <td>...</td>\n",
       "      <td>...</td>\n",
       "      <td>...</td>\n",
       "      <td>...</td>\n",
       "      <td>...</td>\n",
       "      <td>...</td>\n",
       "      <td>...</td>\n",
       "      <td>...</td>\n",
       "      <td>...</td>\n",
       "      <td>...</td>\n",
       "      <td>...</td>\n",
       "      <td>...</td>\n",
       "      <td>...</td>\n",
       "      <td>...</td>\n",
       "    </tr>\n",
       "    <tr>\n",
       "      <th>1711</th>\n",
       "      <td>2011-01-17</td>\n",
       "      <td>1210</td>\n",
       "      <td>9713</td>\n",
       "      <td>216425</td>\n",
       "      <td>133.2375</td>\n",
       "      <td>133.2375</td>\n",
       "      <td>0</td>\n",
       "      <td>0</td>\n",
       "      <td>1</td>\n",
       "      <td>2011</td>\n",
       "      <td>0</td>\n",
       "      <td>17</td>\n",
       "      <td>0.0</td>\n",
       "      <td>33.0</td>\n",
       "      <td>22.0</td>\n",
       "    </tr>\n",
       "    <tr>\n",
       "      <th>1712</th>\n",
       "      <td>2011-01-17</td>\n",
       "      <td>1066</td>\n",
       "      <td>9578</td>\n",
       "      <td>216425</td>\n",
       "      <td>132.5250</td>\n",
       "      <td>132.5250</td>\n",
       "      <td>0</td>\n",
       "      <td>0</td>\n",
       "      <td>1</td>\n",
       "      <td>2011</td>\n",
       "      <td>0</td>\n",
       "      <td>17</td>\n",
       "      <td>0.0</td>\n",
       "      <td>29.0</td>\n",
       "      <td>17.0</td>\n",
       "    </tr>\n",
       "    <tr>\n",
       "      <th>1713</th>\n",
       "      <td>2011-01-17</td>\n",
       "      <td>1044</td>\n",
       "      <td>9532</td>\n",
       "      <td>216425</td>\n",
       "      <td>128.9625</td>\n",
       "      <td>128.9625</td>\n",
       "      <td>0</td>\n",
       "      <td>0</td>\n",
       "      <td>1</td>\n",
       "      <td>2011</td>\n",
       "      <td>0</td>\n",
       "      <td>17</td>\n",
       "      <td>0.0</td>\n",
       "      <td>25.0</td>\n",
       "      <td>20.0</td>\n",
       "    </tr>\n",
       "    <tr>\n",
       "      <th>1714</th>\n",
       "      <td>2011-01-17</td>\n",
       "      <td>1107</td>\n",
       "      <td>9611</td>\n",
       "      <td>216425</td>\n",
       "      <td>133.9500</td>\n",
       "      <td>133.9500</td>\n",
       "      <td>0</td>\n",
       "      <td>0</td>\n",
       "      <td>1</td>\n",
       "      <td>2011</td>\n",
       "      <td>0</td>\n",
       "      <td>17</td>\n",
       "      <td>0.0</td>\n",
       "      <td>43.0</td>\n",
       "      <td>36.0</td>\n",
       "    </tr>\n",
       "    <tr>\n",
       "      <th>1715</th>\n",
       "      <td>2011-01-17</td>\n",
       "      <td>1086</td>\n",
       "      <td>9672</td>\n",
       "      <td>216425</td>\n",
       "      <td>133.9500</td>\n",
       "      <td>133.9500</td>\n",
       "      <td>0</td>\n",
       "      <td>0</td>\n",
       "      <td>1</td>\n",
       "      <td>2011</td>\n",
       "      <td>0</td>\n",
       "      <td>17</td>\n",
       "      <td>0.0</td>\n",
       "      <td>21.0</td>\n",
       "      <td>33.0</td>\n",
       "    </tr>\n",
       "  </tbody>\n",
       "</table>\n",
       "<p>1716 rows × 15 columns</p>\n",
       "</div>"
      ],
      "text/plain": [
       "           week  record_ID  store_id  sku_id  total_price  base_price  \\\n",
       "0    2011-07-11      41410      9112  216425     132.5250    132.5250   \n",
       "1    2011-07-11      41386      9092  216425     134.6625    134.6625   \n",
       "2    2011-07-11      41477      9164  216425     134.6625    134.6625   \n",
       "3    2011-07-11      41435      9132  216425     131.1000    131.1000   \n",
       "4    2011-07-11      41455      9147  216425     133.9500    133.9500   \n",
       "...         ...        ...       ...     ...          ...         ...   \n",
       "1711 2011-01-17       1210      9713  216425     133.2375    133.2375   \n",
       "1712 2011-01-17       1066      9578  216425     132.5250    132.5250   \n",
       "1713 2011-01-17       1044      9532  216425     128.9625    128.9625   \n",
       "1714 2011-01-17       1107      9611  216425     133.9500    133.9500   \n",
       "1715 2011-01-17       1086      9672  216425     133.9500    133.9500   \n",
       "\n",
       "      is_featured_sku  is_display_sku  month  year  day_of_week  day_of_month  \\\n",
       "0                   0               0      7  2011            0            11   \n",
       "1                   0               0      7  2011            0            11   \n",
       "2                   0               0      7  2011            0            11   \n",
       "3                   0               0      7  2011            0            11   \n",
       "4                   0               0      7  2011            0            11   \n",
       "...               ...             ...    ...   ...          ...           ...   \n",
       "1711                0               0      1  2011            0            17   \n",
       "1712                0               0      1  2011            0            17   \n",
       "1713                0               0      1  2011            0            17   \n",
       "1714                0               0      1  2011            0            17   \n",
       "1715                0               0      1  2011            0            17   \n",
       "\n",
       "      discount  actual_values_rf  predicted_values_rf  \n",
       "0          0.0              55.0                 36.0  \n",
       "1          0.0               9.0                 10.0  \n",
       "2          0.0              49.0                 22.0  \n",
       "3          0.0              21.0                 16.0  \n",
       "4          0.0              42.0                 36.0  \n",
       "...        ...               ...                  ...  \n",
       "1711       0.0              33.0                 22.0  \n",
       "1712       0.0              29.0                 17.0  \n",
       "1713       0.0              25.0                 20.0  \n",
       "1714       0.0              43.0                 36.0  \n",
       "1715       0.0              21.0                 33.0  \n",
       "\n",
       "[1716 rows x 15 columns]"
      ]
     },
     "execution_count": 75,
     "metadata": {},
     "output_type": "execute_result"
    }
   ],
   "source": [
    "merged_rf_df"
   ]
  },
  {
   "cell_type": "code",
   "execution_count": 76,
   "id": "3f2c1a58",
   "metadata": {},
   "outputs": [
    {
     "name": "stdout",
     "output_type": "stream",
     "text": [
      "<class 'pandas.core.frame.DataFrame'>\n",
      "RangeIndex: 1716 entries, 0 to 1715\n",
      "Data columns (total 15 columns):\n",
      " #   Column               Non-Null Count  Dtype         \n",
      "---  ------               --------------  -----         \n",
      " 0   week                 1716 non-null   datetime64[ns]\n",
      " 1   record_ID            1716 non-null   int64         \n",
      " 2   store_id             1716 non-null   int64         \n",
      " 3   sku_id               1716 non-null   int64         \n",
      " 4   total_price          1716 non-null   float64       \n",
      " 5   base_price           1716 non-null   float64       \n",
      " 6   is_featured_sku      1716 non-null   int64         \n",
      " 7   is_display_sku       1716 non-null   int64         \n",
      " 8   month                1716 non-null   int32         \n",
      " 9   year                 1716 non-null   int32         \n",
      " 10  day_of_week          1716 non-null   int32         \n",
      " 11  day_of_month         1716 non-null   int32         \n",
      " 12  discount             1716 non-null   float64       \n",
      " 13  actual_values_rf     1716 non-null   float64       \n",
      " 14  predicted_values_rf  1716 non-null   float64       \n",
      "dtypes: datetime64[ns](1), float64(5), int32(4), int64(5)\n",
      "memory usage: 174.4 KB\n"
     ]
    }
   ],
   "source": [
    "merged_rf_df.info()"
   ]
  },
  {
   "cell_type": "code",
   "execution_count": 77,
   "id": "74909b68",
   "metadata": {},
   "outputs": [],
   "source": [
    "merged_rf_df['week'] = merged_rf_df.apply(lambda row: '-'.join([str(row['year']), str(row['month']), str(row['day_of_month'])]), axis=1)"
   ]
  },
  {
   "cell_type": "code",
   "execution_count": 78,
   "id": "13b97291",
   "metadata": {},
   "outputs": [
    {
     "data": {
      "text/html": [
       "<div>\n",
       "<style scoped>\n",
       "    .dataframe tbody tr th:only-of-type {\n",
       "        vertical-align: middle;\n",
       "    }\n",
       "\n",
       "    .dataframe tbody tr th {\n",
       "        vertical-align: top;\n",
       "    }\n",
       "\n",
       "    .dataframe thead th {\n",
       "        text-align: right;\n",
       "    }\n",
       "</style>\n",
       "<table border=\"1\" class=\"dataframe\">\n",
       "  <thead>\n",
       "    <tr style=\"text-align: right;\">\n",
       "      <th></th>\n",
       "      <th>week</th>\n",
       "      <th>record_ID</th>\n",
       "      <th>store_id</th>\n",
       "      <th>sku_id</th>\n",
       "      <th>total_price</th>\n",
       "      <th>base_price</th>\n",
       "      <th>is_featured_sku</th>\n",
       "      <th>is_display_sku</th>\n",
       "      <th>month</th>\n",
       "      <th>year</th>\n",
       "      <th>day_of_week</th>\n",
       "      <th>day_of_month</th>\n",
       "      <th>discount</th>\n",
       "      <th>actual_values_rf</th>\n",
       "      <th>predicted_values_rf</th>\n",
       "    </tr>\n",
       "  </thead>\n",
       "  <tbody>\n",
       "    <tr>\n",
       "      <th>0</th>\n",
       "      <td>2011-7-11</td>\n",
       "      <td>41410</td>\n",
       "      <td>9112</td>\n",
       "      <td>216425</td>\n",
       "      <td>132.5250</td>\n",
       "      <td>132.5250</td>\n",
       "      <td>0</td>\n",
       "      <td>0</td>\n",
       "      <td>7</td>\n",
       "      <td>2011</td>\n",
       "      <td>0</td>\n",
       "      <td>11</td>\n",
       "      <td>0.0</td>\n",
       "      <td>55.0</td>\n",
       "      <td>36.0</td>\n",
       "    </tr>\n",
       "    <tr>\n",
       "      <th>1</th>\n",
       "      <td>2011-7-11</td>\n",
       "      <td>41386</td>\n",
       "      <td>9092</td>\n",
       "      <td>216425</td>\n",
       "      <td>134.6625</td>\n",
       "      <td>134.6625</td>\n",
       "      <td>0</td>\n",
       "      <td>0</td>\n",
       "      <td>7</td>\n",
       "      <td>2011</td>\n",
       "      <td>0</td>\n",
       "      <td>11</td>\n",
       "      <td>0.0</td>\n",
       "      <td>9.0</td>\n",
       "      <td>10.0</td>\n",
       "    </tr>\n",
       "    <tr>\n",
       "      <th>2</th>\n",
       "      <td>2011-7-11</td>\n",
       "      <td>41477</td>\n",
       "      <td>9164</td>\n",
       "      <td>216425</td>\n",
       "      <td>134.6625</td>\n",
       "      <td>134.6625</td>\n",
       "      <td>0</td>\n",
       "      <td>0</td>\n",
       "      <td>7</td>\n",
       "      <td>2011</td>\n",
       "      <td>0</td>\n",
       "      <td>11</td>\n",
       "      <td>0.0</td>\n",
       "      <td>49.0</td>\n",
       "      <td>22.0</td>\n",
       "    </tr>\n",
       "    <tr>\n",
       "      <th>3</th>\n",
       "      <td>2011-7-11</td>\n",
       "      <td>41435</td>\n",
       "      <td>9132</td>\n",
       "      <td>216425</td>\n",
       "      <td>131.1000</td>\n",
       "      <td>131.1000</td>\n",
       "      <td>0</td>\n",
       "      <td>0</td>\n",
       "      <td>7</td>\n",
       "      <td>2011</td>\n",
       "      <td>0</td>\n",
       "      <td>11</td>\n",
       "      <td>0.0</td>\n",
       "      <td>21.0</td>\n",
       "      <td>16.0</td>\n",
       "    </tr>\n",
       "    <tr>\n",
       "      <th>4</th>\n",
       "      <td>2011-7-11</td>\n",
       "      <td>41455</td>\n",
       "      <td>9147</td>\n",
       "      <td>216425</td>\n",
       "      <td>133.9500</td>\n",
       "      <td>133.9500</td>\n",
       "      <td>0</td>\n",
       "      <td>0</td>\n",
       "      <td>7</td>\n",
       "      <td>2011</td>\n",
       "      <td>0</td>\n",
       "      <td>11</td>\n",
       "      <td>0.0</td>\n",
       "      <td>42.0</td>\n",
       "      <td>36.0</td>\n",
       "    </tr>\n",
       "  </tbody>\n",
       "</table>\n",
       "</div>"
      ],
      "text/plain": [
       "        week  record_ID  store_id  sku_id  total_price  base_price  \\\n",
       "0  2011-7-11      41410      9112  216425     132.5250    132.5250   \n",
       "1  2011-7-11      41386      9092  216425     134.6625    134.6625   \n",
       "2  2011-7-11      41477      9164  216425     134.6625    134.6625   \n",
       "3  2011-7-11      41435      9132  216425     131.1000    131.1000   \n",
       "4  2011-7-11      41455      9147  216425     133.9500    133.9500   \n",
       "\n",
       "   is_featured_sku  is_display_sku  month  year  day_of_week  day_of_month  \\\n",
       "0                0               0      7  2011            0            11   \n",
       "1                0               0      7  2011            0            11   \n",
       "2                0               0      7  2011            0            11   \n",
       "3                0               0      7  2011            0            11   \n",
       "4                0               0      7  2011            0            11   \n",
       "\n",
       "   discount  actual_values_rf  predicted_values_rf  \n",
       "0       0.0              55.0                 36.0  \n",
       "1       0.0               9.0                 10.0  \n",
       "2       0.0              49.0                 22.0  \n",
       "3       0.0              21.0                 16.0  \n",
       "4       0.0              42.0                 36.0  "
      ]
     },
     "execution_count": 78,
     "metadata": {},
     "output_type": "execute_result"
    }
   ],
   "source": [
    "merged_rf_df.head()"
   ]
  },
  {
   "cell_type": "code",
   "execution_count": 79,
   "id": "701d96c6",
   "metadata": {},
   "outputs": [
    {
     "name": "stdout",
     "output_type": "stream",
     "text": [
      "<class 'pandas.core.frame.DataFrame'>\n",
      "RangeIndex: 1716 entries, 0 to 1715\n",
      "Data columns (total 15 columns):\n",
      " #   Column               Non-Null Count  Dtype  \n",
      "---  ------               --------------  -----  \n",
      " 0   week                 1716 non-null   object \n",
      " 1   record_ID            1716 non-null   int64  \n",
      " 2   store_id             1716 non-null   int64  \n",
      " 3   sku_id               1716 non-null   int64  \n",
      " 4   total_price          1716 non-null   float64\n",
      " 5   base_price           1716 non-null   float64\n",
      " 6   is_featured_sku      1716 non-null   int64  \n",
      " 7   is_display_sku       1716 non-null   int64  \n",
      " 8   month                1716 non-null   int32  \n",
      " 9   year                 1716 non-null   int32  \n",
      " 10  day_of_week          1716 non-null   int32  \n",
      " 11  day_of_month         1716 non-null   int32  \n",
      " 12  discount             1716 non-null   float64\n",
      " 13  actual_values_rf     1716 non-null   float64\n",
      " 14  predicted_values_rf  1716 non-null   float64\n",
      "dtypes: float64(5), int32(4), int64(5), object(1)\n",
      "memory usage: 174.4+ KB\n"
     ]
    }
   ],
   "source": [
    "merged_rf_df.info()"
   ]
  },
  {
   "cell_type": "code",
   "execution_count": 80,
   "id": "fd598028",
   "metadata": {},
   "outputs": [],
   "source": [
    "merged_rf_df['week'] = pd.to_datetime(merged_rf_df['week'])"
   ]
  },
  {
   "cell_type": "code",
   "execution_count": 81,
   "id": "ea8f6c64",
   "metadata": {},
   "outputs": [
    {
     "name": "stdout",
     "output_type": "stream",
     "text": [
      "<class 'pandas.core.frame.DataFrame'>\n",
      "RangeIndex: 1716 entries, 0 to 1715\n",
      "Data columns (total 15 columns):\n",
      " #   Column               Non-Null Count  Dtype         \n",
      "---  ------               --------------  -----         \n",
      " 0   week                 1716 non-null   datetime64[ns]\n",
      " 1   record_ID            1716 non-null   int64         \n",
      " 2   store_id             1716 non-null   int64         \n",
      " 3   sku_id               1716 non-null   int64         \n",
      " 4   total_price          1716 non-null   float64       \n",
      " 5   base_price           1716 non-null   float64       \n",
      " 6   is_featured_sku      1716 non-null   int64         \n",
      " 7   is_display_sku       1716 non-null   int64         \n",
      " 8   month                1716 non-null   int32         \n",
      " 9   year                 1716 non-null   int32         \n",
      " 10  day_of_week          1716 non-null   int32         \n",
      " 11  day_of_month         1716 non-null   int32         \n",
      " 12  discount             1716 non-null   float64       \n",
      " 13  actual_values_rf     1716 non-null   float64       \n",
      " 14  predicted_values_rf  1716 non-null   float64       \n",
      "dtypes: datetime64[ns](1), float64(5), int32(4), int64(5)\n",
      "memory usage: 174.4 KB\n"
     ]
    }
   ],
   "source": [
    "merged_rf_df.info()"
   ]
  },
  {
   "cell_type": "code",
   "execution_count": 82,
   "id": "814a612c",
   "metadata": {},
   "outputs": [
    {
     "data": {
      "text/html": [
       "<div>\n",
       "<style scoped>\n",
       "    .dataframe tbody tr th:only-of-type {\n",
       "        vertical-align: middle;\n",
       "    }\n",
       "\n",
       "    .dataframe tbody tr th {\n",
       "        vertical-align: top;\n",
       "    }\n",
       "\n",
       "    .dataframe thead th {\n",
       "        text-align: right;\n",
       "    }\n",
       "</style>\n",
       "<table border=\"1\" class=\"dataframe\">\n",
       "  <thead>\n",
       "    <tr style=\"text-align: right;\">\n",
       "      <th></th>\n",
       "      <th>week</th>\n",
       "      <th>record_ID</th>\n",
       "      <th>store_id</th>\n",
       "      <th>sku_id</th>\n",
       "      <th>total_price</th>\n",
       "      <th>base_price</th>\n",
       "      <th>is_featured_sku</th>\n",
       "      <th>is_display_sku</th>\n",
       "      <th>month</th>\n",
       "      <th>year</th>\n",
       "      <th>day_of_week</th>\n",
       "      <th>day_of_month</th>\n",
       "      <th>discount</th>\n",
       "      <th>actual_values_rf</th>\n",
       "      <th>predicted_values_rf</th>\n",
       "    </tr>\n",
       "  </thead>\n",
       "  <tbody>\n",
       "    <tr>\n",
       "      <th>0</th>\n",
       "      <td>2011-07-11</td>\n",
       "      <td>41410</td>\n",
       "      <td>9112</td>\n",
       "      <td>216425</td>\n",
       "      <td>132.5250</td>\n",
       "      <td>132.5250</td>\n",
       "      <td>0</td>\n",
       "      <td>0</td>\n",
       "      <td>7</td>\n",
       "      <td>2011</td>\n",
       "      <td>0</td>\n",
       "      <td>11</td>\n",
       "      <td>0.0</td>\n",
       "      <td>55.0</td>\n",
       "      <td>36.0</td>\n",
       "    </tr>\n",
       "    <tr>\n",
       "      <th>1</th>\n",
       "      <td>2011-07-11</td>\n",
       "      <td>41386</td>\n",
       "      <td>9092</td>\n",
       "      <td>216425</td>\n",
       "      <td>134.6625</td>\n",
       "      <td>134.6625</td>\n",
       "      <td>0</td>\n",
       "      <td>0</td>\n",
       "      <td>7</td>\n",
       "      <td>2011</td>\n",
       "      <td>0</td>\n",
       "      <td>11</td>\n",
       "      <td>0.0</td>\n",
       "      <td>9.0</td>\n",
       "      <td>10.0</td>\n",
       "    </tr>\n",
       "    <tr>\n",
       "      <th>2</th>\n",
       "      <td>2011-07-11</td>\n",
       "      <td>41477</td>\n",
       "      <td>9164</td>\n",
       "      <td>216425</td>\n",
       "      <td>134.6625</td>\n",
       "      <td>134.6625</td>\n",
       "      <td>0</td>\n",
       "      <td>0</td>\n",
       "      <td>7</td>\n",
       "      <td>2011</td>\n",
       "      <td>0</td>\n",
       "      <td>11</td>\n",
       "      <td>0.0</td>\n",
       "      <td>49.0</td>\n",
       "      <td>22.0</td>\n",
       "    </tr>\n",
       "    <tr>\n",
       "      <th>3</th>\n",
       "      <td>2011-07-11</td>\n",
       "      <td>41435</td>\n",
       "      <td>9132</td>\n",
       "      <td>216425</td>\n",
       "      <td>131.1000</td>\n",
       "      <td>131.1000</td>\n",
       "      <td>0</td>\n",
       "      <td>0</td>\n",
       "      <td>7</td>\n",
       "      <td>2011</td>\n",
       "      <td>0</td>\n",
       "      <td>11</td>\n",
       "      <td>0.0</td>\n",
       "      <td>21.0</td>\n",
       "      <td>16.0</td>\n",
       "    </tr>\n",
       "    <tr>\n",
       "      <th>4</th>\n",
       "      <td>2011-07-11</td>\n",
       "      <td>41455</td>\n",
       "      <td>9147</td>\n",
       "      <td>216425</td>\n",
       "      <td>133.9500</td>\n",
       "      <td>133.9500</td>\n",
       "      <td>0</td>\n",
       "      <td>0</td>\n",
       "      <td>7</td>\n",
       "      <td>2011</td>\n",
       "      <td>0</td>\n",
       "      <td>11</td>\n",
       "      <td>0.0</td>\n",
       "      <td>42.0</td>\n",
       "      <td>36.0</td>\n",
       "    </tr>\n",
       "  </tbody>\n",
       "</table>\n",
       "</div>"
      ],
      "text/plain": [
       "        week  record_ID  store_id  sku_id  total_price  base_price  \\\n",
       "0 2011-07-11      41410      9112  216425     132.5250    132.5250   \n",
       "1 2011-07-11      41386      9092  216425     134.6625    134.6625   \n",
       "2 2011-07-11      41477      9164  216425     134.6625    134.6625   \n",
       "3 2011-07-11      41435      9132  216425     131.1000    131.1000   \n",
       "4 2011-07-11      41455      9147  216425     133.9500    133.9500   \n",
       "\n",
       "   is_featured_sku  is_display_sku  month  year  day_of_week  day_of_month  \\\n",
       "0                0               0      7  2011            0            11   \n",
       "1                0               0      7  2011            0            11   \n",
       "2                0               0      7  2011            0            11   \n",
       "3                0               0      7  2011            0            11   \n",
       "4                0               0      7  2011            0            11   \n",
       "\n",
       "   discount  actual_values_rf  predicted_values_rf  \n",
       "0       0.0              55.0                 36.0  \n",
       "1       0.0               9.0                 10.0  \n",
       "2       0.0              49.0                 22.0  \n",
       "3       0.0              21.0                 16.0  \n",
       "4       0.0              42.0                 36.0  "
      ]
     },
     "execution_count": 82,
     "metadata": {},
     "output_type": "execute_result"
    }
   ],
   "source": [
    "merged_rf_df.head()"
   ]
  },
  {
   "cell_type": "code",
   "execution_count": 83,
   "id": "c4764f8e",
   "metadata": {},
   "outputs": [],
   "source": [
    "columns_to_drop_rf = ['record_ID', 'total_price', 'base_price', 'is_featured_sku', 'is_display_sku', 'month', 'year', 'day_of_week', 'day_of_month', 'discount']"
   ]
  },
  {
   "cell_type": "code",
   "execution_count": 84,
   "id": "f76b5fe6",
   "metadata": {},
   "outputs": [],
   "source": [
    "merged_rf_df = merged_rf_df.drop(columns=columns_to_drop_rf)"
   ]
  },
  {
   "cell_type": "code",
   "execution_count": 85,
   "id": "317f651c",
   "metadata": {},
   "outputs": [
    {
     "data": {
      "text/html": [
       "<div>\n",
       "<style scoped>\n",
       "    .dataframe tbody tr th:only-of-type {\n",
       "        vertical-align: middle;\n",
       "    }\n",
       "\n",
       "    .dataframe tbody tr th {\n",
       "        vertical-align: top;\n",
       "    }\n",
       "\n",
       "    .dataframe thead th {\n",
       "        text-align: right;\n",
       "    }\n",
       "</style>\n",
       "<table border=\"1\" class=\"dataframe\">\n",
       "  <thead>\n",
       "    <tr style=\"text-align: right;\">\n",
       "      <th></th>\n",
       "      <th>week</th>\n",
       "      <th>store_id</th>\n",
       "      <th>sku_id</th>\n",
       "      <th>actual_values_rf</th>\n",
       "      <th>predicted_values_rf</th>\n",
       "    </tr>\n",
       "  </thead>\n",
       "  <tbody>\n",
       "    <tr>\n",
       "      <th>0</th>\n",
       "      <td>2011-07-11</td>\n",
       "      <td>9112</td>\n",
       "      <td>216425</td>\n",
       "      <td>55.0</td>\n",
       "      <td>36.0</td>\n",
       "    </tr>\n",
       "    <tr>\n",
       "      <th>1</th>\n",
       "      <td>2011-07-11</td>\n",
       "      <td>9092</td>\n",
       "      <td>216425</td>\n",
       "      <td>9.0</td>\n",
       "      <td>10.0</td>\n",
       "    </tr>\n",
       "    <tr>\n",
       "      <th>2</th>\n",
       "      <td>2011-07-11</td>\n",
       "      <td>9164</td>\n",
       "      <td>216425</td>\n",
       "      <td>49.0</td>\n",
       "      <td>22.0</td>\n",
       "    </tr>\n",
       "    <tr>\n",
       "      <th>3</th>\n",
       "      <td>2011-07-11</td>\n",
       "      <td>9132</td>\n",
       "      <td>216425</td>\n",
       "      <td>21.0</td>\n",
       "      <td>16.0</td>\n",
       "    </tr>\n",
       "    <tr>\n",
       "      <th>4</th>\n",
       "      <td>2011-07-11</td>\n",
       "      <td>9147</td>\n",
       "      <td>216425</td>\n",
       "      <td>42.0</td>\n",
       "      <td>36.0</td>\n",
       "    </tr>\n",
       "  </tbody>\n",
       "</table>\n",
       "</div>"
      ],
      "text/plain": [
       "        week  store_id  sku_id  actual_values_rf  predicted_values_rf\n",
       "0 2011-07-11      9112  216425              55.0                 36.0\n",
       "1 2011-07-11      9092  216425               9.0                 10.0\n",
       "2 2011-07-11      9164  216425              49.0                 22.0\n",
       "3 2011-07-11      9132  216425              21.0                 16.0\n",
       "4 2011-07-11      9147  216425              42.0                 36.0"
      ]
     },
     "execution_count": 85,
     "metadata": {},
     "output_type": "execute_result"
    }
   ],
   "source": [
    "merged_rf_df.head()"
   ]
  },
  {
   "cell_type": "code",
   "execution_count": 86,
   "id": "cbee2490",
   "metadata": {},
   "outputs": [],
   "source": [
    "# merged_rf_df.set_index('week', inplace=True)"
   ]
  },
  {
   "cell_type": "code",
   "execution_count": 87,
   "id": "047db76c",
   "metadata": {},
   "outputs": [
    {
     "data": {
      "text/html": [
       "<div>\n",
       "<style scoped>\n",
       "    .dataframe tbody tr th:only-of-type {\n",
       "        vertical-align: middle;\n",
       "    }\n",
       "\n",
       "    .dataframe tbody tr th {\n",
       "        vertical-align: top;\n",
       "    }\n",
       "\n",
       "    .dataframe thead th {\n",
       "        text-align: right;\n",
       "    }\n",
       "</style>\n",
       "<table border=\"1\" class=\"dataframe\">\n",
       "  <thead>\n",
       "    <tr style=\"text-align: right;\">\n",
       "      <th></th>\n",
       "      <th>week</th>\n",
       "      <th>store_id</th>\n",
       "      <th>sku_id</th>\n",
       "      <th>actual_values_rf</th>\n",
       "      <th>predicted_values_rf</th>\n",
       "    </tr>\n",
       "  </thead>\n",
       "  <tbody>\n",
       "    <tr>\n",
       "      <th>0</th>\n",
       "      <td>2011-07-11</td>\n",
       "      <td>9112</td>\n",
       "      <td>216425</td>\n",
       "      <td>55.0</td>\n",
       "      <td>36.0</td>\n",
       "    </tr>\n",
       "    <tr>\n",
       "      <th>1</th>\n",
       "      <td>2011-07-11</td>\n",
       "      <td>9092</td>\n",
       "      <td>216425</td>\n",
       "      <td>9.0</td>\n",
       "      <td>10.0</td>\n",
       "    </tr>\n",
       "    <tr>\n",
       "      <th>2</th>\n",
       "      <td>2011-07-11</td>\n",
       "      <td>9164</td>\n",
       "      <td>216425</td>\n",
       "      <td>49.0</td>\n",
       "      <td>22.0</td>\n",
       "    </tr>\n",
       "    <tr>\n",
       "      <th>3</th>\n",
       "      <td>2011-07-11</td>\n",
       "      <td>9132</td>\n",
       "      <td>216425</td>\n",
       "      <td>21.0</td>\n",
       "      <td>16.0</td>\n",
       "    </tr>\n",
       "    <tr>\n",
       "      <th>4</th>\n",
       "      <td>2011-07-11</td>\n",
       "      <td>9147</td>\n",
       "      <td>216425</td>\n",
       "      <td>42.0</td>\n",
       "      <td>36.0</td>\n",
       "    </tr>\n",
       "  </tbody>\n",
       "</table>\n",
       "</div>"
      ],
      "text/plain": [
       "        week  store_id  sku_id  actual_values_rf  predicted_values_rf\n",
       "0 2011-07-11      9112  216425              55.0                 36.0\n",
       "1 2011-07-11      9092  216425               9.0                 10.0\n",
       "2 2011-07-11      9164  216425              49.0                 22.0\n",
       "3 2011-07-11      9132  216425              21.0                 16.0\n",
       "4 2011-07-11      9147  216425              42.0                 36.0"
      ]
     },
     "execution_count": 87,
     "metadata": {},
     "output_type": "execute_result"
    }
   ],
   "source": [
    "merged_rf_df.head()"
   ]
  },
  {
   "cell_type": "code",
   "execution_count": 88,
   "id": "ca9abeb9",
   "metadata": {},
   "outputs": [
    {
     "data": {
      "text/plain": [
       "pandas.core.frame.DataFrame"
      ]
     },
     "execution_count": 88,
     "metadata": {},
     "output_type": "execute_result"
    }
   ],
   "source": [
    "type(merged_rf_df)"
   ]
  },
  {
   "cell_type": "code",
   "execution_count": 89,
   "id": "10fc0bc9",
   "metadata": {},
   "outputs": [
    {
     "data": {
      "text/plain": [
       "int"
      ]
     },
     "execution_count": 89,
     "metadata": {},
     "output_type": "execute_result"
    }
   ],
   "source": [
    "type(store_id)"
   ]
  },
  {
   "cell_type": "code",
   "execution_count": 90,
   "id": "6d662937",
   "metadata": {},
   "outputs": [
    {
     "name": "stdout",
     "output_type": "stream",
     "text": [
      "<class 'pandas.core.frame.DataFrame'>\n",
      "RangeIndex: 1716 entries, 0 to 1715\n",
      "Data columns (total 5 columns):\n",
      " #   Column               Non-Null Count  Dtype         \n",
      "---  ------               --------------  -----         \n",
      " 0   week                 1716 non-null   datetime64[ns]\n",
      " 1   store_id             1716 non-null   int64         \n",
      " 2   sku_id               1716 non-null   int64         \n",
      " 3   actual_values_rf     1716 non-null   float64       \n",
      " 4   predicted_values_rf  1716 non-null   float64       \n",
      "dtypes: datetime64[ns](1), float64(2), int64(2)\n",
      "memory usage: 67.2 KB\n"
     ]
    }
   ],
   "source": [
    "merged_rf_df.info()"
   ]
  },
  {
   "cell_type": "code",
   "execution_count": 91,
   "id": "216e5921",
   "metadata": {},
   "outputs": [],
   "source": [
    "condition1_rf = merged_rf_df['sku_id']  == sku_id\n",
    "condition2_rf = merged_rf_df['store_id'] == store_id"
   ]
  },
  {
   "cell_type": "code",
   "execution_count": 92,
   "id": "2431506f",
   "metadata": {},
   "outputs": [
    {
     "data": {
      "text/html": [
       "<div>\n",
       "<style scoped>\n",
       "    .dataframe tbody tr th:only-of-type {\n",
       "        vertical-align: middle;\n",
       "    }\n",
       "\n",
       "    .dataframe tbody tr th {\n",
       "        vertical-align: top;\n",
       "    }\n",
       "\n",
       "    .dataframe thead th {\n",
       "        text-align: right;\n",
       "    }\n",
       "</style>\n",
       "<table border=\"1\" class=\"dataframe\">\n",
       "  <thead>\n",
       "    <tr style=\"text-align: right;\">\n",
       "      <th></th>\n",
       "      <th>week</th>\n",
       "      <th>store_id</th>\n",
       "      <th>sku_id</th>\n",
       "      <th>actual_values_rf</th>\n",
       "      <th>predicted_values_rf</th>\n",
       "    </tr>\n",
       "  </thead>\n",
       "  <tbody>\n",
       "    <tr>\n",
       "      <th>22</th>\n",
       "      <td>2011-07-11</td>\n",
       "      <td>8091</td>\n",
       "      <td>216425</td>\n",
       "      <td>22.0</td>\n",
       "      <td>18.0</td>\n",
       "    </tr>\n",
       "    <tr>\n",
       "      <th>88</th>\n",
       "      <td>2011-07-04</td>\n",
       "      <td>8091</td>\n",
       "      <td>216425</td>\n",
       "      <td>17.0</td>\n",
       "      <td>16.0</td>\n",
       "    </tr>\n",
       "    <tr>\n",
       "      <th>155</th>\n",
       "      <td>2011-06-27</td>\n",
       "      <td>8091</td>\n",
       "      <td>216425</td>\n",
       "      <td>27.0</td>\n",
       "      <td>18.0</td>\n",
       "    </tr>\n",
       "    <tr>\n",
       "      <th>220</th>\n",
       "      <td>2011-06-20</td>\n",
       "      <td>8091</td>\n",
       "      <td>216425</td>\n",
       "      <td>53.0</td>\n",
       "      <td>33.0</td>\n",
       "    </tr>\n",
       "    <tr>\n",
       "      <th>286</th>\n",
       "      <td>2011-06-13</td>\n",
       "      <td>8091</td>\n",
       "      <td>216425</td>\n",
       "      <td>58.0</td>\n",
       "      <td>31.0</td>\n",
       "    </tr>\n",
       "  </tbody>\n",
       "</table>\n",
       "</div>"
      ],
      "text/plain": [
       "          week  store_id  sku_id  actual_values_rf  predicted_values_rf\n",
       "22  2011-07-11      8091  216425              22.0                 18.0\n",
       "88  2011-07-04      8091  216425              17.0                 16.0\n",
       "155 2011-06-27      8091  216425              27.0                 18.0\n",
       "220 2011-06-20      8091  216425              53.0                 33.0\n",
       "286 2011-06-13      8091  216425              58.0                 31.0"
      ]
     },
     "execution_count": 92,
     "metadata": {},
     "output_type": "execute_result"
    }
   ],
   "source": [
    "merged_rf_df = merged_rf_df[(condition1_rf.values) & (condition2_rf.values)]\n",
    "merged_rf_df.head()"
   ]
  },
  {
   "cell_type": "code",
   "execution_count": 93,
   "id": "e7caf3bd",
   "metadata": {},
   "outputs": [],
   "source": [
    "comp_rf_df = merged_rf_df"
   ]
  },
  {
   "cell_type": "code",
   "execution_count": 94,
   "id": "386699b5",
   "metadata": {},
   "outputs": [
    {
     "data": {
      "text/html": [
       "<div>\n",
       "<style scoped>\n",
       "    .dataframe tbody tr th:only-of-type {\n",
       "        vertical-align: middle;\n",
       "    }\n",
       "\n",
       "    .dataframe tbody tr th {\n",
       "        vertical-align: top;\n",
       "    }\n",
       "\n",
       "    .dataframe thead th {\n",
       "        text-align: right;\n",
       "    }\n",
       "</style>\n",
       "<table border=\"1\" class=\"dataframe\">\n",
       "  <thead>\n",
       "    <tr style=\"text-align: right;\">\n",
       "      <th></th>\n",
       "      <th>week</th>\n",
       "      <th>store_id</th>\n",
       "      <th>sku_id</th>\n",
       "      <th>actual_values_rf</th>\n",
       "      <th>predicted_values_rf</th>\n",
       "    </tr>\n",
       "  </thead>\n",
       "  <tbody>\n",
       "    <tr>\n",
       "      <th>22</th>\n",
       "      <td>2011-07-11</td>\n",
       "      <td>8091</td>\n",
       "      <td>216425</td>\n",
       "      <td>22.0</td>\n",
       "      <td>18.0</td>\n",
       "    </tr>\n",
       "    <tr>\n",
       "      <th>88</th>\n",
       "      <td>2011-07-04</td>\n",
       "      <td>8091</td>\n",
       "      <td>216425</td>\n",
       "      <td>17.0</td>\n",
       "      <td>16.0</td>\n",
       "    </tr>\n",
       "    <tr>\n",
       "      <th>155</th>\n",
       "      <td>2011-06-27</td>\n",
       "      <td>8091</td>\n",
       "      <td>216425</td>\n",
       "      <td>27.0</td>\n",
       "      <td>18.0</td>\n",
       "    </tr>\n",
       "    <tr>\n",
       "      <th>220</th>\n",
       "      <td>2011-06-20</td>\n",
       "      <td>8091</td>\n",
       "      <td>216425</td>\n",
       "      <td>53.0</td>\n",
       "      <td>33.0</td>\n",
       "    </tr>\n",
       "    <tr>\n",
       "      <th>286</th>\n",
       "      <td>2011-06-13</td>\n",
       "      <td>8091</td>\n",
       "      <td>216425</td>\n",
       "      <td>58.0</td>\n",
       "      <td>31.0</td>\n",
       "    </tr>\n",
       "  </tbody>\n",
       "</table>\n",
       "</div>"
      ],
      "text/plain": [
       "          week  store_id  sku_id  actual_values_rf  predicted_values_rf\n",
       "22  2011-07-11      8091  216425              22.0                 18.0\n",
       "88  2011-07-04      8091  216425              17.0                 16.0\n",
       "155 2011-06-27      8091  216425              27.0                 18.0\n",
       "220 2011-06-20      8091  216425              53.0                 33.0\n",
       "286 2011-06-13      8091  216425              58.0                 31.0"
      ]
     },
     "execution_count": 94,
     "metadata": {},
     "output_type": "execute_result"
    }
   ],
   "source": [
    "comp_rf_df.head()"
   ]
  },
  {
   "cell_type": "code",
   "execution_count": 95,
   "id": "ed56967f",
   "metadata": {},
   "outputs": [
    {
     "data": {
      "text/plain": [
       "[<matplotlib.lines.Line2D at 0x1fe30e2b0d0>]"
      ]
     },
     "execution_count": 95,
     "metadata": {},
     "output_type": "execute_result"
    },
    {
     "data": {
      "text/plain": [
       "[<matplotlib.lines.Line2D at 0x1fe30f4fcd0>]"
      ]
     },
     "execution_count": 95,
     "metadata": {},
     "output_type": "execute_result"
    },
    {
     "data": {
      "text/plain": [
       "Text(0.5, 0, 'Weeks')"
      ]
     },
     "execution_count": 95,
     "metadata": {},
     "output_type": "execute_result"
    },
    {
     "data": {
      "text/plain": [
       "Text(0, 0.5, 'Demand')"
      ]
     },
     "execution_count": 95,
     "metadata": {},
     "output_type": "execute_result"
    },
    {
     "data": {
      "text/plain": [
       "Text(0.5, 1.0, 'Actutal Values Vs Predicted values')"
      ]
     },
     "execution_count": 95,
     "metadata": {},
     "output_type": "execute_result"
    },
    {
     "data": {
      "text/plain": [
       "<matplotlib.legend.Legend at 0x1fe30eedf90>"
      ]
     },
     "execution_count": 95,
     "metadata": {},
     "output_type": "execute_result"
    },
    {
     "data": {
      "image/png": "[encoded data removed]",
      "text/plain": [
       "<Figure size 640x480 with 1 Axes>"
      ]
     },
     "metadata": {},
     "output_type": "display_data"
    }
   ],
   "source": [
    "# Create a figure and axis objects\n",
    "fig, ax = plt.subplots()\n",
    "\n",
    "# Plot two separate lines for each column\n",
    "ax.plot(comp_rf_df['week'], comp_rf_df['actual_values_rf'], label='actual_values_rf')\n",
    "ax.plot(comp_rf_df['week'], comp_rf_df['predicted_values_rf'], label='predicted_values_rf')\n",
    "\n",
    "# Set labels and title\n",
    "# Set labels and title\n",
    "ax.set_xlabel('Weeks')\n",
    "ax.set_ylabel('Demand')\n",
    "ax.set_title('Actutal Values Vs Predicted values')\n",
    "\n",
    "# Add legend\n",
    "ax.legend()\n",
    "\n",
    "# Store the plot in a variable\n",
    "comp = fig\n",
    "\n",
    "# Show the plot\n",
    "plt.show()"
   ]
  },
  {
   "cell_type": "code",
   "execution_count": 96,
   "id": "617a78a5",
   "metadata": {},
   "outputs": [
    {
     "data": {
      "image/png": "[encoded data removed]",
      "text/plain": [
       "<Figure size 640x480 with 1 Axes>"
      ]
     },
     "execution_count": 96,
     "metadata": {},
     "output_type": "execute_result"
    }
   ],
   "source": [
    "comp"
   ]
  },
  {
   "cell_type": "markdown",
   "id": "2adc8155",
   "metadata": {},
   "source": [
    "# Recurrent Neural network Model"
   ]
  },
  {
   "cell_type": "code",
   "execution_count": 97,
   "id": "ae4af37c",
   "metadata": {},
   "outputs": [
    {
     "data": {
      "text/html": [
       "<div>\n",
       "<style scoped>\n",
       "    .dataframe tbody tr th:only-of-type {\n",
       "        vertical-align: middle;\n",
       "    }\n",
       "\n",
       "    .dataframe tbody tr th {\n",
       "        vertical-align: top;\n",
       "    }\n",
       "\n",
       "    .dataframe thead th {\n",
       "        text-align: right;\n",
       "    }\n",
       "</style>\n",
       "<table border=\"1\" class=\"dataframe\">\n",
       "  <thead>\n",
       "    <tr style=\"text-align: right;\">\n",
       "      <th></th>\n",
       "      <th>record_ID</th>\n",
       "      <th>week</th>\n",
       "      <th>store_id</th>\n",
       "      <th>sku_id</th>\n",
       "      <th>total_price</th>\n",
       "      <th>base_price</th>\n",
       "      <th>is_featured_sku</th>\n",
       "      <th>is_display_sku</th>\n",
       "      <th>units_sold</th>\n",
       "      <th>month</th>\n",
       "      <th>year</th>\n",
       "      <th>day_of_week</th>\n",
       "      <th>day_of_month</th>\n",
       "      <th>discount</th>\n",
       "    </tr>\n",
       "  </thead>\n",
       "  <tbody>\n",
       "    <tr>\n",
       "      <th>149378</th>\n",
       "      <td>211535</td>\n",
       "      <td>2013-07-09</td>\n",
       "      <td>9112</td>\n",
       "      <td>216425</td>\n",
       "      <td>141.7875</td>\n",
       "      <td>141.7875</td>\n",
       "      <td>0</td>\n",
       "      <td>0</td>\n",
       "      <td>4.276666</td>\n",
       "      <td>7</td>\n",
       "      <td>2013</td>\n",
       "      <td>1</td>\n",
       "      <td>9</td>\n",
       "      <td>0.0</td>\n",
       "    </tr>\n",
       "    <tr>\n",
       "      <th>149358</th>\n",
       "      <td>211511</td>\n",
       "      <td>2013-07-09</td>\n",
       "      <td>9092</td>\n",
       "      <td>216425</td>\n",
       "      <td>129.6750</td>\n",
       "      <td>129.6750</td>\n",
       "      <td>0</td>\n",
       "      <td>0</td>\n",
       "      <td>2.890372</td>\n",
       "      <td>7</td>\n",
       "      <td>2013</td>\n",
       "      <td>1</td>\n",
       "      <td>9</td>\n",
       "      <td>0.0</td>\n",
       "    </tr>\n",
       "    <tr>\n",
       "      <th>149420</th>\n",
       "      <td>211602</td>\n",
       "      <td>2013-07-09</td>\n",
       "      <td>9164</td>\n",
       "      <td>216425</td>\n",
       "      <td>141.0750</td>\n",
       "      <td>141.0750</td>\n",
       "      <td>0</td>\n",
       "      <td>0</td>\n",
       "      <td>3.784190</td>\n",
       "      <td>7</td>\n",
       "      <td>2013</td>\n",
       "      <td>1</td>\n",
       "      <td>9</td>\n",
       "      <td>0.0</td>\n",
       "    </tr>\n",
       "    <tr>\n",
       "      <th>149394</th>\n",
       "      <td>211560</td>\n",
       "      <td>2013-07-09</td>\n",
       "      <td>9132</td>\n",
       "      <td>216425</td>\n",
       "      <td>131.8125</td>\n",
       "      <td>131.8125</td>\n",
       "      <td>0</td>\n",
       "      <td>0</td>\n",
       "      <td>2.564949</td>\n",
       "      <td>7</td>\n",
       "      <td>2013</td>\n",
       "      <td>1</td>\n",
       "      <td>9</td>\n",
       "      <td>0.0</td>\n",
       "    </tr>\n",
       "    <tr>\n",
       "      <th>149406</th>\n",
       "      <td>211580</td>\n",
       "      <td>2013-07-09</td>\n",
       "      <td>9147</td>\n",
       "      <td>216425</td>\n",
       "      <td>133.2375</td>\n",
       "      <td>133.2375</td>\n",
       "      <td>0</td>\n",
       "      <td>0</td>\n",
       "      <td>4.110874</td>\n",
       "      <td>7</td>\n",
       "      <td>2013</td>\n",
       "      <td>1</td>\n",
       "      <td>9</td>\n",
       "      <td>0.0</td>\n",
       "    </tr>\n",
       "  </tbody>\n",
       "</table>\n",
       "</div>"
      ],
      "text/plain": [
       "        record_ID       week  store_id  sku_id  total_price  base_price  \\\n",
       "149378     211535 2013-07-09      9112  216425     141.7875    141.7875   \n",
       "149358     211511 2013-07-09      9092  216425     129.6750    129.6750   \n",
       "149420     211602 2013-07-09      9164  216425     141.0750    141.0750   \n",
       "149394     211560 2013-07-09      9132  216425     131.8125    131.8125   \n",
       "149406     211580 2013-07-09      9147  216425     133.2375    133.2375   \n",
       "\n",
       "        is_featured_sku  is_display_sku  units_sold  month  year  day_of_week  \\\n",
       "149378                0               0    4.276666      7  2013            1   \n",
       "149358                0               0    2.890372      7  2013            1   \n",
       "149420                0               0    3.784190      7  2013            1   \n",
       "149394                0               0    2.564949      7  2013            1   \n",
       "149406                0               0    4.110874      7  2013            1   \n",
       "\n",
       "        day_of_month  discount  \n",
       "149378             9       0.0  \n",
       "149358             9       0.0  \n",
       "149420             9       0.0  \n",
       "149394             9       0.0  \n",
       "149406             9       0.0  "
      ]
     },
     "execution_count": 97,
     "metadata": {},
     "output_type": "execute_result"
    }
   ],
   "source": [
    "# Starting RNN (Recurrent Neural Network)\n",
    "df_nrr = df_processed\n",
    "df_nrr.head()"
   ]
  },
  {
   "cell_type": "code",
   "execution_count": 98,
   "id": "9faeb680",
   "metadata": {},
   "outputs": [],
   "source": [
    "# Drop unnecessary columns\n",
    "df_nrr = df_nrr.drop(columns=['record_ID', 'week'])  # Drop unnecessary columns"
   ]
  },
  {
   "cell_type": "code",
   "execution_count": 99,
   "id": "48a9174e",
   "metadata": {},
   "outputs": [],
   "source": [
    "# Normalize numerical features\n",
    "scaler = StandardScaler()\n",
    "df_nrr[['total_price', 'base_price']] = scaler.fit_transform(df_nrr[['total_price', 'base_price']])"
   ]
  },
  {
   "cell_type": "code",
   "execution_count": 100,
   "id": "191528b5",
   "metadata": {},
   "outputs": [
    {
     "data": {
      "text/html": [
       "<div>\n",
       "<style scoped>\n",
       "    .dataframe tbody tr th:only-of-type {\n",
       "        vertical-align: middle;\n",
       "    }\n",
       "\n",
       "    .dataframe tbody tr th {\n",
       "        vertical-align: top;\n",
       "    }\n",
       "\n",
       "    .dataframe thead th {\n",
       "        text-align: right;\n",
       "    }\n",
       "</style>\n",
       "<table border=\"1\" class=\"dataframe\">\n",
       "  <thead>\n",
       "    <tr style=\"text-align: right;\">\n",
       "      <th></th>\n",
       "      <th>store_id</th>\n",
       "      <th>sku_id</th>\n",
       "      <th>total_price</th>\n",
       "      <th>base_price</th>\n",
       "      <th>is_featured_sku</th>\n",
       "      <th>is_display_sku</th>\n",
       "      <th>units_sold</th>\n",
       "      <th>month</th>\n",
       "      <th>year</th>\n",
       "      <th>day_of_week</th>\n",
       "      <th>day_of_month</th>\n",
       "      <th>discount</th>\n",
       "    </tr>\n",
       "  </thead>\n",
       "  <tbody>\n",
       "    <tr>\n",
       "      <th>149378</th>\n",
       "      <td>9112</td>\n",
       "      <td>216425</td>\n",
       "      <td>1.945837</td>\n",
       "      <td>1.802947</td>\n",
       "      <td>0</td>\n",
       "      <td>0</td>\n",
       "      <td>4.276666</td>\n",
       "      <td>7</td>\n",
       "      <td>2013</td>\n",
       "      <td>1</td>\n",
       "      <td>9</td>\n",
       "      <td>0.0</td>\n",
       "    </tr>\n",
       "    <tr>\n",
       "      <th>149358</th>\n",
       "      <td>9092</td>\n",
       "      <td>216425</td>\n",
       "      <td>0.528680</td>\n",
       "      <td>0.185577</td>\n",
       "      <td>0</td>\n",
       "      <td>0</td>\n",
       "      <td>2.890372</td>\n",
       "      <td>7</td>\n",
       "      <td>2013</td>\n",
       "      <td>1</td>\n",
       "      <td>9</td>\n",
       "      <td>0.0</td>\n",
       "    </tr>\n",
       "    <tr>\n",
       "      <th>149420</th>\n",
       "      <td>9164</td>\n",
       "      <td>216425</td>\n",
       "      <td>1.862475</td>\n",
       "      <td>1.707807</td>\n",
       "      <td>0</td>\n",
       "      <td>0</td>\n",
       "      <td>3.784190</td>\n",
       "      <td>7</td>\n",
       "      <td>2013</td>\n",
       "      <td>1</td>\n",
       "      <td>9</td>\n",
       "      <td>0.0</td>\n",
       "    </tr>\n",
       "    <tr>\n",
       "      <th>149394</th>\n",
       "      <td>9132</td>\n",
       "      <td>216425</td>\n",
       "      <td>0.778766</td>\n",
       "      <td>0.470995</td>\n",
       "      <td>0</td>\n",
       "      <td>0</td>\n",
       "      <td>2.564949</td>\n",
       "      <td>7</td>\n",
       "      <td>2013</td>\n",
       "      <td>1</td>\n",
       "      <td>9</td>\n",
       "      <td>0.0</td>\n",
       "    </tr>\n",
       "    <tr>\n",
       "      <th>149406</th>\n",
       "      <td>9147</td>\n",
       "      <td>216425</td>\n",
       "      <td>0.945490</td>\n",
       "      <td>0.661274</td>\n",
       "      <td>0</td>\n",
       "      <td>0</td>\n",
       "      <td>4.110874</td>\n",
       "      <td>7</td>\n",
       "      <td>2013</td>\n",
       "      <td>1</td>\n",
       "      <td>9</td>\n",
       "      <td>0.0</td>\n",
       "    </tr>\n",
       "  </tbody>\n",
       "</table>\n",
       "</div>"
      ],
      "text/plain": [
       "        store_id  sku_id  total_price  base_price  is_featured_sku  \\\n",
       "149378      9112  216425     1.945837    1.802947                0   \n",
       "149358      9092  216425     0.528680    0.185577                0   \n",
       "149420      9164  216425     1.862475    1.707807                0   \n",
       "149394      9132  216425     0.778766    0.470995                0   \n",
       "149406      9147  216425     0.945490    0.661274                0   \n",
       "\n",
       "        is_display_sku  units_sold  month  year  day_of_week  day_of_month  \\\n",
       "149378               0    4.276666      7  2013            1             9   \n",
       "149358               0    2.890372      7  2013            1             9   \n",
       "149420               0    3.784190      7  2013            1             9   \n",
       "149394               0    2.564949      7  2013            1             9   \n",
       "149406               0    4.110874      7  2013            1             9   \n",
       "\n",
       "        discount  \n",
       "149378       0.0  \n",
       "149358       0.0  \n",
       "149420       0.0  \n",
       "149394       0.0  \n",
       "149406       0.0  "
      ]
     },
     "execution_count": 100,
     "metadata": {},
     "output_type": "execute_result"
    }
   ],
   "source": [
    "df_nrr.head()"
   ]
  },
  {
   "cell_type": "code",
   "execution_count": 101,
   "id": "1b9e8a42",
   "metadata": {},
   "outputs": [],
   "source": [
    "# Split data into features (X) and target (y)\n",
    "X_nrr = df_nrr.drop(columns=['units_sold'])\n",
    "y_nrr = df_nrr['units_sold']"
   ]
  },
  {
   "cell_type": "code",
   "execution_count": 102,
   "id": "a616bf64",
   "metadata": {},
   "outputs": [],
   "source": [
    "# Split data into training and testing sets\n",
    "X_nrr_train, X_nrr_test, y_nrr_train, y_nrr_test = train_test_split(X_nrr, y_nrr, test_size=0.2, random_state=42)"
   ]
  },
  {
   "cell_type": "code",
   "execution_count": 103,
   "id": "c6f5bd1e",
   "metadata": {},
   "outputs": [],
   "source": [
    "# Reshape input data for LSTM\n",
    "X_nrr_train = np.array(X_nrr_train).reshape(X_nrr_train.shape[0], X_nrr_train.shape[1], 1)\n",
    "X_nrr_test = np.array(X_nrr_test).reshape(X_nrr_test.shape[0], X_nrr_test.shape[1], 1)"
   ]
  },
  {
   "cell_type": "code",
   "execution_count": 104,
   "id": "0abd8902",
   "metadata": {},
   "outputs": [
    {
     "data": {
      "text/plain": [
       "149378    4.276666\n",
       "149358    2.890372\n",
       "149420    3.784190\n",
       "149394    2.564949\n",
       "149406    4.110874\n",
       "Name: units_sold, dtype: float64"
      ]
     },
     "execution_count": 104,
     "metadata": {},
     "output_type": "execute_result"
    }
   ],
   "source": [
    "y_nrr.head()"
   ]
  },
  {
   "cell_type": "code",
   "execution_count": 105,
   "id": "36a2b45c",
   "metadata": {},
   "outputs": [],
   "source": [
    "#X_nrr.head()"
   ]
  },
  {
   "cell_type": "code",
   "execution_count": 106,
   "id": "fc56c6f4",
   "metadata": {},
   "outputs": [
    {
     "name": "stdout",
     "output_type": "stream",
     "text": [
      "WARNING:tensorflow:From C:\\Users\\SiddharthaPaul\\anaconda3\\Lib\\site-packages\\keras\\src\\backend.py:873: The name tf.get_default_graph is deprecated. Please use tf.compat.v1.get_default_graph instead.\n",
      "\n"
     ]
    }
   ],
   "source": [
    "# Define the RNN model\n",
    "model = Sequential()\n",
    "model.add(LSTM(units=50, return_sequences=True, input_shape=(X_nrr_train.shape[1], 1)))\n",
    "model.add(Dropout(0.2))\n",
    "model.add(LSTM(units=50, return_sequences=True))\n",
    "model.add(Dropout(0.2))\n",
    "model.add(LSTM(units=50))\n",
    "model.add(Dropout(0.2))\n",
    "model.add(Dense(units=1))"
   ]
  },
  {
   "cell_type": "code",
   "execution_count": 107,
   "id": "1158495a",
   "metadata": {},
   "outputs": [],
   "source": [
    "# Compile the model\n",
    "optimizer = Adam(learning_rate=0.001)\n",
    "model.compile(optimizer=optimizer, loss='mean_squared_error')"
   ]
  },
  {
   "cell_type": "code",
   "execution_count": 108,
   "id": "f371c7e8",
   "metadata": {},
   "outputs": [
    {
     "name": "stdout",
     "output_type": "stream",
     "text": [
      "Epoch 1/10\n",
      "WARNING:tensorflow:From C:\\Users\\SiddharthaPaul\\anaconda3\\Lib\\site-packages\\keras\\src\\utils\\tf_utils.py:492: The name tf.ragged.RaggedTensorValue is deprecated. Please use tf.compat.v1.ragged.RaggedTensorValue instead.\n",
      "\n",
      "215/215 [==============================] - 11s 18ms/step - loss: 1.0440 - val_loss: 0.5459\n",
      "Epoch 2/10\n",
      "215/215 [==============================] - 2s 11ms/step - loss: 0.6439 - val_loss: 0.5436\n",
      "Epoch 3/10\n",
      "215/215 [==============================] - 2s 11ms/step - loss: 0.6447 - val_loss: 0.5201\n",
      "Epoch 4/10\n",
      "215/215 [==============================] - 2s 11ms/step - loss: 0.6352 - val_loss: 0.5570\n",
      "Epoch 5/10\n",
      "215/215 [==============================] - 2s 11ms/step - loss: 0.6365 - val_loss: 0.5192\n",
      "Epoch 6/10\n",
      "215/215 [==============================] - 2s 11ms/step - loss: 0.6325 - val_loss: 0.5317\n",
      "Epoch 7/10\n",
      "215/215 [==============================] - 2s 11ms/step - loss: 0.6224 - val_loss: 0.5057\n",
      "Epoch 8/10\n",
      "215/215 [==============================] - 2s 11ms/step - loss: 0.6116 - val_loss: 0.5095\n",
      "Epoch 9/10\n",
      "215/215 [==============================] - 2s 11ms/step - loss: 0.5901 - val_loss: 0.4918\n",
      "Epoch 10/10\n",
      "215/215 [==============================] - 2s 11ms/step - loss: 0.5809 - val_loss: 0.4653\n"
     ]
    },
    {
     "data": {
      "text/plain": [
       "<keras.src.callbacks.History at 0x1fe30cd7910>"
      ]
     },
     "execution_count": 108,
     "metadata": {},
     "output_type": "execute_result"
    }
   ],
   "source": [
    "# Train the model\n",
    "model.fit(X_nrr_train, y_nrr_train, epochs=10, batch_size=32, validation_data=(X_nrr_test, y_nrr_test))"
   ]
  },
  {
   "cell_type": "markdown",
   "id": "ed0e8c11",
   "metadata": {},
   "source": [
    "# Evaluate Recurrent Neural Network Model"
   ]
  },
  {
   "cell_type": "code",
   "execution_count": 109,
   "id": "ab45ac25",
   "metadata": {},
   "outputs": [
    {
     "name": "stdout",
     "output_type": "stream",
     "text": [
      "54/54 [==============================] - 2s 6ms/step\n",
      "54/54 [==============================] - 0s 4ms/step - loss: 0.4653\n",
      "Test Loss: 0.4652906358242035\n",
      "Root Mean Squared Error (RMSE): 0.6821222073064866\n",
      "Mean Absolute Percentage Error (MAPE): inf\n"
     ]
    }
   ],
   "source": [
    "# Evaluate the model\n",
    "y_nrr_pred = model.predict(X_nrr_test).flatten()\n",
    "rmse_nrr = np.sqrt(mean_squared_error(y_nrr_test, y_nrr_pred))\n",
    "mape_nrr = np.mean(np.abs((y_nrr_test - y_nrr_pred) / y_nrr_test)) * 100\n",
    "loss_nrr = model.evaluate(X_nrr_test, y_nrr_test)\n",
    "\n",
    "print(\"Test Loss:\", loss_nrr)\n",
    "print(\"Root Mean Squared Error (RMSE):\", rmse_nrr)\n",
    "print(\"Mean Absolute Percentage Error (MAPE):\", mape_nrr)"
   ]
  },
  {
   "cell_type": "code",
   "execution_count": 110,
   "id": "7d218bf8",
   "metadata": {},
   "outputs": [
    {
     "data": {
      "image/png": "[encoded data removed]",
      "text/plain": [
       "<Figure size 1000x600 with 1 Axes>"
      ]
     },
     "metadata": {},
     "output_type": "display_data"
    }
   ],
   "source": [
    "plot_predictions(y_nrr_test, y_nrr_pred)"
   ]
  },
  {
   "cell_type": "code",
   "execution_count": 111,
   "id": "a8a73593",
   "metadata": {},
   "outputs": [
    {
     "data": {
      "text/plain": [
       "(0.5344433524328734, 0.6821222073064866)"
      ]
     },
     "execution_count": 111,
     "metadata": {},
     "output_type": "execute_result"
    }
   ],
   "source": [
    "rmse, rmse_nrr"
   ]
  },
  {
   "cell_type": "code",
   "execution_count": 112,
   "id": "53059f25",
   "metadata": {},
   "outputs": [
    {
     "name": "stdout",
     "output_type": "stream",
     "text": [
      "RMSE: 0.6821222073064866\n",
      "MSE: 0.4652907057006735\n"
     ]
    }
   ],
   "source": [
    "# Find RMSE\n",
    "mse_nrr = mean_squared_error(y_nrr_test, y_nrr_pred)\n",
    "rmse_nrr = np.sqrt(mse_nrr)\n",
    "print(\"RMSE:\",rmse_nrr)\n",
    "print(\"MSE:\",mse_nrr)"
   ]
  },
  {
   "cell_type": "code",
   "execution_count": 113,
   "id": "2b4ec09d",
   "metadata": {},
   "outputs": [
    {
     "name": "stdout",
     "output_type": "stream",
     "text": [
      "Accuracy: 83.67 %.\n"
     ]
    }
   ],
   "source": [
    "#Evaluate accuracy using MAPE\n",
    "y_nrr_true = np.array(y_nrr_test)\n",
    "sumvalue=np.sum(y_nrr_true)\n",
    "mape_nrr=np.sum(np.abs((y_nrr_true - y_nrr_pred)))/sumvalue*100\n",
    "accuracy_nrr=100-mape_nrr\n",
    "print('Accuracy:', round(accuracy_nrr,2),'%.')"
   ]
  },
  {
   "cell_type": "code",
   "execution_count": 114,
   "id": "2ef4873c",
   "metadata": {},
   "outputs": [
    {
     "data": {
      "text/plain": [
       "array([3.0358589, 3.504766 , 2.7888763, ..., 3.8410335, 3.2263916,\n",
       "       3.7494273], dtype=float32)"
      ]
     },
     "execution_count": 114,
     "metadata": {},
     "output_type": "execute_result"
    }
   ],
   "source": [
    "y_nrr_pred"
   ]
  },
  {
   "cell_type": "code",
   "execution_count": 115,
   "id": "2b82ed06",
   "metadata": {},
   "outputs": [
    {
     "data": {
      "text/plain": [
       "array([1.60943791, 3.25809654, 2.63905733, ..., 4.12713439, 3.09104245,\n",
       "       3.80666249])"
      ]
     },
     "execution_count": 115,
     "metadata": {},
     "output_type": "execute_result"
    }
   ],
   "source": [
    "y_nrr_true"
   ]
  },
  {
   "cell_type": "code",
   "execution_count": 116,
   "id": "111b6ae7",
   "metadata": {},
   "outputs": [
    {
     "data": {
      "text/html": [
       "<div>\n",
       "<style scoped>\n",
       "    .dataframe tbody tr th:only-of-type {\n",
       "        vertical-align: middle;\n",
       "    }\n",
       "\n",
       "    .dataframe tbody tr th {\n",
       "        vertical-align: top;\n",
       "    }\n",
       "\n",
       "    .dataframe thead th {\n",
       "        text-align: right;\n",
       "    }\n",
       "</style>\n",
       "<table border=\"1\" class=\"dataframe\">\n",
       "  <thead>\n",
       "    <tr style=\"text-align: right;\">\n",
       "      <th></th>\n",
       "      <th>y_nrr_test</th>\n",
       "      <th>y_nrr_pred</th>\n",
       "    </tr>\n",
       "  </thead>\n",
       "  <tbody>\n",
       "    <tr>\n",
       "      <th>0</th>\n",
       "      <td>5.0</td>\n",
       "      <td>20.818850</td>\n",
       "    </tr>\n",
       "    <tr>\n",
       "      <th>1</th>\n",
       "      <td>26.0</td>\n",
       "      <td>33.273655</td>\n",
       "    </tr>\n",
       "    <tr>\n",
       "      <th>2</th>\n",
       "      <td>14.0</td>\n",
       "      <td>16.262735</td>\n",
       "    </tr>\n",
       "    <tr>\n",
       "      <th>3</th>\n",
       "      <td>4.0</td>\n",
       "      <td>19.152620</td>\n",
       "    </tr>\n",
       "    <tr>\n",
       "      <th>4</th>\n",
       "      <td>54.0</td>\n",
       "      <td>27.305298</td>\n",
       "    </tr>\n",
       "    <tr>\n",
       "      <th>...</th>\n",
       "      <td>...</td>\n",
       "      <td>...</td>\n",
       "    </tr>\n",
       "    <tr>\n",
       "      <th>1711</th>\n",
       "      <td>25.0</td>\n",
       "      <td>22.608273</td>\n",
       "    </tr>\n",
       "    <tr>\n",
       "      <th>1712</th>\n",
       "      <td>26.0</td>\n",
       "      <td>25.371613</td>\n",
       "    </tr>\n",
       "    <tr>\n",
       "      <th>1713</th>\n",
       "      <td>62.0</td>\n",
       "      <td>46.573578</td>\n",
       "    </tr>\n",
       "    <tr>\n",
       "      <th>1714</th>\n",
       "      <td>22.0</td>\n",
       "      <td>25.188602</td>\n",
       "    </tr>\n",
       "    <tr>\n",
       "      <th>1715</th>\n",
       "      <td>45.0</td>\n",
       "      <td>42.496735</td>\n",
       "    </tr>\n",
       "  </tbody>\n",
       "</table>\n",
       "<p>1716 rows × 2 columns</p>\n",
       "</div>"
      ],
      "text/plain": [
       "      y_nrr_test  y_nrr_pred\n",
       "0            5.0   20.818850\n",
       "1           26.0   33.273655\n",
       "2           14.0   16.262735\n",
       "3            4.0   19.152620\n",
       "4           54.0   27.305298\n",
       "...          ...         ...\n",
       "1711        25.0   22.608273\n",
       "1712        26.0   25.371613\n",
       "1713        62.0   46.573578\n",
       "1714        22.0   25.188602\n",
       "1715        45.0   42.496735\n",
       "\n",
       "[1716 rows x 2 columns]"
      ]
     },
     "execution_count": 116,
     "metadata": {},
     "output_type": "execute_result"
    }
   ],
   "source": [
    "actual_values_nrr = np.exp(y_nrr_true)\n",
    "predicted_values_nrr = np.exp(y_nrr_pred)\n",
    "comp_nrr = pd.DataFrame(data=[actual_values_nrr,predicted_values_nrr]).T\n",
    "comp_nrr.columns=['y_nrr_test','y_nrr_pred']\n",
    "comp_nrr"
   ]
  },
  {
   "cell_type": "code",
   "execution_count": 117,
   "id": "df4ab31f",
   "metadata": {},
   "outputs": [],
   "source": [
    "actual_values_nrr = pd.DataFrame(actual_values_nrr, columns=['actual_values_nrr'])\n",
    "predicted_values_nrr = pd.DataFrame(predicted_values_nrr, columns = ['predicted_values_nrr'])"
   ]
  },
  {
   "cell_type": "code",
   "execution_count": 118,
   "id": "6ba7ca0d",
   "metadata": {},
   "outputs": [
    {
     "data": {
      "text/html": [
       "<div>\n",
       "<style scoped>\n",
       "    .dataframe tbody tr th:only-of-type {\n",
       "        vertical-align: middle;\n",
       "    }\n",
       "\n",
       "    .dataframe tbody tr th {\n",
       "        vertical-align: top;\n",
       "    }\n",
       "\n",
       "    .dataframe thead th {\n",
       "        text-align: right;\n",
       "    }\n",
       "</style>\n",
       "<table border=\"1\" class=\"dataframe\">\n",
       "  <thead>\n",
       "    <tr style=\"text-align: right;\">\n",
       "      <th></th>\n",
       "      <th>store_id</th>\n",
       "      <th>sku_id</th>\n",
       "      <th>total_price</th>\n",
       "      <th>base_price</th>\n",
       "      <th>is_featured_sku</th>\n",
       "      <th>is_display_sku</th>\n",
       "      <th>month</th>\n",
       "      <th>year</th>\n",
       "      <th>day_of_week</th>\n",
       "      <th>day_of_month</th>\n",
       "      <th>discount</th>\n",
       "    </tr>\n",
       "  </thead>\n",
       "  <tbody>\n",
       "    <tr>\n",
       "      <th>149378</th>\n",
       "      <td>9112</td>\n",
       "      <td>216425</td>\n",
       "      <td>1.945837</td>\n",
       "      <td>1.802947</td>\n",
       "      <td>0</td>\n",
       "      <td>0</td>\n",
       "      <td>7</td>\n",
       "      <td>2013</td>\n",
       "      <td>1</td>\n",
       "      <td>9</td>\n",
       "      <td>0.0</td>\n",
       "    </tr>\n",
       "    <tr>\n",
       "      <th>149358</th>\n",
       "      <td>9092</td>\n",
       "      <td>216425</td>\n",
       "      <td>0.528680</td>\n",
       "      <td>0.185577</td>\n",
       "      <td>0</td>\n",
       "      <td>0</td>\n",
       "      <td>7</td>\n",
       "      <td>2013</td>\n",
       "      <td>1</td>\n",
       "      <td>9</td>\n",
       "      <td>0.0</td>\n",
       "    </tr>\n",
       "    <tr>\n",
       "      <th>149420</th>\n",
       "      <td>9164</td>\n",
       "      <td>216425</td>\n",
       "      <td>1.862475</td>\n",
       "      <td>1.707807</td>\n",
       "      <td>0</td>\n",
       "      <td>0</td>\n",
       "      <td>7</td>\n",
       "      <td>2013</td>\n",
       "      <td>1</td>\n",
       "      <td>9</td>\n",
       "      <td>0.0</td>\n",
       "    </tr>\n",
       "    <tr>\n",
       "      <th>149394</th>\n",
       "      <td>9132</td>\n",
       "      <td>216425</td>\n",
       "      <td>0.778766</td>\n",
       "      <td>0.470995</td>\n",
       "      <td>0</td>\n",
       "      <td>0</td>\n",
       "      <td>7</td>\n",
       "      <td>2013</td>\n",
       "      <td>1</td>\n",
       "      <td>9</td>\n",
       "      <td>0.0</td>\n",
       "    </tr>\n",
       "    <tr>\n",
       "      <th>149406</th>\n",
       "      <td>9147</td>\n",
       "      <td>216425</td>\n",
       "      <td>0.945490</td>\n",
       "      <td>0.661274</td>\n",
       "      <td>0</td>\n",
       "      <td>0</td>\n",
       "      <td>7</td>\n",
       "      <td>2013</td>\n",
       "      <td>1</td>\n",
       "      <td>9</td>\n",
       "      <td>0.0</td>\n",
       "    </tr>\n",
       "  </tbody>\n",
       "</table>\n",
       "</div>"
      ],
      "text/plain": [
       "        store_id  sku_id  total_price  base_price  is_featured_sku  \\\n",
       "149378      9112  216425     1.945837    1.802947                0   \n",
       "149358      9092  216425     0.528680    0.185577                0   \n",
       "149420      9164  216425     1.862475    1.707807                0   \n",
       "149394      9132  216425     0.778766    0.470995                0   \n",
       "149406      9147  216425     0.945490    0.661274                0   \n",
       "\n",
       "        is_display_sku  month  year  day_of_week  day_of_month  discount  \n",
       "149378               0      7  2013            1             9       0.0  \n",
       "149358               0      7  2013            1             9       0.0  \n",
       "149420               0      7  2013            1             9       0.0  \n",
       "149394               0      7  2013            1             9       0.0  \n",
       "149406               0      7  2013            1             9       0.0  "
      ]
     },
     "execution_count": 118,
     "metadata": {},
     "output_type": "execute_result"
    },
    {
     "data": {
      "text/plain": [
       "149378    4.276666\n",
       "149358    2.890372\n",
       "149420    3.784190\n",
       "149394    2.564949\n",
       "149406    4.110874\n",
       "Name: units_sold, dtype: float64"
      ]
     },
     "execution_count": 118,
     "metadata": {},
     "output_type": "execute_result"
    },
    {
     "data": {
      "text/plain": [
       "(8580, 11)"
      ]
     },
     "execution_count": 118,
     "metadata": {},
     "output_type": "execute_result"
    },
    {
     "data": {
      "text/plain": [
       "(8580,)"
      ]
     },
     "execution_count": 118,
     "metadata": {},
     "output_type": "execute_result"
    }
   ],
   "source": [
    "X_nrr.head()\n",
    "y_nrr.head()\n",
    "X_nrr.shape\n",
    "y_nrr.shape"
   ]
  },
  {
   "cell_type": "code",
   "execution_count": 119,
   "id": "6c83b4c1",
   "metadata": {},
   "outputs": [],
   "source": [
    "# Calculate the number of rows to keep (20% of total rows)\n",
    "num_rows_to_keep_nrr = int(len(X_nrr) * 0.2)\n",
    "\n",
    "# Slice the DataFrame to keep the last 20% of the data\n",
    "X_nrr_df_test = X_nrr[-num_rows_to_keep_nrr:]\n",
    "y_nrr_df_test  = y_nrr[-num_rows_to_keep_nrr:]"
   ]
  },
  {
   "cell_type": "code",
   "execution_count": 120,
   "id": "3e2e36f4",
   "metadata": {},
   "outputs": [],
   "source": [
    "X_nrr_df_test.reset_index(inplace = True)"
   ]
  },
  {
   "cell_type": "code",
   "execution_count": 121,
   "id": "4beb07b5",
   "metadata": {},
   "outputs": [
    {
     "data": {
      "text/html": [
       "<div>\n",
       "<style scoped>\n",
       "    .dataframe tbody tr th:only-of-type {\n",
       "        vertical-align: middle;\n",
       "    }\n",
       "\n",
       "    .dataframe tbody tr th {\n",
       "        vertical-align: top;\n",
       "    }\n",
       "\n",
       "    .dataframe thead th {\n",
       "        text-align: right;\n",
       "    }\n",
       "</style>\n",
       "<table border=\"1\" class=\"dataframe\">\n",
       "  <thead>\n",
       "    <tr style=\"text-align: right;\">\n",
       "      <th></th>\n",
       "      <th>index</th>\n",
       "      <th>store_id</th>\n",
       "      <th>sku_id</th>\n",
       "      <th>total_price</th>\n",
       "      <th>base_price</th>\n",
       "      <th>is_featured_sku</th>\n",
       "      <th>is_display_sku</th>\n",
       "      <th>month</th>\n",
       "      <th>year</th>\n",
       "      <th>day_of_week</th>\n",
       "      <th>day_of_month</th>\n",
       "      <th>discount</th>\n",
       "    </tr>\n",
       "  </thead>\n",
       "  <tbody>\n",
       "    <tr>\n",
       "      <th>0</th>\n",
       "      <td>29258</td>\n",
       "      <td>9112</td>\n",
       "      <td>216425</td>\n",
       "      <td>0.862128</td>\n",
       "      <td>0.566135</td>\n",
       "      <td>0</td>\n",
       "      <td>0</td>\n",
       "      <td>7</td>\n",
       "      <td>2011</td>\n",
       "      <td>0</td>\n",
       "      <td>11</td>\n",
       "      <td>0.0</td>\n",
       "    </tr>\n",
       "    <tr>\n",
       "      <th>1</th>\n",
       "      <td>29238</td>\n",
       "      <td>9092</td>\n",
       "      <td>216425</td>\n",
       "      <td>1.112215</td>\n",
       "      <td>0.851553</td>\n",
       "      <td>0</td>\n",
       "      <td>0</td>\n",
       "      <td>7</td>\n",
       "      <td>2011</td>\n",
       "      <td>0</td>\n",
       "      <td>11</td>\n",
       "      <td>0.0</td>\n",
       "    </tr>\n",
       "    <tr>\n",
       "      <th>2</th>\n",
       "      <td>29300</td>\n",
       "      <td>9164</td>\n",
       "      <td>216425</td>\n",
       "      <td>1.112215</td>\n",
       "      <td>0.851553</td>\n",
       "      <td>0</td>\n",
       "      <td>0</td>\n",
       "      <td>7</td>\n",
       "      <td>2011</td>\n",
       "      <td>0</td>\n",
       "      <td>11</td>\n",
       "      <td>0.0</td>\n",
       "    </tr>\n",
       "    <tr>\n",
       "      <th>3</th>\n",
       "      <td>29274</td>\n",
       "      <td>9132</td>\n",
       "      <td>216425</td>\n",
       "      <td>0.695404</td>\n",
       "      <td>0.375856</td>\n",
       "      <td>0</td>\n",
       "      <td>0</td>\n",
       "      <td>7</td>\n",
       "      <td>2011</td>\n",
       "      <td>0</td>\n",
       "      <td>11</td>\n",
       "      <td>0.0</td>\n",
       "    </tr>\n",
       "    <tr>\n",
       "      <th>4</th>\n",
       "      <td>29286</td>\n",
       "      <td>9147</td>\n",
       "      <td>216425</td>\n",
       "      <td>1.028853</td>\n",
       "      <td>0.756414</td>\n",
       "      <td>0</td>\n",
       "      <td>0</td>\n",
       "      <td>7</td>\n",
       "      <td>2011</td>\n",
       "      <td>0</td>\n",
       "      <td>11</td>\n",
       "      <td>0.0</td>\n",
       "    </tr>\n",
       "  </tbody>\n",
       "</table>\n",
       "</div>"
      ],
      "text/plain": [
       "   index  store_id  sku_id  total_price  base_price  is_featured_sku  \\\n",
       "0  29258      9112  216425     0.862128    0.566135                0   \n",
       "1  29238      9092  216425     1.112215    0.851553                0   \n",
       "2  29300      9164  216425     1.112215    0.851553                0   \n",
       "3  29274      9132  216425     0.695404    0.375856                0   \n",
       "4  29286      9147  216425     1.028853    0.756414                0   \n",
       "\n",
       "   is_display_sku  month  year  day_of_week  day_of_month  discount  \n",
       "0               0      7  2011            0            11       0.0  \n",
       "1               0      7  2011            0            11       0.0  \n",
       "2               0      7  2011            0            11       0.0  \n",
       "3               0      7  2011            0            11       0.0  \n",
       "4               0      7  2011            0            11       0.0  "
      ]
     },
     "execution_count": 121,
     "metadata": {},
     "output_type": "execute_result"
    },
    {
     "data": {
      "text/html": [
       "<div>\n",
       "<style scoped>\n",
       "    .dataframe tbody tr th:only-of-type {\n",
       "        vertical-align: middle;\n",
       "    }\n",
       "\n",
       "    .dataframe tbody tr th {\n",
       "        vertical-align: top;\n",
       "    }\n",
       "\n",
       "    .dataframe thead th {\n",
       "        text-align: right;\n",
       "    }\n",
       "</style>\n",
       "<table border=\"1\" class=\"dataframe\">\n",
       "  <thead>\n",
       "    <tr style=\"text-align: right;\">\n",
       "      <th></th>\n",
       "      <th>actual_values_nrr</th>\n",
       "    </tr>\n",
       "  </thead>\n",
       "  <tbody>\n",
       "    <tr>\n",
       "      <th>0</th>\n",
       "      <td>5.0</td>\n",
       "    </tr>\n",
       "    <tr>\n",
       "      <th>1</th>\n",
       "      <td>26.0</td>\n",
       "    </tr>\n",
       "    <tr>\n",
       "      <th>2</th>\n",
       "      <td>14.0</td>\n",
       "    </tr>\n",
       "    <tr>\n",
       "      <th>3</th>\n",
       "      <td>4.0</td>\n",
       "    </tr>\n",
       "    <tr>\n",
       "      <th>4</th>\n",
       "      <td>54.0</td>\n",
       "    </tr>\n",
       "    <tr>\n",
       "      <th>...</th>\n",
       "      <td>...</td>\n",
       "    </tr>\n",
       "    <tr>\n",
       "      <th>1711</th>\n",
       "      <td>25.0</td>\n",
       "    </tr>\n",
       "    <tr>\n",
       "      <th>1712</th>\n",
       "      <td>26.0</td>\n",
       "    </tr>\n",
       "    <tr>\n",
       "      <th>1713</th>\n",
       "      <td>62.0</td>\n",
       "    </tr>\n",
       "    <tr>\n",
       "      <th>1714</th>\n",
       "      <td>22.0</td>\n",
       "    </tr>\n",
       "    <tr>\n",
       "      <th>1715</th>\n",
       "      <td>45.0</td>\n",
       "    </tr>\n",
       "  </tbody>\n",
       "</table>\n",
       "<p>1716 rows × 1 columns</p>\n",
       "</div>"
      ],
      "text/plain": [
       "      actual_values_nrr\n",
       "0                   5.0\n",
       "1                  26.0\n",
       "2                  14.0\n",
       "3                   4.0\n",
       "4                  54.0\n",
       "...                 ...\n",
       "1711               25.0\n",
       "1712               26.0\n",
       "1713               62.0\n",
       "1714               22.0\n",
       "1715               45.0\n",
       "\n",
       "[1716 rows x 1 columns]"
      ]
     },
     "execution_count": 121,
     "metadata": {},
     "output_type": "execute_result"
    },
    {
     "data": {
      "text/html": [
       "<div>\n",
       "<style scoped>\n",
       "    .dataframe tbody tr th:only-of-type {\n",
       "        vertical-align: middle;\n",
       "    }\n",
       "\n",
       "    .dataframe tbody tr th {\n",
       "        vertical-align: top;\n",
       "    }\n",
       "\n",
       "    .dataframe thead th {\n",
       "        text-align: right;\n",
       "    }\n",
       "</style>\n",
       "<table border=\"1\" class=\"dataframe\">\n",
       "  <thead>\n",
       "    <tr style=\"text-align: right;\">\n",
       "      <th></th>\n",
       "      <th>predicted_values_nrr</th>\n",
       "    </tr>\n",
       "  </thead>\n",
       "  <tbody>\n",
       "    <tr>\n",
       "      <th>0</th>\n",
       "      <td>20.818850</td>\n",
       "    </tr>\n",
       "    <tr>\n",
       "      <th>1</th>\n",
       "      <td>33.273655</td>\n",
       "    </tr>\n",
       "    <tr>\n",
       "      <th>2</th>\n",
       "      <td>16.262735</td>\n",
       "    </tr>\n",
       "    <tr>\n",
       "      <th>3</th>\n",
       "      <td>19.152620</td>\n",
       "    </tr>\n",
       "    <tr>\n",
       "      <th>4</th>\n",
       "      <td>27.305298</td>\n",
       "    </tr>\n",
       "    <tr>\n",
       "      <th>...</th>\n",
       "      <td>...</td>\n",
       "    </tr>\n",
       "    <tr>\n",
       "      <th>1711</th>\n",
       "      <td>22.608273</td>\n",
       "    </tr>\n",
       "    <tr>\n",
       "      <th>1712</th>\n",
       "      <td>25.371613</td>\n",
       "    </tr>\n",
       "    <tr>\n",
       "      <th>1713</th>\n",
       "      <td>46.573578</td>\n",
       "    </tr>\n",
       "    <tr>\n",
       "      <th>1714</th>\n",
       "      <td>25.188602</td>\n",
       "    </tr>\n",
       "    <tr>\n",
       "      <th>1715</th>\n",
       "      <td>42.496735</td>\n",
       "    </tr>\n",
       "  </tbody>\n",
       "</table>\n",
       "<p>1716 rows × 1 columns</p>\n",
       "</div>"
      ],
      "text/plain": [
       "      predicted_values_nrr\n",
       "0                20.818850\n",
       "1                33.273655\n",
       "2                16.262735\n",
       "3                19.152620\n",
       "4                27.305298\n",
       "...                    ...\n",
       "1711             22.608273\n",
       "1712             25.371613\n",
       "1713             46.573578\n",
       "1714             25.188602\n",
       "1715             42.496735\n",
       "\n",
       "[1716 rows x 1 columns]"
      ]
     },
     "execution_count": 121,
     "metadata": {},
     "output_type": "execute_result"
    }
   ],
   "source": [
    "X_nrr_df_test.head()\n",
    "actual_values_nrr\n",
    "predicted_values_nrr"
   ]
  },
  {
   "cell_type": "code",
   "execution_count": 122,
   "id": "e7c04afe",
   "metadata": {},
   "outputs": [
    {
     "data": {
      "text/html": [
       "<div>\n",
       "<style scoped>\n",
       "    .dataframe tbody tr th:only-of-type {\n",
       "        vertical-align: middle;\n",
       "    }\n",
       "\n",
       "    .dataframe tbody tr th {\n",
       "        vertical-align: top;\n",
       "    }\n",
       "\n",
       "    .dataframe thead th {\n",
       "        text-align: right;\n",
       "    }\n",
       "</style>\n",
       "<table border=\"1\" class=\"dataframe\">\n",
       "  <thead>\n",
       "    <tr style=\"text-align: right;\">\n",
       "      <th></th>\n",
       "      <th>index</th>\n",
       "      <th>store_id</th>\n",
       "      <th>sku_id</th>\n",
       "      <th>total_price</th>\n",
       "      <th>base_price</th>\n",
       "      <th>is_featured_sku</th>\n",
       "      <th>is_display_sku</th>\n",
       "      <th>month</th>\n",
       "      <th>year</th>\n",
       "      <th>day_of_week</th>\n",
       "      <th>day_of_month</th>\n",
       "      <th>discount</th>\n",
       "    </tr>\n",
       "  </thead>\n",
       "  <tbody>\n",
       "    <tr>\n",
       "      <th>0</th>\n",
       "      <td>29258</td>\n",
       "      <td>9112</td>\n",
       "      <td>216425</td>\n",
       "      <td>0.862128</td>\n",
       "      <td>0.566135</td>\n",
       "      <td>0</td>\n",
       "      <td>0</td>\n",
       "      <td>7</td>\n",
       "      <td>2011</td>\n",
       "      <td>0</td>\n",
       "      <td>11</td>\n",
       "      <td>0.0</td>\n",
       "    </tr>\n",
       "    <tr>\n",
       "      <th>1</th>\n",
       "      <td>29238</td>\n",
       "      <td>9092</td>\n",
       "      <td>216425</td>\n",
       "      <td>1.112215</td>\n",
       "      <td>0.851553</td>\n",
       "      <td>0</td>\n",
       "      <td>0</td>\n",
       "      <td>7</td>\n",
       "      <td>2011</td>\n",
       "      <td>0</td>\n",
       "      <td>11</td>\n",
       "      <td>0.0</td>\n",
       "    </tr>\n",
       "    <tr>\n",
       "      <th>2</th>\n",
       "      <td>29300</td>\n",
       "      <td>9164</td>\n",
       "      <td>216425</td>\n",
       "      <td>1.112215</td>\n",
       "      <td>0.851553</td>\n",
       "      <td>0</td>\n",
       "      <td>0</td>\n",
       "      <td>7</td>\n",
       "      <td>2011</td>\n",
       "      <td>0</td>\n",
       "      <td>11</td>\n",
       "      <td>0.0</td>\n",
       "    </tr>\n",
       "    <tr>\n",
       "      <th>3</th>\n",
       "      <td>29274</td>\n",
       "      <td>9132</td>\n",
       "      <td>216425</td>\n",
       "      <td>0.695404</td>\n",
       "      <td>0.375856</td>\n",
       "      <td>0</td>\n",
       "      <td>0</td>\n",
       "      <td>7</td>\n",
       "      <td>2011</td>\n",
       "      <td>0</td>\n",
       "      <td>11</td>\n",
       "      <td>0.0</td>\n",
       "    </tr>\n",
       "    <tr>\n",
       "      <th>4</th>\n",
       "      <td>29286</td>\n",
       "      <td>9147</td>\n",
       "      <td>216425</td>\n",
       "      <td>1.028853</td>\n",
       "      <td>0.756414</td>\n",
       "      <td>0</td>\n",
       "      <td>0</td>\n",
       "      <td>7</td>\n",
       "      <td>2011</td>\n",
       "      <td>0</td>\n",
       "      <td>11</td>\n",
       "      <td>0.0</td>\n",
       "    </tr>\n",
       "  </tbody>\n",
       "</table>\n",
       "</div>"
      ],
      "text/plain": [
       "   index  store_id  sku_id  total_price  base_price  is_featured_sku  \\\n",
       "0  29258      9112  216425     0.862128    0.566135                0   \n",
       "1  29238      9092  216425     1.112215    0.851553                0   \n",
       "2  29300      9164  216425     1.112215    0.851553                0   \n",
       "3  29274      9132  216425     0.695404    0.375856                0   \n",
       "4  29286      9147  216425     1.028853    0.756414                0   \n",
       "\n",
       "   is_display_sku  month  year  day_of_week  day_of_month  discount  \n",
       "0               0      7  2011            0            11       0.0  \n",
       "1               0      7  2011            0            11       0.0  \n",
       "2               0      7  2011            0            11       0.0  \n",
       "3               0      7  2011            0            11       0.0  \n",
       "4               0      7  2011            0            11       0.0  "
      ]
     },
     "execution_count": 122,
     "metadata": {},
     "output_type": "execute_result"
    }
   ],
   "source": [
    "X_nrr_df_test.head()"
   ]
  },
  {
   "cell_type": "code",
   "execution_count": 123,
   "id": "764b1e1f",
   "metadata": {},
   "outputs": [],
   "source": [
    "merged_nrr_df = pd.concat([X_nrr_df_test, actual_values_nrr, predicted_values_nrr], axis = 1)"
   ]
  },
  {
   "cell_type": "code",
   "execution_count": 124,
   "id": "82bf07b2",
   "metadata": {},
   "outputs": [
    {
     "data": {
      "text/html": [
       "<div>\n",
       "<style scoped>\n",
       "    .dataframe tbody tr th:only-of-type {\n",
       "        vertical-align: middle;\n",
       "    }\n",
       "\n",
       "    .dataframe tbody tr th {\n",
       "        vertical-align: top;\n",
       "    }\n",
       "\n",
       "    .dataframe thead th {\n",
       "        text-align: right;\n",
       "    }\n",
       "</style>\n",
       "<table border=\"1\" class=\"dataframe\">\n",
       "  <thead>\n",
       "    <tr style=\"text-align: right;\">\n",
       "      <th></th>\n",
       "      <th>index</th>\n",
       "      <th>store_id</th>\n",
       "      <th>sku_id</th>\n",
       "      <th>total_price</th>\n",
       "      <th>base_price</th>\n",
       "      <th>is_featured_sku</th>\n",
       "      <th>is_display_sku</th>\n",
       "      <th>month</th>\n",
       "      <th>year</th>\n",
       "      <th>day_of_week</th>\n",
       "      <th>day_of_month</th>\n",
       "      <th>discount</th>\n",
       "      <th>actual_values_nrr</th>\n",
       "      <th>predicted_values_nrr</th>\n",
       "    </tr>\n",
       "  </thead>\n",
       "  <tbody>\n",
       "    <tr>\n",
       "      <th>0</th>\n",
       "      <td>29258</td>\n",
       "      <td>9112</td>\n",
       "      <td>216425</td>\n",
       "      <td>0.862128</td>\n",
       "      <td>0.566135</td>\n",
       "      <td>0</td>\n",
       "      <td>0</td>\n",
       "      <td>7</td>\n",
       "      <td>2011</td>\n",
       "      <td>0</td>\n",
       "      <td>11</td>\n",
       "      <td>0.0</td>\n",
       "      <td>5.0</td>\n",
       "      <td>20.818850</td>\n",
       "    </tr>\n",
       "    <tr>\n",
       "      <th>1</th>\n",
       "      <td>29238</td>\n",
       "      <td>9092</td>\n",
       "      <td>216425</td>\n",
       "      <td>1.112215</td>\n",
       "      <td>0.851553</td>\n",
       "      <td>0</td>\n",
       "      <td>0</td>\n",
       "      <td>7</td>\n",
       "      <td>2011</td>\n",
       "      <td>0</td>\n",
       "      <td>11</td>\n",
       "      <td>0.0</td>\n",
       "      <td>26.0</td>\n",
       "      <td>33.273655</td>\n",
       "    </tr>\n",
       "    <tr>\n",
       "      <th>2</th>\n",
       "      <td>29300</td>\n",
       "      <td>9164</td>\n",
       "      <td>216425</td>\n",
       "      <td>1.112215</td>\n",
       "      <td>0.851553</td>\n",
       "      <td>0</td>\n",
       "      <td>0</td>\n",
       "      <td>7</td>\n",
       "      <td>2011</td>\n",
       "      <td>0</td>\n",
       "      <td>11</td>\n",
       "      <td>0.0</td>\n",
       "      <td>14.0</td>\n",
       "      <td>16.262735</td>\n",
       "    </tr>\n",
       "    <tr>\n",
       "      <th>3</th>\n",
       "      <td>29274</td>\n",
       "      <td>9132</td>\n",
       "      <td>216425</td>\n",
       "      <td>0.695404</td>\n",
       "      <td>0.375856</td>\n",
       "      <td>0</td>\n",
       "      <td>0</td>\n",
       "      <td>7</td>\n",
       "      <td>2011</td>\n",
       "      <td>0</td>\n",
       "      <td>11</td>\n",
       "      <td>0.0</td>\n",
       "      <td>4.0</td>\n",
       "      <td>19.152620</td>\n",
       "    </tr>\n",
       "    <tr>\n",
       "      <th>4</th>\n",
       "      <td>29286</td>\n",
       "      <td>9147</td>\n",
       "      <td>216425</td>\n",
       "      <td>1.028853</td>\n",
       "      <td>0.756414</td>\n",
       "      <td>0</td>\n",
       "      <td>0</td>\n",
       "      <td>7</td>\n",
       "      <td>2011</td>\n",
       "      <td>0</td>\n",
       "      <td>11</td>\n",
       "      <td>0.0</td>\n",
       "      <td>54.0</td>\n",
       "      <td>27.305298</td>\n",
       "    </tr>\n",
       "    <tr>\n",
       "      <th>...</th>\n",
       "      <td>...</td>\n",
       "      <td>...</td>\n",
       "      <td>...</td>\n",
       "      <td>...</td>\n",
       "      <td>...</td>\n",
       "      <td>...</td>\n",
       "      <td>...</td>\n",
       "      <td>...</td>\n",
       "      <td>...</td>\n",
       "      <td>...</td>\n",
       "      <td>...</td>\n",
       "      <td>...</td>\n",
       "      <td>...</td>\n",
       "      <td>...</td>\n",
       "    </tr>\n",
       "    <tr>\n",
       "      <th>1711</th>\n",
       "      <td>849</td>\n",
       "      <td>9713</td>\n",
       "      <td>216425</td>\n",
       "      <td>0.945490</td>\n",
       "      <td>0.661274</td>\n",
       "      <td>0</td>\n",
       "      <td>0</td>\n",
       "      <td>1</td>\n",
       "      <td>2011</td>\n",
       "      <td>0</td>\n",
       "      <td>17</td>\n",
       "      <td>0.0</td>\n",
       "      <td>25.0</td>\n",
       "      <td>22.608273</td>\n",
       "    </tr>\n",
       "    <tr>\n",
       "      <th>1712</th>\n",
       "      <td>755</td>\n",
       "      <td>9578</td>\n",
       "      <td>216425</td>\n",
       "      <td>0.862128</td>\n",
       "      <td>0.566135</td>\n",
       "      <td>0</td>\n",
       "      <td>0</td>\n",
       "      <td>1</td>\n",
       "      <td>2011</td>\n",
       "      <td>0</td>\n",
       "      <td>17</td>\n",
       "      <td>0.0</td>\n",
       "      <td>26.0</td>\n",
       "      <td>25.371613</td>\n",
       "    </tr>\n",
       "    <tr>\n",
       "      <th>1713</th>\n",
       "      <td>737</td>\n",
       "      <td>9532</td>\n",
       "      <td>216425</td>\n",
       "      <td>0.445317</td>\n",
       "      <td>0.090438</td>\n",
       "      <td>0</td>\n",
       "      <td>0</td>\n",
       "      <td>1</td>\n",
       "      <td>2011</td>\n",
       "      <td>0</td>\n",
       "      <td>17</td>\n",
       "      <td>0.0</td>\n",
       "      <td>62.0</td>\n",
       "      <td>46.573578</td>\n",
       "    </tr>\n",
       "    <tr>\n",
       "      <th>1714</th>\n",
       "      <td>779</td>\n",
       "      <td>9611</td>\n",
       "      <td>216425</td>\n",
       "      <td>1.028853</td>\n",
       "      <td>0.756414</td>\n",
       "      <td>0</td>\n",
       "      <td>0</td>\n",
       "      <td>1</td>\n",
       "      <td>2011</td>\n",
       "      <td>0</td>\n",
       "      <td>17</td>\n",
       "      <td>0.0</td>\n",
       "      <td>22.0</td>\n",
       "      <td>25.188602</td>\n",
       "    </tr>\n",
       "    <tr>\n",
       "      <th>1715</th>\n",
       "      <td>766</td>\n",
       "      <td>9672</td>\n",
       "      <td>216425</td>\n",
       "      <td>1.028853</td>\n",
       "      <td>0.756414</td>\n",
       "      <td>0</td>\n",
       "      <td>0</td>\n",
       "      <td>1</td>\n",
       "      <td>2011</td>\n",
       "      <td>0</td>\n",
       "      <td>17</td>\n",
       "      <td>0.0</td>\n",
       "      <td>45.0</td>\n",
       "      <td>42.496735</td>\n",
       "    </tr>\n",
       "  </tbody>\n",
       "</table>\n",
       "<p>1716 rows × 14 columns</p>\n",
       "</div>"
      ],
      "text/plain": [
       "      index  store_id  sku_id  total_price  base_price  is_featured_sku  \\\n",
       "0     29258      9112  216425     0.862128    0.566135                0   \n",
       "1     29238      9092  216425     1.112215    0.851553                0   \n",
       "2     29300      9164  216425     1.112215    0.851553                0   \n",
       "3     29274      9132  216425     0.695404    0.375856                0   \n",
       "4     29286      9147  216425     1.028853    0.756414                0   \n",
       "...     ...       ...     ...          ...         ...              ...   \n",
       "1711    849      9713  216425     0.945490    0.661274                0   \n",
       "1712    755      9578  216425     0.862128    0.566135                0   \n",
       "1713    737      9532  216425     0.445317    0.090438                0   \n",
       "1714    779      9611  216425     1.028853    0.756414                0   \n",
       "1715    766      9672  216425     1.028853    0.756414                0   \n",
       "\n",
       "      is_display_sku  month  year  day_of_week  day_of_month  discount  \\\n",
       "0                  0      7  2011            0            11       0.0   \n",
       "1                  0      7  2011            0            11       0.0   \n",
       "2                  0      7  2011            0            11       0.0   \n",
       "3                  0      7  2011            0            11       0.0   \n",
       "4                  0      7  2011            0            11       0.0   \n",
       "...              ...    ...   ...          ...           ...       ...   \n",
       "1711               0      1  2011            0            17       0.0   \n",
       "1712               0      1  2011            0            17       0.0   \n",
       "1713               0      1  2011            0            17       0.0   \n",
       "1714               0      1  2011            0            17       0.0   \n",
       "1715               0      1  2011            0            17       0.0   \n",
       "\n",
       "      actual_values_nrr  predicted_values_nrr  \n",
       "0                   5.0             20.818850  \n",
       "1                  26.0             33.273655  \n",
       "2                  14.0             16.262735  \n",
       "3                   4.0             19.152620  \n",
       "4                  54.0             27.305298  \n",
       "...                 ...                   ...  \n",
       "1711               25.0             22.608273  \n",
       "1712               26.0             25.371613  \n",
       "1713               62.0             46.573578  \n",
       "1714               22.0             25.188602  \n",
       "1715               45.0             42.496735  \n",
       "\n",
       "[1716 rows x 14 columns]"
      ]
     },
     "execution_count": 124,
     "metadata": {},
     "output_type": "execute_result"
    }
   ],
   "source": [
    "merged_nrr_df"
   ]
  },
  {
   "cell_type": "code",
   "execution_count": 125,
   "id": "968be2b5",
   "metadata": {},
   "outputs": [],
   "source": [
    "merged_nrr_df['predicted_values_nrr'] = merged_nrr_df['predicted_values_nrr'].round(0)"
   ]
  },
  {
   "cell_type": "code",
   "execution_count": 126,
   "id": "916de86d",
   "metadata": {},
   "outputs": [
    {
     "name": "stdout",
     "output_type": "stream",
     "text": [
      "<class 'pandas.core.frame.DataFrame'>\n",
      "RangeIndex: 1716 entries, 0 to 1715\n",
      "Data columns (total 14 columns):\n",
      " #   Column                Non-Null Count  Dtype  \n",
      "---  ------                --------------  -----  \n",
      " 0   index                 1716 non-null   int64  \n",
      " 1   store_id              1716 non-null   int64  \n",
      " 2   sku_id                1716 non-null   int64  \n",
      " 3   total_price           1716 non-null   float64\n",
      " 4   base_price            1716 non-null   float64\n",
      " 5   is_featured_sku       1716 non-null   int64  \n",
      " 6   is_display_sku        1716 non-null   int64  \n",
      " 7   month                 1716 non-null   int32  \n",
      " 8   year                  1716 non-null   int32  \n",
      " 9   day_of_week           1716 non-null   int32  \n",
      " 10  day_of_month          1716 non-null   int32  \n",
      " 11  discount              1716 non-null   float64\n",
      " 12  actual_values_nrr     1716 non-null   float64\n",
      " 13  predicted_values_nrr  1716 non-null   float32\n",
      "dtypes: float32(1), float64(4), int32(4), int64(5)\n",
      "memory usage: 154.3 KB\n"
     ]
    }
   ],
   "source": [
    "merged_nrr_df.info()"
   ]
  },
  {
   "cell_type": "code",
   "execution_count": 127,
   "id": "2db148f1",
   "metadata": {},
   "outputs": [],
   "source": [
    "merged_nrr_df['week'] = merged_nrr_df.apply(lambda row: '-'.join([str(row['year']), str(row['month']), str(row['day_of_month'])]), axis=1)"
   ]
  },
  {
   "cell_type": "code",
   "execution_count": 128,
   "id": "dc23e01c",
   "metadata": {},
   "outputs": [],
   "source": [
    "merged_nrr_df['week'] = merged_nrr_df.apply(lambda row: '-'.join([str(row['year']), str(row['month']), str(row['day_of_month'])]), axis=1)"
   ]
  },
  {
   "cell_type": "code",
   "execution_count": 129,
   "id": "69d94624",
   "metadata": {},
   "outputs": [
    {
     "data": {
      "text/html": [
       "<div>\n",
       "<style scoped>\n",
       "    .dataframe tbody tr th:only-of-type {\n",
       "        vertical-align: middle;\n",
       "    }\n",
       "\n",
       "    .dataframe tbody tr th {\n",
       "        vertical-align: top;\n",
       "    }\n",
       "\n",
       "    .dataframe thead th {\n",
       "        text-align: right;\n",
       "    }\n",
       "</style>\n",
       "<table border=\"1\" class=\"dataframe\">\n",
       "  <thead>\n",
       "    <tr style=\"text-align: right;\">\n",
       "      <th></th>\n",
       "      <th>index</th>\n",
       "      <th>store_id</th>\n",
       "      <th>sku_id</th>\n",
       "      <th>total_price</th>\n",
       "      <th>base_price</th>\n",
       "      <th>is_featured_sku</th>\n",
       "      <th>is_display_sku</th>\n",
       "      <th>month</th>\n",
       "      <th>year</th>\n",
       "      <th>day_of_week</th>\n",
       "      <th>day_of_month</th>\n",
       "      <th>discount</th>\n",
       "      <th>actual_values_nrr</th>\n",
       "      <th>predicted_values_nrr</th>\n",
       "      <th>week</th>\n",
       "    </tr>\n",
       "  </thead>\n",
       "  <tbody>\n",
       "    <tr>\n",
       "      <th>0</th>\n",
       "      <td>29258</td>\n",
       "      <td>9112</td>\n",
       "      <td>216425</td>\n",
       "      <td>0.862128</td>\n",
       "      <td>0.566135</td>\n",
       "      <td>0</td>\n",
       "      <td>0</td>\n",
       "      <td>7</td>\n",
       "      <td>2011</td>\n",
       "      <td>0</td>\n",
       "      <td>11</td>\n",
       "      <td>0.0</td>\n",
       "      <td>5.0</td>\n",
       "      <td>21.0</td>\n",
       "      <td>2011-7-11</td>\n",
       "    </tr>\n",
       "    <tr>\n",
       "      <th>1</th>\n",
       "      <td>29238</td>\n",
       "      <td>9092</td>\n",
       "      <td>216425</td>\n",
       "      <td>1.112215</td>\n",
       "      <td>0.851553</td>\n",
       "      <td>0</td>\n",
       "      <td>0</td>\n",
       "      <td>7</td>\n",
       "      <td>2011</td>\n",
       "      <td>0</td>\n",
       "      <td>11</td>\n",
       "      <td>0.0</td>\n",
       "      <td>26.0</td>\n",
       "      <td>33.0</td>\n",
       "      <td>2011-7-11</td>\n",
       "    </tr>\n",
       "    <tr>\n",
       "      <th>2</th>\n",
       "      <td>29300</td>\n",
       "      <td>9164</td>\n",
       "      <td>216425</td>\n",
       "      <td>1.112215</td>\n",
       "      <td>0.851553</td>\n",
       "      <td>0</td>\n",
       "      <td>0</td>\n",
       "      <td>7</td>\n",
       "      <td>2011</td>\n",
       "      <td>0</td>\n",
       "      <td>11</td>\n",
       "      <td>0.0</td>\n",
       "      <td>14.0</td>\n",
       "      <td>16.0</td>\n",
       "      <td>2011-7-11</td>\n",
       "    </tr>\n",
       "    <tr>\n",
       "      <th>3</th>\n",
       "      <td>29274</td>\n",
       "      <td>9132</td>\n",
       "      <td>216425</td>\n",
       "      <td>0.695404</td>\n",
       "      <td>0.375856</td>\n",
       "      <td>0</td>\n",
       "      <td>0</td>\n",
       "      <td>7</td>\n",
       "      <td>2011</td>\n",
       "      <td>0</td>\n",
       "      <td>11</td>\n",
       "      <td>0.0</td>\n",
       "      <td>4.0</td>\n",
       "      <td>19.0</td>\n",
       "      <td>2011-7-11</td>\n",
       "    </tr>\n",
       "    <tr>\n",
       "      <th>4</th>\n",
       "      <td>29286</td>\n",
       "      <td>9147</td>\n",
       "      <td>216425</td>\n",
       "      <td>1.028853</td>\n",
       "      <td>0.756414</td>\n",
       "      <td>0</td>\n",
       "      <td>0</td>\n",
       "      <td>7</td>\n",
       "      <td>2011</td>\n",
       "      <td>0</td>\n",
       "      <td>11</td>\n",
       "      <td>0.0</td>\n",
       "      <td>54.0</td>\n",
       "      <td>27.0</td>\n",
       "      <td>2011-7-11</td>\n",
       "    </tr>\n",
       "    <tr>\n",
       "      <th>...</th>\n",
       "      <td>...</td>\n",
       "      <td>...</td>\n",
       "      <td>...</td>\n",
       "      <td>...</td>\n",
       "      <td>...</td>\n",
       "      <td>...</td>\n",
       "      <td>...</td>\n",
       "      <td>...</td>\n",
       "      <td>...</td>\n",
       "      <td>...</td>\n",
       "      <td>...</td>\n",
       "      <td>...</td>\n",
       "      <td>...</td>\n",
       "      <td>...</td>\n",
       "      <td>...</td>\n",
       "    </tr>\n",
       "    <tr>\n",
       "      <th>1711</th>\n",
       "      <td>849</td>\n",
       "      <td>9713</td>\n",
       "      <td>216425</td>\n",
       "      <td>0.945490</td>\n",
       "      <td>0.661274</td>\n",
       "      <td>0</td>\n",
       "      <td>0</td>\n",
       "      <td>1</td>\n",
       "      <td>2011</td>\n",
       "      <td>0</td>\n",
       "      <td>17</td>\n",
       "      <td>0.0</td>\n",
       "      <td>25.0</td>\n",
       "      <td>23.0</td>\n",
       "      <td>2011-1-17</td>\n",
       "    </tr>\n",
       "    <tr>\n",
       "      <th>1712</th>\n",
       "      <td>755</td>\n",
       "      <td>9578</td>\n",
       "      <td>216425</td>\n",
       "      <td>0.862128</td>\n",
       "      <td>0.566135</td>\n",
       "      <td>0</td>\n",
       "      <td>0</td>\n",
       "      <td>1</td>\n",
       "      <td>2011</td>\n",
       "      <td>0</td>\n",
       "      <td>17</td>\n",
       "      <td>0.0</td>\n",
       "      <td>26.0</td>\n",
       "      <td>25.0</td>\n",
       "      <td>2011-1-17</td>\n",
       "    </tr>\n",
       "    <tr>\n",
       "      <th>1713</th>\n",
       "      <td>737</td>\n",
       "      <td>9532</td>\n",
       "      <td>216425</td>\n",
       "      <td>0.445317</td>\n",
       "      <td>0.090438</td>\n",
       "      <td>0</td>\n",
       "      <td>0</td>\n",
       "      <td>1</td>\n",
       "      <td>2011</td>\n",
       "      <td>0</td>\n",
       "      <td>17</td>\n",
       "      <td>0.0</td>\n",
       "      <td>62.0</td>\n",
       "      <td>47.0</td>\n",
       "      <td>2011-1-17</td>\n",
       "    </tr>\n",
       "    <tr>\n",
       "      <th>1714</th>\n",
       "      <td>779</td>\n",
       "      <td>9611</td>\n",
       "      <td>216425</td>\n",
       "      <td>1.028853</td>\n",
       "      <td>0.756414</td>\n",
       "      <td>0</td>\n",
       "      <td>0</td>\n",
       "      <td>1</td>\n",
       "      <td>2011</td>\n",
       "      <td>0</td>\n",
       "      <td>17</td>\n",
       "      <td>0.0</td>\n",
       "      <td>22.0</td>\n",
       "      <td>25.0</td>\n",
       "      <td>2011-1-17</td>\n",
       "    </tr>\n",
       "    <tr>\n",
       "      <th>1715</th>\n",
       "      <td>766</td>\n",
       "      <td>9672</td>\n",
       "      <td>216425</td>\n",
       "      <td>1.028853</td>\n",
       "      <td>0.756414</td>\n",
       "      <td>0</td>\n",
       "      <td>0</td>\n",
       "      <td>1</td>\n",
       "      <td>2011</td>\n",
       "      <td>0</td>\n",
       "      <td>17</td>\n",
       "      <td>0.0</td>\n",
       "      <td>45.0</td>\n",
       "      <td>42.0</td>\n",
       "      <td>2011-1-17</td>\n",
       "    </tr>\n",
       "  </tbody>\n",
       "</table>\n",
       "<p>1716 rows × 15 columns</p>\n",
       "</div>"
      ],
      "text/plain": [
       "      index  store_id  sku_id  total_price  base_price  is_featured_sku  \\\n",
       "0     29258      9112  216425     0.862128    0.566135                0   \n",
       "1     29238      9092  216425     1.112215    0.851553                0   \n",
       "2     29300      9164  216425     1.112215    0.851553                0   \n",
       "3     29274      9132  216425     0.695404    0.375856                0   \n",
       "4     29286      9147  216425     1.028853    0.756414                0   \n",
       "...     ...       ...     ...          ...         ...              ...   \n",
       "1711    849      9713  216425     0.945490    0.661274                0   \n",
       "1712    755      9578  216425     0.862128    0.566135                0   \n",
       "1713    737      9532  216425     0.445317    0.090438                0   \n",
       "1714    779      9611  216425     1.028853    0.756414                0   \n",
       "1715    766      9672  216425     1.028853    0.756414                0   \n",
       "\n",
       "      is_display_sku  month  year  day_of_week  day_of_month  discount  \\\n",
       "0                  0      7  2011            0            11       0.0   \n",
       "1                  0      7  2011            0            11       0.0   \n",
       "2                  0      7  2011            0            11       0.0   \n",
       "3                  0      7  2011            0            11       0.0   \n",
       "4                  0      7  2011            0            11       0.0   \n",
       "...              ...    ...   ...          ...           ...       ...   \n",
       "1711               0      1  2011            0            17       0.0   \n",
       "1712               0      1  2011            0            17       0.0   \n",
       "1713               0      1  2011            0            17       0.0   \n",
       "1714               0      1  2011            0            17       0.0   \n",
       "1715               0      1  2011            0            17       0.0   \n",
       "\n",
       "      actual_values_nrr  predicted_values_nrr       week  \n",
       "0                   5.0                  21.0  2011-7-11  \n",
       "1                  26.0                  33.0  2011-7-11  \n",
       "2                  14.0                  16.0  2011-7-11  \n",
       "3                   4.0                  19.0  2011-7-11  \n",
       "4                  54.0                  27.0  2011-7-11  \n",
       "...                 ...                   ...        ...  \n",
       "1711               25.0                  23.0  2011-1-17  \n",
       "1712               26.0                  25.0  2011-1-17  \n",
       "1713               62.0                  47.0  2011-1-17  \n",
       "1714               22.0                  25.0  2011-1-17  \n",
       "1715               45.0                  42.0  2011-1-17  \n",
       "\n",
       "[1716 rows x 15 columns]"
      ]
     },
     "execution_count": 129,
     "metadata": {},
     "output_type": "execute_result"
    }
   ],
   "source": [
    "merged_nrr_df"
   ]
  },
  {
   "cell_type": "code",
   "execution_count": 130,
   "id": "eb362e7b",
   "metadata": {},
   "outputs": [],
   "source": [
    "merged_nrr_df['week'] = pd.to_datetime(merged_nrr_df['week'])"
   ]
  },
  {
   "cell_type": "code",
   "execution_count": 131,
   "id": "e62ddc96",
   "metadata": {},
   "outputs": [
    {
     "data": {
      "text/html": [
       "<div>\n",
       "<style scoped>\n",
       "    .dataframe tbody tr th:only-of-type {\n",
       "        vertical-align: middle;\n",
       "    }\n",
       "\n",
       "    .dataframe tbody tr th {\n",
       "        vertical-align: top;\n",
       "    }\n",
       "\n",
       "    .dataframe thead th {\n",
       "        text-align: right;\n",
       "    }\n",
       "</style>\n",
       "<table border=\"1\" class=\"dataframe\">\n",
       "  <thead>\n",
       "    <tr style=\"text-align: right;\">\n",
       "      <th></th>\n",
       "      <th>index</th>\n",
       "      <th>store_id</th>\n",
       "      <th>sku_id</th>\n",
       "      <th>total_price</th>\n",
       "      <th>base_price</th>\n",
       "      <th>is_featured_sku</th>\n",
       "      <th>is_display_sku</th>\n",
       "      <th>month</th>\n",
       "      <th>year</th>\n",
       "      <th>day_of_week</th>\n",
       "      <th>day_of_month</th>\n",
       "      <th>discount</th>\n",
       "      <th>actual_values_nrr</th>\n",
       "      <th>predicted_values_nrr</th>\n",
       "      <th>week</th>\n",
       "    </tr>\n",
       "  </thead>\n",
       "  <tbody>\n",
       "    <tr>\n",
       "      <th>0</th>\n",
       "      <td>29258</td>\n",
       "      <td>9112</td>\n",
       "      <td>216425</td>\n",
       "      <td>0.862128</td>\n",
       "      <td>0.566135</td>\n",
       "      <td>0</td>\n",
       "      <td>0</td>\n",
       "      <td>7</td>\n",
       "      <td>2011</td>\n",
       "      <td>0</td>\n",
       "      <td>11</td>\n",
       "      <td>0.0</td>\n",
       "      <td>5.0</td>\n",
       "      <td>21.0</td>\n",
       "      <td>2011-07-11</td>\n",
       "    </tr>\n",
       "    <tr>\n",
       "      <th>1</th>\n",
       "      <td>29238</td>\n",
       "      <td>9092</td>\n",
       "      <td>216425</td>\n",
       "      <td>1.112215</td>\n",
       "      <td>0.851553</td>\n",
       "      <td>0</td>\n",
       "      <td>0</td>\n",
       "      <td>7</td>\n",
       "      <td>2011</td>\n",
       "      <td>0</td>\n",
       "      <td>11</td>\n",
       "      <td>0.0</td>\n",
       "      <td>26.0</td>\n",
       "      <td>33.0</td>\n",
       "      <td>2011-07-11</td>\n",
       "    </tr>\n",
       "    <tr>\n",
       "      <th>2</th>\n",
       "      <td>29300</td>\n",
       "      <td>9164</td>\n",
       "      <td>216425</td>\n",
       "      <td>1.112215</td>\n",
       "      <td>0.851553</td>\n",
       "      <td>0</td>\n",
       "      <td>0</td>\n",
       "      <td>7</td>\n",
       "      <td>2011</td>\n",
       "      <td>0</td>\n",
       "      <td>11</td>\n",
       "      <td>0.0</td>\n",
       "      <td>14.0</td>\n",
       "      <td>16.0</td>\n",
       "      <td>2011-07-11</td>\n",
       "    </tr>\n",
       "    <tr>\n",
       "      <th>3</th>\n",
       "      <td>29274</td>\n",
       "      <td>9132</td>\n",
       "      <td>216425</td>\n",
       "      <td>0.695404</td>\n",
       "      <td>0.375856</td>\n",
       "      <td>0</td>\n",
       "      <td>0</td>\n",
       "      <td>7</td>\n",
       "      <td>2011</td>\n",
       "      <td>0</td>\n",
       "      <td>11</td>\n",
       "      <td>0.0</td>\n",
       "      <td>4.0</td>\n",
       "      <td>19.0</td>\n",
       "      <td>2011-07-11</td>\n",
       "    </tr>\n",
       "    <tr>\n",
       "      <th>4</th>\n",
       "      <td>29286</td>\n",
       "      <td>9147</td>\n",
       "      <td>216425</td>\n",
       "      <td>1.028853</td>\n",
       "      <td>0.756414</td>\n",
       "      <td>0</td>\n",
       "      <td>0</td>\n",
       "      <td>7</td>\n",
       "      <td>2011</td>\n",
       "      <td>0</td>\n",
       "      <td>11</td>\n",
       "      <td>0.0</td>\n",
       "      <td>54.0</td>\n",
       "      <td>27.0</td>\n",
       "      <td>2011-07-11</td>\n",
       "    </tr>\n",
       "  </tbody>\n",
       "</table>\n",
       "</div>"
      ],
      "text/plain": [
       "   index  store_id  sku_id  total_price  base_price  is_featured_sku  \\\n",
       "0  29258      9112  216425     0.862128    0.566135                0   \n",
       "1  29238      9092  216425     1.112215    0.851553                0   \n",
       "2  29300      9164  216425     1.112215    0.851553                0   \n",
       "3  29274      9132  216425     0.695404    0.375856                0   \n",
       "4  29286      9147  216425     1.028853    0.756414                0   \n",
       "\n",
       "   is_display_sku  month  year  day_of_week  day_of_month  discount  \\\n",
       "0               0      7  2011            0            11       0.0   \n",
       "1               0      7  2011            0            11       0.0   \n",
       "2               0      7  2011            0            11       0.0   \n",
       "3               0      7  2011            0            11       0.0   \n",
       "4               0      7  2011            0            11       0.0   \n",
       "\n",
       "   actual_values_nrr  predicted_values_nrr       week  \n",
       "0                5.0                  21.0 2011-07-11  \n",
       "1               26.0                  33.0 2011-07-11  \n",
       "2               14.0                  16.0 2011-07-11  \n",
       "3                4.0                  19.0 2011-07-11  \n",
       "4               54.0                  27.0 2011-07-11  "
      ]
     },
     "execution_count": 131,
     "metadata": {},
     "output_type": "execute_result"
    }
   ],
   "source": [
    "merged_nrr_df.head()"
   ]
  },
  {
   "cell_type": "code",
   "execution_count": 132,
   "id": "a2f60f15",
   "metadata": {},
   "outputs": [],
   "source": [
    "columns_to_drop_nrr = ['index', 'total_price', 'base_price', 'is_featured_sku', 'is_display_sku', 'month', 'year', 'day_of_week', 'day_of_month', 'discount']"
   ]
  },
  {
   "cell_type": "code",
   "execution_count": 133,
   "id": "3d933990",
   "metadata": {},
   "outputs": [],
   "source": [
    "merged_nrr_df = merged_nrr_df.drop(columns=columns_to_drop_nrr)"
   ]
  },
  {
   "cell_type": "code",
   "execution_count": 134,
   "id": "4b553d89",
   "metadata": {},
   "outputs": [
    {
     "data": {
      "text/html": [
       "<div>\n",
       "<style scoped>\n",
       "    .dataframe tbody tr th:only-of-type {\n",
       "        vertical-align: middle;\n",
       "    }\n",
       "\n",
       "    .dataframe tbody tr th {\n",
       "        vertical-align: top;\n",
       "    }\n",
       "\n",
       "    .dataframe thead th {\n",
       "        text-align: right;\n",
       "    }\n",
       "</style>\n",
       "<table border=\"1\" class=\"dataframe\">\n",
       "  <thead>\n",
       "    <tr style=\"text-align: right;\">\n",
       "      <th></th>\n",
       "      <th>store_id</th>\n",
       "      <th>sku_id</th>\n",
       "      <th>actual_values_nrr</th>\n",
       "      <th>predicted_values_nrr</th>\n",
       "      <th>week</th>\n",
       "    </tr>\n",
       "  </thead>\n",
       "  <tbody>\n",
       "    <tr>\n",
       "      <th>0</th>\n",
       "      <td>9112</td>\n",
       "      <td>216425</td>\n",
       "      <td>5.0</td>\n",
       "      <td>21.0</td>\n",
       "      <td>2011-07-11</td>\n",
       "    </tr>\n",
       "    <tr>\n",
       "      <th>1</th>\n",
       "      <td>9092</td>\n",
       "      <td>216425</td>\n",
       "      <td>26.0</td>\n",
       "      <td>33.0</td>\n",
       "      <td>2011-07-11</td>\n",
       "    </tr>\n",
       "    <tr>\n",
       "      <th>2</th>\n",
       "      <td>9164</td>\n",
       "      <td>216425</td>\n",
       "      <td>14.0</td>\n",
       "      <td>16.0</td>\n",
       "      <td>2011-07-11</td>\n",
       "    </tr>\n",
       "    <tr>\n",
       "      <th>3</th>\n",
       "      <td>9132</td>\n",
       "      <td>216425</td>\n",
       "      <td>4.0</td>\n",
       "      <td>19.0</td>\n",
       "      <td>2011-07-11</td>\n",
       "    </tr>\n",
       "    <tr>\n",
       "      <th>4</th>\n",
       "      <td>9147</td>\n",
       "      <td>216425</td>\n",
       "      <td>54.0</td>\n",
       "      <td>27.0</td>\n",
       "      <td>2011-07-11</td>\n",
       "    </tr>\n",
       "  </tbody>\n",
       "</table>\n",
       "</div>"
      ],
      "text/plain": [
       "   store_id  sku_id  actual_values_nrr  predicted_values_nrr       week\n",
       "0      9112  216425                5.0                  21.0 2011-07-11\n",
       "1      9092  216425               26.0                  33.0 2011-07-11\n",
       "2      9164  216425               14.0                  16.0 2011-07-11\n",
       "3      9132  216425                4.0                  19.0 2011-07-11\n",
       "4      9147  216425               54.0                  27.0 2011-07-11"
      ]
     },
     "execution_count": 134,
     "metadata": {},
     "output_type": "execute_result"
    }
   ],
   "source": [
    "merged_nrr_df.head()"
   ]
  },
  {
   "cell_type": "code",
   "execution_count": 135,
   "id": "c33bdfd1",
   "metadata": {},
   "outputs": [
    {
     "name": "stdout",
     "output_type": "stream",
     "text": [
      "<class 'pandas.core.frame.DataFrame'>\n",
      "RangeIndex: 1716 entries, 0 to 1715\n",
      "Data columns (total 5 columns):\n",
      " #   Column                Non-Null Count  Dtype         \n",
      "---  ------                --------------  -----         \n",
      " 0   store_id              1716 non-null   int64         \n",
      " 1   sku_id                1716 non-null   int64         \n",
      " 2   actual_values_nrr     1716 non-null   float64       \n",
      " 3   predicted_values_nrr  1716 non-null   float32       \n",
      " 4   week                  1716 non-null   datetime64[ns]\n",
      "dtypes: datetime64[ns](1), float32(1), float64(1), int64(2)\n",
      "memory usage: 60.5 KB\n"
     ]
    }
   ],
   "source": [
    "merged_nrr_df.info()"
   ]
  },
  {
   "cell_type": "code",
   "execution_count": 136,
   "id": "460670c7",
   "metadata": {},
   "outputs": [],
   "source": [
    "condition1_nrr = merged_nrr_df['sku_id']  == sku_id\n",
    "condition2_nrr = merged_nrr_df['store_id'] == store_id"
   ]
  },
  {
   "cell_type": "code",
   "execution_count": 137,
   "id": "165b833f",
   "metadata": {},
   "outputs": [
    {
     "data": {
      "text/html": [
       "<div>\n",
       "<style scoped>\n",
       "    .dataframe tbody tr th:only-of-type {\n",
       "        vertical-align: middle;\n",
       "    }\n",
       "\n",
       "    .dataframe tbody tr th {\n",
       "        vertical-align: top;\n",
       "    }\n",
       "\n",
       "    .dataframe thead th {\n",
       "        text-align: right;\n",
       "    }\n",
       "</style>\n",
       "<table border=\"1\" class=\"dataframe\">\n",
       "  <thead>\n",
       "    <tr style=\"text-align: right;\">\n",
       "      <th></th>\n",
       "      <th>store_id</th>\n",
       "      <th>sku_id</th>\n",
       "      <th>actual_values_nrr</th>\n",
       "      <th>predicted_values_nrr</th>\n",
       "      <th>week</th>\n",
       "    </tr>\n",
       "  </thead>\n",
       "  <tbody>\n",
       "    <tr>\n",
       "      <th>22</th>\n",
       "      <td>8091</td>\n",
       "      <td>216425</td>\n",
       "      <td>40.0</td>\n",
       "      <td>32.0</td>\n",
       "      <td>2011-07-11</td>\n",
       "    </tr>\n",
       "    <tr>\n",
       "      <th>88</th>\n",
       "      <td>8091</td>\n",
       "      <td>216425</td>\n",
       "      <td>38.0</td>\n",
       "      <td>24.0</td>\n",
       "      <td>2011-07-04</td>\n",
       "    </tr>\n",
       "    <tr>\n",
       "      <th>155</th>\n",
       "      <td>8091</td>\n",
       "      <td>216425</td>\n",
       "      <td>8.0</td>\n",
       "      <td>30.0</td>\n",
       "      <td>2011-06-27</td>\n",
       "    </tr>\n",
       "    <tr>\n",
       "      <th>220</th>\n",
       "      <td>8091</td>\n",
       "      <td>216425</td>\n",
       "      <td>5.0</td>\n",
       "      <td>24.0</td>\n",
       "      <td>2011-06-20</td>\n",
       "    </tr>\n",
       "    <tr>\n",
       "      <th>286</th>\n",
       "      <td>8091</td>\n",
       "      <td>216425</td>\n",
       "      <td>77.0</td>\n",
       "      <td>26.0</td>\n",
       "      <td>2011-06-13</td>\n",
       "    </tr>\n",
       "  </tbody>\n",
       "</table>\n",
       "</div>"
      ],
      "text/plain": [
       "     store_id  sku_id  actual_values_nrr  predicted_values_nrr       week\n",
       "22       8091  216425               40.0                  32.0 2011-07-11\n",
       "88       8091  216425               38.0                  24.0 2011-07-04\n",
       "155      8091  216425                8.0                  30.0 2011-06-27\n",
       "220      8091  216425                5.0                  24.0 2011-06-20\n",
       "286      8091  216425               77.0                  26.0 2011-06-13"
      ]
     },
     "execution_count": 137,
     "metadata": {},
     "output_type": "execute_result"
    }
   ],
   "source": [
    "merged_nrr_df = merged_nrr_df[(condition1_nrr.values) & (condition2_nrr.values)]\n",
    "merged_nrr_df.head()"
   ]
  },
  {
   "cell_type": "code",
   "execution_count": 138,
   "id": "1ba0e53b",
   "metadata": {},
   "outputs": [],
   "source": [
    "comp_nrr_df = merged_nrr_df"
   ]
  },
  {
   "cell_type": "code",
   "execution_count": 139,
   "id": "b756d4fc",
   "metadata": {},
   "outputs": [
    {
     "data": {
      "text/plain": [
       "[<matplotlib.lines.Line2D at 0x1fe37e94b90>]"
      ]
     },
     "execution_count": 139,
     "metadata": {},
     "output_type": "execute_result"
    },
    {
     "data": {
      "text/plain": [
       "[<matplotlib.lines.Line2D at 0x1fe37e82610>]"
      ]
     },
     "execution_count": 139,
     "metadata": {},
     "output_type": "execute_result"
    },
    {
     "data": {
      "text/plain": [
       "Text(0.5, 0, 'Weeks')"
      ]
     },
     "execution_count": 139,
     "metadata": {},
     "output_type": "execute_result"
    },
    {
     "data": {
      "text/plain": [
       "Text(0, 0.5, 'Demand')"
      ]
     },
     "execution_count": 139,
     "metadata": {},
     "output_type": "execute_result"
    },
    {
     "data": {
      "text/plain": [
       "Text(0.5, 1.0, 'Actutal Values Vs Predicted values')"
      ]
     },
     "execution_count": 139,
     "metadata": {},
     "output_type": "execute_result"
    },
    {
     "data": {
      "text/plain": [
       "<matplotlib.legend.Legend at 0x1fe37e6ded0>"
      ]
     },
     "execution_count": 139,
     "metadata": {},
     "output_type": "execute_result"
    },
    {
     "data": {
      "image/png": "[encoded data removed]",
      "text/plain": [
       "<Figure size 640x480 with 1 Axes>"
      ]
     },
     "metadata": {},
     "output_type": "display_data"
    }
   ],
   "source": [
    "# Create a figure and axis objects\n",
    "fig, ax = plt.subplots()\n",
    "\n",
    "# Plot two separate lines for each column\n",
    "ax.plot(comp_nrr_df['week'], comp_nrr_df['actual_values_nrr'], label='actual_values_nrr')\n",
    "ax.plot(comp_nrr_df['week'], comp_nrr_df['predicted_values_nrr'], label='predicted_values_nrr')\n",
    "\n",
    "# Set labels and title\n",
    "# Set labels and title\n",
    "ax.set_xlabel('Weeks')\n",
    "ax.set_ylabel('Demand')\n",
    "ax.set_title('Actutal Values Vs Predicted values')\n",
    "\n",
    "# Add legend\n",
    "ax.legend()\n",
    "\n",
    "# Store the plot in a variable\n",
    "comp_nrr = fig\n",
    "\n",
    "# Show the plot\n",
    "plt.show()"
   ]
  },
  {
   "cell_type": "code",
   "execution_count": 140,
   "id": "e92f0386",
   "metadata": {},
   "outputs": [
    {
     "data": {
      "image/png": "[encoded data removed]",
      "text/plain": [
       "<Figure size 640x480 with 1 Axes>"
      ]
     },
     "execution_count": 140,
     "metadata": {},
     "output_type": "execute_result"
    }
   ],
   "source": [
    "comp_nrr"
   ]
  },
  {
   "cell_type": "code",
   "execution_count": 141,
   "id": "235d9735",
   "metadata": {},
   "outputs": [
    {
     "data": {
      "text/plain": [
       "(0.5344433524328734, 0.6821222073064866)"
      ]
     },
     "execution_count": 141,
     "metadata": {},
     "output_type": "execute_result"
    }
   ],
   "source": [
    "rmse, rmse_nrr"
   ]
  },
  {
   "cell_type": "markdown",
   "id": "c6a06ca3",
   "metadata": {},
   "source": [
    "# Comparison of both the models - Random Forest Vs Recurrent Neural Network"
   ]
  },
  {
   "cell_type": "code",
   "execution_count": 142,
   "id": "283e1cb4",
   "metadata": {},
   "outputs": [
    {
     "name": "stdout",
     "output_type": "stream",
     "text": [
      "         Random Forest Recursive Neural Network\n",
      "RMSE              0.53                     0.68\n",
      "Accuracy         87.7%                   83.67%\n"
     ]
    }
   ],
   "source": [
    "# Create a DataFrame for evaluation\n",
    "rmse_rf = round(rmse,2)\n",
    "rmse_nrr = round(rmse_nrr,2)\n",
    "accuracy_rf = str(round(accuracy,2)) + \"%\"\n",
    "accuracy_nrr = str(round(accuracy_nrr,2)) + \"%\"\n",
    "\n",
    "data_evaluation = {\n",
    "    'Random Forest': [rmse_rf, accuracy_rf],\n",
    "    'Recursive Neural Network': [rmse_nrr,accuracy_nrr ],\n",
    "}\n",
    "\n",
    "index = ['RMSE', 'Accuracy']\n",
    "df_evaluation = pd.DataFrame(data_evaluation, index=index)\n",
    "\n",
    "# Display the DataFrame\n",
    "print(df_evaluation)"
   ]
  },
  {
   "cell_type": "markdown",
   "id": "e00dcb82",
   "metadata": {},
   "source": [
    "# Re-order Point"
   ]
  },
  {
   "cell_type": "code",
   "execution_count": 143,
   "id": "1f93de9a",
   "metadata": {},
   "outputs": [],
   "source": [
    "# Calculation of safety stock factor\n",
    "def calculate_safety_factor(desired_service_level, standard_deviation):\n",
    "    # Calculation Z-score corresponding to the desired service level\n",
    "    z_score = stats.norm.ppf(desired_service_level)\n",
    "    \n",
    "    #Calculate safety factor\n",
    "    safety_factor = z_score * standard_deviation\n",
    "    \n",
    "    return safety_factor"
   ]
  },
  {
   "cell_type": "code",
   "execution_count": 144,
   "id": "98e6a4c9",
   "metadata": {},
   "outputs": [],
   "source": [
    "# Get desired service level\n",
    "#desired_service_level = float(input(\"Enter desired service level (ex: 0.95 for 95%): \"))\n",
    "desired_service_level = 0.9"
   ]
  },
  {
   "cell_type": "code",
   "execution_count": 145,
   "id": "abcbbc5c",
   "metadata": {},
   "outputs": [],
   "source": [
    "# Calculation of standard_deviation\n",
    "filtered_df = df_processed[(df['store_id'] == store_id) & (df_processed['sku_id'] == sku_id)]\n",
    "standard_deviation = filtered_df['units_sold'].std()"
   ]
  },
  {
   "cell_type": "code",
   "execution_count": 146,
   "id": "0ea75c45",
   "metadata": {},
   "outputs": [],
   "source": [
    "# Calculation of re-order point\n",
    "def calculate_reorder_point (demand_forecast, lead_time, safety_factor):\n",
    "    average_demand = np.mean(demand_forecast)\n",
    "    demand_std = np.std(demand_forecast)\n",
    "    safety_stock = safety_factor * demand_std\n",
    "    safety_stock = safety_stock.round()\n",
    "    reorder_point = average_demand * lead_time + safety_stock\n",
    "    reorder_point = reorder_point.round()\n",
    "    return reorder_point, safety_stock"
   ]
  },
  {
   "cell_type": "code",
   "execution_count": 147,
   "id": "6f4d742b",
   "metadata": {},
   "outputs": [],
   "source": [
    "# Get user input for sku_id\n",
    "#lead_time = int(input(\"Enter lead time in weeks: \"))\n",
    "lead_time = 2"
   ]
  },
  {
   "cell_type": "code",
   "execution_count": 148,
   "id": "b4fd6b44",
   "metadata": {},
   "outputs": [
    {
     "data": {
      "text/html": [
       "<div>\n",
       "<style scoped>\n",
       "    .dataframe tbody tr th:only-of-type {\n",
       "        vertical-align: middle;\n",
       "    }\n",
       "\n",
       "    .dataframe tbody tr th {\n",
       "        vertical-align: top;\n",
       "    }\n",
       "\n",
       "    .dataframe thead th {\n",
       "        text-align: right;\n",
       "    }\n",
       "</style>\n",
       "<table border=\"1\" class=\"dataframe\">\n",
       "  <thead>\n",
       "    <tr style=\"text-align: right;\">\n",
       "      <th></th>\n",
       "      <th>week</th>\n",
       "      <th>store_id</th>\n",
       "      <th>sku_id</th>\n",
       "      <th>actual_values_rf</th>\n",
       "      <th>predicted_values_rf</th>\n",
       "    </tr>\n",
       "  </thead>\n",
       "  <tbody>\n",
       "    <tr>\n",
       "      <th>22</th>\n",
       "      <td>2011-07-11</td>\n",
       "      <td>8091</td>\n",
       "      <td>216425</td>\n",
       "      <td>22.0</td>\n",
       "      <td>18.0</td>\n",
       "    </tr>\n",
       "    <tr>\n",
       "      <th>88</th>\n",
       "      <td>2011-07-04</td>\n",
       "      <td>8091</td>\n",
       "      <td>216425</td>\n",
       "      <td>17.0</td>\n",
       "      <td>16.0</td>\n",
       "    </tr>\n",
       "    <tr>\n",
       "      <th>155</th>\n",
       "      <td>2011-06-27</td>\n",
       "      <td>8091</td>\n",
       "      <td>216425</td>\n",
       "      <td>27.0</td>\n",
       "      <td>18.0</td>\n",
       "    </tr>\n",
       "    <tr>\n",
       "      <th>220</th>\n",
       "      <td>2011-06-20</td>\n",
       "      <td>8091</td>\n",
       "      <td>216425</td>\n",
       "      <td>53.0</td>\n",
       "      <td>33.0</td>\n",
       "    </tr>\n",
       "    <tr>\n",
       "      <th>286</th>\n",
       "      <td>2011-06-13</td>\n",
       "      <td>8091</td>\n",
       "      <td>216425</td>\n",
       "      <td>58.0</td>\n",
       "      <td>31.0</td>\n",
       "    </tr>\n",
       "  </tbody>\n",
       "</table>\n",
       "</div>"
      ],
      "text/plain": [
       "          week  store_id  sku_id  actual_values_rf  predicted_values_rf\n",
       "22  2011-07-11      8091  216425              22.0                 18.0\n",
       "88  2011-07-04      8091  216425              17.0                 16.0\n",
       "155 2011-06-27      8091  216425              27.0                 18.0\n",
       "220 2011-06-20      8091  216425              53.0                 33.0\n",
       "286 2011-06-13      8091  216425              58.0                 31.0"
      ]
     },
     "execution_count": 148,
     "metadata": {},
     "output_type": "execute_result"
    }
   ],
   "source": [
    "comp_rf_df.head()"
   ]
  },
  {
   "cell_type": "code",
   "execution_count": 155,
   "id": "cc6cb6fd",
   "metadata": {},
   "outputs": [],
   "source": [
    "# Selection of model based on RMSE\n",
    "if rmse_rf <= rmse_nrr:\n",
    "    demand_forecast = pd.concat([X_test, actual_values_rf, predicted_values_rf], axis = 1)\n",
    "    demand_forecast['predicted_values_rf'] = demand_forecast['predicted_values_rf'].round(0)\n",
    "    demand_forecast = demand_forecast[(condition1_rf.values) & (condition2_rf.values)]\n",
    "    demand_forecast = demand_forecast['predicted_values_rf']\n",
    "    demand_forecast = demand_forecast.values\n",
    "else:\n",
    "    demand_forecast = pd.concat([X_nrr_df_test, actual_values_nrr, predicted_values_nrr], axis = 1)\n",
    "    demand_forecast['predicted_values_nrr'] = demand_forecast['predicted_values_nrr'].round(0)\n",
    "    demand_forecast = demand_forecast[(condition1_nrr.values) & (condition2_nrr.values)]\n",
    "    demand_forecast = demand_forecast['predicted_values_nrr']\n",
    "    demand_forecast = demand_forecast.values"
   ]
  },
  {
   "cell_type": "code",
   "execution_count": 156,
   "id": "f10bec4c",
   "metadata": {},
   "outputs": [],
   "source": [
    "safety_factor = calculate_safety_factor(desired_service_level, standard_deviation)"
   ]
  },
  {
   "cell_type": "code",
   "execution_count": 158,
   "id": "579007ef",
   "metadata": {},
   "outputs": [],
   "source": [
    "reorder_point = calculate_reorder_point (demand_forecast, lead_time, safety_factor)"
   ]
  },
  {
   "cell_type": "code",
   "execution_count": 159,
   "id": "f288527f",
   "metadata": {},
   "outputs": [
    {
     "data": {
      "text/plain": [
       "(69.0, 10.0)"
      ]
     },
     "execution_count": 159,
     "metadata": {},
     "output_type": "execute_result"
    }
   ],
   "source": [
    "reorder_point"
   ]
  }
 ],
 "metadata": {
  "kernelspec": {
   "display_name": "Python 3 (ipykernel)",
   "language": "python",
   "name": "python3"
  },
  "language_info": {
   "codemirror_mode": {
    "name": "ipython",
    "version": 3
   },
   "file_extension": ".py",
   "mimetype": "text/x-python",
   "name": "python",
   "nbconvert_exporter": "python",
   "pygments_lexer": "ipython3",
   "version": "3.11.5"
  }
 },
 "nbformat": 4,
 "nbformat_minor": 5
}
