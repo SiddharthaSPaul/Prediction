{
 "cells": [
  {
   "cell_type": "markdown",
   "id": "867cbde5",
   "metadata": {},
   "source": [
    "# Import libraries and data"
   ]
  },
  {
   "cell_type": "code",
   "execution_count": 1,
   "id": "8097987a",
   "metadata": {},
   "outputs": [],
   "source": [
    "# To print multiple output in a cell\n",
    "from IPython.core.interactiveshell import InteractiveShell\n",
    "InteractiveShell.ast_node_interactivity = 'all'"
   ]
  },
  {
   "cell_type": "code",
   "execution_count": 2,
   "id": "ece7fc6a",
   "metadata": {},
   "outputs": [
    {
     "ename": "ModuleNotFoundError",
     "evalue": "No module named 'dash'",
     "output_type": "error",
     "traceback": [
      "\u001b[1;31m---------------------------------------------------------------------------\u001b[0m",
      "\u001b[1;31mModuleNotFoundError\u001b[0m                       Traceback (most recent call last)",
      "Cell \u001b[1;32mIn[2], line 14\u001b[0m\n\u001b[0;32m     12\u001b[0m \u001b[38;5;28;01mimport\u001b[39;00m \u001b[38;5;21;01mscipy\u001b[39;00m\u001b[38;5;21;01m.\u001b[39;00m\u001b[38;5;21;01mstats\u001b[39;00m \u001b[38;5;28;01mas\u001b[39;00m \u001b[38;5;21;01mstats\u001b[39;00m \u001b[38;5;66;03m# Statistical analysis\u001b[39;00m\n\u001b[0;32m     13\u001b[0m \u001b[38;5;28;01mimport\u001b[39;00m \u001b[38;5;21;01mpylab\u001b[39;00m \u001b[38;5;66;03m# For plotting\u001b[39;00m\n\u001b[1;32m---> 14\u001b[0m \u001b[38;5;28;01mimport\u001b[39;00m \u001b[38;5;21;01mdash\u001b[39;00m\n\u001b[0;32m     15\u001b[0m \u001b[38;5;28;01mimport\u001b[39;00m \u001b[38;5;21;01mdash_core_components\u001b[39;00m \u001b[38;5;28;01mas\u001b[39;00m \u001b[38;5;21;01mdcc\u001b[39;00m\n\u001b[0;32m     16\u001b[0m \u001b[38;5;28;01mimport\u001b[39;00m \u001b[38;5;21;01mdash_html_components\u001b[39;00m \u001b[38;5;28;01mas\u001b[39;00m \u001b[38;5;21;01mhtml\u001b[39;00m\n",
      "\u001b[1;31mModuleNotFoundError\u001b[0m: No module named 'dash'"
     ]
    }
   ],
   "source": [
    "# Import all required libraries\n",
    "import pandas as pd # Data manipulation and analysis library\n",
    "from statsmodels.tsa.seasonal import seasonal_decompose # Seasonal decomposition to check seasonality\n",
    "from sklearn.feature_selection import RFE # RFE (Recursive Feature Elimination) is for feature selection\n",
    "from sklearn.ensemble import RandomForestRegressor # Random forest modelling\n",
    "import numpy as np # For arrays and mathematical operations\n",
    "from statsmodels.tsa.stattools import adfuller # Dickey-fuller testto check stationarity of data\n",
    "from sklearn.metrics import mean_squared_error # For evaluating the model\n",
    "from sklearn.preprocessing import LabelEncoder # To encode categorical integer features\n",
    "import matplotlib.pyplot as plt # For plotting\n",
    "import seaborn as sns # Statistical data visualization\n",
    "import scipy.stats as stats # Statistical analysis\n",
    "import pylab # For plotting\n",
    "import dash\n",
    "import dash_core_components as dcc\n",
    "import dash_html_components as html\n",
    "from dash.dependencies import Input, Output\n",
    "import plotly.graph_objs as go\n",
    "import plotly.express as px\n",
    "import warnings # To handle warnings\n",
    "warnings.filterwarnings(\"ignore\") # Ignore all warings\n",
    "from statsmodels.tsa.statespace.sarimax import SARIMAX # To do SARIMAX\n",
    "from sklearn.model_selection import train_test_split # To split into train and test data set\n",
    "from sklearn.preprocessing import StandardScaler # For RNN: Recursive neural network\n",
    "from keras.models import Sequential # For RNN\n",
    "from keras.layers import LSTM, Dense, Dropout # For RNN\n",
    "from keras.optimizers import Adam # For RNN"
   ]
  },
  {
   "cell_type": "code",
   "execution_count": null,
   "id": "cba96e44",
   "metadata": {},
   "outputs": [],
   "source": [
    "# Ignore all warings\n",
    "warnings.filterwarnings(\"ignore\")"
   ]
  },
  {
   "cell_type": "code",
   "execution_count": null,
   "id": "58afcf9b",
   "metadata": {},
   "outputs": [],
   "source": [
    "# Import data\n",
    "# Import data\n",
    "file_path = '/Users/deepakvarier/Downloads/hackathon_data'\n",
    "date_format = \"%d/%m/%y\"\n",
    "df = pd.read_csv(file_path+'/train.csv', sep = ',', parse_dates = ['week'], date_parser = lambda x: pd.to_datetime(x, format = date_format))"
   ]
  },
  {
   "cell_type": "markdown",
   "id": "1fb7fe67",
   "metadata": {},
   "source": [
    "# Data cleaning"
   ]
  },
  {
   "cell_type": "code",
   "execution_count": null,
   "id": "601fee48",
   "metadata": {},
   "outputs": [],
   "source": [
    "# Characteristics of data\n",
    "df.head()\n",
    "df.shape\n",
    "df.info()"
   ]
  },
  {
   "cell_type": "code",
   "execution_count": null,
   "id": "3aab5372",
   "metadata": {},
   "outputs": [],
   "source": [
    "df_max_week = df['week'].max()"
   ]
  },
  {
   "cell_type": "code",
   "execution_count": null,
   "id": "22df1928",
   "metadata": {},
   "outputs": [],
   "source": [
    "df_min_week = df['week'].min()"
   ]
  },
  {
   "cell_type": "code",
   "execution_count": null,
   "id": "6b70cc8a",
   "metadata": {},
   "outputs": [],
   "source": [
    "# Check null values in the data\n",
    "df.isnull().sum()"
   ]
  },
  {
   "cell_type": "code",
   "execution_count": null,
   "id": "dd303165",
   "metadata": {},
   "outputs": [],
   "source": [
    "# Since total no. of rows = 150150 and the null value is only in 1 row, therefore, we will remove the null row\n",
    "# Calculate the total number of rows\n",
    "total_rows = len(df)\n",
    "# Calculate the number of rows with missing values\n",
    "na_rows = df.isna().any(axis=1).sum()\n",
    "if na_rows < total_rows * 0.01:\n",
    "    df.dropna(inplace=True)\n",
    "else:\n",
    "    # Fill missing values with the average of store_id and sku_id combination\n",
    "    df.fillna(df.groupby(['store_id', 'sku_id']).transform('mean'), inplace=True)\n",
    "df.isnull().sum()"
   ]
  },
  {
   "cell_type": "code",
   "execution_count": null,
   "id": "e191446c",
   "metadata": {},
   "outputs": [],
   "source": [
    "# Checking whether there are rows where the total_price or units_sold <=0\n",
    "df.shape\n",
    "df['total_price'].loc[df['total_price']<=0].count()\n",
    "df['units_sold'].loc[df['units_sold']<=0].count()"
   ]
  },
  {
   "cell_type": "code",
   "execution_count": null,
   "id": "ecc4acda",
   "metadata": {},
   "outputs": [],
   "source": [
    "# Delete rows with negative rows\n",
    "con1 = df['units_sold']<=0\n",
    "con2 = df['total_price']<=0\n",
    "df = df[~(con1 & con2)]\n",
    "df.shape"
   ]
  },
  {
   "cell_type": "code",
   "execution_count": null,
   "id": "2054cbe3",
   "metadata": {},
   "outputs": [],
   "source": [
    "# Dropping duplicates if any\n",
    "df.shape\n",
    "df = df.drop_duplicates(['week', 'store_id', 'sku_id'])\n",
    "df.shape"
   ]
  },
  {
   "cell_type": "code",
   "execution_count": null,
   "id": "07a067c9",
   "metadata": {},
   "outputs": [],
   "source": [
    "# Sort dataframe by date column in chronological order\n",
    "df = df.sort_values(by='week', ascending=False)\n",
    "df.head()"
   ]
  },
  {
   "cell_type": "markdown",
   "id": "10fbd88d",
   "metadata": {},
   "source": [
    "# Data Selection (Partly)"
   ]
  },
  {
   "cell_type": "code",
   "execution_count": null,
   "id": "2b75708f",
   "metadata": {},
   "outputs": [],
   "source": [
    "# Function to create data frame for the selected store_id and sku_id\n",
    "def create_dataframe(sku_id, df):\n",
    "    # Filter the data for the specified store_id and sku_id\n",
    "    filtered_data = df[(df['sku_id'] == sku_id)]\n",
    "\n",
    "    # If no data is found for the specified sku_id, return None\n",
    "    if filtered_data.empty:\n",
    "        print(\"No data found for the specified sku_id.\")\n",
    "        return None\n",
    "\n",
    "    return filtered_data"
   ]
  },
  {
   "cell_type": "code",
   "execution_count": null,
   "id": "093f17cd",
   "metadata": {},
   "outputs": [],
   "source": [
    "# Get user input for sku_id\n",
    "sku_id = int(input(\"Enter sku_id: \"))\n",
    "store_id = int(input(\"Enter store_id: \"))\n",
    "\n",
    "#sku_id=216425"
   ]
  },
  {
   "cell_type": "code",
   "execution_count": null,
   "id": "d26a6b5a",
   "metadata": {},
   "outputs": [],
   "source": [
    "type(sku_id)"
   ]
  },
  {
   "cell_type": "code",
   "execution_count": null,
   "id": "c61a03ba",
   "metadata": {},
   "outputs": [],
   "source": [
    "# Call the function with user inputs to create dataframe of selected store_id and sku_id\n",
    "df_selected = create_dataframe(sku_id,df)\n",
    "if df_selected is not None:\n",
    "    df_selected.head()\n",
    "    df_selected.shape"
   ]
  },
  {
   "cell_type": "code",
   "execution_count": null,
   "id": "57a9dd9b",
   "metadata": {},
   "outputs": [],
   "source": [
    "#df_selected = df_selected.drop(columns=['record_ID', 'store_id'])"
   ]
  },
  {
   "cell_type": "code",
   "execution_count": null,
   "id": "f394e619",
   "metadata": {},
   "outputs": [],
   "source": [
    "df_selected.head()"
   ]
  },
  {
   "cell_type": "code",
   "execution_count": null,
   "id": "9625818b",
   "metadata": {},
   "outputs": [],
   "source": [
    "# Group by sku_id and week and perform aggregation\n",
    "#df_selected = df.groupby(['sku_id','week']).agg({\n",
    "#    'total_price': 'mean',\n",
    "#    'base_price': 'mean',\n",
    "#    'is_featured_sku': 'max',\n",
    "#    'is_display_sku': 'max',\n",
    "#    'units_sold': 'sum'\n",
    "#}).reset_index()\n",
    "\n",
    "# Print the aggregated DataFrame\n",
    "#print(df_selected)"
   ]
  },
  {
   "cell_type": "markdown",
   "id": "1781cf8e",
   "metadata": {},
   "source": [
    "# Data Pre-processing"
   ]
  },
  {
   "cell_type": "code",
   "execution_count": null,
   "id": "554a2094",
   "metadata": {},
   "outputs": [],
   "source": [
    "# Pre-processing the data\n",
    "def preprocess_data(df):\n",
    "    # Convert 'week' column to datetime type and extract seasonality features\n",
    "    df['week'] = pd.to_datetime(df['week'])\n",
    "    df['month'] = df['week'].dt.month\n",
    "    df['year'] = df['week'].dt.year\n",
    "    df['day_of_week'] = df['week'].dt.dayofweek\n",
    "    df['day_of_month'] = df['week'].dt.day\n",
    "    df['discount'] = df['base_price'] - df['total_price']\n",
    "    # Encode categorical variables 'is_featured_sku' and 'is_display_sku'\n",
    "    label_encoder = LabelEncoder()\n",
    "    df['is_featured_sku'] = label_encoder.fit_transform(df['is_featured_sku'])\n",
    "    df['is_display_sku'] = label_encoder.fit_transform(df['is_display_sku'])\n",
    "    \n",
    "    return df"
   ]
  },
  {
   "cell_type": "code",
   "execution_count": null,
   "id": "468c0d0c",
   "metadata": {},
   "outputs": [],
   "source": [
    "# Call the function to pre-process the data\n",
    "df_processed = preprocess_data(df_selected)"
   ]
  },
  {
   "cell_type": "code",
   "execution_count": null,
   "id": "cf8f1c30",
   "metadata": {},
   "outputs": [],
   "source": [
    "df_processed.head()"
   ]
  },
  {
   "cell_type": "code",
   "execution_count": null,
   "id": "4d5eac87",
   "metadata": {},
   "outputs": [],
   "source": [
    "#df_processed.drop(['week'], inplace=True, axis = 1)"
   ]
  },
  {
   "cell_type": "code",
   "execution_count": null,
   "id": "125fefb4",
   "metadata": {},
   "outputs": [],
   "source": [
    "df_processed.head()"
   ]
  },
  {
   "cell_type": "code",
   "execution_count": null,
   "id": "c69940ac",
   "metadata": {},
   "outputs": [],
   "source": [
    "# Check if the data is stationary\n",
    "result = adfuller(df_processed['units_sold'].dropna())\n",
    "# Print the test statistic and p-value\n",
    "print('ADF Statistic:', result[0])\n",
    "print('p-value:', result[1])"
   ]
  },
  {
   "cell_type": "code",
   "execution_count": null,
   "id": "842bcd25",
   "metadata": {},
   "outputs": [],
   "source": [
    "# Since the p-value is below 0.05,\n",
    "# the data can be assumed to be stationary hence we can proceed with the data without any transformation."
   ]
  },
  {
   "cell_type": "code",
   "execution_count": null,
   "id": "7e12d333",
   "metadata": {},
   "outputs": [],
   "source": [
    "df_processed.shape"
   ]
  },
  {
   "cell_type": "code",
   "execution_count": null,
   "id": "eba71f3d",
   "metadata": {},
   "outputs": [],
   "source": [
    "df_processed['units_sold'].skew()"
   ]
  },
  {
   "cell_type": "code",
   "execution_count": null,
   "id": "f88db18d",
   "metadata": {},
   "outputs": [],
   "source": [
    "# units sold is highly positively skewed since skewness > 1"
   ]
  },
  {
   "cell_type": "code",
   "execution_count": null,
   "id": "3b821fdc",
   "metadata": {},
   "outputs": [],
   "source": [
    "df_processed.units_sold.hist()"
   ]
  },
  {
   "cell_type": "code",
   "execution_count": null,
   "id": "722c336b",
   "metadata": {},
   "outputs": [],
   "source": [
    "sns.kdeplot(df_processed.units_sold)"
   ]
  },
  {
   "cell_type": "code",
   "execution_count": null,
   "id": "f2e11038",
   "metadata": {},
   "outputs": [],
   "source": [
    "plt.figure(figsize=(16,5))\n",
    "plt.subplot(1,2,1)\n",
    "sns.distplot(df_processed['units_sold'])\n",
    "plt.show()"
   ]
  },
  {
   "cell_type": "code",
   "execution_count": null,
   "id": "8fbfd9a5",
   "metadata": {},
   "outputs": [],
   "source": [
    "# Q-Q plot\n",
    "stats.probplot(df_processed.units_sold, plot = pylab)"
   ]
  },
  {
   "cell_type": "code",
   "execution_count": null,
   "id": "cd236f46",
   "metadata": {},
   "outputs": [],
   "source": [
    "# Tail of the data\n",
    "df_processed.loc[df_processed['store_id']==store_id].tail()"
   ]
  },
  {
   "cell_type": "code",
   "execution_count": null,
   "id": "f1e824e3",
   "metadata": {},
   "outputs": [],
   "source": [
    "# Logarithmic transformation of data\n",
    "df_processed['units_sold'] = np.log(df_processed['units_sold'])"
   ]
  },
  {
   "cell_type": "code",
   "execution_count": null,
   "id": "54528f77",
   "metadata": {},
   "outputs": [],
   "source": [
    "# Tail of the data\n",
    "df_processed.loc[df_processed['store_id']==store_id].tail()"
   ]
  },
  {
   "cell_type": "code",
   "execution_count": null,
   "id": "bfc22b33",
   "metadata": {},
   "outputs": [],
   "source": [
    "df_processed['units_sold'].skew()"
   ]
  },
  {
   "cell_type": "code",
   "execution_count": null,
   "id": "840af018",
   "metadata": {},
   "outputs": [],
   "source": [
    "plt.figure(figsize=(16,5))\n",
    "plt.subplot(1,2,1)\n",
    "sns.distplot(df_processed['units_sold'])\n",
    "plt.subplot(1,2,2)\n",
    "stats.probplot(df_processed['units_sold'], plot = pylab)\n",
    "plt.show()"
   ]
  },
  {
   "cell_type": "code",
   "execution_count": null,
   "id": "3088f233",
   "metadata": {},
   "outputs": [],
   "source": [
    "# Finding the boundary values\n",
    "UL = df_processed['units_sold'].mean() + 3*df_processed['units_sold'].std()\n",
    "LL = df_processed['units_sold'].mean() - 3*df_processed['units_sold'].std()\n",
    "UL\n",
    "LL"
   ]
  },
  {
   "cell_type": "code",
   "execution_count": null,
   "id": "7a6aefa3",
   "metadata": {},
   "outputs": [],
   "source": [
    "df_processed.shape"
   ]
  },
  {
   "cell_type": "code",
   "execution_count": null,
   "id": "ce0ac8f0",
   "metadata": {},
   "outputs": [],
   "source": [
    "df_processed['units_sold'].loc[df_processed['units_sold']<LL].count()"
   ]
  },
  {
   "cell_type": "code",
   "execution_count": null,
   "id": "677cf9d9",
   "metadata": {},
   "outputs": [],
   "source": [
    "df_processed['units_sold'].loc[df_processed['units_sold']>UL].count()"
   ]
  },
  {
   "cell_type": "code",
   "execution_count": null,
   "id": "01e52893",
   "metadata": {},
   "outputs": [],
   "source": [
    "# Removing outliers\n",
    "condition1 = df_processed['units_sold']>UL\n",
    "condition2 = df_processed['units_sold']<LL\n",
    "df_processed = df_processed[~(condition1 & condition2)]"
   ]
  },
  {
   "cell_type": "markdown",
   "id": "efd7bbe3",
   "metadata": {},
   "source": [
    "# Understanding the components of the data"
   ]
  },
  {
   "cell_type": "code",
   "execution_count": null,
   "id": "42e8b00c",
   "metadata": {},
   "outputs": [],
   "source": [
    "# Seasonal decompose\n",
    "df_processed.head()"
   ]
  },
  {
   "cell_type": "code",
   "execution_count": null,
   "id": "606f1f4b",
   "metadata": {},
   "outputs": [],
   "source": [
    "# Pre-processing for seasonal decompose\n",
    "df_seasonal_decompose = df_processed\n",
    "df_seasonal_decompose['week'] = pd.to_datetime(df_seasonal_decompose['week'])\n",
    "df_seasonal_decompose = df_seasonal_decompose.set_index('week')\n",
    "#store_id=8091\n",
    "df_seasonal_decompose = df_seasonal_decompose[df_seasonal_decompose['store_id'] == store_id]"
   ]
  },
  {
   "cell_type": "code",
   "execution_count": null,
   "id": "41f1a95d",
   "metadata": {},
   "outputs": [],
   "source": [
    "# Seasonal decomposition\n",
    "result_seasonal_decompose = seasonal_decompose(df_seasonal_decompose['units_sold'], model='additive', period=52)  # Assuming weekly seasonality"
   ]
  },
  {
   "cell_type": "code",
   "execution_count": null,
   "id": "7ded3971",
   "metadata": {},
   "outputs": [],
   "source": [
    "# Plot the decomposition\n",
    "plt.figure(figsize=(12, 8))\n",
    "plt.subplot(411)\n",
    "plt.plot(df_seasonal_decompose['units_sold'], label='Original')\n",
    "plt.legend(loc='upper left')\n",
    "plt.subplot(412)\n",
    "plt.plot(result_seasonal_decompose.trend, label='Trend')\n",
    "plt.legend(loc='upper left')\n",
    "plt.subplot(413)\n",
    "plt.plot(result_seasonal_decompose.seasonal, label='Seasonal')\n",
    "plt.legend(loc='upper left')\n",
    "plt.subplot(414)\n",
    "plt.plot(result_seasonal_decompose.resid, label='Residual')\n",
    "plt.legend(loc='upper left')\n",
    "plt.tight_layout()\n",
    "plt.show()"
   ]
  },
  {
   "cell_type": "code",
   "execution_count": null,
   "id": "a2e70429",
   "metadata": {},
   "outputs": [],
   "source": [
    "# Calculate metrics\n",
    "#trend_mean = result.trend.mean()  # Mean of the trend component\n",
    "#seasonal_mean = result.seasonal.mean()  # Mean of the seasonal component\n",
    "#residual_std = result.resid.std()  # Standard deviation of the residual component\n",
    "\n",
    "# Print insights\n",
    "#print(\"Insights from Seasonal Decomposition:\")\n",
    "#print(f\"Mean of Trend Component: {trend_mean}\")\n",
    "#print(f\"Mean of Seasonal Component: {seasonal_mean}\")\n",
    "#print(f\"Standard Deviation of Residual Component: {residual_std}\")"
   ]
  },
  {
   "cell_type": "markdown",
   "id": "9000ef4d",
   "metadata": {},
   "source": [
    "# Random Forest"
   ]
  },
  {
   "cell_type": "code",
   "execution_count": null,
   "id": "0f418d48",
   "metadata": {},
   "outputs": [],
   "source": [
    "# Calculate the number of rows for testing\n",
    "test_size = int(len(df_processed)*0.2)\n",
    "end_point = len(df_processed)\n",
    "x = end_point - test_size"
   ]
  },
  {
   "cell_type": "code",
   "execution_count": null,
   "id": "b5b2f51d",
   "metadata": {},
   "outputs": [],
   "source": [
    "df_processed.shape\n",
    "test_size\n",
    "end_point\n",
    "x"
   ]
  },
  {
   "cell_type": "code",
   "execution_count": null,
   "id": "3d48f48f",
   "metadata": {},
   "outputs": [],
   "source": [
    "# Split into train and test\n",
    "df_processed_train = df_processed.iloc[:x - 1]\n",
    "df_processed_test = df_processed.iloc[x:]"
   ]
  },
  {
   "cell_type": "code",
   "execution_count": null,
   "id": "fc879ebd",
   "metadata": {},
   "outputs": [],
   "source": [
    "max_training_week = df_processed_train['week'].max()\n",
    "min_training_week = df_processed_train['week'].min()"
   ]
  },
  {
   "cell_type": "code",
   "execution_count": null,
   "id": "82ad4a53",
   "metadata": {},
   "outputs": [],
   "source": [
    "# Check shape of test and train\n",
    "df_processed_train.shape\n",
    "df_processed_test.shape"
   ]
  },
  {
   "cell_type": "code",
   "execution_count": null,
   "id": "24c2b50a",
   "metadata": {},
   "outputs": [],
   "source": [
    "# Processed data\n",
    "df_processed_train.head()\n",
    "df_processed_test.head()"
   ]
  },
  {
   "cell_type": "code",
   "execution_count": null,
   "id": "0b80f28a",
   "metadata": {},
   "outputs": [],
   "source": [
    "X_test = df_processed_test.loc[:, df_processed_test.columns != 'units_sold']\n",
    "y_test = df_processed_test[['units_sold']]\n",
    "X_train = df_processed_train.loc[:, df_processed_train.columns != 'units_sold']\n",
    "y_train = df_processed_train[['units_sold']]"
   ]
  },
  {
   "cell_type": "code",
   "execution_count": null,
   "id": "d0ecc69f",
   "metadata": {},
   "outputs": [],
   "source": [
    "X_test.head()\n",
    "y_test.head()\n",
    "X_train.head()\n",
    "y_train.head()"
   ]
  },
  {
   "cell_type": "code",
   "execution_count": null,
   "id": "44762b87",
   "metadata": {},
   "outputs": [],
   "source": [
    "X_test.reset_index(drop=True, inplace=True)\n",
    "y_test.reset_index(drop=True, inplace=True)\n",
    "X_train.reset_index(drop=True, inplace=True)\n",
    "y_train.reset_index(drop=True, inplace=True)"
   ]
  },
  {
   "cell_type": "code",
   "execution_count": null,
   "id": "5d100330",
   "metadata": {},
   "outputs": [],
   "source": [
    "X_test_sarimax = X_test\n",
    "y_test_sarimax = y_test\n",
    "X_train_sarimax = X_train\n",
    "y_train_sarimax = y_train"
   ]
  },
  {
   "cell_type": "code",
   "execution_count": null,
   "id": "b517472f",
   "metadata": {},
   "outputs": [],
   "source": [
    "X_test.head()\n",
    "y_test.head()\n",
    "X_train.head()\n",
    "y_train.head()"
   ]
  },
  {
   "cell_type": "code",
   "execution_count": null,
   "id": "2e1b5315",
   "metadata": {},
   "outputs": [],
   "source": [
    "type(y_test)"
   ]
  },
  {
   "cell_type": "code",
   "execution_count": null,
   "id": "f569f97b",
   "metadata": {},
   "outputs": [],
   "source": [
    "type(X_test)"
   ]
  },
  {
   "cell_type": "code",
   "execution_count": null,
   "id": "2b145eb0",
   "metadata": {},
   "outputs": [],
   "source": [
    "X_test.set_index('week', inplace=True)\n",
    "X_train.set_index('week', inplace=True)"
   ]
  },
  {
   "cell_type": "code",
   "execution_count": null,
   "id": "0837aa89",
   "metadata": {},
   "outputs": [],
   "source": [
    "def train_random_forest(X_train, y_train):\n",
    "    # Creating a Random Forest regressor\n",
    "    #rf_regressor = RandomForestRegressor(n_estimators=100, random_state=42)\n",
    "\n",
    "    # Training the model\n",
    "    #rf_regressor.fit(X_train, y_train)\n",
    "\n",
    "    # Making predictions on the testing set\n",
    "    rf_regressor = RandomForestRegressor(n_estimators=100, random_state=42)\n",
    "    rf_regressor = RFE(estimator = rf_regressor, n_features_to_select=7)\n",
    "    fit = rf_regressor.fit(X_train, y_train)\n",
    "    y_pred = fit.predict(X_test)\n",
    "    selected_features = X_train.columns[rf_regressor.support_]\n",
    "    print(\"Selected Features:\",selected_features)\n",
    "    \n",
    "    return y_pred, fit"
   ]
  },
  {
   "cell_type": "code",
   "execution_count": null,
   "id": "65373fd6",
   "metadata": {},
   "outputs": [],
   "source": [
    "y_pred, fit = train_random_forest(X_train,y_train)"
   ]
  },
  {
   "cell_type": "code",
   "execution_count": null,
   "id": "b40b8f74",
   "metadata": {},
   "outputs": [],
   "source": [
    "y_pred"
   ]
  },
  {
   "cell_type": "markdown",
   "id": "bb262edf",
   "metadata": {},
   "source": [
    "# Evaluate Random Forest Model"
   ]
  },
  {
   "cell_type": "code",
   "execution_count": null,
   "id": "b8b1e11b",
   "metadata": {},
   "outputs": [],
   "source": [
    "#Evaluate accuracy using MAPE\n",
    "y_true = np.array(y_test['units_sold'])\n",
    "sumvalue=np.sum(y_true)\n",
    "mape=np.sum(np.abs((y_true - y_pred)))/sumvalue*100\n",
    "accuracy=100-mape\n",
    "print('Accuracy:', round(accuracy,2),'%.')"
   ]
  },
  {
   "cell_type": "code",
   "execution_count": null,
   "id": "7d2ab269",
   "metadata": {},
   "outputs": [],
   "source": [
    "# Find RMSE\n",
    "mse = mean_squared_error(y_test, y_pred)\n",
    "rmse = np.sqrt(mse)\n",
    "print(\"RMSE:\",rmse)\n",
    "print(\"MSE:\",mse)"
   ]
  },
  {
   "cell_type": "code",
   "execution_count": null,
   "id": "4c701a54",
   "metadata": {},
   "outputs": [],
   "source": [
    "def plot_predictions(y_test, y_pred):\n",
    "    plt.figure(figsize=(10, 6))\n",
    "    plt.scatter(y_test, y_pred, color='blue')\n",
    "    plt.plot([min(y_test), max(y_test)], [min(y_test), max(y_test)], color='red', linestyle='--')\n",
    "    plt.xlabel('Actual units_sold')\n",
    "    plt.ylabel('Predicted units_sold')\n",
    "    plt.title('Actual vs. Predicted units_sold')\n",
    "    plt.show()"
   ]
  },
  {
   "cell_type": "code",
   "execution_count": null,
   "id": "a9922dde",
   "metadata": {},
   "outputs": [],
   "source": [
    "y_test1 = y_test.values.flatten()"
   ]
  },
  {
   "cell_type": "code",
   "execution_count": null,
   "id": "30d065b7",
   "metadata": {},
   "outputs": [],
   "source": [
    "y_test1"
   ]
  },
  {
   "cell_type": "code",
   "execution_count": null,
   "id": "6a15d2ea",
   "metadata": {},
   "outputs": [],
   "source": [
    "actual_values_rf = np.exp(y_test1)\n",
    "predicted_values_rf = np.exp(y_pred)\n",
    "actual_values_rf = pd.DataFrame(actual_values_rf, columns=['actual_values_rf'])\n",
    "predicted_values_rf = pd.DataFrame(predicted_values_rf, columns = ['predicted_values_rf'])"
   ]
  },
  {
   "cell_type": "code",
   "execution_count": null,
   "id": "51e33b92",
   "metadata": {},
   "outputs": [],
   "source": [
    "actual_values_rf\n",
    "predicted_values_rf\n",
    "X_test.reset_index(inplace = True)"
   ]
  },
  {
   "cell_type": "code",
   "execution_count": null,
   "id": "b2240b17",
   "metadata": {},
   "outputs": [],
   "source": [
    "merged_rf_df = pd.concat([X_test, actual_values_rf, predicted_values_rf], axis = 1)"
   ]
  },
  {
   "cell_type": "code",
   "execution_count": null,
   "id": "4f588a28",
   "metadata": {},
   "outputs": [],
   "source": [
    "merged_rf_df['predicted_values_rf'] = merged_rf_df['predicted_values_rf'].round(0)\n",
    "merged_rf_df['actual_values_rf'] = merged_rf_df['actual_values_rf'].round(0)"
   ]
  },
  {
   "cell_type": "code",
   "execution_count": null,
   "id": "acd02ac6",
   "metadata": {},
   "outputs": [],
   "source": [
    "merged_rf_df"
   ]
  },
  {
   "cell_type": "code",
   "execution_count": null,
   "id": "3f2c1a58",
   "metadata": {},
   "outputs": [],
   "source": [
    "merged_rf_df.info()"
   ]
  },
  {
   "cell_type": "code",
   "execution_count": null,
   "id": "74909b68",
   "metadata": {},
   "outputs": [],
   "source": [
    "merged_rf_df['week'] = merged_rf_df.apply(lambda row: '-'.join([str(row['year']), str(row['month']), str(row['day_of_month'])]), axis=1)"
   ]
  },
  {
   "cell_type": "code",
   "execution_count": null,
   "id": "13b97291",
   "metadata": {},
   "outputs": [],
   "source": [
    "merged_rf_df.head()"
   ]
  },
  {
   "cell_type": "code",
   "execution_count": null,
   "id": "701d96c6",
   "metadata": {},
   "outputs": [],
   "source": [
    "merged_rf_df.info()"
   ]
  },
  {
   "cell_type": "code",
   "execution_count": null,
   "id": "fd598028",
   "metadata": {},
   "outputs": [],
   "source": [
    "merged_rf_df['week'] = pd.to_datetime(merged_rf_df['week'])"
   ]
  },
  {
   "cell_type": "code",
   "execution_count": null,
   "id": "ea8f6c64",
   "metadata": {},
   "outputs": [],
   "source": [
    "merged_rf_df.info()"
   ]
  },
  {
   "cell_type": "code",
   "execution_count": null,
   "id": "814a612c",
   "metadata": {},
   "outputs": [],
   "source": [
    "merged_rf_df.head()"
   ]
  },
  {
   "cell_type": "code",
   "execution_count": null,
   "id": "c4764f8e",
   "metadata": {},
   "outputs": [],
   "source": [
    "columns_to_drop_rf = ['record_ID', 'total_price', 'base_price', 'is_featured_sku', 'is_display_sku', 'month', 'year', 'day_of_week', 'day_of_month', 'discount']"
   ]
  },
  {
   "cell_type": "code",
   "execution_count": null,
   "id": "f76b5fe6",
   "metadata": {},
   "outputs": [],
   "source": [
    "merged_rf_df = merged_rf_df.drop(columns=columns_to_drop_rf)"
   ]
  },
  {
   "cell_type": "code",
   "execution_count": null,
   "id": "317f651c",
   "metadata": {},
   "outputs": [],
   "source": [
    "merged_rf_df.head()"
   ]
  },
  {
   "cell_type": "code",
   "execution_count": null,
   "id": "cbee2490",
   "metadata": {},
   "outputs": [],
   "source": [
    "# merged_rf_df.set_index('week', inplace=True)"
   ]
  },
  {
   "cell_type": "code",
   "execution_count": null,
   "id": "047db76c",
   "metadata": {},
   "outputs": [],
   "source": [
    "merged_rf_df.head()"
   ]
  },
  {
   "cell_type": "code",
   "execution_count": null,
   "id": "ca9abeb9",
   "metadata": {},
   "outputs": [],
   "source": [
    "type(merged_rf_df)"
   ]
  },
  {
   "cell_type": "code",
   "execution_count": null,
   "id": "10fc0bc9",
   "metadata": {},
   "outputs": [],
   "source": [
    "type(store_id)"
   ]
  },
  {
   "cell_type": "code",
   "execution_count": null,
   "id": "6d662937",
   "metadata": {},
   "outputs": [],
   "source": [
    "merged_rf_df.info()"
   ]
  },
  {
   "cell_type": "code",
   "execution_count": null,
   "id": "216e5921",
   "metadata": {},
   "outputs": [],
   "source": [
    "condition1_rf = merged_rf_df['sku_id']  == sku_id\n",
    "condition2_rf = merged_rf_df['store_id'] == store_id"
   ]
  },
  {
   "cell_type": "code",
   "execution_count": null,
   "id": "2431506f",
   "metadata": {},
   "outputs": [],
   "source": [
    "merged_rf_df = merged_rf_df[(condition1_rf.values) & (condition2_rf.values)]\n",
    "merged_rf_df.head()"
   ]
  },
  {
   "cell_type": "code",
   "execution_count": null,
   "id": "e7caf3bd",
   "metadata": {},
   "outputs": [],
   "source": [
    "comp_rf_df = merged_rf_df"
   ]
  },
  {
   "cell_type": "code",
   "execution_count": null,
   "id": "386699b5",
   "metadata": {},
   "outputs": [],
   "source": [
    "comp_rf_df.head()"
   ]
  },
  {
   "cell_type": "code",
   "execution_count": null,
   "id": "ed56967f",
   "metadata": {},
   "outputs": [],
   "source": [
    "# Create a figure and axis objects\n",
    "fig, ax = plt.subplots()\n",
    "\n",
    "# Plot two separate lines for each column\n",
    "ax.plot(comp_rf_df['week'], comp_rf_df['actual_values_rf'], label='actual_values_rf')\n",
    "ax.plot(comp_rf_df['week'], comp_rf_df['predicted_values_rf'], label='predicted_values_rf')\n",
    "\n",
    "# Set labels and title\n",
    "# Set labels and title\n",
    "ax.set_xlabel('Weeks')\n",
    "ax.set_ylabel('Demand')\n",
    "ax.set_title('Actutal Values Vs Predicted values')\n",
    "\n",
    "# Add legend\n",
    "ax.legend()\n",
    "\n",
    "# Store the plot in a variable\n",
    "comp = fig\n",
    "\n",
    "# Show the plot\n",
    "plt.show()"
   ]
  },
  {
   "cell_type": "code",
   "execution_count": null,
   "id": "617a78a5",
   "metadata": {},
   "outputs": [],
   "source": [
    "comp"
   ]
  },
  {
   "cell_type": "markdown",
   "id": "2adc8155",
   "metadata": {},
   "source": [
    "# Recurrent Neural network Model"
   ]
  },
  {
   "cell_type": "code",
   "execution_count": null,
   "id": "ae4af37c",
   "metadata": {},
   "outputs": [],
   "source": [
    "# Starting RNN (Recurrent Neural Network)\n",
    "df_nrr = df_processed\n",
    "df_nrr.head()"
   ]
  },
  {
   "cell_type": "code",
   "execution_count": null,
   "id": "9faeb680",
   "metadata": {},
   "outputs": [],
   "source": [
    "# Drop unnecessary columns\n",
    "df_nrr = df_nrr.drop(columns=['record_ID', 'week'])  # Drop unnecessary columns"
   ]
  },
  {
   "cell_type": "code",
   "execution_count": null,
   "id": "48a9174e",
   "metadata": {},
   "outputs": [],
   "source": [
    "# Normalize numerical features\n",
    "scaler = StandardScaler()\n",
    "df_nrr[['total_price', 'base_price']] = scaler.fit_transform(df_nrr[['total_price', 'base_price']])"
   ]
  },
  {
   "cell_type": "code",
   "execution_count": null,
   "id": "191528b5",
   "metadata": {},
   "outputs": [],
   "source": [
    "df_nrr.head()"
   ]
  },
  {
   "cell_type": "code",
   "execution_count": null,
   "id": "1b9e8a42",
   "metadata": {},
   "outputs": [],
   "source": [
    "# Split data into features (X) and target (y)\n",
    "X_nrr = df_nrr.drop(columns=['units_sold'])\n",
    "y_nrr = df_nrr['units_sold']"
   ]
  },
  {
   "cell_type": "code",
   "execution_count": null,
   "id": "a616bf64",
   "metadata": {},
   "outputs": [],
   "source": [
    "# Split data into training and testing sets\n",
    "X_nrr_train, X_nrr_test, y_nrr_train, y_nrr_test = train_test_split(X_nrr, y_nrr, test_size=0.2, random_state=42)"
   ]
  },
  {
   "cell_type": "code",
   "execution_count": null,
   "id": "c6f5bd1e",
   "metadata": {},
   "outputs": [],
   "source": [
    "# Reshape input data for LSTM\n",
    "X_nrr_train = np.array(X_nrr_train).reshape(X_nrr_train.shape[0], X_nrr_train.shape[1], 1)\n",
    "X_nrr_test = np.array(X_nrr_test).reshape(X_nrr_test.shape[0], X_nrr_test.shape[1], 1)"
   ]
  },
  {
   "cell_type": "code",
   "execution_count": null,
   "id": "0abd8902",
   "metadata": {},
   "outputs": [],
   "source": [
    "y_nrr.head()"
   ]
  },
  {
   "cell_type": "code",
   "execution_count": null,
   "id": "36a2b45c",
   "metadata": {},
   "outputs": [],
   "source": [
    "#X_nrr.head()"
   ]
  },
  {
   "cell_type": "code",
   "execution_count": null,
   "id": "fc56c6f4",
   "metadata": {},
   "outputs": [],
   "source": [
    "# Define the RNN model\n",
    "model = Sequential()\n",
    "model.add(LSTM(units=50, return_sequences=True, input_shape=(X_nrr_train.shape[1], 1)))\n",
    "model.add(Dropout(0.2))\n",
    "model.add(LSTM(units=50, return_sequences=True))\n",
    "model.add(Dropout(0.2))\n",
    "model.add(LSTM(units=50))\n",
    "model.add(Dropout(0.2))\n",
    "model.add(Dense(units=1))"
   ]
  },
  {
   "cell_type": "code",
   "execution_count": null,
   "id": "1158495a",
   "metadata": {},
   "outputs": [],
   "source": [
    "# Compile the model\n",
    "optimizer = Adam(learning_rate=0.001)\n",
    "model.compile(optimizer=optimizer, loss='mean_squared_error')"
   ]
  },
  {
   "cell_type": "code",
   "execution_count": null,
   "id": "f371c7e8",
   "metadata": {},
   "outputs": [],
   "source": [
    "# Train the model\n",
    "model.fit(X_nrr_train, y_nrr_train, epochs=10, batch_size=32, validation_data=(X_nrr_test, y_nrr_test))"
   ]
  },
  {
   "cell_type": "markdown",
   "id": "ed0e8c11",
   "metadata": {},
   "source": [
    "# Evaluate Recurrent Neural Network Model"
   ]
  },
  {
   "cell_type": "code",
   "execution_count": null,
   "id": "ab45ac25",
   "metadata": {},
   "outputs": [],
   "source": [
    "# Evaluate the model\n",
    "y_nrr_pred = model.predict(X_nrr_test).flatten()\n",
    "rmse_nrr = np.sqrt(mean_squared_error(y_nrr_test, y_nrr_pred))\n",
    "mape_nrr = np.mean(np.abs((y_nrr_test - y_nrr_pred) / y_nrr_test)) * 100\n",
    "loss_nrr = model.evaluate(X_nrr_test, y_nrr_test)\n",
    "\n",
    "print(\"Test Loss:\", loss_nrr)\n",
    "print(\"Root Mean Squared Error (RMSE):\", rmse_nrr)\n",
    "print(\"Mean Absolute Percentage Error (MAPE):\", mape_nrr)"
   ]
  },
  {
   "cell_type": "code",
   "execution_count": null,
   "id": "7d218bf8",
   "metadata": {},
   "outputs": [],
   "source": [
    "plot_predictions(y_nrr_test, y_nrr_pred)"
   ]
  },
  {
   "cell_type": "code",
   "execution_count": null,
   "id": "a8a73593",
   "metadata": {},
   "outputs": [],
   "source": [
    "rmse, rmse_nrr"
   ]
  },
  {
   "cell_type": "code",
   "execution_count": null,
   "id": "53059f25",
   "metadata": {},
   "outputs": [],
   "source": [
    "# Find RMSE\n",
    "mse_nrr = mean_squared_error(y_nrr_test, y_nrr_pred)\n",
    "rmse_nrr = np.sqrt(mse_nrr)\n",
    "print(\"RMSE:\",rmse_nrr)\n",
    "print(\"MSE:\",mse_nrr)"
   ]
  },
  {
   "cell_type": "code",
   "execution_count": null,
   "id": "2b4ec09d",
   "metadata": {},
   "outputs": [],
   "source": [
    "#Evaluate accuracy using MAPE\n",
    "y_nrr_true = np.array(y_nrr_test)\n",
    "sumvalue=np.sum(y_nrr_true)\n",
    "mape_nrr=np.sum(np.abs((y_nrr_true - y_nrr_pred)))/sumvalue*100\n",
    "accuracy_nrr=100-mape_nrr\n",
    "print('Accuracy:', round(accuracy_nrr,2),'%.')"
   ]
  },
  {
   "cell_type": "code",
   "execution_count": null,
   "id": "2ef4873c",
   "metadata": {},
   "outputs": [],
   "source": [
    "y_nrr_pred"
   ]
  },
  {
   "cell_type": "code",
   "execution_count": null,
   "id": "2b82ed06",
   "metadata": {},
   "outputs": [],
   "source": [
    "y_nrr_true"
   ]
  },
  {
   "cell_type": "code",
   "execution_count": null,
   "id": "111b6ae7",
   "metadata": {},
   "outputs": [],
   "source": [
    "actual_values_nrr = np.exp(y_nrr_true)\n",
    "predicted_values_nrr = np.exp(y_nrr_pred)\n",
    "comp_nrr = pd.DataFrame(data=[actual_values_nrr,predicted_values_nrr]).T\n",
    "comp_nrr.columns=['y_nrr_test','y_nrr_pred']\n",
    "comp_nrr"
   ]
  },
  {
   "cell_type": "code",
   "execution_count": null,
   "id": "df4ab31f",
   "metadata": {},
   "outputs": [],
   "source": [
    "actual_values_nrr = pd.DataFrame(actual_values_nrr, columns=['actual_values_nrr'])\n",
    "predicted_values_nrr = pd.DataFrame(predicted_values_nrr, columns = ['predicted_values_nrr'])"
   ]
  },
  {
   "cell_type": "code",
   "execution_count": null,
   "id": "6ba7ca0d",
   "metadata": {},
   "outputs": [],
   "source": [
    "X_nrr.head()\n",
    "y_nrr.head()\n",
    "X_nrr.shape\n",
    "y_nrr.shape"
   ]
  },
  {
   "cell_type": "code",
   "execution_count": null,
   "id": "6c83b4c1",
   "metadata": {},
   "outputs": [],
   "source": [
    "# Calculate the number of rows to keep (20% of total rows)\n",
    "num_rows_to_keep_nrr = int(len(X_nrr) * 0.2)\n",
    "\n",
    "# Slice the DataFrame to keep the last 20% of the data\n",
    "X_nrr_df_test = X_nrr[-num_rows_to_keep_nrr:]\n",
    "y_nrr_df_test  = y_nrr[-num_rows_to_keep_nrr:]"
   ]
  },
  {
   "cell_type": "code",
   "execution_count": null,
   "id": "3e2e36f4",
   "metadata": {},
   "outputs": [],
   "source": [
    "X_nrr_df_test.reset_index(inplace = True)"
   ]
  },
  {
   "cell_type": "code",
   "execution_count": null,
   "id": "4beb07b5",
   "metadata": {},
   "outputs": [],
   "source": [
    "X_nrr_df_test.head()\n",
    "actual_values_nrr\n",
    "predicted_values_nrr"
   ]
  },
  {
   "cell_type": "code",
   "execution_count": null,
   "id": "e7c04afe",
   "metadata": {},
   "outputs": [],
   "source": [
    "X_nrr_df_test.head()"
   ]
  },
  {
   "cell_type": "code",
   "execution_count": null,
   "id": "764b1e1f",
   "metadata": {},
   "outputs": [],
   "source": [
    "merged_nrr_df = pd.concat([X_nrr_df_test, actual_values_nrr, predicted_values_nrr], axis = 1)"
   ]
  },
  {
   "cell_type": "code",
   "execution_count": null,
   "id": "82bf07b2",
   "metadata": {},
   "outputs": [],
   "source": [
    "merged_nrr_df"
   ]
  },
  {
   "cell_type": "code",
   "execution_count": null,
   "id": "968be2b5",
   "metadata": {},
   "outputs": [],
   "source": [
    "merged_nrr_df['predicted_values_nrr'] = merged_nrr_df['predicted_values_nrr'].round(0)\n",
    "merged_nrr_df['actual_values_nrr'] = merged_nrr_df['actual_values_nrr'].round(0)"
   ]
  },
  {
   "cell_type": "code",
   "execution_count": null,
   "id": "916de86d",
   "metadata": {},
   "outputs": [],
   "source": [
    "merged_nrr_df.info()"
   ]
  },
  {
   "cell_type": "code",
   "execution_count": null,
   "id": "2db148f1",
   "metadata": {},
   "outputs": [],
   "source": [
    "merged_nrr_df['week'] = merged_nrr_df.apply(lambda row: '-'.join([str(row['year']), str(row['month']), str(row['day_of_month'])]), axis=1)"
   ]
  },
  {
   "cell_type": "code",
   "execution_count": null,
   "id": "dc23e01c",
   "metadata": {},
   "outputs": [],
   "source": [
    "merged_nrr_df['week'] = merged_nrr_df.apply(lambda row: '-'.join([str(row['year']), str(row['month']), str(row['day_of_month'])]), axis=1)"
   ]
  },
  {
   "cell_type": "code",
   "execution_count": null,
   "id": "69d94624",
   "metadata": {},
   "outputs": [],
   "source": [
    "merged_nrr_df"
   ]
  },
  {
   "cell_type": "code",
   "execution_count": null,
   "id": "eb362e7b",
   "metadata": {},
   "outputs": [],
   "source": [
    "merged_nrr_df['week'] = pd.to_datetime(merged_nrr_df['week'])"
   ]
  },
  {
   "cell_type": "code",
   "execution_count": null,
   "id": "e62ddc96",
   "metadata": {},
   "outputs": [],
   "source": [
    "merged_nrr_df.head()"
   ]
  },
  {
   "cell_type": "code",
   "execution_count": null,
   "id": "a2f60f15",
   "metadata": {},
   "outputs": [],
   "source": [
    "columns_to_drop_nrr = ['index', 'total_price', 'base_price', 'is_featured_sku', 'is_display_sku', 'month', 'year', 'day_of_week', 'day_of_month', 'discount']"
   ]
  },
  {
   "cell_type": "code",
   "execution_count": null,
   "id": "3d933990",
   "metadata": {},
   "outputs": [],
   "source": [
    "merged_nrr_df = merged_nrr_df.drop(columns=columns_to_drop_nrr)"
   ]
  },
  {
   "cell_type": "code",
   "execution_count": null,
   "id": "4b553d89",
   "metadata": {},
   "outputs": [],
   "source": [
    "merged_nrr_df.head()"
   ]
  },
  {
   "cell_type": "code",
   "execution_count": null,
   "id": "c33bdfd1",
   "metadata": {},
   "outputs": [],
   "source": [
    "merged_nrr_df.info()"
   ]
  },
  {
   "cell_type": "code",
   "execution_count": null,
   "id": "460670c7",
   "metadata": {},
   "outputs": [],
   "source": [
    "condition1_nrr = merged_nrr_df['sku_id']  == sku_id\n",
    "condition2_nrr = merged_nrr_df['store_id'] == store_id"
   ]
  },
  {
   "cell_type": "code",
   "execution_count": null,
   "id": "165b833f",
   "metadata": {},
   "outputs": [],
   "source": [
    "merged_nrr_df = merged_nrr_df[(condition1_nrr.values) & (condition2_nrr.values)]\n",
    "merged_nrr_df.head()"
   ]
  },
  {
   "cell_type": "code",
   "execution_count": null,
   "id": "1ba0e53b",
   "metadata": {},
   "outputs": [],
   "source": [
    "comp_nrr_df = merged_nrr_df"
   ]
  },
  {
   "cell_type": "code",
   "execution_count": null,
   "id": "b756d4fc",
   "metadata": {},
   "outputs": [],
   "source": [
    "# Create a figure and axis objects\n",
    "fig, ax = plt.subplots()\n",
    "\n",
    "# Plot two separate lines for each column\n",
    "ax.plot(comp_nrr_df['week'], comp_nrr_df['actual_values_nrr'], label='actual_values_nrr')\n",
    "ax.plot(comp_nrr_df['week'], comp_nrr_df['predicted_values_nrr'], label='predicted_values_nrr')\n",
    "\n",
    "# Set labels and title\n",
    "# Set labels and title\n",
    "ax.set_xlabel('Weeks')\n",
    "ax.set_ylabel('Demand')\n",
    "ax.set_title('Actutal Values Vs Predicted values')\n",
    "\n",
    "# Add legend\n",
    "ax.legend()\n",
    "\n",
    "# Store the plot in a variable\n",
    "comp_nrr = fig\n",
    "\n",
    "# Show the plot\n",
    "plt.show()"
   ]
  },
  {
   "cell_type": "code",
   "execution_count": null,
   "id": "e92f0386",
   "metadata": {},
   "outputs": [],
   "source": [
    "comp_nrr"
   ]
  },
  {
   "cell_type": "code",
   "execution_count": null,
   "id": "235d9735",
   "metadata": {},
   "outputs": [],
   "source": [
    "rmse, rmse_nrr"
   ]
  },
  {
   "cell_type": "markdown",
   "id": "c6a06ca3",
   "metadata": {},
   "source": [
    "# Comparison of both the models - Random Forest Vs Recurrent Neural Network"
   ]
  },
  {
   "cell_type": "code",
   "execution_count": null,
   "id": "283e1cb4",
   "metadata": {},
   "outputs": [],
   "source": [
    "# Create a DataFrame for evaluation\n",
    "rmse_rf = round(rmse,2)\n",
    "rmse_nrr = round(rmse_nrr,2)\n",
    "accuracy_rf = str(round(accuracy,2)) + \"%\"\n",
    "accuracy_nrr = str(round(accuracy_nrr,2)) + \"%\"\n",
    "\n",
    "data_evaluation = {\n",
    "    'Param':['RMSE', 'Accuracy'],\n",
    "    'Random Forest': [rmse_rf, accuracy_rf],\n",
    "    'Recursive Neural Network': [rmse_nrr,accuracy_nrr ],\n",
    "}\n",
    "\n",
    "index = ['0','1']\n",
    "df_evaluation = pd.DataFrame(data_evaluation, index=index)\n",
    "\n",
    "# Display the DataFrame\n",
    "print(df_evaluation)"
   ]
  },
  {
   "cell_type": "markdown",
   "id": "e00dcb82",
   "metadata": {},
   "source": [
    "# Re-order Point"
   ]
  },
  {
   "cell_type": "code",
   "execution_count": null,
   "id": "1f93de9a",
   "metadata": {},
   "outputs": [],
   "source": [
    "# Calculation of safety stock factor\n",
    "def calculate_safety_factor(desired_service_level, standard_deviation):\n",
    "    # Calculation Z-score corresponding to the desired service level\n",
    "    z_score = stats.norm.ppf(desired_service_level)\n",
    "    \n",
    "    #Calculate safety factor\n",
    "    safety_factor = z_score * standard_deviation\n",
    "    \n",
    "    return safety_factor"
   ]
  },
  {
   "cell_type": "code",
   "execution_count": null,
   "id": "98e6a4c9",
   "metadata": {},
   "outputs": [],
   "source": [
    "# Get desired service level\n",
    "#desired_service_level = float(input(\"Enter desired service level (ex: 0.95 for 95%): \"))\n",
    "desired_service_level = 0.9"
   ]
  },
  {
   "cell_type": "code",
   "execution_count": null,
   "id": "abcbbc5c",
   "metadata": {},
   "outputs": [],
   "source": [
    "# Calculation of standard_deviation\n",
    "filtered_df = df_processed[(df['store_id'] == store_id) & (df_processed['sku_id'] == sku_id)]\n",
    "standard_deviation = filtered_df['units_sold'].std()"
   ]
  },
  {
   "cell_type": "code",
   "execution_count": null,
   "id": "0ea75c45",
   "metadata": {},
   "outputs": [],
   "source": [
    "# Calculation of re-order point\n",
    "def calculate_reorder_point (demand_forecast, lead_time, safety_factor):\n",
    "    average_demand = np.mean(demand_forecast)\n",
    "    demand_std = np.std(demand_forecast)\n",
    "    safety_stock = safety_factor * demand_std\n",
    "    safety_stock = safety_stock.round()\n",
    "    reorder_point = average_demand * lead_time + safety_stock\n",
    "    reorder_point = reorder_point.round()\n",
    "    return reorder_point, safety_stock"
   ]
  },
  {
   "cell_type": "code",
   "execution_count": null,
   "id": "6f4d742b",
   "metadata": {},
   "outputs": [],
   "source": [
    "# Get user input for sku_id\n",
    "#lead_time = int(input(\"Enter lead time in weeks: \"))\n",
    "lead_time = 2"
   ]
  },
  {
   "cell_type": "code",
   "execution_count": null,
   "id": "b4fd6b44",
   "metadata": {},
   "outputs": [],
   "source": [
    "comp_rf_df.head()"
   ]
  },
  {
   "cell_type": "code",
   "execution_count": null,
   "id": "cc6cb6fd",
   "metadata": {},
   "outputs": [],
   "source": [
    "# Selection of model based on RMSE\n",
    "if rmse_rf <= rmse_nrr:\n",
    "    demand_forecast = pd.concat([X_test, actual_values_rf, predicted_values_rf], axis = 1)\n",
    "    demand_forecast['predicted_values_rf'] = demand_forecast['predicted_values_rf'].round(0)\n",
    "    demand_forecast = demand_forecast[(condition1_rf.values) & (condition2_rf.values)]\n",
    "    demand_forecast = demand_forecast['predicted_values_rf']\n",
    "    demand_forecast = demand_forecast.values\n",
    "    selected_model = \"Random Forest\"\n",
    "else:\n",
    "    demand_forecast = pd.concat([X_nrr_df_test, actual_values_nrr, predicted_values_nrr], axis = 1)\n",
    "    demand_forecast['predicted_values_nrr'] = demand_forecast['predicted_values_nrr'].round(0)\n",
    "    demand_forecast = demand_forecast[(condition1_nrr.values) & (condition2_nrr.values)]\n",
    "    demand_forecast = demand_forecast['predicted_values_nrr']\n",
    "    demand_forecast = demand_forecast.values\n",
    "    selected_model = \"Recursive Neural Network\"\n"
   ]
  },
  {
   "cell_type": "code",
   "execution_count": null,
   "id": "f10bec4c",
   "metadata": {},
   "outputs": [],
   "source": [
    "safety_factor = calculate_safety_factor(desired_service_level, standard_deviation)"
   ]
  },
  {
   "cell_type": "code",
   "execution_count": null,
   "id": "579007ef",
   "metadata": {},
   "outputs": [],
   "source": [
    "reorder_point = calculate_reorder_point (demand_forecast, lead_time, safety_factor)"
   ]
  },
  {
   "cell_type": "code",
   "execution_count": null,
   "id": "b06cce89",
   "metadata": {},
   "outputs": [],
   "source": [
    "type(reorder_point)"
   ]
  },
  {
   "cell_type": "code",
   "execution_count": null,
   "id": "f288527f",
   "metadata": {},
   "outputs": [],
   "source": [
    "reorder_point"
   ]
  },
  {
   "cell_type": "markdown",
   "id": "bbd7207d",
   "metadata": {},
   "source": [
    "# Frontend code"
   ]
  },
  {
   "cell_type": "code",
   "execution_count": null,
   "id": "cbfa5853",
   "metadata": {},
   "outputs": [],
   "source": [
    "data_dict = {'record_ID': 'Unique ID for each week store sku combination',     \n",
    "             'week': 'Starting date of the week',     \n",
    "             'store_id': 'Unique id for each store - Can be unique customers (EBs) for TBH',     \n",
    "             'sku_id': 'Unique ID for each product - Can be the type of steel',     \n",
    "             'total_price': 'Sales price of 1 product',     \n",
    "             'base_price': 'Base price for 1 product',     \n",
    "             'is_features__sku': 'Was part of the featured item of the week - Can be the product for which we sent out a marketing communication',     \n",
    "             'is_display_sku': 'Product was displayed prominently - Can be the product which is highlighted on showcase page',     \n",
    "             'units_sold': 'No. of units sold of the product at the store in the given week'}\n",
    "\n",
    "input_dict = {'sku_id': 'Select the product for which you want the forecast and the re-order point',\n",
    "             'store_id': 'Select the store for which you want the forecast and the re-order point',\n",
    "             'lead_time': 'Time between realizing that the sku needs to be ordered for the store till it actually arrives at the store',\n",
    "             'service_level': 'Service level that you desire to maintain for your customer'}\n",
    "\n",
    "data_clean_steps_dict = {1: \"Changed the format of the variables to the desired format\",\n",
    "                         2: \"If the number of nan/missing values in the data is < 1% then deleted the rows else filled the rows with the mean for the given combination of sku_id and store_id\",     \n",
    "                         3: \"Removed inconsistency in data (like record_id stored in total_price)\",     \n",
    "                         4: \"Removed duplicate data (if any)\",     \n",
    "                         5: \"If the total_price, base_price or units_sold had values <=0 then removed it if such cases are <=1% else replaced by the mean for the given combination of sku_id and store_id\"}\n",
    "\n",
    "unique_sku_ids = df['sku_id'].unique()\n",
    "unique_store_ids = df['store_id'].unique()\n",
    "comp_nrr_df = comp_nrr_df[['week'] + [col for col in comp_nrr_df.columns if col != 'week']]\n",
    "#comp_rounded = comp.round(2)"
   ]
  },
  {
   "cell_type": "code",
   "execution_count": null,
   "id": "778ad65d",
   "metadata": {},
   "outputs": [],
   "source": [
    "comp_rf_df_drop = comp_rf_df\n",
    "comp_nrr_df_drop = comp_nrr_df\n"
   ]
  },
  {
   "cell_type": "code",
   "execution_count": null,
   "id": "c9db1fc2",
   "metadata": {},
   "outputs": [],
   "source": [
    "comp_rf_df_drop.set_index('week',inplace=True)\n",
    "comp_nrr_df_drop.set_index('week',inplace=True)\n"
   ]
  },
  {
   "cell_type": "code",
   "execution_count": null,
   "id": "f2649d29",
   "metadata": {},
   "outputs": [],
   "source": [
    "comp_rf_df_drop.head()\n",
    "comp_nrr_df_drop.head()"
   ]
  },
  {
   "cell_type": "code",
   "execution_count": null,
   "id": "71b9aa5e",
   "metadata": {},
   "outputs": [],
   "source": [
    "drop_columns = ['store_id','sku_id']"
   ]
  },
  {
   "cell_type": "code",
   "execution_count": null,
   "id": "baea5fbd",
   "metadata": {},
   "outputs": [],
   "source": [
    "comp_rf_df_drop = comp_rf_df_drop.drop(columns = drop_columns)\n"
   ]
  },
  {
   "cell_type": "code",
   "execution_count": null,
   "id": "9fe5fa53",
   "metadata": {},
   "outputs": [],
   "source": [
    "comp_nrr_df_drop = comp_nrr_df_drop.drop(columns = drop_columns)"
   ]
  },
  {
   "cell_type": "code",
   "execution_count": null,
   "id": "5ba27fc7",
   "metadata": {
    "scrolled": true
   },
   "outputs": [],
   "source": [
    "# Create Dash app\n",
    "app = dash.Dash(__name__)\n",
    "\n",
    "# Define layout\n",
    "app.layout =     html.Div(children=[\n",
    "    html.H1(children='Demand Foreasting and Inventory Management'),\n",
    "    html.H2(children='Predicting units sold for given SKU and Store'),\n",
    "    \n",
    "    \n",
    "    html.Div([\n",
    "    html.Div('Weekly Data Table'),\n",
    "    html.Table([\n",
    "        html.Thead(html.Tr([html.Th(col) for col in df.columns])),\n",
    "        html.Tbody([\n",
    "            html.Tr([\n",
    "                html.Td(df.iloc[i][col]) for col in df.columns\n",
    "            ]) for i in range(3)\n",
    "        ])\n",
    "    ])\n",
    "]),\n",
    "    \n",
    "    html.Div([\n",
    "        html.H3('Column Description:'),\n",
    "        html.Ul([html.Li(f\"{key}: {value}\") for key, value in data_dict.items()])\n",
    "    ]),\n",
    "   \n",
    "    html.H3('Time Period for consideration:'),\n",
    "    html.Div(f'Maximum week period: {df_max_week}'),\n",
    "    html.Div(f'Minimum week period: {df_min_week}'),\n",
    "    \n",
    "    html.Div(f'Maximum week period in training data set: {max_training_week}'),\n",
    "    html.Div(f'Minimum week period in training data set: {min_training_week}'),\n",
    "\n",
    "    \n",
    "    html.Div([\n",
    "        html.H3('Inputs required from customer:'),\n",
    "        html.Ul([html.Li(f\"{key}: {value}\") for key, value in input_dict.items()])\n",
    "    ]),\n",
    "    \n",
    "    html.Div([\n",
    "        html.H3('Target Variable'),\n",
    "    ]),\n",
    "    html.Div(children='''\n",
    "        Units Sold\n",
    "    '''),\n",
    "    html.H3('Input Parameters :'),\n",
    "    \n",
    "    html.Div(f'SKU ID: {sku_id}'),\n",
    "    html.Div(f'Store ID: {store_id}'),\n",
    "    \n",
    "    \n",
    "    #html.Table(\n",
    "     #   [\n",
    "      #      html.Tr(\n",
    "       #         [html.Th(col, style={'border': '1px solid black', 'background-color': 'lightgray', 'padding': '8px'}) for col in comp_rf_df.columns]\n",
    "        #    )\n",
    "        #] +\n",
    "        #[\n",
    "         #   html.Tr(\n",
    "          #      [\n",
    "           #         html.Td(comp_rf_df.iloc[i][col], style={'border': '1px solid black', 'padding': '8px'}) \n",
    "            #        for col in comp_rf_df.columns\n",
    "             #   ],\n",
    "              #  style={'border': '1px solid black'}\n",
    "            #)\n",
    "            #for i in range(10)\n",
    "        #],\n",
    "        #style={'border-collapse': 'collapse'}\n",
    "    #),\n",
    "    html.Div([\n",
    "    html.H4('Predicted Values of Random Forest'),\n",
    "    html.Table([\n",
    "        html.Thead(html.Tr([html.Th(col) for col in comp_rf_df.columns])),\n",
    "        html.Tbody([\n",
    "            html.Tr([\n",
    "                html.Td(comp_rf_df.iloc[i][col]) for col in comp_rf_df.columns\n",
    "            ]) for i in range(10)\n",
    "        ])\n",
    "    ])\n",
    "]),\n",
    "    dcc.Graph(\n",
    "        id='line-plot',\n",
    "        figure={\n",
    "            'data': [\n",
    "                {'x': list(range(1, len(comp_rf_df_drop)+1)), 'y': comp_rf_df_drop['actual_values_rf'], 'type': 'line', 'name': 'Test Data'},\n",
    "                {'x': list(range(1, len(comp_rf_df_drop)+1)), 'y': comp_rf_df_drop['predicted_values_rf'], 'type': 'line', 'name': 'Predicted'}\n",
    "            ],\n",
    "            'layout': {\n",
    "                'title': 'Test Data vs Predicted values for Random Forest',\n",
    "                'xaxis': {'title': 'Index'},\n",
    "                'yaxis': {'title': 'Values'}\n",
    "            }\n",
    "        }\n",
    "    ),\n",
    "    \n",
    "    html.Div([\n",
    "    html.H4('Predicted Values of Recursive Neural Network'),\n",
    "    html.Table([\n",
    "        html.Thead(html.Tr([html.Th(col) for col in comp_nrr_df.columns])),\n",
    "        html.Tbody([\n",
    "            html.Tr([\n",
    "                html.Td(comp_nrr_df.iloc[i][col]) for col in comp_nrr_df.columns\n",
    "            ]) for i in range(10)\n",
    "        ])\n",
    "    ])\n",
    "]),\n",
    "    dcc.Graph(\n",
    "        id='line-plot',\n",
    "        figure={\n",
    "            'data': [\n",
    "                {'x': list(range(1, len(comp_nrr_df_drop)+1)), 'y': comp_nrr_df_drop['actual_values_nrr'], 'type': 'line', 'name': 'Test Data'},\n",
    "                {'x': list(range(1, len(comp_nrr_df_drop)+1)), 'y': comp_nrr_df_drop['predicted_values_nrr'], 'type': 'line', 'name': 'Predicted'}\n",
    "            ],\n",
    "            'layout': {\n",
    "                'title': 'Test Data vs Predicted values for Recursive Neural Network',\n",
    "                'xaxis': {'title': 'Index'},\n",
    "                'yaxis': {'title': 'Values'}\n",
    "            }\n",
    "        }\n",
    "    ),\n",
    "    \n",
    "    html.H3('Ran 2 models to compare accuracy of forecast:'),\n",
    "    \n",
    "    html.Div([\n",
    "    html.Div('Evaluation of the models'),\n",
    "    html.Table([\n",
    "        html.Thead(html.Tr([html.Th(col) for col in df_evaluation.columns])),\n",
    "        html.Tbody([\n",
    "            html.Tr([\n",
    "                html.Td(df_evaluation.iloc[i][col]) for col in df_evaluation.columns\n",
    "            ]) for i in range(2)\n",
    "        ])\n",
    "    ]),\n",
    "        html.H3(f'Selected Model is: {selected_model} due to lower RMSE value'),\n",
    "        \n",
    "        \n",
    "        \n",
    "    html.Div([\n",
    "            html.H2('Optimal Reorder point and safety stock based on the selected model'),\n",
    "            html.Div([\n",
    "                html.Div(f'Reorder point: {reorder_point[0]}'),  # Display first tuple value\n",
    "                html.Br(),  # Line break\n",
    "                html.Div(f'Safety Stock: {reorder_point[1]}')   # Display second tuple value\n",
    "            ])\n",
    "        ]),\n",
    "]),\n",
    "    \n",
    "])\n",
    "\n",
    "\n",
    "\n",
    "\n",
    "\n",
    "\n",
    "    \n",
    "if __name__ == '__main__':\n",
    "    app.run_server(debug=True)"
   ]
  },
  {
   "cell_type": "code",
   "execution_count": null,
   "id": "ea10c797",
   "metadata": {},
   "outputs": [],
   "source": []
  }
 ],
 "metadata": {
  "kernelspec": {
   "display_name": "Python 3 (ipykernel)",
   "language": "python",
   "name": "python3"
  },
  "language_info": {
   "codemirror_mode": {
    "name": "ipython",
    "version": 3
   },
   "file_extension": ".py",
   "mimetype": "text/x-python",
   "name": "python",
   "nbconvert_exporter": "python",
   "pygments_lexer": "ipython3",
   "version": "3.11.5"
  }
 },
 "nbformat": 4,
 "nbformat_minor": 5
}
