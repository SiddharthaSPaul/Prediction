{
 "cells": [
  {
   "cell_type": "code",
   "execution_count": 1,
   "id": "8097987a",
   "metadata": {},
   "outputs": [],
   "source": [
    "# To print multiple output in a cell\n",
    "from IPython.core.interactiveshell import InteractiveShell\n",
    "InteractiveShell.ast_node_interactivity = 'all'"
   ]
  },
  {
   "cell_type": "code",
   "execution_count": 2,
   "id": "ece7fc6a",
   "metadata": {},
   "outputs": [
    {
     "name": "stdout",
     "output_type": "stream",
     "text": [
      "WARNING:tensorflow:From C:\\Users\\SiddharthaPaul\\anaconda3\\Lib\\site-packages\\keras\\src\\losses.py:2976: The name tf.losses.sparse_softmax_cross_entropy is deprecated. Please use tf.compat.v1.losses.sparse_softmax_cross_entropy instead.\n",
      "\n"
     ]
    }
   ],
   "source": [
    "# Import all required libraries\n",
    "import pandas as pd # Data manipulation and analysis library\n",
    "from statsmodels.tsa.seasonal import seasonal_decompose # Seasonal decomposition to check seasonality\n",
    "from sklearn.feature_selection import RFE # RFE (Recursive Feature Elimination) is for feature selection\n",
    "from sklearn.ensemble import RandomForestRegressor # Random forest modelling\n",
    "import numpy as np # For arrays and mathematical operations\n",
    "from statsmodels.tsa.stattools import adfuller # Dickey-fuller testto check stationarity of data\n",
    "from sklearn.metrics import mean_squared_error # For evaluating the model\n",
    "from sklearn.preprocessing import LabelEncoder # To encode categorical integer features\n",
    "import matplotlib.pyplot as plt # For plotting\n",
    "import seaborn as sns # Statistical data visualization\n",
    "import scipy.stats as stats # Statistical analysis\n",
    "import pylab # For plotting\n",
    "import warnings # To handle warnings\n",
    "warnings.filterwarnings(\"ignore\") # Ignore all warings\n",
    "from statsmodels.tsa.statespace.sarimax import SARIMAX # To do SARIMAX\n",
    "from sklearn.model_selection import train_test_split # To split into train and test data set\n",
    "from sklearn.preprocessing import StandardScaler # For RNN: Recursive neural network\n",
    "from keras.models import Sequential # For RNN\n",
    "from keras.layers import LSTM, Dense, Dropout # For RNN\n",
    "from keras.optimizers import Adam # For RNN"
   ]
  },
  {
   "cell_type": "code",
   "execution_count": 3,
   "id": "cba96e44",
   "metadata": {},
   "outputs": [],
   "source": [
    "# Ignore all warings\n",
    "warnings.filterwarnings(\"ignore\")"
   ]
  },
  {
   "cell_type": "code",
   "execution_count": 4,
   "id": "58afcf9b",
   "metadata": {},
   "outputs": [],
   "source": [
    "# Import data\n",
    "file_path = 'C:\\\\Users\\\\SiddharthaPaul\\\\OneDrive - Tata Business Hub Limited\\\\Desktop\\\\Hackathon'\n",
    "date_format = \"%d/%m/%y\"\n",
    "df = pd.read_csv(file_path+'\\\\train.csv', sep = ',', parse_dates = ['week'], date_parser = lambda x: pd.to_datetime(x, format = date_format))"
   ]
  },
  {
   "cell_type": "code",
   "execution_count": 5,
   "id": "601fee48",
   "metadata": {},
   "outputs": [
    {
     "data": {
      "text/html": [
       "<div>\n",
       "<style scoped>\n",
       "    .dataframe tbody tr th:only-of-type {\n",
       "        vertical-align: middle;\n",
       "    }\n",
       "\n",
       "    .dataframe tbody tr th {\n",
       "        vertical-align: top;\n",
       "    }\n",
       "\n",
       "    .dataframe thead th {\n",
       "        text-align: right;\n",
       "    }\n",
       "</style>\n",
       "<table border=\"1\" class=\"dataframe\">\n",
       "  <thead>\n",
       "    <tr style=\"text-align: right;\">\n",
       "      <th></th>\n",
       "      <th>record_ID</th>\n",
       "      <th>week</th>\n",
       "      <th>store_id</th>\n",
       "      <th>sku_id</th>\n",
       "      <th>total_price</th>\n",
       "      <th>base_price</th>\n",
       "      <th>is_featured_sku</th>\n",
       "      <th>is_display_sku</th>\n",
       "      <th>units_sold</th>\n",
       "    </tr>\n",
       "  </thead>\n",
       "  <tbody>\n",
       "    <tr>\n",
       "      <th>0</th>\n",
       "      <td>1</td>\n",
       "      <td>2011-01-17</td>\n",
       "      <td>8091</td>\n",
       "      <td>216418</td>\n",
       "      <td>99.0375</td>\n",
       "      <td>111.8625</td>\n",
       "      <td>0</td>\n",
       "      <td>0</td>\n",
       "      <td>20</td>\n",
       "    </tr>\n",
       "    <tr>\n",
       "      <th>1</th>\n",
       "      <td>2</td>\n",
       "      <td>2011-01-17</td>\n",
       "      <td>8091</td>\n",
       "      <td>216419</td>\n",
       "      <td>99.0375</td>\n",
       "      <td>99.0375</td>\n",
       "      <td>0</td>\n",
       "      <td>0</td>\n",
       "      <td>28</td>\n",
       "    </tr>\n",
       "    <tr>\n",
       "      <th>2</th>\n",
       "      <td>3</td>\n",
       "      <td>2011-01-17</td>\n",
       "      <td>8091</td>\n",
       "      <td>216425</td>\n",
       "      <td>133.9500</td>\n",
       "      <td>133.9500</td>\n",
       "      <td>0</td>\n",
       "      <td>0</td>\n",
       "      <td>19</td>\n",
       "    </tr>\n",
       "    <tr>\n",
       "      <th>3</th>\n",
       "      <td>4</td>\n",
       "      <td>2011-01-17</td>\n",
       "      <td>8091</td>\n",
       "      <td>216233</td>\n",
       "      <td>133.9500</td>\n",
       "      <td>133.9500</td>\n",
       "      <td>0</td>\n",
       "      <td>0</td>\n",
       "      <td>44</td>\n",
       "    </tr>\n",
       "    <tr>\n",
       "      <th>4</th>\n",
       "      <td>5</td>\n",
       "      <td>2011-01-17</td>\n",
       "      <td>8091</td>\n",
       "      <td>217390</td>\n",
       "      <td>141.0750</td>\n",
       "      <td>141.0750</td>\n",
       "      <td>0</td>\n",
       "      <td>0</td>\n",
       "      <td>52</td>\n",
       "    </tr>\n",
       "  </tbody>\n",
       "</table>\n",
       "</div>"
      ],
      "text/plain": [
       "   record_ID       week  store_id  sku_id  total_price  base_price  \\\n",
       "0          1 2011-01-17      8091  216418      99.0375    111.8625   \n",
       "1          2 2011-01-17      8091  216419      99.0375     99.0375   \n",
       "2          3 2011-01-17      8091  216425     133.9500    133.9500   \n",
       "3          4 2011-01-17      8091  216233     133.9500    133.9500   \n",
       "4          5 2011-01-17      8091  217390     141.0750    141.0750   \n",
       "\n",
       "   is_featured_sku  is_display_sku  units_sold  \n",
       "0                0               0          20  \n",
       "1                0               0          28  \n",
       "2                0               0          19  \n",
       "3                0               0          44  \n",
       "4                0               0          52  "
      ]
     },
     "execution_count": 5,
     "metadata": {},
     "output_type": "execute_result"
    },
    {
     "data": {
      "text/plain": [
       "(150150, 9)"
      ]
     },
     "execution_count": 5,
     "metadata": {},
     "output_type": "execute_result"
    },
    {
     "name": "stdout",
     "output_type": "stream",
     "text": [
      "<class 'pandas.core.frame.DataFrame'>\n",
      "RangeIndex: 150150 entries, 0 to 150149\n",
      "Data columns (total 9 columns):\n",
      " #   Column           Non-Null Count   Dtype         \n",
      "---  ------           --------------   -----         \n",
      " 0   record_ID        150150 non-null  int64         \n",
      " 1   week             150150 non-null  datetime64[ns]\n",
      " 2   store_id         150150 non-null  int64         \n",
      " 3   sku_id           150150 non-null  int64         \n",
      " 4   total_price      150149 non-null  float64       \n",
      " 5   base_price       150150 non-null  float64       \n",
      " 6   is_featured_sku  150150 non-null  int64         \n",
      " 7   is_display_sku   150150 non-null  int64         \n",
      " 8   units_sold       150150 non-null  int64         \n",
      "dtypes: datetime64[ns](1), float64(2), int64(6)\n",
      "memory usage: 10.3 MB\n"
     ]
    }
   ],
   "source": [
    "# Characteristics of data\n",
    "df.head()\n",
    "df.shape\n",
    "df.info()"
   ]
  },
  {
   "cell_type": "code",
   "execution_count": 6,
   "id": "3aab5372",
   "metadata": {},
   "outputs": [
    {
     "data": {
      "text/plain": [
       "Timestamp('2013-07-09 00:00:00')"
      ]
     },
     "execution_count": 6,
     "metadata": {},
     "output_type": "execute_result"
    }
   ],
   "source": [
    "df['week'].max()"
   ]
  },
  {
   "cell_type": "code",
   "execution_count": 7,
   "id": "22df1928",
   "metadata": {},
   "outputs": [
    {
     "data": {
      "text/plain": [
       "Timestamp('2011-01-17 00:00:00')"
      ]
     },
     "execution_count": 7,
     "metadata": {},
     "output_type": "execute_result"
    }
   ],
   "source": [
    "df['week'].min()"
   ]
  },
  {
   "cell_type": "code",
   "execution_count": 8,
   "id": "6b70cc8a",
   "metadata": {},
   "outputs": [
    {
     "data": {
      "text/plain": [
       "record_ID          0\n",
       "week               0\n",
       "store_id           0\n",
       "sku_id             0\n",
       "total_price        1\n",
       "base_price         0\n",
       "is_featured_sku    0\n",
       "is_display_sku     0\n",
       "units_sold         0\n",
       "dtype: int64"
      ]
     },
     "execution_count": 8,
     "metadata": {},
     "output_type": "execute_result"
    }
   ],
   "source": [
    "# Check null values in the data\n",
    "df.isnull().sum()"
   ]
  },
  {
   "cell_type": "code",
   "execution_count": 9,
   "id": "dd303165",
   "metadata": {},
   "outputs": [
    {
     "data": {
      "text/plain": [
       "record_ID          0\n",
       "week               0\n",
       "store_id           0\n",
       "sku_id             0\n",
       "total_price        0\n",
       "base_price         0\n",
       "is_featured_sku    0\n",
       "is_display_sku     0\n",
       "units_sold         0\n",
       "dtype: int64"
      ]
     },
     "execution_count": 9,
     "metadata": {},
     "output_type": "execute_result"
    }
   ],
   "source": [
    "# Since total no. of rows = 150150 and the null value is only in 1 row, therefore, we will remove the null row\n",
    "# Calculate the total number of rows\n",
    "total_rows = len(df)\n",
    "# Calculate the number of rows with missing values\n",
    "na_rows = df.isna().any(axis=1).sum()\n",
    "if na_rows < total_rows * 0.01:\n",
    "    df.dropna(inplace=True)\n",
    "else:\n",
    "    # Fill missing values with the average of store_id and sku_id combination\n",
    "    df.fillna(df.groupby(['store_id', 'sku_id']).transform('mean'), inplace=True)\n",
    "df.isnull().sum()"
   ]
  },
  {
   "cell_type": "code",
   "execution_count": 10,
   "id": "e191446c",
   "metadata": {},
   "outputs": [
    {
     "data": {
      "text/plain": [
       "(150149, 9)"
      ]
     },
     "execution_count": 10,
     "metadata": {},
     "output_type": "execute_result"
    },
    {
     "data": {
      "text/plain": [
       "0"
      ]
     },
     "execution_count": 10,
     "metadata": {},
     "output_type": "execute_result"
    },
    {
     "data": {
      "text/plain": [
       "0"
      ]
     },
     "execution_count": 10,
     "metadata": {},
     "output_type": "execute_result"
    }
   ],
   "source": [
    "# Checking whether there are rows where the total_price or units_sold <=0\n",
    "df.shape\n",
    "df['total_price'].loc[df['total_price']<=0].count()\n",
    "df['units_sold'].loc[df['units_sold']<=0].count()"
   ]
  },
  {
   "cell_type": "code",
   "execution_count": 11,
   "id": "ecc4acda",
   "metadata": {},
   "outputs": [
    {
     "data": {
      "text/plain": [
       "(150149, 9)"
      ]
     },
     "execution_count": 11,
     "metadata": {},
     "output_type": "execute_result"
    }
   ],
   "source": [
    "# Delete rows with negative rows\n",
    "con1 = df['units_sold']<=0\n",
    "con2 = df['total_price']<=0\n",
    "df = df[~(con1 & con2)]\n",
    "df.shape"
   ]
  },
  {
   "cell_type": "code",
   "execution_count": 12,
   "id": "2054cbe3",
   "metadata": {},
   "outputs": [
    {
     "data": {
      "text/plain": [
       "(150149, 9)"
      ]
     },
     "execution_count": 12,
     "metadata": {},
     "output_type": "execute_result"
    },
    {
     "data": {
      "text/plain": [
       "(150149, 9)"
      ]
     },
     "execution_count": 12,
     "metadata": {},
     "output_type": "execute_result"
    }
   ],
   "source": [
    "# Dropping duplicates if any\n",
    "df.shape\n",
    "df = df.drop_duplicates(['week', 'store_id', 'sku_id'])\n",
    "df.shape"
   ]
  },
  {
   "cell_type": "code",
   "execution_count": 13,
   "id": "07a067c9",
   "metadata": {},
   "outputs": [
    {
     "data": {
      "text/html": [
       "<div>\n",
       "<style scoped>\n",
       "    .dataframe tbody tr th:only-of-type {\n",
       "        vertical-align: middle;\n",
       "    }\n",
       "\n",
       "    .dataframe tbody tr th {\n",
       "        vertical-align: top;\n",
       "    }\n",
       "\n",
       "    .dataframe thead th {\n",
       "        text-align: right;\n",
       "    }\n",
       "</style>\n",
       "<table border=\"1\" class=\"dataframe\">\n",
       "  <thead>\n",
       "    <tr style=\"text-align: right;\">\n",
       "      <th></th>\n",
       "      <th>record_ID</th>\n",
       "      <th>week</th>\n",
       "      <th>store_id</th>\n",
       "      <th>sku_id</th>\n",
       "      <th>total_price</th>\n",
       "      <th>base_price</th>\n",
       "      <th>is_featured_sku</th>\n",
       "      <th>is_display_sku</th>\n",
       "      <th>units_sold</th>\n",
       "    </tr>\n",
       "  </thead>\n",
       "  <tbody>\n",
       "    <tr>\n",
       "      <th>150149</th>\n",
       "      <td>212644</td>\n",
       "      <td>2013-07-09</td>\n",
       "      <td>9984</td>\n",
       "      <td>679023</td>\n",
       "      <td>234.4125</td>\n",
       "      <td>234.4125</td>\n",
       "      <td>0</td>\n",
       "      <td>0</td>\n",
       "      <td>15</td>\n",
       "    </tr>\n",
       "    <tr>\n",
       "      <th>149427</th>\n",
       "      <td>211610</td>\n",
       "      <td>2013-07-09</td>\n",
       "      <td>9164</td>\n",
       "      <td>378934</td>\n",
       "      <td>213.0375</td>\n",
       "      <td>213.0375</td>\n",
       "      <td>0</td>\n",
       "      <td>0</td>\n",
       "      <td>16</td>\n",
       "    </tr>\n",
       "    <tr>\n",
       "      <th>149375</th>\n",
       "      <td>211530</td>\n",
       "      <td>2013-07-09</td>\n",
       "      <td>9112</td>\n",
       "      <td>216418</td>\n",
       "      <td>110.4375</td>\n",
       "      <td>110.4375</td>\n",
       "      <td>0</td>\n",
       "      <td>0</td>\n",
       "      <td>162</td>\n",
       "    </tr>\n",
       "    <tr>\n",
       "      <th>149376</th>\n",
       "      <td>211531</td>\n",
       "      <td>2013-07-09</td>\n",
       "      <td>9112</td>\n",
       "      <td>216419</td>\n",
       "      <td>109.7250</td>\n",
       "      <td>109.7250</td>\n",
       "      <td>0</td>\n",
       "      <td>0</td>\n",
       "      <td>137</td>\n",
       "    </tr>\n",
       "    <tr>\n",
       "      <th>149377</th>\n",
       "      <td>211532</td>\n",
       "      <td>2013-07-09</td>\n",
       "      <td>9112</td>\n",
       "      <td>300021</td>\n",
       "      <td>109.0125</td>\n",
       "      <td>109.0125</td>\n",
       "      <td>0</td>\n",
       "      <td>0</td>\n",
       "      <td>108</td>\n",
       "    </tr>\n",
       "  </tbody>\n",
       "</table>\n",
       "</div>"
      ],
      "text/plain": [
       "        record_ID       week  store_id  sku_id  total_price  base_price  \\\n",
       "150149     212644 2013-07-09      9984  679023     234.4125    234.4125   \n",
       "149427     211610 2013-07-09      9164  378934     213.0375    213.0375   \n",
       "149375     211530 2013-07-09      9112  216418     110.4375    110.4375   \n",
       "149376     211531 2013-07-09      9112  216419     109.7250    109.7250   \n",
       "149377     211532 2013-07-09      9112  300021     109.0125    109.0125   \n",
       "\n",
       "        is_featured_sku  is_display_sku  units_sold  \n",
       "150149                0               0          15  \n",
       "149427                0               0          16  \n",
       "149375                0               0         162  \n",
       "149376                0               0         137  \n",
       "149377                0               0         108  "
      ]
     },
     "execution_count": 13,
     "metadata": {},
     "output_type": "execute_result"
    }
   ],
   "source": [
    "# Sort dataframe by date column in chronological order\n",
    "df = df.sort_values(by='week', ascending=False)\n",
    "df.head()"
   ]
  },
  {
   "cell_type": "code",
   "execution_count": 14,
   "id": "2b75708f",
   "metadata": {},
   "outputs": [],
   "source": [
    "# Function to create data frame for the selected store_id and sku_id\n",
    "def create_dataframe(sku_id, df):\n",
    "    # Filter the data for the specified store_id and sku_id\n",
    "    filtered_data = df[(df['sku_id'] == sku_id)]\n",
    "\n",
    "    # If no data is found for the specified sku_id, return None\n",
    "    if filtered_data.empty:\n",
    "        print(\"No data found for the specified sku_id.\")\n",
    "        return None\n",
    "\n",
    "    return filtered_data"
   ]
  },
  {
   "cell_type": "code",
   "execution_count": 15,
   "id": "093f17cd",
   "metadata": {},
   "outputs": [],
   "source": [
    "# Get user input for sku_id\n",
    "#sku_id = int(input(\"Enter sku_id: \"))\n",
    "sku_id=216425"
   ]
  },
  {
   "cell_type": "code",
   "execution_count": 16,
   "id": "c61a03ba",
   "metadata": {},
   "outputs": [
    {
     "data": {
      "text/html": [
       "<div>\n",
       "<style scoped>\n",
       "    .dataframe tbody tr th:only-of-type {\n",
       "        vertical-align: middle;\n",
       "    }\n",
       "\n",
       "    .dataframe tbody tr th {\n",
       "        vertical-align: top;\n",
       "    }\n",
       "\n",
       "    .dataframe thead th {\n",
       "        text-align: right;\n",
       "    }\n",
       "</style>\n",
       "<table border=\"1\" class=\"dataframe\">\n",
       "  <thead>\n",
       "    <tr style=\"text-align: right;\">\n",
       "      <th></th>\n",
       "      <th>record_ID</th>\n",
       "      <th>week</th>\n",
       "      <th>store_id</th>\n",
       "      <th>sku_id</th>\n",
       "      <th>total_price</th>\n",
       "      <th>base_price</th>\n",
       "      <th>is_featured_sku</th>\n",
       "      <th>is_display_sku</th>\n",
       "      <th>units_sold</th>\n",
       "    </tr>\n",
       "  </thead>\n",
       "  <tbody>\n",
       "    <tr>\n",
       "      <th>149378</th>\n",
       "      <td>211535</td>\n",
       "      <td>2013-07-09</td>\n",
       "      <td>9112</td>\n",
       "      <td>216425</td>\n",
       "      <td>141.7875</td>\n",
       "      <td>141.7875</td>\n",
       "      <td>0</td>\n",
       "      <td>0</td>\n",
       "      <td>72</td>\n",
       "    </tr>\n",
       "    <tr>\n",
       "      <th>149358</th>\n",
       "      <td>211511</td>\n",
       "      <td>2013-07-09</td>\n",
       "      <td>9092</td>\n",
       "      <td>216425</td>\n",
       "      <td>129.6750</td>\n",
       "      <td>129.6750</td>\n",
       "      <td>0</td>\n",
       "      <td>0</td>\n",
       "      <td>18</td>\n",
       "    </tr>\n",
       "    <tr>\n",
       "      <th>149420</th>\n",
       "      <td>211602</td>\n",
       "      <td>2013-07-09</td>\n",
       "      <td>9164</td>\n",
       "      <td>216425</td>\n",
       "      <td>141.0750</td>\n",
       "      <td>141.0750</td>\n",
       "      <td>0</td>\n",
       "      <td>0</td>\n",
       "      <td>44</td>\n",
       "    </tr>\n",
       "    <tr>\n",
       "      <th>149394</th>\n",
       "      <td>211560</td>\n",
       "      <td>2013-07-09</td>\n",
       "      <td>9132</td>\n",
       "      <td>216425</td>\n",
       "      <td>131.8125</td>\n",
       "      <td>131.8125</td>\n",
       "      <td>0</td>\n",
       "      <td>0</td>\n",
       "      <td>13</td>\n",
       "    </tr>\n",
       "    <tr>\n",
       "      <th>149406</th>\n",
       "      <td>211580</td>\n",
       "      <td>2013-07-09</td>\n",
       "      <td>9147</td>\n",
       "      <td>216425</td>\n",
       "      <td>133.2375</td>\n",
       "      <td>133.2375</td>\n",
       "      <td>0</td>\n",
       "      <td>0</td>\n",
       "      <td>61</td>\n",
       "    </tr>\n",
       "  </tbody>\n",
       "</table>\n",
       "</div>"
      ],
      "text/plain": [
       "        record_ID       week  store_id  sku_id  total_price  base_price  \\\n",
       "149378     211535 2013-07-09      9112  216425     141.7875    141.7875   \n",
       "149358     211511 2013-07-09      9092  216425     129.6750    129.6750   \n",
       "149420     211602 2013-07-09      9164  216425     141.0750    141.0750   \n",
       "149394     211560 2013-07-09      9132  216425     131.8125    131.8125   \n",
       "149406     211580 2013-07-09      9147  216425     133.2375    133.2375   \n",
       "\n",
       "        is_featured_sku  is_display_sku  units_sold  \n",
       "149378                0               0          72  \n",
       "149358                0               0          18  \n",
       "149420                0               0          44  \n",
       "149394                0               0          13  \n",
       "149406                0               0          61  "
      ]
     },
     "execution_count": 16,
     "metadata": {},
     "output_type": "execute_result"
    },
    {
     "data": {
      "text/plain": [
       "(8580, 9)"
      ]
     },
     "execution_count": 16,
     "metadata": {},
     "output_type": "execute_result"
    }
   ],
   "source": [
    "# Call the function with user inputs to create dataframe of selected store_id and sku_id\n",
    "df_selected = create_dataframe(sku_id,df)\n",
    "if df_selected is not None:\n",
    "    df_selected.head()\n",
    "    df_selected.shape"
   ]
  },
  {
   "cell_type": "code",
   "execution_count": 17,
   "id": "57a9dd9b",
   "metadata": {},
   "outputs": [],
   "source": [
    "#df_selected = df_selected.drop(columns=['record_ID', 'store_id'])"
   ]
  },
  {
   "cell_type": "code",
   "execution_count": 18,
   "id": "f394e619",
   "metadata": {},
   "outputs": [
    {
     "data": {
      "text/html": [
       "<div>\n",
       "<style scoped>\n",
       "    .dataframe tbody tr th:only-of-type {\n",
       "        vertical-align: middle;\n",
       "    }\n",
       "\n",
       "    .dataframe tbody tr th {\n",
       "        vertical-align: top;\n",
       "    }\n",
       "\n",
       "    .dataframe thead th {\n",
       "        text-align: right;\n",
       "    }\n",
       "</style>\n",
       "<table border=\"1\" class=\"dataframe\">\n",
       "  <thead>\n",
       "    <tr style=\"text-align: right;\">\n",
       "      <th></th>\n",
       "      <th>record_ID</th>\n",
       "      <th>week</th>\n",
       "      <th>store_id</th>\n",
       "      <th>sku_id</th>\n",
       "      <th>total_price</th>\n",
       "      <th>base_price</th>\n",
       "      <th>is_featured_sku</th>\n",
       "      <th>is_display_sku</th>\n",
       "      <th>units_sold</th>\n",
       "    </tr>\n",
       "  </thead>\n",
       "  <tbody>\n",
       "    <tr>\n",
       "      <th>149378</th>\n",
       "      <td>211535</td>\n",
       "      <td>2013-07-09</td>\n",
       "      <td>9112</td>\n",
       "      <td>216425</td>\n",
       "      <td>141.7875</td>\n",
       "      <td>141.7875</td>\n",
       "      <td>0</td>\n",
       "      <td>0</td>\n",
       "      <td>72</td>\n",
       "    </tr>\n",
       "    <tr>\n",
       "      <th>149358</th>\n",
       "      <td>211511</td>\n",
       "      <td>2013-07-09</td>\n",
       "      <td>9092</td>\n",
       "      <td>216425</td>\n",
       "      <td>129.6750</td>\n",
       "      <td>129.6750</td>\n",
       "      <td>0</td>\n",
       "      <td>0</td>\n",
       "      <td>18</td>\n",
       "    </tr>\n",
       "    <tr>\n",
       "      <th>149420</th>\n",
       "      <td>211602</td>\n",
       "      <td>2013-07-09</td>\n",
       "      <td>9164</td>\n",
       "      <td>216425</td>\n",
       "      <td>141.0750</td>\n",
       "      <td>141.0750</td>\n",
       "      <td>0</td>\n",
       "      <td>0</td>\n",
       "      <td>44</td>\n",
       "    </tr>\n",
       "    <tr>\n",
       "      <th>149394</th>\n",
       "      <td>211560</td>\n",
       "      <td>2013-07-09</td>\n",
       "      <td>9132</td>\n",
       "      <td>216425</td>\n",
       "      <td>131.8125</td>\n",
       "      <td>131.8125</td>\n",
       "      <td>0</td>\n",
       "      <td>0</td>\n",
       "      <td>13</td>\n",
       "    </tr>\n",
       "    <tr>\n",
       "      <th>149406</th>\n",
       "      <td>211580</td>\n",
       "      <td>2013-07-09</td>\n",
       "      <td>9147</td>\n",
       "      <td>216425</td>\n",
       "      <td>133.2375</td>\n",
       "      <td>133.2375</td>\n",
       "      <td>0</td>\n",
       "      <td>0</td>\n",
       "      <td>61</td>\n",
       "    </tr>\n",
       "  </tbody>\n",
       "</table>\n",
       "</div>"
      ],
      "text/plain": [
       "        record_ID       week  store_id  sku_id  total_price  base_price  \\\n",
       "149378     211535 2013-07-09      9112  216425     141.7875    141.7875   \n",
       "149358     211511 2013-07-09      9092  216425     129.6750    129.6750   \n",
       "149420     211602 2013-07-09      9164  216425     141.0750    141.0750   \n",
       "149394     211560 2013-07-09      9132  216425     131.8125    131.8125   \n",
       "149406     211580 2013-07-09      9147  216425     133.2375    133.2375   \n",
       "\n",
       "        is_featured_sku  is_display_sku  units_sold  \n",
       "149378                0               0          72  \n",
       "149358                0               0          18  \n",
       "149420                0               0          44  \n",
       "149394                0               0          13  \n",
       "149406                0               0          61  "
      ]
     },
     "execution_count": 18,
     "metadata": {},
     "output_type": "execute_result"
    }
   ],
   "source": [
    "df_selected.head()"
   ]
  },
  {
   "cell_type": "code",
   "execution_count": 19,
   "id": "9625818b",
   "metadata": {},
   "outputs": [],
   "source": [
    "# Group by sku_id and week and perform aggregation\n",
    "#df_selected = df.groupby(['sku_id','week']).agg({\n",
    "#    'total_price': 'mean',\n",
    "#    'base_price': 'mean',\n",
    "#    'is_featured_sku': 'max',\n",
    "#    'is_display_sku': 'max',\n",
    "#    'units_sold': 'sum'\n",
    "#}).reset_index()\n",
    "\n",
    "# Print the aggregated DataFrame\n",
    "#print(df_selected)"
   ]
  },
  {
   "cell_type": "code",
   "execution_count": 20,
   "id": "554a2094",
   "metadata": {},
   "outputs": [],
   "source": [
    "# Pre-processing the data\n",
    "def preprocess_data(df):\n",
    "    # Convert 'week' column to datetime type and extract seasonality features\n",
    "    df['week'] = pd.to_datetime(df['week'])\n",
    "    df['month'] = df['week'].dt.month\n",
    "    df['year'] = df['week'].dt.year\n",
    "    df['day_of_week'] = df['week'].dt.dayofweek\n",
    "    df['day_of_month'] = df['week'].dt.day\n",
    "    df['discount'] = df['base_price'] - df['total_price']\n",
    "    # Encode categorical variables 'is_featured_sku' and 'is_display_sku'\n",
    "    label_encoder = LabelEncoder()\n",
    "    df['is_featured_sku'] = label_encoder.fit_transform(df['is_featured_sku'])\n",
    "    df['is_display_sku'] = label_encoder.fit_transform(df['is_display_sku'])\n",
    "    \n",
    "    return df"
   ]
  },
  {
   "cell_type": "code",
   "execution_count": 21,
   "id": "468c0d0c",
   "metadata": {},
   "outputs": [],
   "source": [
    "# Call the function to pre-process the data\n",
    "df_processed = preprocess_data(df_selected)"
   ]
  },
  {
   "cell_type": "code",
   "execution_count": 22,
   "id": "cf8f1c30",
   "metadata": {},
   "outputs": [
    {
     "data": {
      "text/html": [
       "<div>\n",
       "<style scoped>\n",
       "    .dataframe tbody tr th:only-of-type {\n",
       "        vertical-align: middle;\n",
       "    }\n",
       "\n",
       "    .dataframe tbody tr th {\n",
       "        vertical-align: top;\n",
       "    }\n",
       "\n",
       "    .dataframe thead th {\n",
       "        text-align: right;\n",
       "    }\n",
       "</style>\n",
       "<table border=\"1\" class=\"dataframe\">\n",
       "  <thead>\n",
       "    <tr style=\"text-align: right;\">\n",
       "      <th></th>\n",
       "      <th>record_ID</th>\n",
       "      <th>week</th>\n",
       "      <th>store_id</th>\n",
       "      <th>sku_id</th>\n",
       "      <th>total_price</th>\n",
       "      <th>base_price</th>\n",
       "      <th>is_featured_sku</th>\n",
       "      <th>is_display_sku</th>\n",
       "      <th>units_sold</th>\n",
       "      <th>month</th>\n",
       "      <th>year</th>\n",
       "      <th>day_of_week</th>\n",
       "      <th>day_of_month</th>\n",
       "      <th>discount</th>\n",
       "    </tr>\n",
       "  </thead>\n",
       "  <tbody>\n",
       "    <tr>\n",
       "      <th>149378</th>\n",
       "      <td>211535</td>\n",
       "      <td>2013-07-09</td>\n",
       "      <td>9112</td>\n",
       "      <td>216425</td>\n",
       "      <td>141.7875</td>\n",
       "      <td>141.7875</td>\n",
       "      <td>0</td>\n",
       "      <td>0</td>\n",
       "      <td>72</td>\n",
       "      <td>7</td>\n",
       "      <td>2013</td>\n",
       "      <td>1</td>\n",
       "      <td>9</td>\n",
       "      <td>0.0</td>\n",
       "    </tr>\n",
       "    <tr>\n",
       "      <th>149358</th>\n",
       "      <td>211511</td>\n",
       "      <td>2013-07-09</td>\n",
       "      <td>9092</td>\n",
       "      <td>216425</td>\n",
       "      <td>129.6750</td>\n",
       "      <td>129.6750</td>\n",
       "      <td>0</td>\n",
       "      <td>0</td>\n",
       "      <td>18</td>\n",
       "      <td>7</td>\n",
       "      <td>2013</td>\n",
       "      <td>1</td>\n",
       "      <td>9</td>\n",
       "      <td>0.0</td>\n",
       "    </tr>\n",
       "    <tr>\n",
       "      <th>149420</th>\n",
       "      <td>211602</td>\n",
       "      <td>2013-07-09</td>\n",
       "      <td>9164</td>\n",
       "      <td>216425</td>\n",
       "      <td>141.0750</td>\n",
       "      <td>141.0750</td>\n",
       "      <td>0</td>\n",
       "      <td>0</td>\n",
       "      <td>44</td>\n",
       "      <td>7</td>\n",
       "      <td>2013</td>\n",
       "      <td>1</td>\n",
       "      <td>9</td>\n",
       "      <td>0.0</td>\n",
       "    </tr>\n",
       "    <tr>\n",
       "      <th>149394</th>\n",
       "      <td>211560</td>\n",
       "      <td>2013-07-09</td>\n",
       "      <td>9132</td>\n",
       "      <td>216425</td>\n",
       "      <td>131.8125</td>\n",
       "      <td>131.8125</td>\n",
       "      <td>0</td>\n",
       "      <td>0</td>\n",
       "      <td>13</td>\n",
       "      <td>7</td>\n",
       "      <td>2013</td>\n",
       "      <td>1</td>\n",
       "      <td>9</td>\n",
       "      <td>0.0</td>\n",
       "    </tr>\n",
       "    <tr>\n",
       "      <th>149406</th>\n",
       "      <td>211580</td>\n",
       "      <td>2013-07-09</td>\n",
       "      <td>9147</td>\n",
       "      <td>216425</td>\n",
       "      <td>133.2375</td>\n",
       "      <td>133.2375</td>\n",
       "      <td>0</td>\n",
       "      <td>0</td>\n",
       "      <td>61</td>\n",
       "      <td>7</td>\n",
       "      <td>2013</td>\n",
       "      <td>1</td>\n",
       "      <td>9</td>\n",
       "      <td>0.0</td>\n",
       "    </tr>\n",
       "  </tbody>\n",
       "</table>\n",
       "</div>"
      ],
      "text/plain": [
       "        record_ID       week  store_id  sku_id  total_price  base_price  \\\n",
       "149378     211535 2013-07-09      9112  216425     141.7875    141.7875   \n",
       "149358     211511 2013-07-09      9092  216425     129.6750    129.6750   \n",
       "149420     211602 2013-07-09      9164  216425     141.0750    141.0750   \n",
       "149394     211560 2013-07-09      9132  216425     131.8125    131.8125   \n",
       "149406     211580 2013-07-09      9147  216425     133.2375    133.2375   \n",
       "\n",
       "        is_featured_sku  is_display_sku  units_sold  month  year  day_of_week  \\\n",
       "149378                0               0          72      7  2013            1   \n",
       "149358                0               0          18      7  2013            1   \n",
       "149420                0               0          44      7  2013            1   \n",
       "149394                0               0          13      7  2013            1   \n",
       "149406                0               0          61      7  2013            1   \n",
       "\n",
       "        day_of_month  discount  \n",
       "149378             9       0.0  \n",
       "149358             9       0.0  \n",
       "149420             9       0.0  \n",
       "149394             9       0.0  \n",
       "149406             9       0.0  "
      ]
     },
     "execution_count": 22,
     "metadata": {},
     "output_type": "execute_result"
    }
   ],
   "source": [
    "df_processed.head()"
   ]
  },
  {
   "cell_type": "code",
   "execution_count": 23,
   "id": "4d5eac87",
   "metadata": {},
   "outputs": [],
   "source": [
    "#df_processed.drop(['week'], inplace=True, axis = 1)"
   ]
  },
  {
   "cell_type": "code",
   "execution_count": 24,
   "id": "125fefb4",
   "metadata": {},
   "outputs": [
    {
     "data": {
      "text/html": [
       "<div>\n",
       "<style scoped>\n",
       "    .dataframe tbody tr th:only-of-type {\n",
       "        vertical-align: middle;\n",
       "    }\n",
       "\n",
       "    .dataframe tbody tr th {\n",
       "        vertical-align: top;\n",
       "    }\n",
       "\n",
       "    .dataframe thead th {\n",
       "        text-align: right;\n",
       "    }\n",
       "</style>\n",
       "<table border=\"1\" class=\"dataframe\">\n",
       "  <thead>\n",
       "    <tr style=\"text-align: right;\">\n",
       "      <th></th>\n",
       "      <th>record_ID</th>\n",
       "      <th>week</th>\n",
       "      <th>store_id</th>\n",
       "      <th>sku_id</th>\n",
       "      <th>total_price</th>\n",
       "      <th>base_price</th>\n",
       "      <th>is_featured_sku</th>\n",
       "      <th>is_display_sku</th>\n",
       "      <th>units_sold</th>\n",
       "      <th>month</th>\n",
       "      <th>year</th>\n",
       "      <th>day_of_week</th>\n",
       "      <th>day_of_month</th>\n",
       "      <th>discount</th>\n",
       "    </tr>\n",
       "  </thead>\n",
       "  <tbody>\n",
       "    <tr>\n",
       "      <th>149378</th>\n",
       "      <td>211535</td>\n",
       "      <td>2013-07-09</td>\n",
       "      <td>9112</td>\n",
       "      <td>216425</td>\n",
       "      <td>141.7875</td>\n",
       "      <td>141.7875</td>\n",
       "      <td>0</td>\n",
       "      <td>0</td>\n",
       "      <td>72</td>\n",
       "      <td>7</td>\n",
       "      <td>2013</td>\n",
       "      <td>1</td>\n",
       "      <td>9</td>\n",
       "      <td>0.0</td>\n",
       "    </tr>\n",
       "    <tr>\n",
       "      <th>149358</th>\n",
       "      <td>211511</td>\n",
       "      <td>2013-07-09</td>\n",
       "      <td>9092</td>\n",
       "      <td>216425</td>\n",
       "      <td>129.6750</td>\n",
       "      <td>129.6750</td>\n",
       "      <td>0</td>\n",
       "      <td>0</td>\n",
       "      <td>18</td>\n",
       "      <td>7</td>\n",
       "      <td>2013</td>\n",
       "      <td>1</td>\n",
       "      <td>9</td>\n",
       "      <td>0.0</td>\n",
       "    </tr>\n",
       "    <tr>\n",
       "      <th>149420</th>\n",
       "      <td>211602</td>\n",
       "      <td>2013-07-09</td>\n",
       "      <td>9164</td>\n",
       "      <td>216425</td>\n",
       "      <td>141.0750</td>\n",
       "      <td>141.0750</td>\n",
       "      <td>0</td>\n",
       "      <td>0</td>\n",
       "      <td>44</td>\n",
       "      <td>7</td>\n",
       "      <td>2013</td>\n",
       "      <td>1</td>\n",
       "      <td>9</td>\n",
       "      <td>0.0</td>\n",
       "    </tr>\n",
       "    <tr>\n",
       "      <th>149394</th>\n",
       "      <td>211560</td>\n",
       "      <td>2013-07-09</td>\n",
       "      <td>9132</td>\n",
       "      <td>216425</td>\n",
       "      <td>131.8125</td>\n",
       "      <td>131.8125</td>\n",
       "      <td>0</td>\n",
       "      <td>0</td>\n",
       "      <td>13</td>\n",
       "      <td>7</td>\n",
       "      <td>2013</td>\n",
       "      <td>1</td>\n",
       "      <td>9</td>\n",
       "      <td>0.0</td>\n",
       "    </tr>\n",
       "    <tr>\n",
       "      <th>149406</th>\n",
       "      <td>211580</td>\n",
       "      <td>2013-07-09</td>\n",
       "      <td>9147</td>\n",
       "      <td>216425</td>\n",
       "      <td>133.2375</td>\n",
       "      <td>133.2375</td>\n",
       "      <td>0</td>\n",
       "      <td>0</td>\n",
       "      <td>61</td>\n",
       "      <td>7</td>\n",
       "      <td>2013</td>\n",
       "      <td>1</td>\n",
       "      <td>9</td>\n",
       "      <td>0.0</td>\n",
       "    </tr>\n",
       "  </tbody>\n",
       "</table>\n",
       "</div>"
      ],
      "text/plain": [
       "        record_ID       week  store_id  sku_id  total_price  base_price  \\\n",
       "149378     211535 2013-07-09      9112  216425     141.7875    141.7875   \n",
       "149358     211511 2013-07-09      9092  216425     129.6750    129.6750   \n",
       "149420     211602 2013-07-09      9164  216425     141.0750    141.0750   \n",
       "149394     211560 2013-07-09      9132  216425     131.8125    131.8125   \n",
       "149406     211580 2013-07-09      9147  216425     133.2375    133.2375   \n",
       "\n",
       "        is_featured_sku  is_display_sku  units_sold  month  year  day_of_week  \\\n",
       "149378                0               0          72      7  2013            1   \n",
       "149358                0               0          18      7  2013            1   \n",
       "149420                0               0          44      7  2013            1   \n",
       "149394                0               0          13      7  2013            1   \n",
       "149406                0               0          61      7  2013            1   \n",
       "\n",
       "        day_of_month  discount  \n",
       "149378             9       0.0  \n",
       "149358             9       0.0  \n",
       "149420             9       0.0  \n",
       "149394             9       0.0  \n",
       "149406             9       0.0  "
      ]
     },
     "execution_count": 24,
     "metadata": {},
     "output_type": "execute_result"
    }
   ],
   "source": [
    "df_processed.head()"
   ]
  },
  {
   "cell_type": "code",
   "execution_count": 25,
   "id": "c69940ac",
   "metadata": {},
   "outputs": [
    {
     "name": "stdout",
     "output_type": "stream",
     "text": [
      "ADF Statistic: -7.585355344646755\n",
      "p-value: 2.6155227314869616e-11\n"
     ]
    }
   ],
   "source": [
    "# Check if the data is stationary\n",
    "result = adfuller(df_processed['units_sold'].dropna())\n",
    "# Print the test statistic and p-value\n",
    "print('ADF Statistic:', result[0])\n",
    "print('p-value:', result[1])"
   ]
  },
  {
   "cell_type": "code",
   "execution_count": 26,
   "id": "842bcd25",
   "metadata": {},
   "outputs": [],
   "source": [
    "# Since the p-value is below 0.05,\n",
    "# the data can be assumed to be stationary hence we can proceed with the data without any transformation."
   ]
  },
  {
   "cell_type": "code",
   "execution_count": 27,
   "id": "7e12d333",
   "metadata": {},
   "outputs": [
    {
     "data": {
      "text/plain": [
       "(8580, 14)"
      ]
     },
     "execution_count": 27,
     "metadata": {},
     "output_type": "execute_result"
    }
   ],
   "source": [
    "df_processed.shape"
   ]
  },
  {
   "cell_type": "code",
   "execution_count": 28,
   "id": "eba71f3d",
   "metadata": {},
   "outputs": [
    {
     "data": {
      "text/plain": [
       "1.4209199486838835"
      ]
     },
     "execution_count": 28,
     "metadata": {},
     "output_type": "execute_result"
    }
   ],
   "source": [
    "df_processed['units_sold'].skew()"
   ]
  },
  {
   "cell_type": "code",
   "execution_count": 29,
   "id": "f88db18d",
   "metadata": {},
   "outputs": [],
   "source": [
    "# units sold is highly positively skewed since skewness > 1"
   ]
  },
  {
   "cell_type": "code",
   "execution_count": 30,
   "id": "3b821fdc",
   "metadata": {},
   "outputs": [
    {
     "data": {
      "text/plain": [
       "<Axes: >"
      ]
     },
     "execution_count": 30,
     "metadata": {},
     "output_type": "execute_result"
    },
    {
     "data": {
      "image/png": "[encoded data removed]",
      "text/plain": [
       "<Figure size 640x480 with 1 Axes>"
      ]
     },
     "metadata": {},
     "output_type": "display_data"
    }
   ],
   "source": [
    "df_processed.units_sold.hist()"
   ]
  },
  {
   "cell_type": "code",
   "execution_count": 31,
   "id": "722c336b",
   "metadata": {},
   "outputs": [
    {
     "data": {
      "text/plain": [
       "<Axes: xlabel='units_sold', ylabel='Density'>"
      ]
     },
     "execution_count": 31,
     "metadata": {},
     "output_type": "execute_result"
    },
    {
     "data": {
      "image/png": "[encoded data removed]",
      "text/plain": [
       "<Figure size 640x480 with 1 Axes>"
      ]
     },
     "metadata": {},
     "output_type": "display_data"
    }
   ],
   "source": [
    "sns.kdeplot(df_processed.units_sold)"
   ]
  },
  {
   "cell_type": "code",
   "execution_count": 32,
   "id": "f2e11038",
   "metadata": {},
   "outputs": [
    {
     "data": {
      "text/plain": [
       "<Figure size 1600x500 with 0 Axes>"
      ]
     },
     "execution_count": 32,
     "metadata": {},
     "output_type": "execute_result"
    },
    {
     "data": {
      "text/plain": [
       "<Axes: >"
      ]
     },
     "execution_count": 32,
     "metadata": {},
     "output_type": "execute_result"
    },
    {
     "data": {
      "text/plain": [
       "<Axes: xlabel='units_sold', ylabel='Density'>"
      ]
     },
     "execution_count": 32,
     "metadata": {},
     "output_type": "execute_result"
    },
    {
     "data": {
      "image/png": "[encoded data removed]",
      "text/plain": [
       "<Figure size 1600x500 with 1 Axes>"
      ]
     },
     "metadata": {},
     "output_type": "display_data"
    }
   ],
   "source": [
    "plt.figure(figsize=(16,5))\n",
    "plt.subplot(1,2,1)\n",
    "sns.distplot(df_processed['units_sold'])\n",
    "plt.show()"
   ]
  },
  {
   "cell_type": "code",
   "execution_count": 33,
   "id": "8fbfd9a5",
   "metadata": {},
   "outputs": [
    {
     "data": {
      "text/plain": [
       "((array([-3.77258292, -3.54529463, -3.42041149, ...,  3.42041149,\n",
       "          3.54529463,  3.77258292]),\n",
       "  array([  1,   1,   1, ..., 177, 181, 190], dtype=int64)),\n",
       " (23.691646652457017, 34.01923076923076, 0.93590491608157))"
      ]
     },
     "execution_count": 33,
     "metadata": {},
     "output_type": "execute_result"
    },
    {
     "data": {
      "image/png": "[encoded data removed]",
      "text/plain": [
       "<Figure size 640x480 with 1 Axes>"
      ]
     },
     "metadata": {},
     "output_type": "display_data"
    }
   ],
   "source": [
    "# Q-Q plot\n",
    "stats.probplot(df_processed.units_sold, plot = pylab)"
   ]
  },
  {
   "cell_type": "code",
   "execution_count": 34,
   "id": "cd236f46",
   "metadata": {},
   "outputs": [
    {
     "data": {
      "text/html": [
       "<div>\n",
       "<style scoped>\n",
       "    .dataframe tbody tr th:only-of-type {\n",
       "        vertical-align: middle;\n",
       "    }\n",
       "\n",
       "    .dataframe tbody tr th {\n",
       "        vertical-align: top;\n",
       "    }\n",
       "\n",
       "    .dataframe thead th {\n",
       "        text-align: right;\n",
       "    }\n",
       "</style>\n",
       "<table border=\"1\" class=\"dataframe\">\n",
       "  <thead>\n",
       "    <tr style=\"text-align: right;\">\n",
       "      <th></th>\n",
       "      <th>record_ID</th>\n",
       "      <th>week</th>\n",
       "      <th>store_id</th>\n",
       "      <th>sku_id</th>\n",
       "      <th>total_price</th>\n",
       "      <th>base_price</th>\n",
       "      <th>is_featured_sku</th>\n",
       "      <th>is_display_sku</th>\n",
       "      <th>units_sold</th>\n",
       "      <th>month</th>\n",
       "      <th>year</th>\n",
       "      <th>day_of_week</th>\n",
       "      <th>day_of_month</th>\n",
       "      <th>discount</th>\n",
       "    </tr>\n",
       "  </thead>\n",
       "  <tbody>\n",
       "    <tr>\n",
       "      <th>4622</th>\n",
       "      <td>6555</td>\n",
       "      <td>2011-02-14</td>\n",
       "      <td>8091</td>\n",
       "      <td>216425</td>\n",
       "      <td>133.2375</td>\n",
       "      <td>133.2375</td>\n",
       "      <td>0</td>\n",
       "      <td>0</td>\n",
       "      <td>23</td>\n",
       "      <td>2</td>\n",
       "      <td>2011</td>\n",
       "      <td>0</td>\n",
       "      <td>14</td>\n",
       "      <td>0.0</td>\n",
       "    </tr>\n",
       "    <tr>\n",
       "      <th>3467</th>\n",
       "      <td>4915</td>\n",
       "      <td>2011-02-07</td>\n",
       "      <td>8091</td>\n",
       "      <td>216425</td>\n",
       "      <td>133.9500</td>\n",
       "      <td>133.9500</td>\n",
       "      <td>0</td>\n",
       "      <td>0</td>\n",
       "      <td>18</td>\n",
       "      <td>2</td>\n",
       "      <td>2011</td>\n",
       "      <td>0</td>\n",
       "      <td>7</td>\n",
       "      <td>0.0</td>\n",
       "    </tr>\n",
       "    <tr>\n",
       "      <th>2312</th>\n",
       "      <td>3279</td>\n",
       "      <td>2011-01-31</td>\n",
       "      <td>8091</td>\n",
       "      <td>216425</td>\n",
       "      <td>133.2375</td>\n",
       "      <td>133.2375</td>\n",
       "      <td>0</td>\n",
       "      <td>0</td>\n",
       "      <td>27</td>\n",
       "      <td>1</td>\n",
       "      <td>2011</td>\n",
       "      <td>0</td>\n",
       "      <td>31</td>\n",
       "      <td>0.0</td>\n",
       "    </tr>\n",
       "    <tr>\n",
       "      <th>1157</th>\n",
       "      <td>1643</td>\n",
       "      <td>2011-01-24</td>\n",
       "      <td>8091</td>\n",
       "      <td>216425</td>\n",
       "      <td>134.6625</td>\n",
       "      <td>134.6625</td>\n",
       "      <td>0</td>\n",
       "      <td>0</td>\n",
       "      <td>17</td>\n",
       "      <td>1</td>\n",
       "      <td>2011</td>\n",
       "      <td>0</td>\n",
       "      <td>24</td>\n",
       "      <td>0.0</td>\n",
       "    </tr>\n",
       "    <tr>\n",
       "      <th>2</th>\n",
       "      <td>3</td>\n",
       "      <td>2011-01-17</td>\n",
       "      <td>8091</td>\n",
       "      <td>216425</td>\n",
       "      <td>133.9500</td>\n",
       "      <td>133.9500</td>\n",
       "      <td>0</td>\n",
       "      <td>0</td>\n",
       "      <td>19</td>\n",
       "      <td>1</td>\n",
       "      <td>2011</td>\n",
       "      <td>0</td>\n",
       "      <td>17</td>\n",
       "      <td>0.0</td>\n",
       "    </tr>\n",
       "  </tbody>\n",
       "</table>\n",
       "</div>"
      ],
      "text/plain": [
       "      record_ID       week  store_id  sku_id  total_price  base_price  \\\n",
       "4622       6555 2011-02-14      8091  216425     133.2375    133.2375   \n",
       "3467       4915 2011-02-07      8091  216425     133.9500    133.9500   \n",
       "2312       3279 2011-01-31      8091  216425     133.2375    133.2375   \n",
       "1157       1643 2011-01-24      8091  216425     134.6625    134.6625   \n",
       "2             3 2011-01-17      8091  216425     133.9500    133.9500   \n",
       "\n",
       "      is_featured_sku  is_display_sku  units_sold  month  year  day_of_week  \\\n",
       "4622                0               0          23      2  2011            0   \n",
       "3467                0               0          18      2  2011            0   \n",
       "2312                0               0          27      1  2011            0   \n",
       "1157                0               0          17      1  2011            0   \n",
       "2                   0               0          19      1  2011            0   \n",
       "\n",
       "      day_of_month  discount  \n",
       "4622            14       0.0  \n",
       "3467             7       0.0  \n",
       "2312            31       0.0  \n",
       "1157            24       0.0  \n",
       "2               17       0.0  "
      ]
     },
     "execution_count": 34,
     "metadata": {},
     "output_type": "execute_result"
    }
   ],
   "source": [
    "# Tail of the data\n",
    "df_processed.loc[df_processed['store_id']==8091].tail()"
   ]
  },
  {
   "cell_type": "code",
   "execution_count": 35,
   "id": "f1e824e3",
   "metadata": {},
   "outputs": [],
   "source": [
    "# Logarithmic transformation of data\n",
    "df_processed['units_sold'] = np.log(df_processed['units_sold'])"
   ]
  },
  {
   "cell_type": "code",
   "execution_count": 36,
   "id": "54528f77",
   "metadata": {},
   "outputs": [
    {
     "data": {
      "text/html": [
       "<div>\n",
       "<style scoped>\n",
       "    .dataframe tbody tr th:only-of-type {\n",
       "        vertical-align: middle;\n",
       "    }\n",
       "\n",
       "    .dataframe tbody tr th {\n",
       "        vertical-align: top;\n",
       "    }\n",
       "\n",
       "    .dataframe thead th {\n",
       "        text-align: right;\n",
       "    }\n",
       "</style>\n",
       "<table border=\"1\" class=\"dataframe\">\n",
       "  <thead>\n",
       "    <tr style=\"text-align: right;\">\n",
       "      <th></th>\n",
       "      <th>record_ID</th>\n",
       "      <th>week</th>\n",
       "      <th>store_id</th>\n",
       "      <th>sku_id</th>\n",
       "      <th>total_price</th>\n",
       "      <th>base_price</th>\n",
       "      <th>is_featured_sku</th>\n",
       "      <th>is_display_sku</th>\n",
       "      <th>units_sold</th>\n",
       "      <th>month</th>\n",
       "      <th>year</th>\n",
       "      <th>day_of_week</th>\n",
       "      <th>day_of_month</th>\n",
       "      <th>discount</th>\n",
       "    </tr>\n",
       "  </thead>\n",
       "  <tbody>\n",
       "    <tr>\n",
       "      <th>4622</th>\n",
       "      <td>6555</td>\n",
       "      <td>2011-02-14</td>\n",
       "      <td>8091</td>\n",
       "      <td>216425</td>\n",
       "      <td>133.2375</td>\n",
       "      <td>133.2375</td>\n",
       "      <td>0</td>\n",
       "      <td>0</td>\n",
       "      <td>3.135494</td>\n",
       "      <td>2</td>\n",
       "      <td>2011</td>\n",
       "      <td>0</td>\n",
       "      <td>14</td>\n",
       "      <td>0.0</td>\n",
       "    </tr>\n",
       "    <tr>\n",
       "      <th>3467</th>\n",
       "      <td>4915</td>\n",
       "      <td>2011-02-07</td>\n",
       "      <td>8091</td>\n",
       "      <td>216425</td>\n",
       "      <td>133.9500</td>\n",
       "      <td>133.9500</td>\n",
       "      <td>0</td>\n",
       "      <td>0</td>\n",
       "      <td>2.890372</td>\n",
       "      <td>2</td>\n",
       "      <td>2011</td>\n",
       "      <td>0</td>\n",
       "      <td>7</td>\n",
       "      <td>0.0</td>\n",
       "    </tr>\n",
       "    <tr>\n",
       "      <th>2312</th>\n",
       "      <td>3279</td>\n",
       "      <td>2011-01-31</td>\n",
       "      <td>8091</td>\n",
       "      <td>216425</td>\n",
       "      <td>133.2375</td>\n",
       "      <td>133.2375</td>\n",
       "      <td>0</td>\n",
       "      <td>0</td>\n",
       "      <td>3.295837</td>\n",
       "      <td>1</td>\n",
       "      <td>2011</td>\n",
       "      <td>0</td>\n",
       "      <td>31</td>\n",
       "      <td>0.0</td>\n",
       "    </tr>\n",
       "    <tr>\n",
       "      <th>1157</th>\n",
       "      <td>1643</td>\n",
       "      <td>2011-01-24</td>\n",
       "      <td>8091</td>\n",
       "      <td>216425</td>\n",
       "      <td>134.6625</td>\n",
       "      <td>134.6625</td>\n",
       "      <td>0</td>\n",
       "      <td>0</td>\n",
       "      <td>2.833213</td>\n",
       "      <td>1</td>\n",
       "      <td>2011</td>\n",
       "      <td>0</td>\n",
       "      <td>24</td>\n",
       "      <td>0.0</td>\n",
       "    </tr>\n",
       "    <tr>\n",
       "      <th>2</th>\n",
       "      <td>3</td>\n",
       "      <td>2011-01-17</td>\n",
       "      <td>8091</td>\n",
       "      <td>216425</td>\n",
       "      <td>133.9500</td>\n",
       "      <td>133.9500</td>\n",
       "      <td>0</td>\n",
       "      <td>0</td>\n",
       "      <td>2.944439</td>\n",
       "      <td>1</td>\n",
       "      <td>2011</td>\n",
       "      <td>0</td>\n",
       "      <td>17</td>\n",
       "      <td>0.0</td>\n",
       "    </tr>\n",
       "  </tbody>\n",
       "</table>\n",
       "</div>"
      ],
      "text/plain": [
       "      record_ID       week  store_id  sku_id  total_price  base_price  \\\n",
       "4622       6555 2011-02-14      8091  216425     133.2375    133.2375   \n",
       "3467       4915 2011-02-07      8091  216425     133.9500    133.9500   \n",
       "2312       3279 2011-01-31      8091  216425     133.2375    133.2375   \n",
       "1157       1643 2011-01-24      8091  216425     134.6625    134.6625   \n",
       "2             3 2011-01-17      8091  216425     133.9500    133.9500   \n",
       "\n",
       "      is_featured_sku  is_display_sku  units_sold  month  year  day_of_week  \\\n",
       "4622                0               0    3.135494      2  2011            0   \n",
       "3467                0               0    2.890372      2  2011            0   \n",
       "2312                0               0    3.295837      1  2011            0   \n",
       "1157                0               0    2.833213      1  2011            0   \n",
       "2                   0               0    2.944439      1  2011            0   \n",
       "\n",
       "      day_of_month  discount  \n",
       "4622            14       0.0  \n",
       "3467             7       0.0  \n",
       "2312            31       0.0  \n",
       "1157            24       0.0  \n",
       "2               17       0.0  "
      ]
     },
     "execution_count": 36,
     "metadata": {},
     "output_type": "execute_result"
    }
   ],
   "source": [
    "# Tail of the data\n",
    "df_processed.loc[df_processed['store_id']==8091].tail()"
   ]
  },
  {
   "cell_type": "code",
   "execution_count": 37,
   "id": "bfc22b33",
   "metadata": {},
   "outputs": [
    {
     "data": {
      "text/plain": [
       "-0.39976022280938533"
      ]
     },
     "execution_count": 37,
     "metadata": {},
     "output_type": "execute_result"
    }
   ],
   "source": [
    "df_processed['units_sold'].skew()"
   ]
  },
  {
   "cell_type": "code",
   "execution_count": 38,
   "id": "840af018",
   "metadata": {},
   "outputs": [
    {
     "data": {
      "text/plain": [
       "<Figure size 1600x500 with 0 Axes>"
      ]
     },
     "execution_count": 38,
     "metadata": {},
     "output_type": "execute_result"
    },
    {
     "data": {
      "text/plain": [
       "<Axes: >"
      ]
     },
     "execution_count": 38,
     "metadata": {},
     "output_type": "execute_result"
    },
    {
     "data": {
      "text/plain": [
       "<Axes: xlabel='units_sold', ylabel='Density'>"
      ]
     },
     "execution_count": 38,
     "metadata": {},
     "output_type": "execute_result"
    },
    {
     "data": {
      "text/plain": [
       "<Axes: >"
      ]
     },
     "execution_count": 38,
     "metadata": {},
     "output_type": "execute_result"
    },
    {
     "data": {
      "text/plain": [
       "((array([-3.77258292, -3.54529463, -3.42041149, ...,  3.42041149,\n",
       "          3.54529463,  3.77258292]),\n",
       "  array([0.        , 0.        , 0.        , ..., 5.17614973, 5.19849703,\n",
       "         5.24702407])),\n",
       " (0.7757181233425725, 3.2518085888101997, 0.9938156688996619))"
      ]
     },
     "execution_count": 38,
     "metadata": {},
     "output_type": "execute_result"
    },
    {
     "data": {
      "image/png": "[encoded data removed]",
      "text/plain": [
       "<Figure size 1600x500 with 2 Axes>"
      ]
     },
     "metadata": {},
     "output_type": "display_data"
    }
   ],
   "source": [
    "plt.figure(figsize=(16,5))\n",
    "plt.subplot(1,2,1)\n",
    "sns.distplot(df_processed['units_sold'])\n",
    "plt.subplot(1,2,2)\n",
    "stats.probplot(df_processed['units_sold'], plot = pylab)\n",
    "plt.show()"
   ]
  },
  {
   "cell_type": "code",
   "execution_count": 39,
   "id": "3088f233",
   "metadata": {},
   "outputs": [
    {
     "data": {
      "text/plain": [
       "5.5926190436046035"
      ]
     },
     "execution_count": 39,
     "metadata": {},
     "output_type": "execute_result"
    },
    {
     "data": {
      "text/plain": [
       "0.9109981340157955"
      ]
     },
     "execution_count": 39,
     "metadata": {},
     "output_type": "execute_result"
    }
   ],
   "source": [
    "# Finding the boundary values\n",
    "UL = df_processed['units_sold'].mean() + 3*df_processed['units_sold'].std()\n",
    "LL = df_processed['units_sold'].mean() - 3*df_processed['units_sold'].std()\n",
    "UL\n",
    "LL"
   ]
  },
  {
   "cell_type": "code",
   "execution_count": 40,
   "id": "7a6aefa3",
   "metadata": {},
   "outputs": [
    {
     "data": {
      "text/plain": [
       "(8580, 14)"
      ]
     },
     "execution_count": 40,
     "metadata": {},
     "output_type": "execute_result"
    }
   ],
   "source": [
    "df_processed.shape"
   ]
  },
  {
   "cell_type": "code",
   "execution_count": 41,
   "id": "ce0ac8f0",
   "metadata": {},
   "outputs": [
    {
     "data": {
      "text/plain": [
       "42"
      ]
     },
     "execution_count": 41,
     "metadata": {},
     "output_type": "execute_result"
    }
   ],
   "source": [
    "df_processed['units_sold'].loc[df_processed['units_sold']<LL].count()"
   ]
  },
  {
   "cell_type": "code",
   "execution_count": 42,
   "id": "677cf9d9",
   "metadata": {},
   "outputs": [
    {
     "data": {
      "text/plain": [
       "0"
      ]
     },
     "execution_count": 42,
     "metadata": {},
     "output_type": "execute_result"
    }
   ],
   "source": [
    "df_processed['units_sold'].loc[df_processed['units_sold']>UL].count()"
   ]
  },
  {
   "cell_type": "code",
   "execution_count": 43,
   "id": "01e52893",
   "metadata": {},
   "outputs": [],
   "source": [
    "# Removing outliers\n",
    "condition1 = df_processed['units_sold']>UL\n",
    "condition2 = df_processed['units_sold']<LL\n",
    "df_processed = df_processed[~(condition1 & condition2)]"
   ]
  },
  {
   "cell_type": "code",
   "execution_count": 44,
   "id": "84bfea52",
   "metadata": {},
   "outputs": [
    {
     "data": {
      "text/html": [
       "<div>\n",
       "<style scoped>\n",
       "    .dataframe tbody tr th:only-of-type {\n",
       "        vertical-align: middle;\n",
       "    }\n",
       "\n",
       "    .dataframe tbody tr th {\n",
       "        vertical-align: top;\n",
       "    }\n",
       "\n",
       "    .dataframe thead th {\n",
       "        text-align: right;\n",
       "    }\n",
       "</style>\n",
       "<table border=\"1\" class=\"dataframe\">\n",
       "  <thead>\n",
       "    <tr style=\"text-align: right;\">\n",
       "      <th></th>\n",
       "      <th>record_ID</th>\n",
       "      <th>week</th>\n",
       "      <th>store_id</th>\n",
       "      <th>sku_id</th>\n",
       "      <th>total_price</th>\n",
       "      <th>base_price</th>\n",
       "      <th>is_featured_sku</th>\n",
       "      <th>is_display_sku</th>\n",
       "      <th>units_sold</th>\n",
       "      <th>month</th>\n",
       "      <th>year</th>\n",
       "      <th>day_of_week</th>\n",
       "      <th>day_of_month</th>\n",
       "      <th>discount</th>\n",
       "    </tr>\n",
       "  </thead>\n",
       "  <tbody>\n",
       "    <tr>\n",
       "      <th>149378</th>\n",
       "      <td>211535</td>\n",
       "      <td>2013-07-09</td>\n",
       "      <td>9112</td>\n",
       "      <td>216425</td>\n",
       "      <td>141.7875</td>\n",
       "      <td>141.7875</td>\n",
       "      <td>0</td>\n",
       "      <td>0</td>\n",
       "      <td>4.276666</td>\n",
       "      <td>7</td>\n",
       "      <td>2013</td>\n",
       "      <td>1</td>\n",
       "      <td>9</td>\n",
       "      <td>0.0</td>\n",
       "    </tr>\n",
       "    <tr>\n",
       "      <th>149358</th>\n",
       "      <td>211511</td>\n",
       "      <td>2013-07-09</td>\n",
       "      <td>9092</td>\n",
       "      <td>216425</td>\n",
       "      <td>129.6750</td>\n",
       "      <td>129.6750</td>\n",
       "      <td>0</td>\n",
       "      <td>0</td>\n",
       "      <td>2.890372</td>\n",
       "      <td>7</td>\n",
       "      <td>2013</td>\n",
       "      <td>1</td>\n",
       "      <td>9</td>\n",
       "      <td>0.0</td>\n",
       "    </tr>\n",
       "    <tr>\n",
       "      <th>149420</th>\n",
       "      <td>211602</td>\n",
       "      <td>2013-07-09</td>\n",
       "      <td>9164</td>\n",
       "      <td>216425</td>\n",
       "      <td>141.0750</td>\n",
       "      <td>141.0750</td>\n",
       "      <td>0</td>\n",
       "      <td>0</td>\n",
       "      <td>3.784190</td>\n",
       "      <td>7</td>\n",
       "      <td>2013</td>\n",
       "      <td>1</td>\n",
       "      <td>9</td>\n",
       "      <td>0.0</td>\n",
       "    </tr>\n",
       "    <tr>\n",
       "      <th>149394</th>\n",
       "      <td>211560</td>\n",
       "      <td>2013-07-09</td>\n",
       "      <td>9132</td>\n",
       "      <td>216425</td>\n",
       "      <td>131.8125</td>\n",
       "      <td>131.8125</td>\n",
       "      <td>0</td>\n",
       "      <td>0</td>\n",
       "      <td>2.564949</td>\n",
       "      <td>7</td>\n",
       "      <td>2013</td>\n",
       "      <td>1</td>\n",
       "      <td>9</td>\n",
       "      <td>0.0</td>\n",
       "    </tr>\n",
       "    <tr>\n",
       "      <th>149406</th>\n",
       "      <td>211580</td>\n",
       "      <td>2013-07-09</td>\n",
       "      <td>9147</td>\n",
       "      <td>216425</td>\n",
       "      <td>133.2375</td>\n",
       "      <td>133.2375</td>\n",
       "      <td>0</td>\n",
       "      <td>0</td>\n",
       "      <td>4.110874</td>\n",
       "      <td>7</td>\n",
       "      <td>2013</td>\n",
       "      <td>1</td>\n",
       "      <td>9</td>\n",
       "      <td>0.0</td>\n",
       "    </tr>\n",
       "  </tbody>\n",
       "</table>\n",
       "</div>"
      ],
      "text/plain": [
       "        record_ID       week  store_id  sku_id  total_price  base_price  \\\n",
       "149378     211535 2013-07-09      9112  216425     141.7875    141.7875   \n",
       "149358     211511 2013-07-09      9092  216425     129.6750    129.6750   \n",
       "149420     211602 2013-07-09      9164  216425     141.0750    141.0750   \n",
       "149394     211560 2013-07-09      9132  216425     131.8125    131.8125   \n",
       "149406     211580 2013-07-09      9147  216425     133.2375    133.2375   \n",
       "\n",
       "        is_featured_sku  is_display_sku  units_sold  month  year  day_of_week  \\\n",
       "149378                0               0    4.276666      7  2013            1   \n",
       "149358                0               0    2.890372      7  2013            1   \n",
       "149420                0               0    3.784190      7  2013            1   \n",
       "149394                0               0    2.564949      7  2013            1   \n",
       "149406                0               0    4.110874      7  2013            1   \n",
       "\n",
       "        day_of_month  discount  \n",
       "149378             9       0.0  \n",
       "149358             9       0.0  \n",
       "149420             9       0.0  \n",
       "149394             9       0.0  \n",
       "149406             9       0.0  "
      ]
     },
     "execution_count": 44,
     "metadata": {},
     "output_type": "execute_result"
    }
   ],
   "source": [
    "# Seasonal decompose\n",
    "df_processed.head()"
   ]
  },
  {
   "cell_type": "code",
   "execution_count": 45,
   "id": "ab942e3a",
   "metadata": {},
   "outputs": [],
   "source": [
    "# Pre-processing for seasonal decompose\n",
    "df_seasonal_decompose = df_processed\n",
    "df_seasonal_decompose['week'] = pd.to_datetime(df_seasonal_decompose['week'])\n",
    "df_seasonal_decompose = df_seasonal_decompose.set_index('week')\n",
    "store_id=8091\n",
    "df_seasonal_decompose = df_seasonal_decompose[df_seasonal_decompose['store_id'] == store_id]"
   ]
  },
  {
   "cell_type": "code",
   "execution_count": 46,
   "id": "87354ecd",
   "metadata": {},
   "outputs": [],
   "source": [
    "# Seasonal decomposition\n",
    "result_seasonal_decompose = seasonal_decompose(df_seasonal_decompose['units_sold'], model='additive', period=52)  # Assuming weekly seasonality"
   ]
  },
  {
   "cell_type": "code",
   "execution_count": 47,
   "id": "bc8f2505",
   "metadata": {},
   "outputs": [
    {
     "data": {
      "text/plain": [
       "<Figure size 1200x800 with 0 Axes>"
      ]
     },
     "execution_count": 47,
     "metadata": {},
     "output_type": "execute_result"
    },
    {
     "data": {
      "text/plain": [
       "<Axes: >"
      ]
     },
     "execution_count": 47,
     "metadata": {},
     "output_type": "execute_result"
    },
    {
     "data": {
      "text/plain": [
       "[<matplotlib.lines.Line2D at 0x23099729710>]"
      ]
     },
     "execution_count": 47,
     "metadata": {},
     "output_type": "execute_result"
    },
    {
     "data": {
      "text/plain": [
       "<matplotlib.legend.Legend at 0x2309cb393d0>"
      ]
     },
     "execution_count": 47,
     "metadata": {},
     "output_type": "execute_result"
    },
    {
     "data": {
      "text/plain": [
       "<Axes: >"
      ]
     },
     "execution_count": 47,
     "metadata": {},
     "output_type": "execute_result"
    },
    {
     "data": {
      "text/plain": [
       "[<matplotlib.lines.Line2D at 0x230999e7d50>]"
      ]
     },
     "execution_count": 47,
     "metadata": {},
     "output_type": "execute_result"
    },
    {
     "data": {
      "text/plain": [
       "<matplotlib.legend.Legend at 0x2309998cd90>"
      ]
     },
     "execution_count": 47,
     "metadata": {},
     "output_type": "execute_result"
    },
    {
     "data": {
      "text/plain": [
       "<Axes: >"
      ]
     },
     "execution_count": 47,
     "metadata": {},
     "output_type": "execute_result"
    },
    {
     "data": {
      "text/plain": [
       "[<matplotlib.lines.Line2D at 0x230999e79d0>]"
      ]
     },
     "execution_count": 47,
     "metadata": {},
     "output_type": "execute_result"
    },
    {
     "data": {
      "text/plain": [
       "<matplotlib.legend.Legend at 0x2309df97ad0>"
      ]
     },
     "execution_count": 47,
     "metadata": {},
     "output_type": "execute_result"
    },
    {
     "data": {
      "text/plain": [
       "<Axes: >"
      ]
     },
     "execution_count": 47,
     "metadata": {},
     "output_type": "execute_result"
    },
    {
     "data": {
      "text/plain": [
       "[<matplotlib.lines.Line2D at 0x2309df50dd0>]"
      ]
     },
     "execution_count": 47,
     "metadata": {},
     "output_type": "execute_result"
    },
    {
     "data": {
      "text/plain": [
       "<matplotlib.legend.Legend at 0x2309df6f010>"
      ]
     },
     "execution_count": 47,
     "metadata": {},
     "output_type": "execute_result"
    },
    {
     "data": {
      "image/png": "[encoded data removed]",
      "text/plain": [
       "<Figure size 1200x800 with 4 Axes>"
      ]
     },
     "metadata": {},
     "output_type": "display_data"
    }
   ],
   "source": [
    "# Plot the decomposition\n",
    "plt.figure(figsize=(12, 8))\n",
    "plt.subplot(411)\n",
    "plt.plot(df_seasonal_decompose['units_sold'], label='Original')\n",
    "plt.legend(loc='upper left')\n",
    "plt.subplot(412)\n",
    "plt.plot(result_seasonal_decompose.trend, label='Trend')\n",
    "plt.legend(loc='upper left')\n",
    "plt.subplot(413)\n",
    "plt.plot(result_seasonal_decompose.seasonal, label='Seasonal')\n",
    "plt.legend(loc='upper left')\n",
    "plt.subplot(414)\n",
    "plt.plot(result_seasonal_decompose.resid, label='Residual')\n",
    "plt.legend(loc='upper left')\n",
    "plt.tight_layout()\n",
    "plt.show()"
   ]
  },
  {
   "cell_type": "code",
   "execution_count": 48,
   "id": "6eebcbae",
   "metadata": {},
   "outputs": [
    {
     "ename": "AttributeError",
     "evalue": "'tuple' object has no attribute 'trend'",
     "output_type": "error",
     "traceback": [
      "\u001b[1;31m---------------------------------------------------------------------------\u001b[0m",
      "\u001b[1;31mAttributeError\u001b[0m                            Traceback (most recent call last)",
      "Cell \u001b[1;32mIn[48], line 2\u001b[0m\n\u001b[0;32m      1\u001b[0m \u001b[38;5;66;03m# Calculate metrics\u001b[39;00m\n\u001b[1;32m----> 2\u001b[0m trend_mean \u001b[38;5;241m=\u001b[39m result\u001b[38;5;241m.\u001b[39mtrend\u001b[38;5;241m.\u001b[39mmean()  \u001b[38;5;66;03m# Mean of the trend component\u001b[39;00m\n\u001b[0;32m      3\u001b[0m seasonal_mean \u001b[38;5;241m=\u001b[39m result\u001b[38;5;241m.\u001b[39mseasonal\u001b[38;5;241m.\u001b[39mmean()  \u001b[38;5;66;03m# Mean of the seasonal component\u001b[39;00m\n\u001b[0;32m      4\u001b[0m residual_std \u001b[38;5;241m=\u001b[39m result\u001b[38;5;241m.\u001b[39mresid\u001b[38;5;241m.\u001b[39mstd()  \u001b[38;5;66;03m# Standard deviation of the residual component\u001b[39;00m\n",
      "\u001b[1;31mAttributeError\u001b[0m: 'tuple' object has no attribute 'trend'"
     ]
    }
   ],
   "source": [
    "# Calculate metrics\n",
    "trend_mean = result.trend.mean()  # Mean of the trend component\n",
    "seasonal_mean = result.seasonal.mean()  # Mean of the seasonal component\n",
    "residual_std = result.resid.std()  # Standard deviation of the residual component\n",
    "\n",
    "# Print insights\n",
    "print(\"Insights from Seasonal Decomposition:\")\n",
    "print(f\"Mean of Trend Component: {trend_mean}\")\n",
    "print(f\"Mean of Seasonal Component: {seasonal_mean}\")\n",
    "print(f\"Standard Deviation of Residual Component: {residual_std}\")"
   ]
  },
  {
   "cell_type": "code",
   "execution_count": null,
   "id": "0f418d48",
   "metadata": {},
   "outputs": [],
   "source": [
    "# Calculate the number of rows for testing\n",
    "test_size = int(len(df_processed)*0.2)\n",
    "end_point = len(df_processed)\n",
    "x = end_point - test_size"
   ]
  },
  {
   "cell_type": "code",
   "execution_count": null,
   "id": "b5b2f51d",
   "metadata": {},
   "outputs": [],
   "source": [
    "df_processed.shape\n",
    "test_size\n",
    "end_point\n",
    "x"
   ]
  },
  {
   "cell_type": "code",
   "execution_count": null,
   "id": "3d48f48f",
   "metadata": {},
   "outputs": [],
   "source": [
    "# Split into train and test\n",
    "df_processed_train = df_processed.iloc[:x - 1]\n",
    "df_processed_test = df_processed.iloc[x:]"
   ]
  },
  {
   "cell_type": "code",
   "execution_count": null,
   "id": "82ad4a53",
   "metadata": {},
   "outputs": [],
   "source": [
    "# Check shape of test and train\n",
    "df_processed_train.shape\n",
    "df_processed_test.shape"
   ]
  },
  {
   "cell_type": "code",
   "execution_count": null,
   "id": "24c2b50a",
   "metadata": {},
   "outputs": [],
   "source": [
    "# Processed data\n",
    "df_processed_train.head()\n",
    "df_processed_test.head()"
   ]
  },
  {
   "cell_type": "code",
   "execution_count": null,
   "id": "0b80f28a",
   "metadata": {},
   "outputs": [],
   "source": [
    "X_test = df_processed_test.loc[:, df_processed_test.columns != 'units_sold']\n",
    "y_test = df_processed_test[['units_sold']]\n",
    "X_train = df_processed_train.loc[:, df_processed_train.columns != 'units_sold']\n",
    "y_train = df_processed_train[['units_sold']]"
   ]
  },
  {
   "cell_type": "code",
   "execution_count": null,
   "id": "d0ecc69f",
   "metadata": {},
   "outputs": [],
   "source": [
    "X_test.head()\n",
    "y_test.head()\n",
    "X_train.head()\n",
    "y_train.head()"
   ]
  },
  {
   "cell_type": "code",
   "execution_count": null,
   "id": "44762b87",
   "metadata": {},
   "outputs": [],
   "source": [
    "X_test.reset_index(drop=True, inplace=True)\n",
    "y_test.reset_index(drop=True, inplace=True)\n",
    "X_train.reset_index(drop=True, inplace=True)\n",
    "y_train.reset_index(drop=True, inplace=True)"
   ]
  },
  {
   "cell_type": "code",
   "execution_count": null,
   "id": "5d100330",
   "metadata": {},
   "outputs": [],
   "source": [
    "X_test_sarimax = X_test\n",
    "y_test_sarimax = y_test\n",
    "X_train_sarimax = X_train\n",
    "y_train_sarimax = y_train"
   ]
  },
  {
   "cell_type": "code",
   "execution_count": null,
   "id": "b517472f",
   "metadata": {},
   "outputs": [],
   "source": [
    "X_test.head()\n",
    "y_test.head()\n",
    "X_train.head()\n",
    "y_train.head()"
   ]
  },
  {
   "cell_type": "code",
   "execution_count": null,
   "id": "2e1b5315",
   "metadata": {},
   "outputs": [],
   "source": [
    "type(y_test)"
   ]
  },
  {
   "cell_type": "code",
   "execution_count": null,
   "id": "f569f97b",
   "metadata": {},
   "outputs": [],
   "source": [
    "type(X_test)"
   ]
  },
  {
   "cell_type": "code",
   "execution_count": null,
   "id": "2b145eb0",
   "metadata": {},
   "outputs": [],
   "source": [
    "X_test.set_index('week', inplace=True)\n",
    "X_train.set_index('week', inplace=True)"
   ]
  },
  {
   "cell_type": "code",
   "execution_count": null,
   "id": "0837aa89",
   "metadata": {},
   "outputs": [],
   "source": [
    "def train_random_forest(X_train, y_train):\n",
    "    # Creating a Random Forest regressor\n",
    "    #rf_regressor = RandomForestRegressor(n_estimators=100, random_state=42)\n",
    "\n",
    "    # Training the model\n",
    "    #rf_regressor.fit(X_train, y_train)\n",
    "\n",
    "    # Making predictions on the testing set\n",
    "    rf_regressor = RandomForestRegressor(n_estimators=100, random_state=42)\n",
    "    rf_regressor = RFE(estimator = rf_regressor, n_features_to_select=7)\n",
    "    fit = rf_regressor.fit(X_train, y_train)\n",
    "    y_pred = fit.predict(X_test)\n",
    "    selected_features = X_train.columns[rf_regressor.support_]\n",
    "    print(\"Selected Features:\",selected_features)\n",
    "    \n",
    "    return y_pred, fit"
   ]
  },
  {
   "cell_type": "code",
   "execution_count": null,
   "id": "65373fd6",
   "metadata": {},
   "outputs": [],
   "source": [
    "y_pred, fit = train_random_forest(X_train,y_train)"
   ]
  },
  {
   "cell_type": "code",
   "execution_count": null,
   "id": "b40b8f74",
   "metadata": {},
   "outputs": [],
   "source": [
    "y_pred"
   ]
  },
  {
   "cell_type": "code",
   "execution_count": null,
   "id": "b8b1e11b",
   "metadata": {},
   "outputs": [],
   "source": [
    "#Evaluate accuracy using MAPE\n",
    "y_true = np.array(y_test['units_sold'])\n",
    "sumvalue=np.sum(y_true)\n",
    "mape=np.sum(np.abs((y_true - y_pred)))/sumvalue*100\n",
    "accuracy=100-mape\n",
    "print('Accuracy:', round(accuracy,2),'%.')"
   ]
  },
  {
   "cell_type": "code",
   "execution_count": null,
   "id": "7d2ab269",
   "metadata": {},
   "outputs": [],
   "source": [
    "# Find RMSE\n",
    "mse = mean_squared_error(y_test, y_pred)\n",
    "rmse = np.sqrt(mse)\n",
    "print(\"RMSE:\",rmse)\n",
    "print(\"MSE:\",mse)"
   ]
  },
  {
   "cell_type": "code",
   "execution_count": null,
   "id": "4c701a54",
   "metadata": {},
   "outputs": [],
   "source": [
    "def plot_predictions(y_test, y_pred):\n",
    "    plt.figure(figsize=(10, 6))\n",
    "    plt.scatter(y_test, y_pred, color='blue')\n",
    "    plt.plot([min(y_test), max(y_test)], [min(y_test), max(y_test)], color='red', linestyle='--')\n",
    "    plt.xlabel('Actual units_sold')\n",
    "    plt.ylabel('Predicted units_sold')\n",
    "    plt.title('Actual vs. Predicted units_sold')\n",
    "    plt.show()"
   ]
  },
  {
   "cell_type": "code",
   "execution_count": null,
   "id": "a9922dde",
   "metadata": {},
   "outputs": [],
   "source": [
    "y_test1 = y_test.values.flatten()"
   ]
  },
  {
   "cell_type": "code",
   "execution_count": null,
   "id": "30d065b7",
   "metadata": {},
   "outputs": [],
   "source": [
    "y_test1"
   ]
  },
  {
   "cell_type": "code",
   "execution_count": null,
   "id": "4006ae74",
   "metadata": {},
   "outputs": [],
   "source": [
    "comp = pd.DataFrame(data=[y_test1,y_pred]).T\n",
    "comp.columns=['y_test','y_pred']"
   ]
  },
  {
   "cell_type": "code",
   "execution_count": null,
   "id": "fe856a80",
   "metadata": {},
   "outputs": [],
   "source": [
    "comp"
   ]
  },
  {
   "cell_type": "code",
   "execution_count": null,
   "id": "29089638",
   "metadata": {},
   "outputs": [],
   "source": [
    "plot_predictions(y_test1, y_pred)"
   ]
  },
  {
   "cell_type": "code",
   "execution_count": null,
   "id": "f3cd4c2b",
   "metadata": {},
   "outputs": [],
   "source": [
    "plt.plot (y_test1)"
   ]
  },
  {
   "cell_type": "code",
   "execution_count": null,
   "id": "29b4c6d4",
   "metadata": {},
   "outputs": [],
   "source": [
    "plt.plot (y_pred)"
   ]
  },
  {
   "cell_type": "code",
   "execution_count": null,
   "id": "bee387ef",
   "metadata": {},
   "outputs": [],
   "source": [
    "# Calculation of safety stock factor\n",
    "def calculate_safety_factor(desired_service_level, standard_deviation):\n",
    "    # Calculation Z-score corresponding to the desired service level\n",
    "    z_score = stats.norm.ppf(desired_service_level)\n",
    "    \n",
    "    #Calculate safety factor\n",
    "    safety_factor = z_score * standard_deviation\n",
    "    \n",
    "    return safety_factor"
   ]
  },
  {
   "cell_type": "code",
   "execution_count": null,
   "id": "a991d51b",
   "metadata": {},
   "outputs": [],
   "source": [
    "# Get desired service level\n",
    "#desired_service_level = float(input(\"Enter desired service level (ex: 0.95 for 95%): \"))\n",
    "desired_service_level = 0.9"
   ]
  },
  {
   "cell_type": "code",
   "execution_count": null,
   "id": "68be59c3",
   "metadata": {},
   "outputs": [],
   "source": [
    "# Calculation of standard_deviation\n",
    "filtered_df = df_processed[(df['store_id'] == store_id) & (df_processed['sku_id'] == sku_id)]\n",
    "standard_deviation = filtered_df['units_sold'].std()"
   ]
  },
  {
   "cell_type": "code",
   "execution_count": null,
   "id": "1c80396e",
   "metadata": {},
   "outputs": [],
   "source": [
    "# Calculation of re-order point\n",
    "def calculate_reorder_point (demand_forecast, lead_time, safety_factor):\n",
    "    average_demand = np.mean(demand_forecast)\n",
    "    demand_std = np.std(demand_forecast)\n",
    "    safety_stock = safety_factor * demand_std\n",
    "    safety_stock = safety_stock.round()\n",
    "    reorder_point = average_demand * lead_time + safety_stock\n",
    "    reorder_point = reorder_point.round()\n",
    "    return reorder_point, safety_stock"
   ]
  },
  {
   "cell_type": "code",
   "execution_count": null,
   "id": "c41210f1",
   "metadata": {},
   "outputs": [],
   "source": [
    "# Get user input for sku_id\n",
    "#lead_time = int(input(\"Enter lead time in weeks: \"))\n",
    "lead_time = 2"
   ]
  },
  {
   "cell_type": "code",
   "execution_count": null,
   "id": "b8991707",
   "metadata": {},
   "outputs": [],
   "source": [
    "X_test.shape\n",
    "y_test.shape"
   ]
  },
  {
   "cell_type": "code",
   "execution_count": null,
   "id": "a5230d33",
   "metadata": {},
   "outputs": [],
   "source": [
    "X_test.head()\n",
    "y_test.head()"
   ]
  },
  {
   "cell_type": "code",
   "execution_count": null,
   "id": "3293bcca",
   "metadata": {},
   "outputs": [],
   "source": [
    "X_test.reset_index(drop=True, inplace=True)\n",
    "test_df = pd.concat([X_test, y_test], axis=1)\n",
    "test_df.head()"
   ]
  },
  {
   "cell_type": "code",
   "execution_count": null,
   "id": "5a594a60",
   "metadata": {},
   "outputs": [],
   "source": [
    "#test_df['units_sold'] = np.exp(df['units_sold'])\n",
    "test_df.tail()"
   ]
  },
  {
   "cell_type": "code",
   "execution_count": null,
   "id": "6d652cc7",
   "metadata": {},
   "outputs": [],
   "source": [
    "test_df['units_sold'] = np.exp(test_df['units_sold'])\n",
    "test_df.tail()"
   ]
  },
  {
   "cell_type": "code",
   "execution_count": null,
   "id": "bff61471",
   "metadata": {},
   "outputs": [],
   "source": [
    "demand_forecast = test_df[(df['store_id'] == store_id) & (df_processed['sku_id'] == sku_id)]\n",
    "demand_forecast.head()"
   ]
  },
  {
   "cell_type": "code",
   "execution_count": null,
   "id": "a2ea2858",
   "metadata": {},
   "outputs": [],
   "source": [
    "demand_forecast = demand_forecast['units_sold']\n",
    "demand_forecast.head()"
   ]
  },
  {
   "cell_type": "code",
   "execution_count": null,
   "id": "5923d6eb",
   "metadata": {},
   "outputs": [],
   "source": [
    "demand_forecast = demand_forecast.values"
   ]
  },
  {
   "cell_type": "code",
   "execution_count": null,
   "id": "77361d63",
   "metadata": {},
   "outputs": [],
   "source": [
    "safety_factor = calculate_safety_factor(desired_service_level, standard_deviation)\n",
    "reorder_point = calculate_reorder_point (demand_forecast, lead_time, safety_factor)"
   ]
  },
  {
   "cell_type": "code",
   "execution_count": null,
   "id": "52f18553",
   "metadata": {},
   "outputs": [],
   "source": [
    "reorder_point"
   ]
  },
  {
   "cell_type": "code",
   "execution_count": null,
   "id": "ae4af37c",
   "metadata": {},
   "outputs": [],
   "source": [
    "# Starting RNN (Recurrent Neural Network)\n",
    "df_nrr = df_processed\n",
    "df_nrr.head()"
   ]
  },
  {
   "cell_type": "code",
   "execution_count": null,
   "id": "9faeb680",
   "metadata": {},
   "outputs": [],
   "source": [
    "# Drop unnecessary columns\n",
    "df_nrr = df_nrr.drop(columns=['record_ID', 'week'])  # Drop unnecessary columns"
   ]
  },
  {
   "cell_type": "code",
   "execution_count": null,
   "id": "48a9174e",
   "metadata": {},
   "outputs": [],
   "source": [
    "# Normalize numerical features\n",
    "scaler = StandardScaler()\n",
    "df_nrr[['total_price', 'base_price']] = scaler.fit_transform(df_nrr[['total_price', 'base_price']])"
   ]
  },
  {
   "cell_type": "code",
   "execution_count": null,
   "id": "191528b5",
   "metadata": {},
   "outputs": [],
   "source": [
    "df_nrr.head()"
   ]
  },
  {
   "cell_type": "code",
   "execution_count": null,
   "id": "1b9e8a42",
   "metadata": {},
   "outputs": [],
   "source": [
    "# Split data into features (X) and target (y)\n",
    "X_nrr = df_nrr.drop(columns=['units_sold'])\n",
    "y_nrr = df_nrr['units_sold']"
   ]
  },
  {
   "cell_type": "code",
   "execution_count": null,
   "id": "a616bf64",
   "metadata": {},
   "outputs": [],
   "source": [
    "# Split data into training and testing sets\n",
    "X_nrr_train, X_nrr_test, y_nrr_train, y_nrr_test = train_test_split(X_nrr, y_nrr, test_size=0.2, random_state=42)"
   ]
  },
  {
   "cell_type": "code",
   "execution_count": null,
   "id": "c6f5bd1e",
   "metadata": {},
   "outputs": [],
   "source": [
    "# Reshape input data for LSTM\n",
    "X_nrr_train = np.array(X_nrr_train).reshape(X_nrr_train.shape[0], X_nrr_train.shape[1], 1)\n",
    "X_nrr_test = np.array(X_nrr_test).reshape(X_nrr_test.shape[0], X_nrr_test.shape[1], 1)"
   ]
  },
  {
   "cell_type": "code",
   "execution_count": null,
   "id": "0abd8902",
   "metadata": {},
   "outputs": [],
   "source": [
    "y_nrr.head()"
   ]
  },
  {
   "cell_type": "code",
   "execution_count": null,
   "id": "36a2b45c",
   "metadata": {},
   "outputs": [],
   "source": [
    "#X_nrr.head()"
   ]
  },
  {
   "cell_type": "code",
   "execution_count": null,
   "id": "fc56c6f4",
   "metadata": {},
   "outputs": [],
   "source": [
    "# Define the RNN model\n",
    "model = Sequential()\n",
    "model.add(LSTM(units=50, return_sequences=True, input_shape=(X_nrr_train.shape[1], 1)))\n",
    "model.add(Dropout(0.2))\n",
    "model.add(LSTM(units=50, return_sequences=True))\n",
    "model.add(Dropout(0.2))\n",
    "model.add(LSTM(units=50))\n",
    "model.add(Dropout(0.2))\n",
    "model.add(Dense(units=1))"
   ]
  },
  {
   "cell_type": "code",
   "execution_count": null,
   "id": "1158495a",
   "metadata": {},
   "outputs": [],
   "source": [
    "# Compile the model\n",
    "optimizer = Adam(learning_rate=0.001)\n",
    "model.compile(optimizer=optimizer, loss='mean_squared_error')"
   ]
  },
  {
   "cell_type": "code",
   "execution_count": null,
   "id": "f371c7e8",
   "metadata": {},
   "outputs": [],
   "source": [
    "# Train the model\n",
    "model.fit(X_nrr_train, y_nrr_train, epochs=100, batch_size=32, validation_data=(X_nrr_test, y_nrr_test))"
   ]
  },
  {
   "cell_type": "code",
   "execution_count": null,
   "id": "ab45ac25",
   "metadata": {},
   "outputs": [],
   "source": [
    "# Evaluate the model\n",
    "y_nrr_pred = model.predict(X_nrr_test).flatten()\n",
    "rmse_nrr = np.sqrt(mean_squared_error(y_nrr_test, y_nrr_pred))\n",
    "mape_nrr = np.mean(np.abs((y_nrr_test - y_nrr_pred) / y_nrr_test)) * 100\n",
    "loss_nrr = model.evaluate(X_nrr_test, y_nrr_test)\n",
    "\n",
    "print(\"Test Loss:\", loss_nrr)\n",
    "print(\"Root Mean Squared Error (RMSE):\", rmse_nrr)\n",
    "print(\"Mean Absolute Percentage Error (MAPE):\", mape_nrr)"
   ]
  },
  {
   "cell_type": "code",
   "execution_count": null,
   "id": "7d218bf8",
   "metadata": {},
   "outputs": [],
   "source": [
    "plot_predictions(y_nrr_test, y_nrr_pred)"
   ]
  },
  {
   "cell_type": "code",
   "execution_count": null,
   "id": "a8a73593",
   "metadata": {},
   "outputs": [],
   "source": [
    "rmse, rmse_nrr"
   ]
  },
  {
   "cell_type": "code",
   "execution_count": null,
   "id": "53059f25",
   "metadata": {},
   "outputs": [],
   "source": [
    "# Find RMSE\n",
    "mse_nrr = mean_squared_error(y_nrr_test, y_nrr_pred)\n",
    "rmse_nrr = np.sqrt(mse_nrr)\n",
    "print(\"RMSE:\",rmse_nrr)\n",
    "print(\"MSE:\",mse_nrr)"
   ]
  },
  {
   "cell_type": "code",
   "execution_count": null,
   "id": "2b4ec09d",
   "metadata": {},
   "outputs": [],
   "source": [
    "#Evaluate accuracy using MAPE\n",
    "y_nrr_true = np.array(y_nrr_test)\n",
    "sumvalue=np.sum(y_nrr_true)\n",
    "mape_nrr=np.sum(np.abs((y_nrr_true - y_nrr_pred)))/sumvalue*100\n",
    "accuracy_nrr=100-mape_nrr\n",
    "print('Accuracy:', round(accuracy_nrr,2),'%.')"
   ]
  },
  {
   "cell_type": "code",
   "execution_count": null,
   "id": "2ef4873c",
   "metadata": {},
   "outputs": [],
   "source": [
    "y_nrr_pred"
   ]
  },
  {
   "cell_type": "code",
   "execution_count": null,
   "id": "2b82ed06",
   "metadata": {},
   "outputs": [],
   "source": [
    "y_nrr_true"
   ]
  },
  {
   "cell_type": "code",
   "execution_count": null,
   "id": "111b6ae7",
   "metadata": {},
   "outputs": [],
   "source": [
    "comp_nrr = pd.DataFrame(data=[y_nrr_true,y_nrr_pred]).T\n",
    "comp_nrr.columns=['y_nrr_test','y_nrr_pred']\n",
    "comp_nrr"
   ]
  },
  {
   "cell_type": "code",
   "execution_count": null,
   "id": "2e4fd8b0",
   "metadata": {},
   "outputs": [],
   "source": [
    "# SARIMAX"
   ]
  },
  {
   "cell_type": "code",
   "execution_count": null,
   "id": "8495f46b",
   "metadata": {},
   "outputs": [],
   "source": [
    "df_processed.head()"
   ]
  },
  {
   "cell_type": "code",
   "execution_count": null,
   "id": "d6229e9a",
   "metadata": {},
   "outputs": [],
   "source": [
    "df_processed.info()"
   ]
  },
  {
   "cell_type": "code",
   "execution_count": null,
   "id": "94a9fe3d",
   "metadata": {},
   "outputs": [],
   "source": [
    "X_train.head()"
   ]
  },
  {
   "cell_type": "code",
   "execution_count": null,
   "id": "9366df02",
   "metadata": {},
   "outputs": [],
   "source": [
    "X_train_sarimax.shape\n",
    "y_train_sarimax.shape\n",
    "X_test_sarimax.shape\n",
    "y_test_sarimax.shape"
   ]
  },
  {
   "cell_type": "code",
   "execution_count": null,
   "id": "fb277826",
   "metadata": {},
   "outputs": [],
   "source": [
    "X_test_sarimax.reset_index(drop=True, inplace=True)\n",
    "y_test_sarimax.reset_index(drop=True, inplace=True)\n",
    "X_train_sarimax.reset_index(drop=True, inplace=True)\n",
    "y_train_sarimax.reset_index(drop=True, inplace=True)"
   ]
  },
  {
   "cell_type": "code",
   "execution_count": null,
   "id": "92993752",
   "metadata": {},
   "outputs": [],
   "source": [
    "X_train_sarimax.head()"
   ]
  },
  {
   "cell_type": "code",
   "execution_count": null,
   "id": "87d52639",
   "metadata": {},
   "outputs": [],
   "source": [
    "X_train_sarimax = X_train_sarimax.loc[y_train_sarimax.index]  # Align indices with y_train\n",
    "y_train_sarimax = y_train_sarimax.loc[X_train_sarimax.index]  # Align indices with X_train"
   ]
  },
  {
   "cell_type": "code",
   "execution_count": null,
   "id": "0339849e",
   "metadata": {},
   "outputs": [],
   "source": [
    "# Define and fit the SARIMAX model\n",
    "model_sarimax = SARIMAX(endog=y_train_sarimax, exog=X_train_sarimax, order=(1, 1, 1), seasonal_order=(1, 1, 1, 12))\n",
    "results_sarimax = model_sarimax.fit()"
   ]
  },
  {
   "cell_type": "code",
   "execution_count": null,
   "id": "93790b35",
   "metadata": {},
   "outputs": [],
   "source": [
    "# Make predictions\n",
    "predictions = results_sarimax.predict(start=len(y_train_sarimax), end=len(y_train_sarimax)+len(y_test_sarimax)-1, exog=X_test_sarimax)"
   ]
  },
  {
   "cell_type": "code",
   "execution_count": null,
   "id": "0e1b7ed3",
   "metadata": {},
   "outputs": [],
   "source": [
    "# Calculate RMSE\n",
    "rmse_sarimax = np.sqrt(mean_squared_error(y_test_sarimax, predictions))\n",
    "print(\"Root Mean Squared Error (RMSE):\", rmse_sarimax)"
   ]
  },
  {
   "cell_type": "code",
   "execution_count": null,
   "id": "eb920d13",
   "metadata": {},
   "outputs": [],
   "source": [
    "print(predictions)"
   ]
  },
  {
   "cell_type": "code",
   "execution_count": null,
   "id": "558f9b8c",
   "metadata": {},
   "outputs": [],
   "source": [
    "#Evaluate accuracy using MAPE\n",
    "y_true_sarimax = np.array(y_test_sarimax)"
   ]
  },
  {
   "cell_type": "code",
   "execution_count": null,
   "id": "6e271e9d",
   "metadata": {},
   "outputs": [],
   "source": [
    "sumvalue=np.sum(y_true_sarimax)"
   ]
  },
  {
   "cell_type": "code",
   "execution_count": null,
   "id": "9e2135e0",
   "metadata": {},
   "outputs": [],
   "source": [
    "predictions"
   ]
  },
  {
   "cell_type": "code",
   "execution_count": null,
   "id": "88815e6a",
   "metadata": {},
   "outputs": [],
   "source": [
    "predictions = predictions.values"
   ]
  },
  {
   "cell_type": "code",
   "execution_count": null,
   "id": "9548bf95",
   "metadata": {},
   "outputs": [],
   "source": [
    "mape_sarimax=np.sum(np.abs((y_true_sarimax - predictions)))/sumvalue*100"
   ]
  },
  {
   "cell_type": "code",
   "execution_count": null,
   "id": "ff174834",
   "metadata": {},
   "outputs": [],
   "source": [
    "accuracy_sarimax=100-mape_nrr\n",
    "print('Accuracy:', round(accuracy_sarimax,2),'%.')"
   ]
  },
  {
   "cell_type": "code",
   "execution_count": null,
   "id": "235d9735",
   "metadata": {},
   "outputs": [],
   "source": [
    "rmse, rmse_nrr, rmse_sarimax"
   ]
  },
  {
   "cell_type": "code",
   "execution_count": null,
   "id": "d038cfc1",
   "metadata": {},
   "outputs": [],
   "source": [
    "np.exp(rmse), np.exp(rmse_nrr), np.exp(rmse_sarimax)"
   ]
  },
  {
   "cell_type": "code",
   "execution_count": null,
   "id": "b6faff90",
   "metadata": {},
   "outputs": [],
   "source": [
    "# Holt Winters\n"
   ]
  }
 ],
 "metadata": {
  "kernelspec": {
   "display_name": "Python 3 (ipykernel)",
   "language": "python",
   "name": "python3"
  },
  "language_info": {
   "codemirror_mode": {
    "name": "ipython",
    "version": 3
   },
   "file_extension": ".py",
   "mimetype": "text/x-python",
   "name": "python",
   "nbconvert_exporter": "python",
   "pygments_lexer": "ipython3",
   "version": "3.11.5"
  }
 },
 "nbformat": 4,
 "nbformat_minor": 5
}
